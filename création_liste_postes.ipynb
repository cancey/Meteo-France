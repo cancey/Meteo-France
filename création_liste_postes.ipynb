{
 "cells": [
  {
   "cell_type": "markdown",
   "metadata": {},
   "source": [
    "Création de la liste de tous les postes pour les Alpes. Ce cahier fournit les outils pour extraire l'information sur les postes météorologiques et nivologiques\n",
    "de Météo-France.\n",
    "\n",
    "Fonctions :\n",
    "* extraire_information(département) : fournit l'information brute pour un département\n",
    "* synthétiser_information(département) : fournit une liste synthétique (dataframe) des stations, à savoir :\n",
    "\n",
    "  1. le nom, l'altitude, les coordonnées (latitude, longitude)\n",
    "  2. les dates de début et de fin des mesures\n",
    "  3. quel type (booléen) de variables a été mesuré :\n",
    "    - pluie : pluie journalière\n",
    "    - neige : cumul de neige sur 24 h\n",
    "    - HN : épaisseur du manteau neigeux\n",
    "    - TM : température moyenne\n",
    "    - TN : température minimale\n",
    "    - TX : température maximale\n",
    "  \n",
    "    export possible vers un fichier excel\n",
    "* cartographier(liste des stations, département) : montre une carte de localisation des stations  \n",
    "\n",
    "Les fonctions font appel à des variables globales : \n",
    "  * répertoire_travail : adresse du répertoire où les fichiers sont sauvegardés\n",
    "  * export_détail, export_liste, export_carte: booléens d'export des fichiers bruts, de la liste synthétique des stations et de la carte\n",
    "  * verbosity : booléen. Sert à afficher des messages de progression\n",
    "\n",
    "  Comme Météo-France scinde ses fichiers départementaux en trois parties (avant 1950, de 1950 à la période récente, et la période comprenant l'année en cours et l'année), il faut télécharger les archives correspondantes, les décompresser et les assembler."
   ]
  },
  {
   "cell_type": "markdown",
   "metadata": {},
   "source": [
    "# Fonctions et initialisation"
   ]
  },
  {
   "cell_type": "code",
   "execution_count": 19,
   "metadata": {},
   "outputs": [
    {
     "name": "stdout",
     "output_type": "stream",
     "text": [
      "J'ai trouvé le répertoire :  /home/ancey/Météo-France/postes/\n"
     ]
    }
   ],
   "source": [
    "import pandas as pd\n",
    "import os\n",
    "import datetime\n",
    "import json\n",
    "import requests\n",
    "import sys\n",
    "import openpyxl #export xls\n",
    "import numpy as np\n",
    "import gzip\n",
    "from tqdm import tqdm\n",
    "import plotly.express as px\n",
    "\n",
    "################################\n",
    "## Auteur : Christoophe Ancey ##\n",
    "## Date : Mai 2024            ##\n",
    "## Mise à jour : juin 2025    ##\n",
    "################################\n",
    "\n",
    "# Création du répertoire de travail\n",
    "# changer l'adresse si nécessaire\n",
    "répertoire_travail = '/home/ancey/Météo-France/postes/'\n",
    "date_calcul        = datetime.date.today()\n",
    "année_en_cours     = date_calcul.year \n",
    "\n",
    "\n",
    "# exporte le détail de chaque département\n",
    "export_détail = True\n",
    "export_liste  = True\n",
    "export_carte  = True\n",
    "verbosity     = False\n",
    "\n",
    "# adresse url de base\n",
    "base_url = \t\"https://object.files.data.gouv.fr/meteofrance/data/synchro_ftp/BASE/QUOT/Q_\"\n",
    "\n",
    "# valeur à modifier si on veut afficher plus de lignes de dataframe\n",
    "#pd.set_option('display.min_rows', 20)\n",
    "\n",
    "# dictionnaire reliant numéro (ou abréviation) et nom\n",
    "noms_département = dict()\n",
    "noms_département['73'] = \"Savoie\"\n",
    "noms_département['74'] = \"Haute-Savoie\"\n",
    "noms_département['38'] = \"Isère\"\n",
    "noms_département['05'] = \"Hautes-Alpes\"\n",
    "noms_département['04'] = \"Alpes-de-Haute-Provence\"\n",
    "noms_département['06'] = \"Alpes-Maritimes\"\n",
    "noms_département['01'] = \"Ain\"\n",
    "noms_département['25'] = \"Doubs\"\n",
    "noms_département['26'] = \"Drôme\"\n",
    "noms_département['09'] = \"Ariège\"\n",
    "noms_département['31'] = \"Haute-Garonne\"\n",
    "noms_département['64'] = \"Pyrénées-Atlantiques\"\n",
    "noms_département['65'] = \"Hautes-Pyrénées\"\n",
    "noms_département['66'] = \"Pyrénées-Orientales\"\n",
    "noms_département['nord'] = \"Alpes du Nord\"\n",
    "noms_département['sud'] = \"Alpes du Sud\"\n",
    "noms_département['alpes'] = \"Alpes\"\n",
    "noms_département['pyrénées'] = \"Pyrénées\"\n",
    "\n",
    "# début des mesures au niveau départemental\n",
    "an_début = {}\n",
    "# pour les Alpes\n",
    "an_début['01'] = '1852'\n",
    "an_début['04'] = '1872'\n",
    "an_début['05'] = '1877'\n",
    "an_début['06'] = '1877'\n",
    "an_début['25'] = '1852'\n",
    "an_début['26'] = '1877'\n",
    "an_début['38'] = '1872'\n",
    "an_début['73'] = '1871'\n",
    "an_début['74'] = '1876'\n",
    "# pour les Pyrénées\n",
    "an_début['09'] = '1872'\n",
    "an_début['31'] = '1809'\n",
    "an_début['64'] = '1865'\n",
    "an_début['65'] = '1863'\n",
    "an_début['66'] = '1850'\n",
    "liste_départements = {'01','04','05','06','09','25','26','31','38','64','65','66','73','74'}\n",
    "url_M1_département = {}\n",
    "url_M2_département = {}\n",
    "url_M3_département = {}\n",
    "url_N1_département = {}\n",
    "url_N2_département = {}\n",
    "url_N3_département = {}\n",
    "\n",
    "suffixe = '_latest-'+str(année_en_cours-1)+'-'+str(année_en_cours)\n",
    "for département in liste_départements:\n",
    "      url_N1_département[département] = base_url+département+\"_\"+an_début[département]+'-1949_autres-parametres.csv.gz'\n",
    "      url_N2_département[département] = base_url+département+'_previous-1950-'+str(année_en_cours-2)+'_autres-parametres.csv.gz'\n",
    "      #url_N3_département[département] = base_url+département+'_latest-2024-2025_autres-parametres.csv.gz'\n",
    "      url_N3_département[département] = base_url+département+suffixe+'_autres-parametres.csv.gz'\n",
    "      url_M1_département[département] = base_url+département+\"_\"+an_début[département]+'-1949_RR-T-Vent.csv.gz'\n",
    "      url_M2_département[département] = base_url+département+'_previous-1950-'+str(année_en_cours-2)+'_RR-T-Vent.csv.gz'\n",
    "      url_M3_département[département] = base_url+département+suffixe+'_RR-T-Vent.csv.gz'\n",
    "      #url_M3_département[département] = base_url+département+'_latest-2024-2025_RR-T-Vent.csv.gz'\n",
    "\n",
    "\n",
    "# teste si le répertoire existe \n",
    "if not os.path.exists(répertoire_travail):\n",
    "    # crée le répertoire\n",
    "    os.makedirs(répertoire_travail)\n",
    "    print(\"J'ai créé le répertoire : \", répertoire_travail)\n",
    "else:\n",
    "    print(\"J'ai trouvé le répertoire : \",répertoire_travail)\n",
    "\n",
    "# fonction pour télécharger les fichiers MF\n",
    "def télécharger_fichier(url, nom_fichier, work_verbosity = True):\n",
    "    fichier = os.path.join(répertoire_travail, nom_fichier) + '.gz'\n",
    "    if os.path.isfile(fichier):\n",
    "        if work_verbosity: print(\"Rien à faire. Le fichier est déjà présent.\")\n",
    "    else:\n",
    "        requête_données = requests.get(url)\n",
    "        if requête_données.status_code == 200:\n",
    "            with open(fichier,mode='wb') as file:\n",
    "             file.write(requête_données.content)\n",
    "            if work_verbosity: print('Téléchargement : ', fichier)    \n",
    "        else:\n",
    "            print(\"Le lien \", url, \"ne marche pas !\")\n",
    "            sys.exit()\n",
    "\n",
    "# fonction pour décompresser les fichiers MF\n",
    "def décompresser_archive(archive, work_verbosity = True):\n",
    "    fichier             = os.path.join(répertoire_travail, archive) + '.gz'\n",
    "    fichier_décompressé = os.path.join(répertoire_travail, archive) + '.csv'\n",
    "    if os.path.isfile(fichier_décompressé):\n",
    "        if work_verbosity: print(\"Rien à faire. Le fichier est déjà présent.\")\n",
    "    else:\n",
    "        if os.path.exists(fichier):\n",
    "            with gzip.open(fichier, mode='rb') as f_in:\n",
    "                with open(fichier_décompressé, mode='wb') as f_out:\n",
    "                    f_out.write(f_in.read())\n",
    "            if work_verbosity: print('Archive décompressée : ', fichier)\n",
    "        else:\n",
    "            print(\"L'archive \", fichier, \" n'est pas présente !\")\n",
    "            print(\"Téléchargez tout d'abord l'archive...\")\n",
    "\n",
    "######################################\n",
    "# Extraction des informations brutes #\n",
    "######################################\n",
    "def extraction_information(dept: str):\n",
    "    \"\"\" \n",
    "      pour chaque département, télécharge les fichiers de Météo France. On recherche :\n",
    "            * les caractéristiques du poste, à savoir :\n",
    "                  le nom, l'altitude, les coordonnées (latitude, longitude)\n",
    "            * les dates de début et de fin des mesures\n",
    "            * quel type de variables a été mesuré :\n",
    "                  - pluie : pluie journalière\n",
    "                  - neige : cumul de neige sur 24 h\n",
    "                  - HN : épaisseur du manteau neigeux\n",
    "                  - TM : température moyenne\n",
    "                  - TN : température minimale\n",
    "                  - TX : température maximale\n",
    "            * le fichier d'origine de Météo-France (séquence) :\n",
    "                  - 0 : météo (pluie, TM, TN, TX) avant 1950\n",
    "                  - 1 : météo (pluie, TM, TN, TX) de 1950 à A-2\n",
    "                  - 2 : météo (pluie, TM, TN, TX) après A-1\n",
    "                  - 3 : nivo (neige, HN) avant 1950\n",
    "                  - 4 : nivo (neige, HN) de 1950 à A-2\n",
    "                  - 5 : nivo (neige, HN) après A-1\n",
    "                  où A désigne l'année en cours\n",
    "      La fonction fournit un fichier \"fichier_postes\"  (dataframe).\n",
    "      Les données sont exportées si la variable globale export_détail = True.\n",
    "    \"\"\"\n",
    "    fichier_postes = []\n",
    "    liste_url = [\n",
    "        url_M1_département[dept], url_M2_département[dept], url_M3_département[dept],\n",
    "        url_N1_département[dept], url_N2_département[dept], url_N3_département[dept]\n",
    "    ]\n",
    "    \n",
    "    # structure du dataframe\n",
    "    base_columns = ['poste', 'nom', 'valeurs', 'alt', 'lat', 'lon', \n",
    "                   'début', 'fin', 'pluie', 'TM', 'TN', 'TX', 'HN', 'neige', 'séquence']\n",
    "    \n",
    "    for indice_fichier in tqdm(range(6)):\n",
    "        archive = f'test_{indice_fichier}_{dept}'\n",
    "        télécharger_fichier(liste_url[indice_fichier], archive, work_verbosity=verbosity)\n",
    "        décompresser_archive(archive, work_verbosity=verbosity)\n",
    "        \n",
    "        fichier = os.path.join(répertoire_travail, f'{archive}.csv')\n",
    "        données_totales = pd.read_csv(\n",
    "            fichier, sep=\";\", encoding='utf-8',\n",
    "            parse_dates=[\"AAAAMMJJ\"], dtype={\"NUM_POSTE\": str}\n",
    "        )\n",
    "        données_totales['NUM_POSTE'] = données_totales['NUM_POSTE'].str.strip()\n",
    "        \n",
    "        # Initialisation\n",
    "        df_poste = pd.DataFrame(columns=base_columns)\n",
    "        \n",
    "        # nombre de données par station\n",
    "        station_counts         = données_totales['NUM_POSTE'].value_counts().reset_index()\n",
    "        station_counts.columns = [\"poste\", \"nb valeurs\"]\n",
    "        \n",
    "        for _, row in station_counts.iterrows():\n",
    "            numéro_poste = row['poste']\n",
    "            station_data = données_totales[données_totales['NUM_POSTE'] == numéro_poste]\n",
    "            \n",
    "            première_ligne = station_data.iloc[0]\n",
    "            dernière_ligne = station_data.iloc[-1]\n",
    "            \n",
    "            # vérifie si les données sont disponibles\n",
    "            if indice_fichier < 3:  # # Données météorologiques\n",
    "                data_flags = {\n",
    "                    'pluie': station_data['RR'].notna().any(),\n",
    "                    'TM': station_data['TM'].notna().any(),\n",
    "                    'TN': station_data['TN'].notna().any(),\n",
    "                    'TX': station_data['TX'].notna().any(),\n",
    "                    'HN': False,\n",
    "                    'neige': False\n",
    "                }\n",
    "            else:  # neige\n",
    "                data_flags = {\n",
    "                    'pluie': False,\n",
    "                    'TM': False,\n",
    "                    'TN': False,\n",
    "                    'TX': False,\n",
    "                    'HN': station_data['HNEIGEF'].notna().any(),\n",
    "                    'neige': station_data['NEIGETOTX'].notna().any()\n",
    "                }\n",
    "            \n",
    "            station_info = {\n",
    "                'poste': numéro_poste,\n",
    "                'nom': première_ligne['NOM_USUEL'].title(),\n",
    "                'valeurs': row['nb valeurs'],\n",
    "                'alt': première_ligne['ALTI'],\n",
    "                'lat': première_ligne['LAT'],\n",
    "                'lon': première_ligne['LON'],\n",
    "                'début': première_ligne['AAAAMMJJ'].strftime(\"%Y-%m-%d\"),\n",
    "                'fin': dernière_ligne['AAAAMMJJ'].strftime(\"%Y-%m-%d\"),\n",
    "                'séquence': indice_fichier,\n",
    "                **data_flags\n",
    "            }\n",
    "            \n",
    "            # Append using loc to avoid concatenation warnings\n",
    "            df_poste.loc[len(df_poste)] = station_info\n",
    "        \n",
    "        fichier_postes.append(df_poste)\n",
    "    \n",
    "    # Concaténation\n",
    "    result = pd.concat(fichier_postes).sort_values('poste')\n",
    "    \n",
    "    if export_détail:\n",
    "        output_file = os.path.join(répertoire_travail, f'liste_détaillée_{dept}.xlsx')\n",
    "        result.to_excel(output_file, index=False, sheet_name='liste')\n",
    "    \n",
    "    return result\n",
    "\n",
    "\n",
    "######################################\n",
    "# Synthèse des informations brutes   #\n",
    "######################################\n",
    "def synthétiser_information(dept : str):\n",
    "      \"\"\" \n",
    "      fournit une synthèse de l'information pour le département, à savoir :\n",
    "            * le nom, l'altitude, les coordonnées (latitude, longitude)\n",
    "            * les dates de début et de fin des mesures\n",
    "            * quel type de variables a été mesuré :\n",
    "                  - pluie : pluie journalière\n",
    "                  - neige : cumul de neige sur 24 h\n",
    "                  - HN : épaisseur du manteau neigeux\n",
    "                  - TM : température moyenne\n",
    "                  - TN : température minimale\n",
    "                  - TX : température maximale\n",
    "      La fonction fait appel à la fonction extraction_information\n",
    "      La fonction fournit un fichier \"liste_finale\" (dataframe).\n",
    "      Les données sont exportées si la variable globale export_liste = True.\n",
    "      \"\"\"\n",
    "      fichier_postes = extraction_information(dept)\n",
    "      liste_poste = np.array( fichier_postes['poste'].value_counts().reset_index())[:,0]\n",
    "      liste_finale = pd.DataFrame(columns=['poste', 'nom', 'valeurs', 'alt', 'lat', 'lon', \n",
    "                                                  'début','fin', 'pluie', 'neige','HN','TM', 'TN', 'TX' ] )\n",
    "      liste_finale = pd.DataFrame({\n",
    "            'poste': pd.Series(dtype='object'),\n",
    "            'nom': pd.Series(dtype='object'),\n",
    "            'valeurs': pd.Series(dtype='int'),\n",
    "            'alt': pd.Series(dtype='float'),\n",
    "            'lat': pd.Series(dtype='float'),\n",
    "            'lon': pd.Series(dtype='float'),\n",
    "            'début': pd.Series(dtype='datetime64[ns]'),\n",
    "            'fin': pd.Series(dtype='datetime64[ns]'),\n",
    "            'pluie': pd.Series(dtype='bool'),\n",
    "            'neige': pd.Series(dtype='bool'),\n",
    "            'HN': pd.Series(dtype='bool'),\n",
    "            'TM': pd.Series(dtype='bool'),\n",
    "            'TN': pd.Series(dtype='bool'),\n",
    "            'TX': pd.Series(dtype='bool')\n",
    "        })\n",
    "      # \n",
    "      for poste in liste_poste:\n",
    "            sélection_valeurs = fichier_postes[fichier_postes['poste']==poste]\n",
    "            nombre_valeurs = sélection_valeurs['valeurs'].sum()\n",
    "            numéro_poste   = poste\n",
    "            première_ligne = sélection_valeurs.iloc[0]\n",
    "            nom_poste = première_ligne['nom']\n",
    "            latitude  = première_ligne['lat']\n",
    "            longitude = première_ligne['lon']\n",
    "            altitude  = première_ligne['alt']\n",
    "            date_début= sélection_valeurs['début'].min()\n",
    "            date_fin  = sélection_valeurs['fin'].max()\n",
    "            existe_pluie = sélection_valeurs['pluie'].any()\n",
    "            existe_neige = sélection_valeurs['neige'].any()\n",
    "            existe_HN = sélection_valeurs['HN'].any()\n",
    "            existe_TN = sélection_valeurs['TN'].any()\n",
    "            existe_TM = sélection_valeurs['TM'].any()\n",
    "            existe_TX = sélection_valeurs['TX'].any()\n",
    "            dict1 = {'poste':[numéro_poste], 'nom':[nom_poste], 'valeurs':[nombre_valeurs], \n",
    "                          'alt':[altitude], 'lat':[latitude],'lon':[longitude],\n",
    "                          'début':[date_début], 'fin':[date_fin], 'pluie':[existe_pluie],\n",
    "                          'TM':[existe_TM],'TN':[existe_TN],'TX':[existe_TX],\n",
    "                          'HN':[existe_HN],'neige':[existe_neige]} \n",
    "            ajout     = pd.DataFrame(dict1)\n",
    "            liste_finale = pd.concat([liste_finale, ajout])\n",
    "      liste_finale = liste_finale.sort_values(by=['nom'])\n",
    "      # export de la synthèse du département\n",
    "      if export_liste:\n",
    "            fichier_excel   = os.path.join(répertoire_travail, 'liste_synthétique_'+dept+'.xlsx')\n",
    "            onglet_liste = 'liste-stations'\n",
    "            liste_finale.to_excel(fichier_excel, index=False, sheet_name= onglet_liste)\n",
    "      return liste_finale\n",
    "\n",
    "######################################\n",
    "# Carte des stations                 #\n",
    "######################################\n",
    "def cartographier_postes(liste_p, dept: str):\n",
    "      \"\"\" \n",
    "      Cartographie les postes.\n",
    "      La carte est exportée si la variable globale export_carte = True.\n",
    "      \"\"\"\n",
    "      m_lat=np.mean(np.array(liste_p.lat))\n",
    "      m_lon=np.mean(np.array(liste_p.lon))\n",
    "      aujourdhui = datetime.datetime.now()\n",
    "      title = noms_département[dept]+\" : postes actifs en \" + aujourdhui.strftime(\"%Y\")\n",
    "      fig = px.scatter_mapbox(liste_p, 'lat', lon= 'lon', \n",
    "                        hover_name= \"nom\", hover_data= ['poste','alt', 'début', 'fin'], \n",
    "                        zoom=5, height= 800, width= 900, \n",
    "                        )\n",
    "      fig.update_layout(title_text= title, title_x=0.5  , hoverlabel= dict(bgcolor= 'rgb(255,255,255)'))\n",
    "      fig.update_traces(marker=dict(color='red'))\n",
    "      #===================== Ajoute une couche des départements français à partir d'un fichier GeoJSON\n",
    "      fig.update_layout(mapbox_layers=[\n",
    "            {\n",
    "            \"sourcetype\": \"geojson\",\n",
    "            # \"source\": \"https://france-geojson.gregoiredavid.fr/repo/departements.geojson\",\n",
    "            \"source\": \"https://www.data.gouv.fr/fr/datasets/r/90b9341a-e1f7-4d75-a73c-bbc010c7feeb\", \n",
    "            \"type\": \"line\",\n",
    "            \"color\": \"rgba(0, 0, 0, 0.9)\",\n",
    "            \"line\": {\"width\": 1}\n",
    "            }\n",
    "            ])\n",
    "      fig.update_layout(mapbox_style= \"open-street-map\", mapbox_zoom=8, mapbox_center = {\"lat\": m_lat, \"lon\": m_lon})\n",
    "      fig.show()\n",
    "      if export_carte:\n",
    "            # Export PNG\n",
    "            file_png= os.path.join(répertoire_travail, 'carte_postes_'+dept + '.png')\n",
    "            fig.write_image(file_png, height= 800, width= 900,   scale = 3)\n"
   ]
  },
  {
   "cell_type": "markdown",
   "metadata": {},
   "source": [
    "# Extraction pour la Savoie"
   ]
  },
  {
   "cell_type": "code",
   "execution_count": 20,
   "metadata": {},
   "outputs": [
    {
     "name": "stderr",
     "output_type": "stream",
     "text": [
      "100%|██████████| 6/6 [00:59<00:00,  9.85s/it]\n"
     ]
    },
    {
     "data": {
      "application/vnd.plotly.v1+json": {
       "config": {
        "plotlyServerURL": "https://plot.ly"
       },
       "data": [
        {
         "customdata": [
          [
           "73001001",
           400,
           "1941-10-01",
           "1966-08-31"
          ],
          [
           "73004001",
           900,
           "1934-06-01",
           "2020-12-31"
          ],
          [
           "73008003",
           234,
           "2003-01-01",
           "2015-08-31"
          ],
          [
           "73008001",
           365,
           "1947-01-01",
           "1971-01-31"
          ],
          [
           "73011002",
           331,
           "1948-01-01",
           "2015-08-31"
          ],
          [
           "73011001",
           348,
           "1948-01-01",
           "1969-10-31"
          ],
          [
           "73297003",
           314,
           "2020-10-30",
           "2025-06-13"
          ],
          [
           "73011004",
           332,
           "1989-08-01",
           "2020-06-26"
          ],
          [
           "73013001",
           1540,
           "1992-06-01",
           "2023-06-30"
          ],
          [
           "73013002",
           1633,
           "2023-06-01",
           "2025-06-13"
          ],
          [
           "73139401",
           1684,
           "2008-10-07",
           "2025-06-13"
          ],
          [
           "73017001",
           370,
           "1986-08-01",
           "2020-12-31"
          ],
          [
           "73034400",
           1209,
           "1982-12-20",
           "2025-04-05"
          ],
          [
           "73034401",
           2000,
           "2024-04-01",
           "2024-04-24"
          ],
          [
           "73019001",
           419,
           "1948-01-01",
           "1973-01-31"
          ],
          [
           "73021001",
           500,
           "2014-04-01",
           "2020-12-01"
          ],
          [
           "73023401",
           2166,
           "1996-12-19",
           "2018-04-01"
          ],
          [
           "73023002",
           2020,
           "1953-01-01",
           "1964-10-31"
          ],
          [
           "73023001",
           1467,
           "1934-07-01",
           "2024-05-31"
          ],
          [
           "73026001",
           1104,
           "1948-10-01",
           "2025-06-13"
          ],
          [
           "73026002",
           1100,
           "1969-12-01",
           "1973-10-31"
          ],
          [
           "73034001",
           760,
           "1950-01-01",
           "1974-10-31"
          ],
          [
           "73034003",
           1580,
           "1963-08-01",
           "1975-12-31"
          ],
          [
           "73034004",
           1030,
           "1947-01-11",
           "1968-01-31"
          ],
          [
           "73034002",
           1036,
           "1950-05-01",
           "2025-06-13"
          ],
          [
           "73071403",
           2992,
           "1982-01-26",
           "2025-06-13"
          ],
          [
           "73040400",
           1713,
           "1980-12-15",
           "2025-06-14"
          ],
          [
           "73040002",
           2025,
           "1955-08-01",
           "1969-07-31"
          ],
          [
           "73040005",
           1731,
           "1951-01-01",
           "2025-06-13"
          ],
          [
           "73047401",
           1830,
           "1994-12-26",
           "2025-04-24"
          ],
          [
           "73040402",
           2741,
           "1996-01-08",
           "2025-06-13"
          ],
          [
           "73047001",
           1830,
           "1948-01-01",
           "1977-12-31"
          ],
          [
           "73054003",
           840,
           "1932-03-01",
           "1935-05-31"
          ],
          [
           "73054001",
           865,
           "1945-04-01",
           "2025-06-13"
          ],
          [
           "73054004",
           1555,
           "1946-01-01",
           "1952-09-30"
          ],
          [
           "73052002",
           820,
           "2015-11-16",
           "2025-06-13"
          ],
          [
           "73052001",
           890,
           "1934-06-01",
           "2020-12-31"
          ],
          [
           "73053001",
           300,
           "1987-02-01",
           "2018-12-31"
          ],
          [
           "73055001",
           865,
           "1934-07-01",
           "2025-06-13"
          ],
          [
           "73055002",
           860,
           "1934-06-19",
           "1967-01-31"
          ],
          [
           "73057001",
           600,
           "1950-06-01",
           "2018-12-31"
          ],
          [
           "73057002",
           715,
           "1947-01-01",
           "1950-05-31"
          ],
          [
           "73064001",
           298,
           "1946-01-01",
           "2025-06-13"
          ],
          [
           "73064002",
           307,
           "1987-01-01",
           "2019-12-31"
          ],
          [
           "73065005",
           256,
           "1978-05-01",
           "2018-12-31"
          ],
          [
           "73065004",
           300,
           "1948-01-01",
           "1954-12-31"
          ],
          [
           "73065003",
           286,
           "1871-12-01",
           "1876-12-31"
          ],
          [
           "73065001",
           272,
           "1959-01-01",
           "1978-04-30"
          ],
          [
           "73329001",
           235,
           "1973-07-01",
           "2025-06-13"
          ],
          [
           "73071001",
           1460,
           "1950-04-01",
           "1971-09-30"
          ],
          [
           "73079001",
           320,
           "1959-01-01",
           "1974-07-31"
          ],
          [
           "73085001",
           340,
           "1982-01-01",
           "2015-05-13"
          ],
          [
           "73132403",
           1633,
           "1998-12-17",
           "2008-08-28"
          ],
          [
           "73132003",
           1614,
           "1988-01-20",
           "2025-06-13"
          ],
          [
           "73227400",
           1780,
           "1970-12-17",
           "2025-04-21"
          ],
          [
           "73106001",
           732,
           "1934-06-01",
           "2020-12-31"
          ],
          [
           "73106002",
           830,
           "1948-01-01",
           "1957-12-31"
          ],
          [
           "73107001",
           1059,
           "2023-04-18",
           "2025-06-13"
          ],
          [
           "73098003",
           1328,
           "1993-01-01",
           "2025-06-13"
          ],
          [
           "73117002",
           2060,
           "1950-04-01",
           "1959-08-31"
          ],
          [
           "73117001",
           1910,
           "1959-09-01",
           "1965-10-31"
          ],
          [
           "73157004",
           1228,
           "1994-11-01",
           "2016-05-01"
          ],
          [
           "73124001",
           330,
           "1982-01-01",
           "2020-12-31"
          ],
          [
           "73093001",
           2260,
           "2011-10-10",
           "2025-06-13"
          ],
          [
           "73129001",
           354,
           "1950-01-01",
           "1956-12-31"
          ],
          [
           "73132001",
           1215,
           "1947-01-01",
           "2025-05-31"
          ],
          [
           "73132002",
           1750,
           "1952-03-01",
           "1960-12-31"
          ],
          [
           "73138002",
           1200,
           "2009-08-01",
           "2022-12-31"
          ],
          [
           "73138001",
           1080,
           "1934-06-01",
           "1969-02-28"
          ],
          [
           "73139001",
           832,
           "2016-12-21",
           "2025-06-13"
          ],
          [
           "73082001",
           318,
           "1959-01-01",
           "2022-06-30"
          ],
          [
           "73098002",
           1350,
           "1991-12-01",
           "2019-03-31"
          ],
          [
           "73123402",
           1217,
           "2009-12-20",
           "2025-03-25"
          ],
          [
           "73187002",
           1340,
           "1958-08-01",
           "2007-04-30"
          ],
          [
           "73187001",
           650,
           "1950-07-01",
           "1976-03-31"
          ],
          [
           "73187004",
           1280,
           "1969-08-01",
           "1972-08-31"
          ],
          [
           "73187006",
           1195,
           "2007-05-01",
           "2025-06-13"
          ],
          [
           "73257003",
           2800,
           "1992-01-01",
           "2025-06-13"
          ],
          [
           "73179001",
           310,
           "1959-03-01",
           "2015-05-31"
          ],
          [
           "73179002",
           350,
           "1982-01-01",
           "2020-12-31"
          ],
          [
           "73322401",
           1958,
           "1998-12-29",
           "2025-04-02"
          ],
          [
           "73322001",
           1985,
           "2017-10-18",
           "2025-06-13"
          ],
          [
           "73150400",
           1980,
           "1970-12-17",
           "2025-04-28"
          ],
          [
           "73071402",
           3000,
           "1987-12-21",
           "1991-05-04"
          ],
          [
           "73150004",
           2120,
           "2017-08-16",
           "2025-06-13"
          ],
          [
           "73215001",
           350,
           "1934-06-01",
           "2014-03-31"
          ],
          [
           "73176400",
           1867,
           "1983-12-18",
           "2025-06-12"
          ],
          [
           "73294001",
           1930,
           "1960-01-02",
           "1974-12-29"
          ],
          [
           "73116001",
           1766,
           "2014-01-01",
           "2019-04-30"
          ],
          [
           "73191005",
           375,
           "2004-03-01",
           "2021-07-01"
          ],
          [
           "73143010",
           1925,
           "1957-06-01",
           "1967-10-31"
          ],
          [
           "73143004",
           1400,
           "1950-07-01",
           "1957-05-31"
          ],
          [
           "73143003",
           2000,
           "1970-10-01",
           "2014-04-30"
          ],
          [
           "73143001",
           2100,
           "1967-11-01",
           "1970-09-30"
          ],
          [
           "73143002",
           1720,
           "1952-03-01",
           "1972-10-31"
          ],
          [
           "73143011",
           1200,
           "1952-03-01",
           "1962-12-31"
          ],
          [
           "73143006",
           1400,
           "1932-03-01",
           "1940-05-31"
          ],
          [
           "73296406",
           2559,
           "1996-11-07",
           "2025-06-13"
          ],
          [
           "73318400",
           1585,
           "1987-02-23",
           "2025-04-04"
          ],
          [
           "73318401",
           2198,
           "2005-04-19",
           "2005-04-19"
          ],
          [
           "73304402",
           2310,
           "1988-01-13",
           "2017-04-30"
          ],
          [
           "73004400",
           1400,
           "1984-01-05",
           "2025-03-31"
          ],
          [
           "73054401",
           2040,
           "1981-12-19",
           "2025-04-28"
          ],
          [
           "73024001",
           1100,
           "1967-12-01",
           "1969-12-31"
          ],
          [
           "73098001",
           1030,
           "1947-01-01",
           "2000-01-31"
          ],
          [
           "73173400",
           1603,
           "1975-12-26",
           "2025-04-04"
          ],
          [
           "73257400",
           1800,
           "1971-12-06",
           "2025-04-21"
          ],
          [
           "73306401",
           2444,
           "1982-02-02",
           "2025-06-13"
          ],
          [
           "73132400",
           1636,
           "1993-01-01",
           "2025-04-04"
          ],
          [
           "73146001",
           591,
           "1940-09-01",
           "2025-06-13"
          ],
          [
           "73015001",
           2040,
           "1992-01-19",
           "2014-08-18"
          ],
          [
           "73015400",
           1700,
           "1983-12-26",
           "2025-04-21"
          ],
          [
           "73157002",
           1228,
           "1985-09-01",
           "2014-02-28"
          ],
          [
           "73158001",
           340,
           "1984-07-01",
           "2020-12-31"
          ],
          [
           "73144001",
           2032,
           "1992-01-09",
           "2025-06-13"
          ],
          [
           "73051001",
           1496,
           "2005-08-03",
           "2025-06-13"
          ],
          [
           "73164001",
           770,
           "1988-01-01",
           "1988-12-31"
          ],
          [
           "73167001",
           1057,
           "1934-05-19",
           "2025-06-13"
          ],
          [
           "73171002",
           264,
           "2003-12-24",
           "2025-06-13"
          ],
          [
           "73173001",
           620,
           "1959-01-01",
           "1975-08-31"
          ],
          [
           "73175001",
           960,
           "1934-07-01",
           "2017-08-31"
          ],
          [
           "73181001",
           480,
           "1934-06-01",
           "2025-05-31"
          ],
          [
           "73191001",
           460,
           "1956-07-01",
           "2025-06-13"
          ],
          [
           "73191002",
           530,
           "1950-07-01",
           "1961-12-31"
          ],
          [
           "73191800",
           435,
           "2018-10-11",
           "2018-12-11"
          ],
          [
           "73194401",
           2356,
           "1998-12-05",
           "2025-05-01"
          ],
          [
           "73194002",
           2120,
           "1950-05-01",
           "1964-12-31"
          ],
          [
           "73194001",
           830,
           "1953-01-01",
           "1973-10-31"
          ],
          [
           "73197001",
           1350,
           "1950-06-01",
           "2024-05-31"
          ],
          [
           "73203001",
           1420,
           "1950-01-01",
           "1989-04-29"
          ],
          [
           "73206400",
           1416,
           "1970-12-17",
           "2025-04-03"
          ],
          [
           "73206001",
           1420,
           "1934-06-01",
           "2025-05-31"
          ],
          [
           "73206406",
           1420,
           "1950-01-01",
           "2025-04-30"
          ],
          [
           "73219001",
           375,
           "1950-08-01",
           "1970-12-31"
          ],
          [
           "73221002",
           853,
           "1945-01-01",
           "1971-02-28"
          ],
          [
           "73227001",
           1550,
           "1951-03-01",
           "1967-01-31"
          ],
          [
           "73227002",
           1600,
           "1956-07-27",
           "1958-12-31"
          ],
          [
           "73244002",
           930,
           "1955-01-01",
           "1968-12-31"
          ],
          [
           "73245001",
           332,
           "1952-10-01",
           "1954-06-30"
          ],
          [
           "73248001",
           570,
           "1949-01-01",
           "1950-12-31"
          ],
          [
           "73253001",
           510,
           "1952-01-01",
           "1972-06-30"
          ],
          [
           "73263001",
           600,
           "1934-05-12",
           "1972-09-30"
          ],
          [
           "73268001",
           400,
           "1952-02-01",
           "1968-12-31"
          ],
          [
           "73270001",
           410,
           "1935-01-01",
           "1964-02-29"
          ],
          [
           "73282001",
           525,
           "1948-01-01",
           "1951-12-31"
          ],
          [
           "73232402",
           1230,
           "1950-01-03",
           "2025-04-30"
          ],
          [
           "73221001",
           1100,
           "1948-01-01",
           "1992-12-31"
          ],
          [
           "73230002",
           1085,
           "1984-11-01",
           "2020-12-31"
          ],
          [
           "73235400",
           1595,
           "1988-01-12",
           "2025-04-11"
          ],
          [
           "73242001",
           1285,
           "1949-01-01",
           "2014-08-31"
          ],
          [
           "73242003",
           1573,
           "2016-12-09",
           "2025-06-13"
          ],
          [
           "73248003",
           610,
           "1990-03-04",
           "2005-09-21"
          ],
          [
           "73261003",
           698,
           "1997-04-01",
           "2025-06-13"
          ],
          [
           "73280402",
           2090,
           "2017-01-11",
           "2025-04-11"
          ],
          [
           "73220001",
           610,
           "1934-09-01",
           "2025-06-13"
          ],
          [
           "73228002",
           550,
           "1998-06-01",
           "2019-01-31"
          ],
          [
           "73228001",
           700,
           "1986-08-01",
           "1998-05-31"
          ],
          [
           "73229001",
           420,
           "1984-11-01",
           "2025-06-13"
          ],
          [
           "73244001",
           1150,
           "1934-07-01",
           "2025-06-13"
          ],
          [
           "73248002",
           550,
           "1983-11-01",
           "2020-12-31"
          ],
          [
           "73257004",
           1560,
           "2014-09-01",
           "2017-09-30"
          ],
          [
           "73257001",
           1443,
           "1952-09-01",
           "2025-06-13"
          ],
          [
           "73258001",
           763,
           "1934-06-01",
           "2025-06-13"
          ],
          [
           "73261001",
           1345,
           "1934-06-01",
           "2025-06-13"
          ],
          [
           "73276001",
           351,
           "1982-01-01",
           "2020-12-31"
          ],
          [
           "73280001",
           1694,
           "1953-01-01",
           "2025-06-13"
          ],
          [
           "73232400",
           1524,
           "2004-12-19",
           "2025-04-21"
          ],
          [
           "73255003",
           460,
           "1997-07-17",
           "2025-06-13"
          ],
          [
           "73232001",
           1230,
           "1934-08-01",
           "2025-05-31"
          ],
          [
           "73290002",
           1280,
           "1934-06-01",
           "2025-06-13"
          ],
          [
           "73296400",
           2080,
           "1970-12-17",
           "2025-05-04"
          ],
          [
           "73296004",
           1830,
           "1955-01-01",
           "1969-01-31"
          ],
          [
           "73296003",
           2090,
           "1958-01-01",
           "1964-12-31"
          ],
          [
           "73296001",
           1730,
           "1952-01-01",
           "1974-10-31"
          ],
          [
           "73296002",
           1570,
           "1951-01-01",
           "2015-08-31"
          ],
          [
           "73296005",
           2084,
           "1990-01-01",
           "2025-06-13"
          ],
          [
           "73301001",
           730,
           "1989-04-01",
           "2020-12-31"
          ],
          [
           "73303005",
           539,
           "1997-01-01",
           "2025-06-13"
          ],
          [
           "73303001",
           425,
           "1953-01-01",
           "1987-12-31"
          ],
          [
           "73303003",
           460,
           "1934-06-01",
           "1944-10-31"
          ],
          [
           "73303002",
           500,
           "1944-11-01",
           "1952-12-31"
          ],
          [
           "73303004",
           425,
           "1988-01-01",
           "1996-12-31"
          ],
          [
           "73144404",
           2101,
           "1994-12-23",
           "2025-04-15"
          ],
          [
           "73304004",
           1850,
           "1984-08-01",
           "2013-12-31"
          ],
          [
           "73304404",
           1854,
           "1971-12-01",
           "2025-04-30"
          ],
          [
           "73304005",
           1850,
           "1991-06-05",
           "2025-06-13"
          ],
          [
           "73157400",
           2208,
           "1983-12-14",
           "2025-04-10"
          ],
          [
           "73257405",
           2283,
           "2003-11-24",
           "2025-05-04"
          ],
          [
           "73257005",
           2277,
           "2017-10-05",
           "2025-06-13"
          ],
          [
           "73304003",
           1840,
           "1956-01-01",
           "1958-09-30"
          ],
          [
           "73304002",
           1945,
           "1952-01-01",
           "1960-10-17"
          ],
          [
           "73304001",
           1850,
           "1952-01-01",
           "1970-07-31"
          ],
          [
           "73306403",
           2295,
           "2003-01-10",
           "2025-04-15"
          ],
          [
           "73306002",
           1296,
           "1949-01-01",
           "1967-11-30"
          ],
          [
           "73306005",
           1460,
           "1991-07-01",
           "2025-05-31"
          ],
          [
           "73306001",
           1500,
           "1967-12-01",
           "1973-11-30"
          ],
          [
           "73306003",
           1430,
           "1973-12-01",
           "1990-12-31"
          ],
          [
           "73307400",
           1788,
           "1983-12-13",
           "2025-04-11"
          ],
          [
           "73307001",
           1470,
           "1934-05-26",
           "1973-10-31"
          ],
          [
           "73024400",
           1333,
           "1985-12-24",
           "2025-04-17"
          ],
          [
           "73312001",
           530,
           "1959-02-01",
           "2019-03-01"
          ],
          [
           "73326001",
           515,
           "1986-08-01",
           "2020-12-31"
          ],
          [
           "73330001",
           230,
           "1935-01-01",
           "2015-08-31"
          ]
         ],
         "hovertemplate": "<b>%{hovertext}</b><br><br>lat=%{lat}<br>lon=%{lon}<br>poste=%{customdata[0]}<br>alt=%{customdata[1]}<br>début=%{customdata[2]}<br>fin=%{customdata[3]}<extra></extra>",
         "hovertext": [
          "Aiguebelette",
          "Aillon Le Jeune",
          "Aix Les Bains",
          "Aix-Les-Bains",
          "Albertville",
          "Albertville",
          "Albertville",
          "Albertville Jo",
          "Albiez",
          "Albiez-Montrond",
          "Allant-Nivose",
          "Apremont",
          "Areches",
          "Areches -S-",
          "Argentine Presbytere",
          "Arvillard",
          "Aussois",
          "Aussois",
          "Aussois-Clim",
          "Avrieux",
          "Avrieux Enregistreur Edf",
          "Beaufort",
          "Beaufort Roslan",
          "Beaufort-Fontan",
          "Beaufort-Sur-Doron",
          "Bellecote-Nivose",
          "Bessans",
          "Bessans Averole",
          "Bessans-Clim",
          "Bonneval Sur Arc",
          "Bonneval-Nivose",
          "Bonneval-Sur-Arc Tralenta",
          "Bourg St Mauric",
          "Bourg St Maurice",
          "Bourg-Saint-Maurice-Chalpieux",
          "Bourget En Huile_Sapc",
          "Bourget-En-Huile",
          "Bourgneuf",
          "Bozel",
          "Bozel Pierre Becqua",
          "Brides Les Bain",
          "Brides-Les-Bains Prise D'Eau",
          "Challes Les Eaux",
          "Challes Teppes",
          "Chambery",
          "Chambery Chateau De Biollay",
          "Chambery Hopital Militaire",
          "Chambery Joppet",
          "Chambery-Aix",
          "Champagny-En-Vanoise",
          "Chateauneuf L'Eglise",
          "Chindrieux",
          "Col Des Saisies",
          "Col-Des-Saisies",
          "Courchevel",
          "Ecole",
          "Ecole Bellevaux",
          "Entremont Le Vieux_Sapc",
          "Feclaz_Sapc",
          "Fourneaux Fontaine Froide",
          "Fourneaux Le Lavoir",
          "Frejus",
          "Gilly Sur Isere",
          "Grande Parei-Nivose",
          "Gresy-Sur-Isere",
          "Hauteluce",
          "Hauteluce La Girotte",
          "Jarrier",
          "Jarrier Presbytere",
          "Jarsy_Sapc",
          "La Chavanne",
          "La Feclaz",
          "La Giettaz",
          "La Lechere",
          "La Lechere - Nd De Briancon",
          "La Lechere Celliers - Bourg",
          "La Lechere_Sapc",
          "La Masse",
          "La Motte Servol",
          "La Motte Servolex Noiray",
          "La Norma",
          "La Norma_Sapc",
          "La Plagne",
          "La Plagne Glacier -S-",
          "La Plagne_Sapc",
          "La Rochette",
          "La Rosiere",
          "La Thuile Saint-Bernard",
          "La Toussuire",
          "Lac Aiguebelette",
          "Lanslebourg Anc",
          "Lanslebourg Bou",
          "Lanslebourg Mt",
          "Lanslebourg Nv",
          "Lanslebourg-Mont-Cenis",
          "Lanslebourg-Mont-Cenis-Barrage",
          "Lanslebourg-Mont-Cenis-Fort",
          "Le Chevril-Nivose",
          "Le Corbier",
          "Le Corbier -S-",
          "Le Molard",
          "Les Aillons (Margeriaz)",
          "Les Arcs",
          "Les Avanchers-Valmorel",
          "Les Deserts",
          "Les Karellis",
          "Les Menuires",
          "Les Rochilles-Nivose",
          "Les Saisies",
          "Lescheraines",
          "Meribel Burgin",
          "Meribel Mottaret",
          "Modane",
          "Mognard",
          "Mont Cenis",
          "Mont Du Chat",
          "Montcel Faubour",
          "Montgellafrey",
          "Montmelian",
          "Montricher-Albanne",
          "Montsapey",
          "Moutiers",
          "Novalaise",
          "Novalaise Aux Champs",
          "Novalaise_Double",
          "Orelle",
          "Orelle Bissorte",
          "Orelle Premont",
          "Peisey Nancroix",
          "Pontamafrey",
          "Pralognan",
          "Pralognan La Vanoise",
          "Pralognan_Neige",
          "Saint-Alban-De-Montbel",
          "Saint-Alban-Des-Villards",
          "Saint-Bon-Tarentaise",
          "Saint-Bon-Tarentaise Moriond",
          "Saint-Jean-De-Belleville",
          "Saint-Jean-De-Chevelu Chevelu",
          "Saint-Jean-De-Maurienne",
          "Saint-Marcel Pomblieres",
          "Saint-Offenge-Dessous",
          "Saint-Paul-Sur-Isere",
          "Saint-Pierre-D'Albigny",
          "Saint-Thibaud-De-Couz",
          "Sainte-Foy_Neige",
          "St Alban Des Vi",
          "St Colomban Des Villards",
          "St Francois Long",
          "St Jean D Arves",
          "St Jean D'Arves_Sapc",
          "St Jean De Maur",
          "St Michel Maur_Sapc",
          "St Sorlin D'Arves",
          "St-Alban Des Hurtieres",
          "St-Cassin",
          "St-Cassin-Chantres",
          "St-Christophe La-Grotte",
          "St-Jean De Belleville",
          "St-Jean De Maurienne",
          "St-Martin Belleville",
          "St-Martin De Belleville",
          "St-Martin De La Porte",
          "St-Michel De Maurienne Le Thyl",
          "St-Pierre De Soucy",
          "St-Sorlin D'Arves",
          "Ste Foy Station",
          "Ste Marie Cuines",
          "Ste-Foy-Tarentaise",
          "Termignon-Clim",
          "Tignes",
          "Tignes Le Chevril",
          "Tignes Le Lac",
          "Tignes Le Villaret",
          "Tignes-Brevieres",
          "Tignes_Sapc",
          "Trevignin",
          "Ugine",
          "Ugine",
          "Ugine Eaux-Et-Forets",
          "Ugine La Montagnette",
          "Ugine-Maison-Forestiere",
          "Val Cenis (La Berche)",
          "Val D Isere",
          "Val D Isere Joseray",
          "Val D'Isere Jos",
          "Val Frejus",
          "Val Thorens",
          "Val Thorens_Sapc",
          "Val-D'Isere Garage",
          "Val-D'Isere Le Fornet",
          "Val-D'Isere Presbytere",
          "Valloire",
          "Valloire Barrage Du Ley",
          "Valloire Forest",
          "Valloire Les Granges",
          "Valloire-Chef-Lieu",
          "Valmeinier",
          "Valmeinier Le Meleze",
          "Valmorel",
          "Verrens Arvey",
          "Vimines",
          "Yenne"
         ],
         "lat": [
          45.551667,
          45.617833,
          45.700333,
          45.693333,
          45.662167,
          45.673333,
          45.627833,
          45.662333,
          45.2155,
          45.210667,
          45.663833,
          45.515667,
          45.671333,
          45.651333,
          45.493333,
          45.44,
          45.247667,
          45.24,
          45.229833,
          45.214,
          45.215,
          45.716667,
          45.683333,
          45.703333,
          45.691,
          45.489,
          45.320667,
          45.32,
          45.322833,
          45.373667,
          45.351667,
          45.37,
          45.618333,
          45.612667,
          45.613333,
          45.486667,
          45.489667,
          45.5545,
          45.44,
          45.443333,
          45.453667,
          45.451667,
          45.565167,
          45.548167,
          45.5805,
          45.57,
          45.57,
          45.57,
          45.641333,
          45.453333,
          45.548333,
          45.832167,
          45.76,
          45.755,
          45.413333,
          45.650333,
          45.65,
          45.444167,
          45.647167,
          45.186667,
          45.186667,
          45.193667,
          45.653167,
          45.614667,
          45.6,
          45.772333,
          45.75,
          45.279333,
          45.278333,
          45.658833,
          45.494667,
          45.643,
          45.878333,
          45.556667,
          45.53,
          45.471667,
          45.549167,
          45.297333,
          45.595,
          45.609333,
          45.1885,
          45.190667,
          45.506833,
          45.488667,
          45.500333,
          45.452167,
          45.629833,
          45.531667,
          45.255667,
          45.564833,
          45.286667,
          45.286667,
          45.2235,
          45.286667,
          45.286667,
          45.286667,
          45.286667,
          45.499667,
          45.243333,
          45.237,
          45.441833,
          45.642167,
          45.573333,
          45.478333,
          45.625,
          45.227667,
          45.323333,
          45.085,
          45.758333,
          45.715167,
          45.3875,
          45.371667,
          45.193667,
          45.762,
          45.269333,
          45.6605,
          45.711667,
          45.393,
          45.493833,
          45.246667,
          45.5225,
          45.484667,
          45.597333,
          45.595,
          45.595667,
          45.247833,
          45.21,
          45.21,
          45.544,
          45.335,
          45.381667,
          45.386,
          45.386,
          45.551667,
          45.308333,
          45.435,
          45.435,
          45.426667,
          45.7,
          45.275,
          45.511667,
          45.735,
          45.596667,
          45.568333,
          45.501667,
          45.601833,
          45.305,
          45.293,
          45.417833,
          45.190167,
          45.206833,
          45.266667,
          45.218167,
          45.217167,
          45.477167,
          45.532667,
          45.516667,
          45.452833,
          45.427667,
          45.282167,
          45.361667,
          45.368167,
          45.238833,
          45.223667,
          45.482333,
          45.224,
          45.577833,
          45.3435,
          45.601833,
          45.274833,
          45.468333,
          45.468333,
          45.468333,
          45.468333,
          45.507833,
          45.467,
          45.706833,
          45.759167,
          45.75,
          45.751667,
          45.751667,
          45.753333,
          45.274167,
          45.444833,
          45.445,
          45.444833,
          45.155833,
          45.2945,
          45.294,
          45.446667,
          45.446667,
          45.446667,
          45.160833,
          45.165,
          45.173,
          45.165,
          45.166667,
          45.176,
          45.185,
          45.461833,
          45.658667,
          45.5455,
          45.701
         ],
         "legendgroup": "",
         "lon": [
          5.813333,
          6.080167,
          5.889667,
          5.908333,
          6.371833,
          6.385,
          6.327667,
          6.371833,
          6.341,
          6.336333,
          6.211833,
          5.951833,
          6.5405,
          6.5265,
          6.313333,
          6.117333,
          6.732667,
          6.738333,
          6.744333,
          6.716833,
          6.721667,
          6.541667,
          6.616667,
          6.621667,
          6.568667,
          6.771167,
          6.995333,
          6.991667,
          7.002333,
          7.057167,
          7.051167,
          7.043333,
          6.768333,
          6.763333,
          6.765,
          6.207667,
          6.205667,
          6.2335,
          6.6495,
          6.648333,
          6.571667,
          6.563333,
          5.970333,
          5.973333,
          5.902833,
          5.918333,
          5.918333,
          5.918333,
          5.878,
          6.691667,
          6.171667,
          5.847333,
          6.53,
          6.535333,
          6.632167,
          6.17,
          6.166667,
          5.9005,
          5.983667,
          6.65,
          6.65,
          6.674167,
          6.3435,
          6.6475,
          6.253333,
          6.638833,
          6.585,
          6.3085,
          6.313333,
          6.176833,
          6.074667,
          5.985667,
          6.525833,
          6.511667,
          6.471667,
          6.413333,
          6.501,
          6.508333,
          5.860333,
          5.853667,
          6.698833,
          6.7035,
          6.678667,
          6.771833,
          6.675167,
          6.112333,
          6.848333,
          6.055,
          6.252,
          5.795833,
          6.875,
          6.875,
          6.944667,
          6.875,
          6.875,
          6.875,
          6.875,
          6.955333,
          6.266667,
          6.242833,
          7.016167,
          6.061167,
          6.826667,
          6.455,
          6.005,
          6.404,
          6.541667,
          6.469,
          6.528833,
          6.108333,
          6.5895,
          6.583333,
          6.674167,
          5.957167,
          6.899167,
          5.8215,
          5.986667,
          6.321,
          6.049167,
          6.401667,
          6.336833,
          6.534167,
          5.776833,
          5.771667,
          5.773,
          6.571,
          6.533333,
          6.533333,
          6.7565,
          6.348333,
          6.72,
          6.716667,
          6.716667,
          5.783333,
          6.246667,
          6.636667,
          6.636667,
          6.483333,
          5.828333,
          6.346667,
          6.566667,
          6.001667,
          6.436667,
          6.151667,
          5.845,
          6.886833,
          6.245,
          6.231167,
          6.3635,
          6.284333,
          6.278833,
          6.333333,
          6.4645,
          6.2025,
          6.271333,
          5.8865,
          5.883333,
          5.777333,
          6.482833,
          6.354333,
          6.521667,
          6.5105,
          6.446167,
          6.490833,
          6.0935,
          6.216333,
          6.895167,
          6.307167,
          6.886833,
          6.8145,
          6.908333,
          6.908333,
          6.908333,
          6.908333,
          6.920667,
          6.907167,
          5.977333,
          6.421,
          6.418333,
          6.416667,
          6.416667,
          6.403333,
          6.922333,
          6.978167,
          6.978167,
          6.978167,
          6.664833,
          6.5825,
          6.581,
          6.978333,
          6.978333,
          6.978333,
          6.4635,
          6.425,
          6.433167,
          6.425,
          6.426667,
          6.493833,
          6.481667,
          6.445167,
          6.3165,
          5.851667,
          5.755
         ],
         "marker": {
          "color": "red"
         },
         "mode": "markers",
         "name": "",
         "showlegend": false,
         "subplot": "mapbox",
         "type": "scattermapbox"
        }
       ],
       "layout": {
        "height": 800,
        "hoverlabel": {
         "bgcolor": "rgb(255,255,255)"
        },
        "legend": {
         "tracegroupgap": 0
        },
        "mapbox": {
         "center": {
          "lat": 45.46063630541872,
          "lon": 6.436527901477832
         },
         "domain": {
          "x": [
           0,
           1
          ],
          "y": [
           0,
           1
          ]
         },
         "layers": [
          {
           "color": "rgba(0, 0, 0, 0.9)",
           "line": {
            "width": 1
           },
           "source": "https://www.data.gouv.fr/fr/datasets/r/90b9341a-e1f7-4d75-a73c-bbc010c7feeb",
           "sourcetype": "geojson",
           "type": "line"
          }
         ],
         "style": "open-street-map",
         "zoom": 8
        },
        "margin": {
         "t": 60
        },
        "template": {
         "data": {
          "bar": [
           {
            "error_x": {
             "color": "#2a3f5f"
            },
            "error_y": {
             "color": "#2a3f5f"
            },
            "marker": {
             "line": {
              "color": "#E5ECF6",
              "width": 0.5
             },
             "pattern": {
              "fillmode": "overlay",
              "size": 10,
              "solidity": 0.2
             }
            },
            "type": "bar"
           }
          ],
          "barpolar": [
           {
            "marker": {
             "line": {
              "color": "#E5ECF6",
              "width": 0.5
             },
             "pattern": {
              "fillmode": "overlay",
              "size": 10,
              "solidity": 0.2
             }
            },
            "type": "barpolar"
           }
          ],
          "carpet": [
           {
            "aaxis": {
             "endlinecolor": "#2a3f5f",
             "gridcolor": "white",
             "linecolor": "white",
             "minorgridcolor": "white",
             "startlinecolor": "#2a3f5f"
            },
            "baxis": {
             "endlinecolor": "#2a3f5f",
             "gridcolor": "white",
             "linecolor": "white",
             "minorgridcolor": "white",
             "startlinecolor": "#2a3f5f"
            },
            "type": "carpet"
           }
          ],
          "choropleth": [
           {
            "colorbar": {
             "outlinewidth": 0,
             "ticks": ""
            },
            "type": "choropleth"
           }
          ],
          "contour": [
           {
            "colorbar": {
             "outlinewidth": 0,
             "ticks": ""
            },
            "colorscale": [
             [
              0,
              "#0d0887"
             ],
             [
              0.1111111111111111,
              "#46039f"
             ],
             [
              0.2222222222222222,
              "#7201a8"
             ],
             [
              0.3333333333333333,
              "#9c179e"
             ],
             [
              0.4444444444444444,
              "#bd3786"
             ],
             [
              0.5555555555555556,
              "#d8576b"
             ],
             [
              0.6666666666666666,
              "#ed7953"
             ],
             [
              0.7777777777777778,
              "#fb9f3a"
             ],
             [
              0.8888888888888888,
              "#fdca26"
             ],
             [
              1,
              "#f0f921"
             ]
            ],
            "type": "contour"
           }
          ],
          "contourcarpet": [
           {
            "colorbar": {
             "outlinewidth": 0,
             "ticks": ""
            },
            "type": "contourcarpet"
           }
          ],
          "heatmap": [
           {
            "colorbar": {
             "outlinewidth": 0,
             "ticks": ""
            },
            "colorscale": [
             [
              0,
              "#0d0887"
             ],
             [
              0.1111111111111111,
              "#46039f"
             ],
             [
              0.2222222222222222,
              "#7201a8"
             ],
             [
              0.3333333333333333,
              "#9c179e"
             ],
             [
              0.4444444444444444,
              "#bd3786"
             ],
             [
              0.5555555555555556,
              "#d8576b"
             ],
             [
              0.6666666666666666,
              "#ed7953"
             ],
             [
              0.7777777777777778,
              "#fb9f3a"
             ],
             [
              0.8888888888888888,
              "#fdca26"
             ],
             [
              1,
              "#f0f921"
             ]
            ],
            "type": "heatmap"
           }
          ],
          "heatmapgl": [
           {
            "colorbar": {
             "outlinewidth": 0,
             "ticks": ""
            },
            "colorscale": [
             [
              0,
              "#0d0887"
             ],
             [
              0.1111111111111111,
              "#46039f"
             ],
             [
              0.2222222222222222,
              "#7201a8"
             ],
             [
              0.3333333333333333,
              "#9c179e"
             ],
             [
              0.4444444444444444,
              "#bd3786"
             ],
             [
              0.5555555555555556,
              "#d8576b"
             ],
             [
              0.6666666666666666,
              "#ed7953"
             ],
             [
              0.7777777777777778,
              "#fb9f3a"
             ],
             [
              0.8888888888888888,
              "#fdca26"
             ],
             [
              1,
              "#f0f921"
             ]
            ],
            "type": "heatmapgl"
           }
          ],
          "histogram": [
           {
            "marker": {
             "pattern": {
              "fillmode": "overlay",
              "size": 10,
              "solidity": 0.2
             }
            },
            "type": "histogram"
           }
          ],
          "histogram2d": [
           {
            "colorbar": {
             "outlinewidth": 0,
             "ticks": ""
            },
            "colorscale": [
             [
              0,
              "#0d0887"
             ],
             [
              0.1111111111111111,
              "#46039f"
             ],
             [
              0.2222222222222222,
              "#7201a8"
             ],
             [
              0.3333333333333333,
              "#9c179e"
             ],
             [
              0.4444444444444444,
              "#bd3786"
             ],
             [
              0.5555555555555556,
              "#d8576b"
             ],
             [
              0.6666666666666666,
              "#ed7953"
             ],
             [
              0.7777777777777778,
              "#fb9f3a"
             ],
             [
              0.8888888888888888,
              "#fdca26"
             ],
             [
              1,
              "#f0f921"
             ]
            ],
            "type": "histogram2d"
           }
          ],
          "histogram2dcontour": [
           {
            "colorbar": {
             "outlinewidth": 0,
             "ticks": ""
            },
            "colorscale": [
             [
              0,
              "#0d0887"
             ],
             [
              0.1111111111111111,
              "#46039f"
             ],
             [
              0.2222222222222222,
              "#7201a8"
             ],
             [
              0.3333333333333333,
              "#9c179e"
             ],
             [
              0.4444444444444444,
              "#bd3786"
             ],
             [
              0.5555555555555556,
              "#d8576b"
             ],
             [
              0.6666666666666666,
              "#ed7953"
             ],
             [
              0.7777777777777778,
              "#fb9f3a"
             ],
             [
              0.8888888888888888,
              "#fdca26"
             ],
             [
              1,
              "#f0f921"
             ]
            ],
            "type": "histogram2dcontour"
           }
          ],
          "mesh3d": [
           {
            "colorbar": {
             "outlinewidth": 0,
             "ticks": ""
            },
            "type": "mesh3d"
           }
          ],
          "parcoords": [
           {
            "line": {
             "colorbar": {
              "outlinewidth": 0,
              "ticks": ""
             }
            },
            "type": "parcoords"
           }
          ],
          "pie": [
           {
            "automargin": true,
            "type": "pie"
           }
          ],
          "scatter": [
           {
            "fillpattern": {
             "fillmode": "overlay",
             "size": 10,
             "solidity": 0.2
            },
            "type": "scatter"
           }
          ],
          "scatter3d": [
           {
            "line": {
             "colorbar": {
              "outlinewidth": 0,
              "ticks": ""
             }
            },
            "marker": {
             "colorbar": {
              "outlinewidth": 0,
              "ticks": ""
             }
            },
            "type": "scatter3d"
           }
          ],
          "scattercarpet": [
           {
            "marker": {
             "colorbar": {
              "outlinewidth": 0,
              "ticks": ""
             }
            },
            "type": "scattercarpet"
           }
          ],
          "scattergeo": [
           {
            "marker": {
             "colorbar": {
              "outlinewidth": 0,
              "ticks": ""
             }
            },
            "type": "scattergeo"
           }
          ],
          "scattergl": [
           {
            "marker": {
             "colorbar": {
              "outlinewidth": 0,
              "ticks": ""
             }
            },
            "type": "scattergl"
           }
          ],
          "scattermapbox": [
           {
            "marker": {
             "colorbar": {
              "outlinewidth": 0,
              "ticks": ""
             }
            },
            "type": "scattermapbox"
           }
          ],
          "scatterpolar": [
           {
            "marker": {
             "colorbar": {
              "outlinewidth": 0,
              "ticks": ""
             }
            },
            "type": "scatterpolar"
           }
          ],
          "scatterpolargl": [
           {
            "marker": {
             "colorbar": {
              "outlinewidth": 0,
              "ticks": ""
             }
            },
            "type": "scatterpolargl"
           }
          ],
          "scatterternary": [
           {
            "marker": {
             "colorbar": {
              "outlinewidth": 0,
              "ticks": ""
             }
            },
            "type": "scatterternary"
           }
          ],
          "surface": [
           {
            "colorbar": {
             "outlinewidth": 0,
             "ticks": ""
            },
            "colorscale": [
             [
              0,
              "#0d0887"
             ],
             [
              0.1111111111111111,
              "#46039f"
             ],
             [
              0.2222222222222222,
              "#7201a8"
             ],
             [
              0.3333333333333333,
              "#9c179e"
             ],
             [
              0.4444444444444444,
              "#bd3786"
             ],
             [
              0.5555555555555556,
              "#d8576b"
             ],
             [
              0.6666666666666666,
              "#ed7953"
             ],
             [
              0.7777777777777778,
              "#fb9f3a"
             ],
             [
              0.8888888888888888,
              "#fdca26"
             ],
             [
              1,
              "#f0f921"
             ]
            ],
            "type": "surface"
           }
          ],
          "table": [
           {
            "cells": {
             "fill": {
              "color": "#EBF0F8"
             },
             "line": {
              "color": "white"
             }
            },
            "header": {
             "fill": {
              "color": "#C8D4E3"
             },
             "line": {
              "color": "white"
             }
            },
            "type": "table"
           }
          ]
         },
         "layout": {
          "annotationdefaults": {
           "arrowcolor": "#2a3f5f",
           "arrowhead": 0,
           "arrowwidth": 1
          },
          "autotypenumbers": "strict",
          "coloraxis": {
           "colorbar": {
            "outlinewidth": 0,
            "ticks": ""
           }
          },
          "colorscale": {
           "diverging": [
            [
             0,
             "#8e0152"
            ],
            [
             0.1,
             "#c51b7d"
            ],
            [
             0.2,
             "#de77ae"
            ],
            [
             0.3,
             "#f1b6da"
            ],
            [
             0.4,
             "#fde0ef"
            ],
            [
             0.5,
             "#f7f7f7"
            ],
            [
             0.6,
             "#e6f5d0"
            ],
            [
             0.7,
             "#b8e186"
            ],
            [
             0.8,
             "#7fbc41"
            ],
            [
             0.9,
             "#4d9221"
            ],
            [
             1,
             "#276419"
            ]
           ],
           "sequential": [
            [
             0,
             "#0d0887"
            ],
            [
             0.1111111111111111,
             "#46039f"
            ],
            [
             0.2222222222222222,
             "#7201a8"
            ],
            [
             0.3333333333333333,
             "#9c179e"
            ],
            [
             0.4444444444444444,
             "#bd3786"
            ],
            [
             0.5555555555555556,
             "#d8576b"
            ],
            [
             0.6666666666666666,
             "#ed7953"
            ],
            [
             0.7777777777777778,
             "#fb9f3a"
            ],
            [
             0.8888888888888888,
             "#fdca26"
            ],
            [
             1,
             "#f0f921"
            ]
           ],
           "sequentialminus": [
            [
             0,
             "#0d0887"
            ],
            [
             0.1111111111111111,
             "#46039f"
            ],
            [
             0.2222222222222222,
             "#7201a8"
            ],
            [
             0.3333333333333333,
             "#9c179e"
            ],
            [
             0.4444444444444444,
             "#bd3786"
            ],
            [
             0.5555555555555556,
             "#d8576b"
            ],
            [
             0.6666666666666666,
             "#ed7953"
            ],
            [
             0.7777777777777778,
             "#fb9f3a"
            ],
            [
             0.8888888888888888,
             "#fdca26"
            ],
            [
             1,
             "#f0f921"
            ]
           ]
          },
          "colorway": [
           "#636efa",
           "#EF553B",
           "#00cc96",
           "#ab63fa",
           "#FFA15A",
           "#19d3f3",
           "#FF6692",
           "#B6E880",
           "#FF97FF",
           "#FECB52"
          ],
          "font": {
           "color": "#2a3f5f"
          },
          "geo": {
           "bgcolor": "white",
           "lakecolor": "white",
           "landcolor": "#E5ECF6",
           "showlakes": true,
           "showland": true,
           "subunitcolor": "white"
          },
          "hoverlabel": {
           "align": "left"
          },
          "hovermode": "closest",
          "mapbox": {
           "style": "light"
          },
          "paper_bgcolor": "white",
          "plot_bgcolor": "#E5ECF6",
          "polar": {
           "angularaxis": {
            "gridcolor": "white",
            "linecolor": "white",
            "ticks": ""
           },
           "bgcolor": "#E5ECF6",
           "radialaxis": {
            "gridcolor": "white",
            "linecolor": "white",
            "ticks": ""
           }
          },
          "scene": {
           "xaxis": {
            "backgroundcolor": "#E5ECF6",
            "gridcolor": "white",
            "gridwidth": 2,
            "linecolor": "white",
            "showbackground": true,
            "ticks": "",
            "zerolinecolor": "white"
           },
           "yaxis": {
            "backgroundcolor": "#E5ECF6",
            "gridcolor": "white",
            "gridwidth": 2,
            "linecolor": "white",
            "showbackground": true,
            "ticks": "",
            "zerolinecolor": "white"
           },
           "zaxis": {
            "backgroundcolor": "#E5ECF6",
            "gridcolor": "white",
            "gridwidth": 2,
            "linecolor": "white",
            "showbackground": true,
            "ticks": "",
            "zerolinecolor": "white"
           }
          },
          "shapedefaults": {
           "line": {
            "color": "#2a3f5f"
           }
          },
          "ternary": {
           "aaxis": {
            "gridcolor": "white",
            "linecolor": "white",
            "ticks": ""
           },
           "baxis": {
            "gridcolor": "white",
            "linecolor": "white",
            "ticks": ""
           },
           "bgcolor": "#E5ECF6",
           "caxis": {
            "gridcolor": "white",
            "linecolor": "white",
            "ticks": ""
           }
          },
          "title": {
           "x": 0.05
          },
          "xaxis": {
           "automargin": true,
           "gridcolor": "white",
           "linecolor": "white",
           "ticks": "",
           "title": {
            "standoff": 15
           },
           "zerolinecolor": "white",
           "zerolinewidth": 2
          },
          "yaxis": {
           "automargin": true,
           "gridcolor": "white",
           "linecolor": "white",
           "ticks": "",
           "title": {
            "standoff": 15
           },
           "zerolinecolor": "white",
           "zerolinewidth": 2
          }
         }
        },
        "title": {
         "text": "Savoie : postes actifs en 2025",
         "x": 0.5
        },
        "width": 900
       }
      }
     },
     "metadata": {},
     "output_type": "display_data"
    }
   ],
   "source": [
    "liste_73 = synthétiser_information('73')\n",
    "cartographier_postes(liste_73, dept = '73')"
   ]
  },
  {
   "cell_type": "markdown",
   "metadata": {},
   "source": [
    "# Extraction Alpes du Nord"
   ]
  },
  {
   "cell_type": "code",
   "execution_count": null,
   "metadata": {},
   "outputs": [
    {
     "name": "stderr",
     "output_type": "stream",
     "text": [
      "100%|██████████| 6/6 [00:59<00:00,  9.89s/it]\n",
      "100%|██████████| 6/6 [00:34<00:00,  5.73s/it]\n",
      "100%|██████████| 6/6 [00:49<00:00,  8.19s/it]\n"
     ]
    },
    {
     "data": {
      "application/vnd.plotly.v1+json": {
       "config": {
        "plotlyServerURL": "https://plot.ly"
       },
       "data": [
        {
         "customdata": [
          [
           "73001001",
           400,
           "1941-10-01",
           "1966-08-31"
          ],
          [
           "73004001",
           900,
           "1934-06-01",
           "2020-12-31"
          ],
          [
           "73008003",
           234,
           "2003-01-01",
           "2015-08-31"
          ],
          [
           "73008001",
           365,
           "1947-01-01",
           "1971-01-31"
          ],
          [
           "73011002",
           331,
           "1948-01-01",
           "2015-08-31"
          ],
          [
           "73011001",
           348,
           "1948-01-01",
           "1969-10-31"
          ],
          [
           "73297003",
           314,
           "2020-10-30",
           "2025-06-13"
          ],
          [
           "73011004",
           332,
           "1989-08-01",
           "2020-06-26"
          ],
          [
           "73013001",
           1540,
           "1992-06-01",
           "2023-06-30"
          ],
          [
           "73013002",
           1633,
           "2023-06-01",
           "2025-06-13"
          ],
          [
           "73139401",
           1684,
           "2008-10-07",
           "2025-06-13"
          ],
          [
           "73017001",
           370,
           "1986-08-01",
           "2020-12-31"
          ],
          [
           "73034400",
           1209,
           "1982-12-20",
           "2025-04-05"
          ],
          [
           "73034401",
           2000,
           "2024-04-01",
           "2024-04-24"
          ],
          [
           "73019001",
           419,
           "1948-01-01",
           "1973-01-31"
          ],
          [
           "73021001",
           500,
           "2014-04-01",
           "2020-12-01"
          ],
          [
           "73023401",
           2166,
           "1996-12-19",
           "2018-04-01"
          ],
          [
           "73023002",
           2020,
           "1953-01-01",
           "1964-10-31"
          ],
          [
           "73023001",
           1467,
           "1934-07-01",
           "2024-05-31"
          ],
          [
           "73026001",
           1104,
           "1948-10-01",
           "2025-06-13"
          ],
          [
           "73026002",
           1100,
           "1969-12-01",
           "1973-10-31"
          ],
          [
           "73034001",
           760,
           "1950-01-01",
           "1974-10-31"
          ],
          [
           "73034003",
           1580,
           "1963-08-01",
           "1975-12-31"
          ],
          [
           "73034004",
           1030,
           "1947-01-11",
           "1968-01-31"
          ],
          [
           "73034002",
           1036,
           "1950-05-01",
           "2025-06-13"
          ],
          [
           "73071403",
           2992,
           "1982-01-26",
           "2025-06-13"
          ],
          [
           "73040400",
           1713,
           "1980-12-15",
           "2025-06-14"
          ],
          [
           "73040002",
           2025,
           "1955-08-01",
           "1969-07-31"
          ],
          [
           "73040005",
           1731,
           "1951-01-01",
           "2025-06-13"
          ],
          [
           "73047401",
           1830,
           "1994-12-26",
           "2025-04-24"
          ],
          [
           "73040402",
           2741,
           "1996-01-08",
           "2025-06-13"
          ],
          [
           "73047001",
           1830,
           "1948-01-01",
           "1977-12-31"
          ],
          [
           "73054003",
           840,
           "1932-03-01",
           "1935-05-31"
          ],
          [
           "73054001",
           865,
           "1945-04-01",
           "2025-06-13"
          ],
          [
           "73054004",
           1555,
           "1946-01-01",
           "1952-09-30"
          ],
          [
           "73052002",
           820,
           "2015-11-16",
           "2025-06-13"
          ],
          [
           "73052001",
           890,
           "1934-06-01",
           "2020-12-31"
          ],
          [
           "73053001",
           300,
           "1987-02-01",
           "2018-12-31"
          ],
          [
           "73055001",
           865,
           "1934-07-01",
           "2025-06-13"
          ],
          [
           "73055002",
           860,
           "1934-06-19",
           "1967-01-31"
          ],
          [
           "73057001",
           600,
           "1950-06-01",
           "2018-12-31"
          ],
          [
           "73057002",
           715,
           "1947-01-01",
           "1950-05-31"
          ],
          [
           "73064001",
           298,
           "1946-01-01",
           "2025-06-13"
          ],
          [
           "73064002",
           307,
           "1987-01-01",
           "2019-12-31"
          ],
          [
           "73065005",
           256,
           "1978-05-01",
           "2018-12-31"
          ],
          [
           "73065004",
           300,
           "1948-01-01",
           "1954-12-31"
          ],
          [
           "73065003",
           286,
           "1871-12-01",
           "1876-12-31"
          ],
          [
           "73065001",
           272,
           "1959-01-01",
           "1978-04-30"
          ],
          [
           "73329001",
           235,
           "1973-07-01",
           "2025-06-13"
          ],
          [
           "73071001",
           1460,
           "1950-04-01",
           "1971-09-30"
          ],
          [
           "73079001",
           320,
           "1959-01-01",
           "1974-07-31"
          ],
          [
           "73085001",
           340,
           "1982-01-01",
           "2015-05-13"
          ],
          [
           "73132403",
           1633,
           "1998-12-17",
           "2008-08-28"
          ],
          [
           "73132003",
           1614,
           "1988-01-20",
           "2025-06-13"
          ],
          [
           "73227400",
           1780,
           "1970-12-17",
           "2025-04-21"
          ],
          [
           "73106001",
           732,
           "1934-06-01",
           "2020-12-31"
          ],
          [
           "73106002",
           830,
           "1948-01-01",
           "1957-12-31"
          ],
          [
           "73107001",
           1059,
           "2023-04-18",
           "2025-06-13"
          ],
          [
           "73098003",
           1328,
           "1993-01-01",
           "2025-06-13"
          ],
          [
           "73117002",
           2060,
           "1950-04-01",
           "1959-08-31"
          ],
          [
           "73117001",
           1910,
           "1959-09-01",
           "1965-10-31"
          ],
          [
           "73157004",
           1228,
           "1994-11-01",
           "2016-05-01"
          ],
          [
           "73124001",
           330,
           "1982-01-01",
           "2020-12-31"
          ],
          [
           "73093001",
           2260,
           "2011-10-10",
           "2025-06-13"
          ],
          [
           "73129001",
           354,
           "1950-01-01",
           "1956-12-31"
          ],
          [
           "73132001",
           1215,
           "1947-01-01",
           "2025-05-31"
          ],
          [
           "73132002",
           1750,
           "1952-03-01",
           "1960-12-31"
          ],
          [
           "73138002",
           1200,
           "2009-08-01",
           "2022-12-31"
          ],
          [
           "73138001",
           1080,
           "1934-06-01",
           "1969-02-28"
          ],
          [
           "73139001",
           832,
           "2016-12-21",
           "2025-06-13"
          ],
          [
           "73082001",
           318,
           "1959-01-01",
           "2022-06-30"
          ],
          [
           "73098002",
           1350,
           "1991-12-01",
           "2019-03-31"
          ],
          [
           "73123402",
           1217,
           "2009-12-20",
           "2025-03-25"
          ],
          [
           "73187002",
           1340,
           "1958-08-01",
           "2007-04-30"
          ],
          [
           "73187001",
           650,
           "1950-07-01",
           "1976-03-31"
          ],
          [
           "73187004",
           1280,
           "1969-08-01",
           "1972-08-31"
          ],
          [
           "73187006",
           1195,
           "2007-05-01",
           "2025-06-13"
          ],
          [
           "73257003",
           2800,
           "1992-01-01",
           "2025-06-13"
          ],
          [
           "73179001",
           310,
           "1959-03-01",
           "2015-05-31"
          ],
          [
           "73179002",
           350,
           "1982-01-01",
           "2020-12-31"
          ],
          [
           "73322401",
           1958,
           "1998-12-29",
           "2025-04-02"
          ],
          [
           "73322001",
           1985,
           "2017-10-18",
           "2025-06-13"
          ],
          [
           "73150400",
           1980,
           "1970-12-17",
           "2025-04-28"
          ],
          [
           "73071402",
           3000,
           "1987-12-21",
           "1991-05-04"
          ],
          [
           "73150004",
           2120,
           "2017-08-16",
           "2025-06-13"
          ],
          [
           "73215001",
           350,
           "1934-06-01",
           "2014-03-31"
          ],
          [
           "73176400",
           1867,
           "1983-12-18",
           "2025-06-12"
          ],
          [
           "73294001",
           1930,
           "1960-01-02",
           "1974-12-29"
          ],
          [
           "73116001",
           1766,
           "2014-01-01",
           "2019-04-30"
          ],
          [
           "73191005",
           375,
           "2004-03-01",
           "2021-07-01"
          ],
          [
           "73143010",
           1925,
           "1957-06-01",
           "1967-10-31"
          ],
          [
           "73143004",
           1400,
           "1950-07-01",
           "1957-05-31"
          ],
          [
           "73143003",
           2000,
           "1970-10-01",
           "2014-04-30"
          ],
          [
           "73143001",
           2100,
           "1967-11-01",
           "1970-09-30"
          ],
          [
           "73143002",
           1720,
           "1952-03-01",
           "1972-10-31"
          ],
          [
           "73143011",
           1200,
           "1952-03-01",
           "1962-12-31"
          ],
          [
           "73143006",
           1400,
           "1932-03-01",
           "1940-05-31"
          ],
          [
           "73296406",
           2559,
           "1996-11-07",
           "2025-06-13"
          ],
          [
           "73318400",
           1585,
           "1987-02-23",
           "2025-04-04"
          ],
          [
           "73318401",
           2198,
           "2005-04-19",
           "2005-04-19"
          ],
          [
           "73304402",
           2310,
           "1988-01-13",
           "2017-04-30"
          ],
          [
           "73004400",
           1400,
           "1984-01-05",
           "2025-03-31"
          ],
          [
           "73054401",
           2040,
           "1981-12-19",
           "2025-04-28"
          ],
          [
           "73024001",
           1100,
           "1967-12-01",
           "1969-12-31"
          ],
          [
           "73098001",
           1030,
           "1947-01-01",
           "2000-01-31"
          ],
          [
           "73173400",
           1603,
           "1975-12-26",
           "2025-04-04"
          ],
          [
           "73257400",
           1800,
           "1971-12-06",
           "2025-04-21"
          ],
          [
           "73306401",
           2444,
           "1982-02-02",
           "2025-06-13"
          ],
          [
           "73132400",
           1636,
           "1993-01-01",
           "2025-04-04"
          ],
          [
           "73146001",
           591,
           "1940-09-01",
           "2025-06-13"
          ],
          [
           "73015001",
           2040,
           "1992-01-19",
           "2014-08-18"
          ],
          [
           "73015400",
           1700,
           "1983-12-26",
           "2025-04-21"
          ],
          [
           "73157002",
           1228,
           "1985-09-01",
           "2014-02-28"
          ],
          [
           "73158001",
           340,
           "1984-07-01",
           "2020-12-31"
          ],
          [
           "73144001",
           2032,
           "1992-01-09",
           "2025-06-13"
          ],
          [
           "73051001",
           1496,
           "2005-08-03",
           "2025-06-13"
          ],
          [
           "73164001",
           770,
           "1988-01-01",
           "1988-12-31"
          ],
          [
           "73167001",
           1057,
           "1934-05-19",
           "2025-06-13"
          ],
          [
           "73171002",
           264,
           "2003-12-24",
           "2025-06-13"
          ],
          [
           "73173001",
           620,
           "1959-01-01",
           "1975-08-31"
          ],
          [
           "73175001",
           960,
           "1934-07-01",
           "2017-08-31"
          ],
          [
           "73181001",
           480,
           "1934-06-01",
           "2025-05-31"
          ],
          [
           "73191001",
           460,
           "1956-07-01",
           "2025-06-13"
          ],
          [
           "73191002",
           530,
           "1950-07-01",
           "1961-12-31"
          ],
          [
           "73191800",
           435,
           "2018-10-11",
           "2018-12-11"
          ],
          [
           "73194401",
           2356,
           "1998-12-05",
           "2025-05-01"
          ],
          [
           "73194002",
           2120,
           "1950-05-01",
           "1964-12-31"
          ],
          [
           "73194001",
           830,
           "1953-01-01",
           "1973-10-31"
          ],
          [
           "73197001",
           1350,
           "1950-06-01",
           "2024-05-31"
          ],
          [
           "73203001",
           1420,
           "1950-01-01",
           "1989-04-29"
          ],
          [
           "73206400",
           1416,
           "1970-12-17",
           "2025-04-03"
          ],
          [
           "73206001",
           1420,
           "1934-06-01",
           "2025-05-31"
          ],
          [
           "73206406",
           1420,
           "1950-01-01",
           "2025-04-30"
          ],
          [
           "73219001",
           375,
           "1950-08-01",
           "1970-12-31"
          ],
          [
           "73221002",
           853,
           "1945-01-01",
           "1971-02-28"
          ],
          [
           "73227001",
           1550,
           "1951-03-01",
           "1967-01-31"
          ],
          [
           "73227002",
           1600,
           "1956-07-27",
           "1958-12-31"
          ],
          [
           "73244002",
           930,
           "1955-01-01",
           "1968-12-31"
          ],
          [
           "73245001",
           332,
           "1952-10-01",
           "1954-06-30"
          ],
          [
           "73248001",
           570,
           "1949-01-01",
           "1950-12-31"
          ],
          [
           "73253001",
           510,
           "1952-01-01",
           "1972-06-30"
          ],
          [
           "73263001",
           600,
           "1934-05-12",
           "1972-09-30"
          ],
          [
           "73268001",
           400,
           "1952-02-01",
           "1968-12-31"
          ],
          [
           "73270001",
           410,
           "1935-01-01",
           "1964-02-29"
          ],
          [
           "73282001",
           525,
           "1948-01-01",
           "1951-12-31"
          ],
          [
           "73232402",
           1230,
           "1950-01-03",
           "2025-04-30"
          ],
          [
           "73221001",
           1100,
           "1948-01-01",
           "1992-12-31"
          ],
          [
           "73230002",
           1085,
           "1984-11-01",
           "2020-12-31"
          ],
          [
           "73235400",
           1595,
           "1988-01-12",
           "2025-04-11"
          ],
          [
           "73242001",
           1285,
           "1949-01-01",
           "2014-08-31"
          ],
          [
           "73242003",
           1573,
           "2016-12-09",
           "2025-06-13"
          ],
          [
           "73248003",
           610,
           "1990-03-04",
           "2005-09-21"
          ],
          [
           "73261003",
           698,
           "1997-04-01",
           "2025-06-13"
          ],
          [
           "73280402",
           2090,
           "2017-01-11",
           "2025-04-11"
          ],
          [
           "73220001",
           610,
           "1934-09-01",
           "2025-06-13"
          ],
          [
           "73228002",
           550,
           "1998-06-01",
           "2019-01-31"
          ],
          [
           "73228001",
           700,
           "1986-08-01",
           "1998-05-31"
          ],
          [
           "73229001",
           420,
           "1984-11-01",
           "2025-06-13"
          ],
          [
           "73244001",
           1150,
           "1934-07-01",
           "2025-06-13"
          ],
          [
           "73248002",
           550,
           "1983-11-01",
           "2020-12-31"
          ],
          [
           "73257004",
           1560,
           "2014-09-01",
           "2017-09-30"
          ],
          [
           "73257001",
           1443,
           "1952-09-01",
           "2025-06-13"
          ],
          [
           "73258001",
           763,
           "1934-06-01",
           "2025-06-13"
          ],
          [
           "73261001",
           1345,
           "1934-06-01",
           "2025-06-13"
          ],
          [
           "73276001",
           351,
           "1982-01-01",
           "2020-12-31"
          ],
          [
           "73280001",
           1694,
           "1953-01-01",
           "2025-06-13"
          ],
          [
           "73232400",
           1524,
           "2004-12-19",
           "2025-04-21"
          ],
          [
           "73255003",
           460,
           "1997-07-17",
           "2025-06-13"
          ],
          [
           "73232001",
           1230,
           "1934-08-01",
           "2025-05-31"
          ],
          [
           "73290002",
           1280,
           "1934-06-01",
           "2025-06-13"
          ],
          [
           "73296400",
           2080,
           "1970-12-17",
           "2025-05-04"
          ],
          [
           "73296004",
           1830,
           "1955-01-01",
           "1969-01-31"
          ],
          [
           "73296003",
           2090,
           "1958-01-01",
           "1964-12-31"
          ],
          [
           "73296001",
           1730,
           "1952-01-01",
           "1974-10-31"
          ],
          [
           "73296002",
           1570,
           "1951-01-01",
           "2015-08-31"
          ],
          [
           "73296005",
           2084,
           "1990-01-01",
           "2025-06-13"
          ],
          [
           "73301001",
           730,
           "1989-04-01",
           "2020-12-31"
          ],
          [
           "73303005",
           539,
           "1997-01-01",
           "2025-06-13"
          ],
          [
           "73303001",
           425,
           "1953-01-01",
           "1987-12-31"
          ],
          [
           "73303003",
           460,
           "1934-06-01",
           "1944-10-31"
          ],
          [
           "73303002",
           500,
           "1944-11-01",
           "1952-12-31"
          ],
          [
           "73303004",
           425,
           "1988-01-01",
           "1996-12-31"
          ],
          [
           "73144404",
           2101,
           "1994-12-23",
           "2025-04-15"
          ],
          [
           "73304004",
           1850,
           "1984-08-01",
           "2013-12-31"
          ],
          [
           "73304404",
           1854,
           "1971-12-01",
           "2025-04-30"
          ],
          [
           "73304005",
           1850,
           "1991-06-05",
           "2025-06-13"
          ],
          [
           "73157400",
           2208,
           "1983-12-14",
           "2025-04-10"
          ],
          [
           "73257405",
           2283,
           "2003-11-24",
           "2025-05-04"
          ],
          [
           "73257005",
           2277,
           "2017-10-05",
           "2025-06-13"
          ],
          [
           "73304003",
           1840,
           "1956-01-01",
           "1958-09-30"
          ],
          [
           "73304002",
           1945,
           "1952-01-01",
           "1960-10-17"
          ],
          [
           "73304001",
           1850,
           "1952-01-01",
           "1970-07-31"
          ],
          [
           "73306403",
           2295,
           "2003-01-10",
           "2025-04-15"
          ],
          [
           "73306002",
           1296,
           "1949-01-01",
           "1967-11-30"
          ],
          [
           "73306005",
           1460,
           "1991-07-01",
           "2025-05-31"
          ],
          [
           "73306001",
           1500,
           "1967-12-01",
           "1973-11-30"
          ],
          [
           "73306003",
           1430,
           "1973-12-01",
           "1990-12-31"
          ],
          [
           "73307400",
           1788,
           "1983-12-13",
           "2025-04-11"
          ],
          [
           "73307001",
           1470,
           "1934-05-26",
           "1973-10-31"
          ],
          [
           "73024400",
           1333,
           "1985-12-24",
           "2025-04-17"
          ],
          [
           "73312001",
           530,
           "1959-02-01",
           "2019-03-01"
          ],
          [
           "73326001",
           515,
           "1986-08-01",
           "2020-12-31"
          ],
          [
           "73330001",
           230,
           "1935-01-01",
           "2015-08-31"
          ],
          [
           "74001001",
           947,
           "1944-05-01",
           "2025-05-31"
          ],
          [
           "74056006",
           3845,
           "1993-02-13",
           "2025-06-13"
          ],
          [
           "74056405",
           2365,
           "1983-01-26",
           "2025-06-13"
          ],
          [
           "74002001",
           422,
           "1928-01-01",
           "1980-06-30"
          ],
          [
           "74003001",
           680,
           "1996-01-01",
           "2013-09-30"
          ],
          [
           "74010001",
           448,
           "1876-01-01",
           "1976-01-31"
          ],
          [
           "74012001",
           445,
           "1877-01-01",
           "1979-12-31"
          ],
          [
           "74012002",
           420,
           "1984-05-01",
           "1987-10-31"
          ],
          [
           "74014003",
           1120,
           "1992-11-01",
           "1993-02-28"
          ],
          [
           "74014001",
           1120,
           "1992-11-01",
           "1993-02-28"
          ],
          [
           "74016001",
           560,
           "1993-07-01",
           "2020-12-31"
          ],
          [
           "74056004",
           1275,
           "1986-07-01",
           "2007-04-30"
          ],
          [
           "74191406",
           1768,
           "2000-12-01",
           "2025-04-20"
          ],
          [
           "74024001",
           449,
           "1944-05-01",
           "2025-06-13"
          ],
          [
           "74031001",
           690,
           "1997-07-01",
           "2019-12-31"
          ],
          [
           "74032001",
           912,
           "1928-01-01",
           "1949-12-31"
          ],
          [
           "74033400",
           1535,
           "2002-01-06",
           "2025-03-19"
          ],
          [
           "74035001",
           375,
           "1995-08-01",
           "2025-06-13"
          ],
          [
           "74037002",
           750,
           "1973-09-01",
           "2025-05-20"
          ],
          [
           "74037001",
           1400,
           "1958-02-01",
           "1972-10-31"
          ],
          [
           "74038001",
           1250,
           "1995-08-01",
           "1999-08-31"
          ],
          [
           "74041001",
           800,
           "1947-01-01",
           "1982-12-31"
          ],
          [
           "74042001",
           447,
           "1930-10-01",
           "1957-11-30"
          ],
          [
           "74042003",
           453,
           "2003-06-01",
           "2025-06-13"
          ],
          [
           "74043001",
           575,
           "2000-04-01",
           "2007-12-30"
          ],
          [
           "74050001",
           850,
           "1952-10-13",
           "1956-08-31"
          ],
          [
           "74051002",
           492,
           "1993-02-01",
           "2025-06-13"
          ],
          [
           "74051001",
           580,
           "1933-07-12",
           "1992-03-31"
          ],
          [
           "74056001",
           1042,
           "1876-01-01",
           "2025-06-13"
          ],
          [
           "74056002",
           2060,
           "1971-01-01",
           "1971-10-31"
          ],
          [
           "74056400",
           1043,
           "1983-12-12",
           "2025-06-13"
          ],
          [
           "74060001",
           970,
           "2008-06-19",
           "2025-06-13"
          ],
          [
           "74062001",
           520,
           "1993-10-01",
           "1995-02-28"
          ],
          [
           "74063002",
           1155,
           "1958-07-01",
           "2025-06-13"
          ],
          [
           "74063405",
           1700,
           "2014-12-19",
           "2025-04-21"
          ],
          [
           "74063404",
           1635,
           "2003-12-30",
           "2014-04-24"
          ],
          [
           "74064001",
           635,
           "1966-01-01",
           "1966-11-30"
          ],
          [
           "74208005",
           610,
           "1992-01-01",
           "2000-11-30"
          ],
          [
           "74080002",
           1180,
           "1988-07-01",
           "2024-05-31"
          ],
          [
           "74080001",
           1150,
           "1945-01-01",
           "1988-01-31"
          ],
          [
           "74081002",
           475,
           "1976-01-01",
           "2025-05-31"
          ],
          [
           "74081001",
           477,
           "1956-01-01",
           "1975-12-31"
          ],
          [
           "74081003",
           485,
           "1995-03-01",
           "2005-08-28"
          ],
          [
           "74081004",
           500,
           "1946-06-01",
           "1955-12-31"
          ],
          [
           "74116004",
           789,
           "2021-12-03",
           "2025-06-13"
          ],
          [
           "74083001",
           940,
           "1948-02-01",
           "1982-10-31"
          ],
          [
           "74083002",
           1183,
           "1982-10-16",
           "2025-06-13"
          ],
          [
           "74087001",
           452,
           "1944-07-01",
           "2025-06-13"
          ],
          [
           "74085001",
           1180,
           "1944-02-01",
           "2025-05-31"
          ],
          [
           "74085407",
           1180,
           "1959-01-01",
           "2025-05-31"
          ],
          [
           "74056421",
           2758,
           "2023-09-04",
           "2025-06-13"
          ],
          [
           "74093001",
           426,
           "1976-02-01",
           "2025-06-13"
          ],
          [
           "74096001",
           783,
           "1877-01-01",
           "1942-09-30"
          ],
          [
           "74097001",
           575,
           "1959-04-01",
           "1980-07-31"
          ],
          [
           "74104001",
           465,
           "1991-03-01",
           "1998-12-31"
          ],
          [
           "74105001",
           428,
           "1877-01-01",
           "1965-12-31"
          ],
          [
           "74105002",
           470,
           "2009-04-01",
           "2025-06-13"
          ],
          [
           "74110001",
           830,
           "1998-03-01",
           "2016-12-31"
          ],
          [
           "74116002",
           805,
           "1992-10-01",
           "2016-04-01"
          ],
          [
           "74117001",
           512,
           "1986-01-01",
           "2003-10-12"
          ],
          [
           "74119001",
           380,
           "1877-01-01",
           "1881-12-31"
          ],
          [
           "74119002",
           395,
           "1990-01-01",
           "2025-06-13"
          ],
          [
           "74119003",
           725,
           "2002-05-01",
           "2025-06-13"
          ],
          [
           "74123001",
           516,
           "1928-08-01",
           "1976-12-31"
          ],
          [
           "74123002",
           507,
           "1994-07-01",
           "2008-12-31"
          ],
          [
           "74014400",
           1620,
           "1973-12-16",
           "2025-04-20"
          ],
          [
           "74014004",
           1611,
           "2016-04-21",
           "2025-06-13"
          ],
          [
           "74133001",
           399,
           "1987-08-01",
           "2025-06-13"
          ],
          [
           "74134002",
           1172,
           "1877-01-01",
           "2025-05-31"
          ],
          [
           "74135001",
           478,
           "2008-06-19",
           "2025-06-13"
          ],
          [
           "74136003",
           1300,
           "1968-05-01",
           "2025-06-01"
          ],
          [
           "74136403",
           1447,
           "2022-12-31",
           "2025-04-01"
          ],
          [
           "74136002",
           1200,
           "1966-01-01",
           "1968-04-30"
          ],
          [
           "74137002",
           750,
           "1947-11-09",
           "1963-06-30"
          ],
          [
           "74137001",
           670,
           "1963-07-01",
           "2025-06-13"
          ],
          [
           "74140001",
           1093,
           "1950-01-01",
           "1979-05-31"
          ],
          [
           "74140002",
           960,
           "1993-11-23",
           "2000-04-30"
          ],
          [
           "74143003",
           1004,
           "1940-07-01",
           "2025-06-13"
          ],
          [
           "74080404",
           1965,
           "2024-02-16",
           "2025-04-24"
          ],
          [
           "74080403",
           1597,
           "2016-01-01",
           "2024-01-29"
          ],
          [
           "74193001",
           1175,
           "1994-07-01",
           "2008-12-01"
          ],
          [
           "74056417",
           1850,
           "2004-01-08",
           "2025-04-15"
          ],
          [
           "74034002",
           780,
           "1928-01-01",
           "1964-02-29"
          ],
          [
           "74034001",
           690,
           "1964-03-01",
           "2020-02-29"
          ],
          [
           "74045001",
           925,
           "2015-09-23",
           "2025-06-13"
          ],
          [
           "74136400",
           1270,
           "1985-12-16",
           "2022-04-06"
          ],
          [
           "74136005",
           1430,
           "2005-08-11",
           "2025-06-13"
          ],
          [
           "74191003",
           1515,
           "1995-10-20",
           "2025-06-13"
          ],
          [
           "74310400",
           1532,
           "2025-01-15",
           "2025-05-19"
          ],
          [
           "74056003",
           1460,
           "1944-01-03",
           "1966-02-28"
          ],
          [
           "74056005",
           1500,
           "1987-01-01",
           "2025-06-13"
          ],
          [
           "74056418",
           2196,
           "2005-12-21",
           "2025-04-12"
          ],
          [
           "74056402",
           1478,
           "1985-12-17",
           "2025-01-29"
          ],
          [
           "74014002",
           1151,
           "1996-05-01",
           "2025-06-13"
          ],
          [
           "74014402",
           1760,
           "1992-01-16",
           "2025-04-13"
          ],
          [
           "74014404",
           1152,
           "2001-08-02",
           "2018-04-22"
          ],
          [
           "74085406",
           1780,
           "2013-12-26",
           "2025-04-17"
          ],
          [
           "74134400",
           1530,
           "1988-01-18",
           "2025-03-30"
          ],
          [
           "74056416",
           1970,
           "1995-01-31",
           "2025-05-04"
          ],
          [
           "74150001",
           340,
           "1944-05-01",
           "1946-12-31"
          ],
          [
           "74173001",
           1080,
           "1877-01-01",
           "2025-05-31"
          ],
          [
           "74173400",
           1080,
           "1984-01-30",
           "2018-12-02"
          ],
          [
           "74173402",
           1080,
           "1950-01-02",
           "2025-05-31"
          ],
          [
           "74176001",
           480,
           "1950-06-01",
           "1960-10-20"
          ],
          [
           "74182001",
           455,
           "1970-08-01",
           "2025-06-13"
          ],
          [
           "74185002",
           700,
           "1953-06-01",
           "1955-04-30"
          ],
          [
           "74185001",
           1146,
           "1951-01-01",
           "1963-02-28"
          ],
          [
           "74236002",
           1833,
           "1992-06-27",
           "2025-06-13"
          ],
          [
           "74228001",
           785,
           "1991-03-01",
           "1995-02-28"
          ],
          [
           "74189001",
           990,
           "1992-10-01",
           "2013-11-30"
          ],
          [
           "74187001",
           1050,
           "1944-02-01",
           "2009-05-31"
          ],
          [
           "74191001",
           960,
           "1955-01-01",
           "1996-05-31"
          ],
          [
           "74191400",
           960,
           "1983-12-12",
           "1996-04-30"
          ],
          [
           "74191002",
           1000,
           "1944-06-01",
           "1959-09-30"
          ],
          [
           "74143002",
           2075,
           "1943-02-01",
           "1953-05-31"
          ],
          [
           "74203001",
           949,
           "1944-03-01",
           "2025-06-13"
          ],
          [
           "74208004",
           1300,
           "1986-08-01",
           "1994-03-31"
          ],
          [
           "74208002",
           1160,
           "1929-01-01",
           "1947-06-30"
          ],
          [
           "74210001",
           630,
           "1991-03-01",
           "1993-06-30"
          ],
          [
           "74211002",
           747,
           "1998-04-01",
           "2025-06-13"
          ],
          [
           "74211001",
           580,
           "1939-01-01",
           "1998-03-31"
          ],
          [
           "74056419",
           2310,
           "2015-12-28",
           "2021-02-09"
          ],
          [
           "74056411",
           2403,
           "1984-03-09",
           "1996-02-11"
          ],
          [
           "74213001",
           500,
           "1981-01-01",
           "1997-09-30"
          ],
          [
           "74220001",
           465,
           "1928-08-01",
           "1938-12-31"
          ],
          [
           "74221001",
           975,
           "1952-12-01",
           "2025-06-13"
          ],
          [
           "74225001",
           345,
           "1877-01-01",
           "1995-09-30"
          ],
          [
           "74229001",
           615,
           "1980-01-01",
           "1984-04-30"
          ],
          [
           "74236001",
           810,
           "1950-07-01",
           "1976-12-31"
          ],
          [
           "74238001",
           805,
           "1948-11-30",
           "1958-11-30"
          ],
          [
           "74256001",
           542,
           "1877-01-01",
           "2025-06-13"
          ],
          [
           "74256002",
           540,
           "1928-01-01",
           "1929-07-31"
          ],
          [
           "74258002",
           785,
           "1928-01-02",
           "2025-06-13"
          ],
          [
           "74263001",
           413,
           "1991-06-01",
           "2008-10-31"
          ],
          [
           "74310001",
           1666,
           "1995-02-01",
           "1998-02-28"
          ],
          [
           "74266001",
           815,
           "1992-06-01",
           "2025-06-13"
          ],
          [
           "74269001",
           360,
           "1928-01-01",
           "1979-12-31"
          ],
          [
           "74270400",
           1159,
           "2002-12-09",
           "2023-02-21"
          ],
          [
           "74270001",
           732,
           "1949-11-01",
           "1961-12-31"
          ],
          [
           "74239001",
           963,
           "1947-02-01",
           "1964-12-31"
          ],
          [
           "74241001",
           535,
           "1991-03-01",
           "2008-09-30"
          ],
          [
           "74242001",
           460,
           "1950-01-01",
           "1980-11-30"
          ],
          [
           "74243001",
           462,
           "1931-01-01",
           "1964-01-31"
          ],
          [
           "74252001",
           1020,
           "1993-10-01",
           "2025-05-31"
          ],
          [
           "74276001",
           630,
           "1962-08-01",
           "1977-12-31"
          ],
          [
           "74276002",
           630,
           "1928-01-01",
           "1965-12-31"
          ],
          [
           "74280001",
           630,
           "1877-01-01",
           "2025-05-31"
          ],
          [
           "74281002",
           410,
           "1973-01-01",
           "1989-11-30"
          ],
          [
           "74281001",
           376,
           "1944-05-01",
           "2025-06-13"
          ],
          [
           "74282001",
           663,
           "1928-01-01",
           "1944-09-30"
          ],
          [
           "74285001",
           417,
           "1948-04-13",
           "2006-09-30"
          ],
          [
           "74285002",
           452,
           "2004-09-01",
           "2025-06-13"
          ],
          [
           "74286001",
           790,
           "1983-01-01",
           "2025-06-13"
          ],
          [
           "74286400",
           790,
           "2001-08-02",
           "2025-06-13"
          ],
          [
           "74289001",
           309,
           "1948-12-01",
           "2025-05-31"
          ],
          [
           "74290003",
           1326,
           "2022-10-07",
           "2025-06-13"
          ],
          [
           "74290002",
           1326,
           "1950-01-01",
           "2022-10-05"
          ],
          [
           "74292001",
           520,
           "2004-06-01",
           "2020-12-31"
          ],
          [
           "38005402",
           2240,
           "2005-02-10",
           "2025-06-13"
          ],
          [
           "38005001",
           1270,
           "1959-01-01",
           "2025-05-31"
          ],
          [
           "38005002",
           722,
           "1947-01-01",
           "1947-12-31"
          ],
          [
           "38006001",
           495,
           "1949-01-01",
           "2025-05-31"
          ],
          [
           "38191002",
           1860,
           "1988-11-01",
           "2025-06-13"
          ],
          [
           "38020001",
           730,
           "1976-01-01",
           "2001-12-31"
          ],
          [
           "38020400",
           1600,
           "1986-02-10",
           "2025-04-16"
          ],
          [
           "38021001",
           1069,
           "1905-01-05",
           "2025-06-13"
          ],
          [
           "38021400",
           1260,
           "2004-12-19",
           "2017-03-18"
          ],
          [
           "38034001",
           288,
           "1892-08-01",
           "2025-06-13"
          ],
          [
           "38040001",
           1520,
           "1922-11-01",
           "2025-05-31"
          ],
          [
           "38052400",
           720,
           "1986-12-16",
           "2001-12-31"
          ],
          [
           "38053001",
           254,
           "1909-01-01",
           "2003-07-31"
          ],
          [
           "38053003",
           358,
           "2003-08-01",
           "2025-06-13"
          ],
          [
           "38064001",
           304,
           "1996-06-01",
           "2013-04-27"
          ],
          [
           "38567401",
           2250,
           "1986-02-25",
           "2003-11-12"
          ],
          [
           "38567001",
           1650,
           "1988-11-01",
           "1998-09-30"
          ],
          [
           "38567002",
           1730,
           "2002-09-11",
           "2025-06-13"
          ],
          [
           "38567400",
           1650,
           "1971-01-10",
           "2017-10-16"
          ],
          [
           "38567407",
           2022,
           "2000-12-22",
           "2025-04-05"
          ],
          [
           "38073001",
           1000,
           "1947-01-01",
           "2003-04-30"
          ],
          [
           "38075001",
           270,
           "1949-01-01",
           "2005-11-30"
          ],
          [
           "38082001",
           510,
           "1893-04-01",
           "2025-05-31"
          ],
          [
           "38087001",
           222,
           "1975-01-01",
           "2000-03-31"
          ],
          [
           "38090001",
           800,
           "1948-01-01",
           "1990-12-31"
          ],
          [
           "38092001",
           309,
           "1952-01-01",
           "1978-04-30"
          ],
          [
           "38095001",
           272,
           "1987-05-01",
           "2025-06-13"
          ],
          [
           "38103001",
           1010,
           "1962-04-07",
           "2020-12-31"
          ],
          [
           "38103002",
           984,
           "2019-04-30",
           "2025-06-13"
          ],
          [
           "38105001",
           463,
           "1949-01-01",
           "1999-09-30"
          ],
          [
           "38113001",
           815,
           "1962-09-01",
           "2018-08-20"
          ],
          [
           "38113005",
           740,
           "1947-01-01",
           "1951-11-30"
          ],
          [
           "38113004",
           820,
           "1955-01-01",
           "1960-08-31"
          ],
          [
           "38113003",
           800,
           "1960-09-01",
           "1960-12-31"
          ],
          [
           "38090400",
           1156,
           "1989-01-09",
           "2004-03-04"
          ],
          [
           "38472400",
           1325,
           "1983-12-14",
           "1992-01-29"
          ],
          [
           "38472403",
           1325,
           "1991-01-24",
           "2025-06-13"
          ],
          [
           "38046002",
           568,
           "2019-09-30",
           "2025-06-13"
          ],
          [
           "38439400",
           1424,
           "2013-12-10",
           "2017-12-27"
          ],
          [
           "38126001",
           227,
           "1962-10-01",
           "1988-01-31"
          ],
          [
           "38128001",
           935,
           "1947-01-01",
           "2017-01-31"
          ],
          [
           "38133001",
           300,
           "2004-09-17",
           "2025-06-13"
          ],
          [
           "38135001",
           280,
           "1970-10-01",
           "1987-07-31"
          ],
          [
           "38135002",
           315,
           "1988-02-01",
           "2013-01-31"
          ],
          [
           "38289400",
           1920,
           "1985-01-25",
           "1985-07-22"
          ],
          [
           "38153001",
           877,
           "1905-07-01",
           "2025-06-13"
          ],
          [
           "38154001",
           809,
           "1948-01-01",
           "2003-06-30"
          ],
          [
           "38157001",
           225,
           "1975-01-01",
           "1982-05-31"
          ],
          [
           "38160001",
           310,
           "1959-01-01",
           "1973-12-31"
          ],
          [
           "38162001",
           367,
           "1948-01-01",
           "2025-06-13"
          ],
          [
           "38163001",
           1081,
           "1948-01-01",
           "2025-05-31"
          ],
          [
           "38170001",
           200,
           "1953-03-01",
           "2020-12-31"
          ],
          [
           "38442001",
           945,
           "1947-01-01",
           "2025-05-31"
          ],
          [
           "38538002",
           220,
           "1999-06-01",
           "2025-06-13"
          ],
          [
           "38185001",
           217,
           "1872-05-01",
           "1877-12-31"
          ],
          [
           "38185002",
           220,
           "1948-01-01",
           "1948-12-31"
          ],
          [
           "38185012",
           213,
           "2019-09-19",
           "2025-06-13"
          ],
          [
           "38158001",
           223,
           "1946-05-01",
           "1968-03-31"
          ],
          [
           "38384001",
           384,
           "1941-08-01",
           "2025-06-13"
          ],
          [
           "38186001",
           1220,
           "1950-05-01",
           "2025-06-13"
          ],
          [
           "38186400",
           1254,
           "1989-01-09",
           "2025-03-08"
          ],
          [
           "38191001",
           1750,
           "1969-01-01",
           "1974-11-30"
          ],
          [
           "38191400",
           1860,
           "1978-02-12",
           "2025-04-21"
          ],
          [
           "38191408",
           2340,
           "1990-12-21",
           "2025-04-21"
          ],
          [
           "38191402",
           2700,
           "1989-12-11",
           "1991-01-02"
          ],
          [
           "38191407",
           1850,
           "1970-12-21",
           "1983-12-22"
          ],
          [
           "38264400",
           1382,
           "1986-12-17",
           "2025-03-09"
          ],
          [
           "38375403",
           1738,
           "2001-08-02",
           "2024-06-20"
          ],
          [
           "38130001",
           346,
           "1878-05-01",
           "2017-01-31"
          ],
          [
           "38163004",
           2141,
           "1951-06-01",
           "1953-11-30"
          ],
          [
           "38163003",
           815,
           "1950-01-01",
           "1955-09-30"
          ],
          [
           "38177001",
           1080,
           "1948-01-01",
           "1974-10-31"
          ],
          [
           "38002403",
           2000,
           "1987-02-13",
           "1987-04-28"
          ],
          [
           "38265001",
           937,
           "1949-01-01",
           "1994-07-31"
          ],
          [
           "38269001",
           881,
           "1879-07-01",
           "2017-12-31"
          ],
          [
           "38269004",
           885,
           "2003-11-01",
           "2025-06-13"
          ],
          [
           "38469001",
           1770,
           "1969-11-22",
           "2001-08-31"
          ],
          [
           "38469400",
           1770,
           "1983-12-12",
           "1990-04-30"
          ],
          [
           "38442004",
           1700,
           "1993-01-02",
           "1995-07-31"
          ],
          [
           "38503001",
           234,
           "1949-01-01",
           "1976-12-31"
          ],
          [
           "38509001",
           339,
           "1949-01-01",
           "1991-07-31"
          ],
          [
           "38516002",
           215,
           "1949-01-01",
           "1952-05-31"
          ],
          [
           "38516001",
           225,
           "1950-01-01",
           "1965-01-31"
          ],
          [
           "38163002",
           930,
           "1955-10-01",
           "2020-12-31"
          ],
          [
           "38204001",
           850,
           "1969-01-01",
           "1996-06-30"
          ],
          [
           "38205400",
           1400,
           "1986-01-06",
           "2025-01-05"
          ],
          [
           "38207001",
           1070,
           "1950-01-01",
           "2025-06-13"
          ],
          [
           "38052002",
           768,
           "1952-03-01",
           "1972-11-30"
          ],
          [
           "38100001",
           244,
           "1975-01-01",
           "1979-09-30"
          ],
          [
           "38006400",
           1642,
           "1985-12-16",
           "2025-03-12"
          ],
          [
           "38006402",
           1650,
           "1971-01-08",
           "1971-04-11"
          ],
          [
           "38187400",
           1646,
           "1992-08-14",
           "2025-06-13"
          ],
          [
           "38305001",
           530,
           "1950-01-01",
           "1977-07-31"
          ],
          [
           "38005400",
           1280,
           "1991-12-04",
           "1992-05-01"
          ],
          [
           "38538001",
           220,
           "1973-01-01",
           "1999-12-31"
          ],
          [
           "38253404",
           1630,
           "1974-12-22",
           "2011-02-03"
          ],
          [
           "38253403",
           2084,
           "1984-03-12",
           "2016-01-07"
          ],
          [
           "38253400",
           2550,
           "1971-02-05",
           "2025-05-02"
          ],
          [
           "38253407",
           3200,
           "2002-06-23",
           "2024-01-08"
          ],
          [
           "38253002",
           1670,
           "1991-12-01",
           "2012-04-30"
          ],
          [
           "38375402",
           2970,
           "1983-02-22",
           "2025-06-13"
          ],
          [
           "38340001",
           350,
           "1950-01-01",
           "1953-10-31"
          ],
          [
           "38210001",
           210,
           "1956-07-12",
           "1980-12-31"
          ],
          [
           "38215002",
           310,
           "1986-01-01",
           "2020-12-31"
          ],
          [
           "38215001",
           185,
           "1982-08-01",
           "1984-11-30"
          ],
          [
           "38226002",
           780,
           "1950-01-01",
           "2018-12-31"
          ],
          [
           "38229001",
           469,
           "2011-06-28",
           "2018-08-27"
          ],
          [
           "38238001",
           262,
           "1982-06-01",
           "1983-02-28"
          ],
          [
           "38242001",
           806,
           "1905-01-01",
           "2025-05-31"
          ],
          [
           "38253001",
           1050,
           "1950-04-01",
           "1975-12-31"
          ],
          [
           "38247001",
           222,
           "1950-05-01",
           "1961-05-31"
          ],
          [
           "38248002",
           740,
           "1995-02-01",
           "2001-01-31"
          ],
          [
           "38289401",
           1350,
           "2003-12-25",
           "2025-04-09"
          ],
          [
           "38285001",
           950,
           "1905-01-01",
           "2025-06-13"
          ],
          [
           "38294001",
           250,
           "2013-08-14",
           "2020-12-31"
          ],
          [
           "38299001",
           947,
           "1949-01-01",
           "2025-06-13"
          ],
          [
           "38299002",
           800,
           "1949-01-01",
           "2025-05-31"
          ],
          [
           "38301001",
           846,
           "1952-01-01",
           "1962-08-31"
          ],
          [
           "38504002",
           1578,
           "2009-08-01",
           "2025-06-13"
          ],
          [
           "38311001",
           480,
           "1970-10-01",
           "2021-12-31"
          ],
          [
           "38315002",
           284,
           "1985-08-01",
           "2025-06-13"
          ],
          [
           "38315001",
           239,
           "1948-01-01",
           "1989-12-31"
          ],
          [
           "38316001",
           202,
           "1988-01-01",
           "2008-09-30"
          ],
          [
           "38319002",
           200,
           "1955-01-01",
           "1961-08-31"
          ],
          [
           "38319001",
           200,
           "1949-01-01",
           "1956-08-31"
          ],
          [
           "38002404",
           1870,
           "1995-01-03",
           "1996-04-14"
          ],
          [
           "38002408",
           1595,
           "2024-12-23",
           "2025-03-30"
          ],
          [
           "38002405",
           1570,
           "1996-11-30",
           "2004-03-21"
          ],
          [
           "38002406",
           1355,
           "2004-12-19",
           "2024-03-27"
          ],
          [
           "38002400",
           1345,
           "1972-01-13",
           "1994-04-03"
          ],
          [
           "38325001",
           600,
           "1961-07-04",
           "2005-12-31"
          ],
          [
           "38333003",
           885,
           "2006-04-01",
           "2025-05-31"
          ],
          [
           "38333002",
           800,
           "1991-08-01",
           "2005-10-31"
          ],
          [
           "38333001",
           670,
           "1978-05-01",
           "1991-07-31"
          ],
          [
           "38334001",
           645,
           "1948-01-01",
           "2025-05-31"
          ],
          [
           "38336001",
           295,
           "2004-02-01",
           "2025-06-13"
          ],
          [
           "38342001",
           746,
           "1949-01-01",
           "2025-06-13"
          ],
          [
           "38347001",
           640,
           "1956-07-21",
           "2003-09-30"
          ],
          [
           "38349001",
           136,
           "1959-01-01",
           "2025-06-13"
          ],
          [
           "38412002",
           380,
           "2012-01-11",
           "2018-03-27"
          ],
          [
           "38378001",
           162,
           "1956-03-01",
           "1956-12-31"
          ],
          [
           "38390001",
           249,
           "1950-01-01",
           "1981-10-31"
          ],
          [
           "38395002",
           1150,
           "1948-01-01",
           "1964-09-30"
          ],
          [
           "38395004",
           990,
           "2017-11-17",
           "2025-06-13"
          ],
          [
           "38465001",
           242,
           "1951-01-01",
           "1956-04-30"
          ],
          [
           "38478001",
           370,
           "1948-01-01",
           "1956-12-31"
          ],
          [
           "38275001",
           630,
           "1996-01-01",
           "2018-12-31"
          ],
          [
           "38275002",
           632,
           "2017-12-27",
           "2025-06-13"
          ],
          [
           "38362001",
           450,
           "2007-05-16",
           "2025-06-13"
          ],
          [
           "38375400",
           1570,
           "1983-12-12",
           "2024-06-14"
          ],
          [
           "38375009",
           1564,
           "2016-11-08",
           "2025-06-13"
          ],
          [
           "38395400",
           970,
           "1983-12-12",
           "2018-06-06"
          ],
          [
           "38395403",
           1756,
           "1982-01-26",
           "2025-06-13"
          ],
          [
           "38442400",
           1700,
           "1986-12-23",
           "2023-03-05"
          ],
          [
           "38366001",
           1040,
           "1959-01-01",
           "2025-06-13"
          ],
          [
           "38367001",
           910,
           "1987-12-13",
           "2001-04-30"
          ],
          [
           "38367002",
           910,
           "1876-01-01",
           "1878-12-31"
          ],
          [
           "38375001",
           1570,
           "1963-12-01",
           "2020-12-31"
          ],
          [
           "38375004",
           1738,
           "1953-05-01",
           "1953-11-30"
          ],
          [
           "38375002",
           1400,
           "1952-04-01",
           "1963-11-30"
          ],
          [
           "38375003",
           1600,
           "1954-09-01",
           "1964-11-30"
          ],
          [
           "38386001",
           380,
           "2000-07-01",
           "2005-02-28"
          ],
          [
           "38390002",
           1020,
           "1989-12-01",
           "1993-10-31"
          ],
          [
           "38395001",
           970,
           "1964-11-01",
           "2018-04-30"
          ],
          [
           "38399001",
           369,
           "1956-08-01",
           "2010-11-30"
          ],
          [
           "38401001",
           307,
           "1991-08-01",
           "1996-05-31"
          ],
          [
           "38412001",
           389,
           "1949-01-01",
           "2011-12-31"
          ],
          [
           "38421002",
           220,
           "2004-01-01",
           "2020-12-31"
          ],
          [
           "38416001",
           281,
           "1948-01-01",
           "1986-11-30"
          ],
          [
           "38424001",
           1050,
           "1997-01-01",
           "2020-12-31"
          ],
          [
           "38442002",
           1080,
           "1948-01-01",
           "1956-12-31"
          ],
          [
           "38446001",
           644,
           "1948-01-01",
           "2002-02-28"
          ],
          [
           "38446003",
           870,
           "2002-03-01",
           "2025-06-13"
          ],
          [
           "38442005",
           895,
           "1996-09-01",
           "2005-08-07"
          ],
          [
           "38442008",
           950,
           "2005-07-28",
           "2025-06-13"
          ],
          [
           "38453001",
           410,
           "1994-05-01",
           "2015-06-30"
          ],
          [
           "38499001",
           885,
           "1955-07-01",
           "1960-07-31"
          ],
          [
           "38501001",
           233,
           "1950-03-01",
           "2025-06-13"
          ],
          [
           "38504001",
           615,
           "1949-01-01",
           "2025-06-13"
          ],
          [
           "38514005",
           850,
           "1998-01-01",
           "1999-01-31"
          ],
          [
           "38514001",
           900,
           "1948-01-01",
           "1969-03-31"
          ],
          [
           "38517001",
           190,
           "1950-03-01",
           "2015-12-31"
          ],
          [
           "38518001",
           785,
           "1963-05-01",
           "2025-05-31"
          ],
          [
           "38522001",
           980,
           "1950-01-01",
           "2014-02-28"
          ],
          [
           "38522002",
           1270,
           "1958-07-01",
           "1971-04-30"
          ],
          [
           "38522004",
           1285,
           "2022-10-20",
           "2025-06-13"
          ],
          [
           "38524001",
           253,
           "1958-01-01",
           "2025-06-13"
          ],
          [
           "38527002",
           1520,
           "1950-01-01",
           "1958-09-30"
          ],
          [
           "38527001",
           772,
           "1937-01-01",
           "2025-06-13"
          ],
          [
           "38527400",
           1720,
           "1990-12-22",
           "2025-04-13"
          ],
          [
           "38527800",
           772,
           "2022-09-01",
           "2023-10-31"
          ],
          [
           "38529001",
           355,
           "1968-09-01",
           "1974-11-30"
          ],
          [
           "38529002",
           1095,
           "1955-01-01",
           "1963-04-30"
          ],
          [
           "38529003",
           414,
           "1949-01-01",
           "1968-08-31"
          ],
          [
           "38534002",
           1650,
           "1952-04-01",
           "1968-12-31"
          ],
          [
           "38534001",
           1180,
           "1950-01-01",
           "1965-03-31"
          ],
          [
           "38544001",
           274,
           "1947-01-01",
           "2005-01-31"
          ],
          [
           "38545001",
           285,
           "1958-01-01",
           "1968-02-29"
          ],
          [
           "38548400",
           1710,
           "1985-01-09",
           "2025-03-29"
          ],
          [
           "38548402",
           1020,
           "1986-01-01",
           "2006-06-30"
          ],
          [
           "38548003",
           1018,
           "2006-07-01",
           "2017-02-28"
          ],
          [
           "38548403",
           1018,
           "2006-07-01",
           "2017-02-14"
          ],
          [
           "38548001",
           1027,
           "1959-01-01",
           "2025-06-13"
          ],
          [
           "38548002",
           1031,
           "1916-01-01",
           "1969-04-30"
          ],
          [
           "38549001",
           1550,
           "1950-04-18",
           "1965-11-30"
          ],
          [
           "38559004",
           400,
           "2015-03-01",
           "2016-01-31"
          ],
          [
           "38559001",
           260,
           "1949-01-01",
           "1954-03-31"
          ],
          [
           "38563001",
           292,
           "1960-02-09",
           "1961-04-30"
          ]
         ],
         "hovertemplate": "<b>%{hovertext}</b><br><br>lat=%{lat}<br>lon=%{lon}<br>poste=%{customdata[0]}<br>alt=%{customdata[1]}<br>début=%{customdata[2]}<br>fin=%{customdata[3]}<extra></extra>",
         "hovertext": [
          "Aiguebelette",
          "Aillon Le Jeune",
          "Aix Les Bains",
          "Aix-Les-Bains",
          "Albertville",
          "Albertville",
          "Albertville",
          "Albertville Jo",
          "Albiez",
          "Albiez-Montrond",
          "Allant-Nivose",
          "Apremont",
          "Areches",
          "Areches -S-",
          "Argentine Presbytere",
          "Arvillard",
          "Aussois",
          "Aussois",
          "Aussois-Clim",
          "Avrieux",
          "Avrieux Enregistreur Edf",
          "Beaufort",
          "Beaufort Roslan",
          "Beaufort-Fontan",
          "Beaufort-Sur-Doron",
          "Bellecote-Nivose",
          "Bessans",
          "Bessans Averole",
          "Bessans-Clim",
          "Bonneval Sur Arc",
          "Bonneval-Nivose",
          "Bonneval-Sur-Arc Tralenta",
          "Bourg St Mauric",
          "Bourg St Maurice",
          "Bourg-Saint-Maurice-Chalpieux",
          "Bourget En Huile_Sapc",
          "Bourget-En-Huile",
          "Bourgneuf",
          "Bozel",
          "Bozel Pierre Becqua",
          "Brides Les Bain",
          "Brides-Les-Bains Prise D'Eau",
          "Challes Les Eaux",
          "Challes Teppes",
          "Chambery",
          "Chambery Chateau De Biollay",
          "Chambery Hopital Militaire",
          "Chambery Joppet",
          "Chambery-Aix",
          "Champagny-En-Vanoise",
          "Chateauneuf L'Eglise",
          "Chindrieux",
          "Col Des Saisies",
          "Col-Des-Saisies",
          "Courchevel",
          "Ecole",
          "Ecole Bellevaux",
          "Entremont Le Vieux_Sapc",
          "Feclaz_Sapc",
          "Fourneaux Fontaine Froide",
          "Fourneaux Le Lavoir",
          "Frejus",
          "Gilly Sur Isere",
          "Grande Parei-Nivose",
          "Gresy-Sur-Isere",
          "Hauteluce",
          "Hauteluce La Girotte",
          "Jarrier",
          "Jarrier Presbytere",
          "Jarsy_Sapc",
          "La Chavanne",
          "La Feclaz",
          "La Giettaz",
          "La Lechere",
          "La Lechere - Nd De Briancon",
          "La Lechere Celliers - Bourg",
          "La Lechere_Sapc",
          "La Masse",
          "La Motte Servol",
          "La Motte Servolex Noiray",
          "La Norma",
          "La Norma_Sapc",
          "La Plagne",
          "La Plagne Glacier -S-",
          "La Plagne_Sapc",
          "La Rochette",
          "La Rosiere",
          "La Thuile Saint-Bernard",
          "La Toussuire",
          "Lac Aiguebelette",
          "Lanslebourg Anc",
          "Lanslebourg Bou",
          "Lanslebourg Mt",
          "Lanslebourg Nv",
          "Lanslebourg-Mont-Cenis",
          "Lanslebourg-Mont-Cenis-Barrage",
          "Lanslebourg-Mont-Cenis-Fort",
          "Le Chevril-Nivose",
          "Le Corbier",
          "Le Corbier -S-",
          "Le Molard",
          "Les Aillons (Margeriaz)",
          "Les Arcs",
          "Les Avanchers-Valmorel",
          "Les Deserts",
          "Les Karellis",
          "Les Menuires",
          "Les Rochilles-Nivose",
          "Les Saisies",
          "Lescheraines",
          "Meribel Burgin",
          "Meribel Mottaret",
          "Modane",
          "Mognard",
          "Mont Cenis",
          "Mont Du Chat",
          "Montcel Faubour",
          "Montgellafrey",
          "Montmelian",
          "Montricher-Albanne",
          "Montsapey",
          "Moutiers",
          "Novalaise",
          "Novalaise Aux Champs",
          "Novalaise_Double",
          "Orelle",
          "Orelle Bissorte",
          "Orelle Premont",
          "Peisey Nancroix",
          "Pontamafrey",
          "Pralognan",
          "Pralognan La Vanoise",
          "Pralognan_Neige",
          "Saint-Alban-De-Montbel",
          "Saint-Alban-Des-Villards",
          "Saint-Bon-Tarentaise",
          "Saint-Bon-Tarentaise Moriond",
          "Saint-Jean-De-Belleville",
          "Saint-Jean-De-Chevelu Chevelu",
          "Saint-Jean-De-Maurienne",
          "Saint-Marcel Pomblieres",
          "Saint-Offenge-Dessous",
          "Saint-Paul-Sur-Isere",
          "Saint-Pierre-D'Albigny",
          "Saint-Thibaud-De-Couz",
          "Sainte-Foy_Neige",
          "St Alban Des Vi",
          "St Colomban Des Villards",
          "St Francois Long",
          "St Jean D Arves",
          "St Jean D'Arves_Sapc",
          "St Jean De Maur",
          "St Michel Maur_Sapc",
          "St Sorlin D'Arves",
          "St-Alban Des Hurtieres",
          "St-Cassin",
          "St-Cassin-Chantres",
          "St-Christophe La-Grotte",
          "St-Jean De Belleville",
          "St-Jean De Maurienne",
          "St-Martin Belleville",
          "St-Martin De Belleville",
          "St-Martin De La Porte",
          "St-Michel De Maurienne Le Thyl",
          "St-Pierre De Soucy",
          "St-Sorlin D'Arves",
          "Ste Foy Station",
          "Ste Marie Cuines",
          "Ste-Foy-Tarentaise",
          "Termignon-Clim",
          "Tignes",
          "Tignes Le Chevril",
          "Tignes Le Lac",
          "Tignes Le Villaret",
          "Tignes-Brevieres",
          "Tignes_Sapc",
          "Trevignin",
          "Ugine",
          "Ugine",
          "Ugine Eaux-Et-Forets",
          "Ugine La Montagnette",
          "Ugine-Maison-Forestiere",
          "Val Cenis (La Berche)",
          "Val D Isere",
          "Val D Isere Joseray",
          "Val D'Isere Jos",
          "Val Frejus",
          "Val Thorens",
          "Val Thorens_Sapc",
          "Val-D'Isere Garage",
          "Val-D'Isere Le Fornet",
          "Val-D'Isere Presbytere",
          "Valloire",
          "Valloire Barrage Du Ley",
          "Valloire Forest",
          "Valloire Les Granges",
          "Valloire-Chef-Lieu",
          "Valmeinier",
          "Valmeinier Le Meleze",
          "Valmorel",
          "Verrens Arvey",
          "Vimines",
          "Yenne",
          "Abondance",
          "Aiguille Du Midi",
          "Aiguilles Rouges-Nivose",
          "Alby Sur Cheran",
          "Alex",
          "Annecy",
          "Annemasse",
          "Annemasse Equipement",
          "Arache",
          "Araches La Combe",
          "Archamps",
          "Argentiere",
          "Avoriaz",
          "Ayze",
          "Beaumont",
          "Bellevaux Le Champ Du Noyer",
          "Bernex",
          "Bloye",
          "Boege",
          "Boege Voirons",
          "Bogeve",
          "Bonnevaux",
          "Bonneville",
          "Bonneville",
          "Bons Chablais",
          "Burdignin Ecole",
          "Cercier",
          "Cercier",
          "Chamonix",
          "Chamonix-Mont-Blanc Glacier",
          "Chamonix-Obs",
          "Chapelle Saint-Maurice_Sapc",
          "Charvonnex",
          "Chatel",
          "Chatel Nivo",
          "Chatel Nivo",
          "Chatillon-Sur-Cluses Bourg",
          "Chedde",
          "Clusaz (La)",
          "Clusaz (La)",
          "Cluses",
          "Cluses",
          "Cluses",
          "Cluses Ponthion",
          "Col D'Evires",
          "Combloux",
          "Combloux",
          "Contamine-Sur- Arve",
          "Contamines Mj",
          "Contamines Mj_Neige",
          "Couvercle-Nivose",
          "Cran-Gevrier",
          "Cruseilles",
          "Cusy Chef Lieu",
          "Doussard",
          "Douvaine Bourg",
          "Douvaine Sa",
          "Entremont",
          "Eteaux",
          "Etercy",
          "Evian",
          "Evian",
          "Evian Sa",
          "Faverges",
          "Faverges",
          "Flaine",
          "Flaine_Sapc",
          "Gaillard",
          "Gets (Les)",
          "Giez",
          "Grand Bornand",
          "Grand-Bornand",
          "Grand-Bornand",
          "Groisy",
          "Groisy_Sapc",
          "Habere-Poche",
          "Habere-Poche",
          "Houches (Les)",
          "La Clusaz",
          "La Clusaz",
          "La Croisette",
          "La Flegere",
          "Le Biot",
          "Le Biot",
          "Le Bouchet_Sapc",
          "Le Grand Bornand",
          "Le Grand-Bornand",
          "Le Pleney",
          "Le Semnoz",
          "Le Tour",
          "Le Tour",
          "Le Tour Balme",
          "Le Tour Nivo",
          "Les Carroz",
          "Les Carroz Kedeusaz",
          "Les Carroz Village",
          "Les Contamines Montjoie",
          "Les Gets",
          "Lognan",
          "Loisin Grand-Cave",
          "Megeve",
          "Megeve Auxi",
          "Megeve_Neige",
          "Menthon-Saint-Bernard Ecole",
          "Meythet",
          "Monnetier-Mornex Eglise",
          "Monnetier-Mornex Treize Arbres",
          "Mont Arbois",
          "Mont Sion",
          "Mont-Saxonnex",
          "Montmin",
          "Morzine",
          "Morzine",
          "Morzine La Beziere",
          "Mt Lachat",
          "Novel",
          "Passy",
          "Passy Praz Coutant",
          "Perrignier",
          "Pers Jussy",
          "Pers-Jussy",
          "Plan Aiguille Tmb",
          "Plan De L Aiguille",
          "Poisy",
          "Reignier",
          "Reposoir (Le)",
          "Rumilly",
          "Saint-Cergues Le Bourgeau",
          "Saint-Gervais-Les-Bains",
          "Saint-Jean-D'Aulps Ecole",
          "Sallanches",
          "Sallanches Ecole",
          "Samoens",
          "Sciez",
          "Semnoz",
          "Servoz",
          "Seyssel",
          "Seythenex",
          "Seythenex Seycheux",
          "St Jean De Sixt",
          "St Jeoire",
          "St Jorioz",
          "St Julien",
          "St Sigismond",
          "Taninges",
          "Taninges",
          "Thones",
          "Thonon",
          "Thonon-Inrae",
          "Thorens-Glieres Pc",
          "Usinens",
          "Usinens Sa",
          "Vacheresse",
          "Vacheresse Auxi",
          "Vallieres",
          "Vallorcine",
          "Vallorcine_Plan-Droit",
          "Vaulx",
          "Aigleton-Nivose",
          "Allemond",
          "Allemond Bourg",
          "Allevard",
          "Alpe-D'Huez",
          "Auris",
          "Auris-En-Oisans",
          "Autrans",
          "Autrans-Nivo",
          "Beaurepaire",
          "Besse",
          "Bourg D Oisans",
          "Bourgoin",
          "Bourgoin",
          "Cessieu",
          "Chamrousse",
          "Chamrousse",
          "Chamrousse",
          "Chamrousse Arselle",
          "Chamrousse Niverolles",
          "Chantelouve",
          "Chapareillan",
          "Charavines",
          "Chasse",
          "Chateau-Bernard",
          "Chatelus Bournillon",
          "Chatte_Sapc",
          "Chichilianne",
          "Chichilianne_Sapc",
          "Chirens",
          "Clelles",
          "Clelles Bourg",
          "Clelles Le Chaffaud",
          "Clelles Le Percy",
          "Col De L Arzelier",
          "Col De Porte",
          "Col De Porte-Nivose",
          "Col De Rossatiere",
          "Col Du Barioz",
          "Corenc La Reviree",
          "Corps",
          "Coublevie",
          "Courtenay",
          "Courtenay",
          "Eau D Olle",
          "Engins",
          "Entraigues",
          "Estrablin Bourg",
          "Eyzin-Pinet",
          "Faverges",
          "Fond-De-France",
          "Fontanil",
          "Grande-Chartreuse",
          "Grenoble - Lvd",
          "Grenoble Ecole Normale",
          "Grenoble Jardin Des Plantes",
          "Grenoble-Cea-Radome",
          "Grenoble-Eybens",
          "Grenoble-St Geoirs",
          "Gresse",
          "Gresse En Vercors",
          "Huez",
          "L Alpe D Huez (Sata)",
          "L Alpe D Huez 2350",
          "L Alpe D Huez 2700",
          "L Alpe D Huez Sata 1860",
          "L Alpe Du Grand Serre",
          "La Berarde",
          "La Cote St Andre",
          "La Ferriere",
          "La Ferriere Usine Riondet",
          "La Garde L'Armentier Le Bas",
          "La Jasse Prapoutel",
          "La Motte",
          "La Mure",
          "La Mure- Radome",
          "La Salette",
          "La Salette",
          "La Scia",
          "La Terrasse Ecole",
          "La Tour-Du-Pin",
          "La Tronche Asile De Vieillards",
          "La Tronche Villa Belledonne",
          "La-Ferriere",
          "Lalley",
          "Lans En Vercors",
          "Lavaldens",
          "Le Bourg-D'Oisans",
          "Le Cheylas Bourg",
          "Le Collet D Allevard",
          "Le Collet D Allevard",
          "Le Gua-Nivose",
          "Le Pin Ecole",
          "Le Rivier D Allemond",
          "Le Versoud",
          "Les 2 Alpes (Gn)",
          "Les 2 Alpes (Pied Mouttet)",
          "Les 2 Alpes (Toura Ne)",
          "Les 2 Alpes Jandri",
          "Les Deux-Alpes",
          "Les Ecrins-Nivose",
          "Les Roches-De-Condrieu Seav",
          "Leyrieu Bourg",
          "Luzinay",
          "Luzinay Bourg",
          "Mens",
          "Meylan",
          "Moidieu-Detourbe",
          "Monestier",
          "Mont-De-Lans",
          "Montalieu-Vercieu Le Marais",
          "Montaud",
          "Olmet",
          "Ornon",
          "Panossas",
          "Pellafol-Chaneaux",
          "Pellafol-Sautet",
          "Percy Bourg",
          "Pipay_Sapc",
          "Pommier-De-Beaurepaire",
          "Pont-De-Beauvoisin",
          "Pont-De-Beauvoisin-Tabacs",
          "Pont-De-Cheruy",
          "Pont-En-Royans",
          "Pont-En-Royans Bourg",
          "Prapoutel",
          "Prapoutel",
          "Prapoutel",
          "Prapoutel",
          "Prapoutel Pipay",
          "Proveysieux",
          "Rencurel",
          "Rencurel",
          "Rencurel-Balme",
          "Revel",
          "Reventin",
          "Roissard",
          "Roybon",
          "Sablons",
          "Saint Laurent Du Pont Auto",
          "Saint-Clair-Du-Rhone",
          "Saint-Gervais Pierre Mouton",
          "Saint-Hilaire",
          "Saint-Hilaire_Sapc",
          "Saint-Victor-De-Morestel",
          "Sechilienne Bourg",
          "Serre-Nerpol",
          "Serre-Nerpol_Sapc",
          "St Aupre_Sapc",
          "St Christophe",
          "St Christophe En Oisans_Sapc",
          "St Hilaire",
          "St Hilaire-Nivose",
          "St Pierre De Chartreuse",
          "St-Baudille",
          "St-Bernard",
          "St-Bernard_Bg",
          "St-Christophe",
          "St-Christophe-Oisans-Berarde",
          "St-Christophe-Oisans-Ecrins",
          "St-Christophe-Oisans-Etages",
          "St-Geoire-En-Valdaine",
          "St-Gervais",
          "St-Hilaire",
          "St-Jean-De-Bournay",
          "St-Jean-De-Soudain",
          "St-Laurent-Du-Pont",
          "St-M-D'Heres-Galochere",
          "St-Marcellin",
          "St-Maurice-En-Trieves",
          "St-Pierre-Chartreuse-Cottaves",
          "St-Pierre-D'Entremont",
          "St-Pierre-D'Entremont",
          "St-Pierre-De-Ch",
          "St-Pierre-Les Egaux",
          "St-Romans",
          "Susville Cite Pre-Luzat",
          "Tencin",
          "Theys",
          "Treminis",
          "Treminis Bourg",
          "Tullins",
          "Valbonnais",
          "Valjouffrey",
          "Valjouffrey Le Desert",
          "Valjouffrey_Sapc",
          "Varces",
          "Vaujany",
          "Vaujany",
          "Vaujany-Nivo",
          "Vaujany_Double",
          "Vaulnaveys-Le-Haut La Gorge",
          "Vaulnaveys-Le-Haut Premol",
          "Vaulnaveys-Le-Haut Uriage",
          "Venosc Les Deux-Alpes",
          "Venosc Plan Du Lac",
          "Vienne",
          "Vif Reynure",
          "Villard Cote 2000",
          "Villard De Lans",
          "Villard-Bois Barbu",
          "Villard-Bois-Barbu",
          "Villard-De-Lans",
          "Villard-De-Lans-Gend",
          "Villard-Notre-Dame Village",
          "Vinay",
          "Vinay Bourg",
          "Voiron Pensionnat Saint-Joseph"
         ],
         "lat": [
          45.551667,
          45.617833,
          45.700333,
          45.693333,
          45.662167,
          45.673333,
          45.627833,
          45.662333,
          45.2155,
          45.210667,
          45.663833,
          45.515667,
          45.671333,
          45.651333,
          45.493333,
          45.44,
          45.247667,
          45.24,
          45.229833,
          45.214,
          45.215,
          45.716667,
          45.683333,
          45.703333,
          45.691,
          45.489,
          45.320667,
          45.32,
          45.322833,
          45.373667,
          45.351667,
          45.37,
          45.618333,
          45.612667,
          45.613333,
          45.486667,
          45.489667,
          45.5545,
          45.44,
          45.443333,
          45.453667,
          45.451667,
          45.565167,
          45.548167,
          45.5805,
          45.57,
          45.57,
          45.57,
          45.641333,
          45.453333,
          45.548333,
          45.832167,
          45.76,
          45.755,
          45.413333,
          45.650333,
          45.65,
          45.444167,
          45.647167,
          45.186667,
          45.186667,
          45.193667,
          45.653167,
          45.614667,
          45.6,
          45.772333,
          45.75,
          45.279333,
          45.278333,
          45.658833,
          45.494667,
          45.643,
          45.878333,
          45.556667,
          45.53,
          45.471667,
          45.549167,
          45.297333,
          45.595,
          45.609333,
          45.1885,
          45.190667,
          45.506833,
          45.488667,
          45.500333,
          45.452167,
          45.629833,
          45.531667,
          45.255667,
          45.564833,
          45.286667,
          45.286667,
          45.2235,
          45.286667,
          45.286667,
          45.286667,
          45.286667,
          45.499667,
          45.243333,
          45.237,
          45.441833,
          45.642167,
          45.573333,
          45.478333,
          45.625,
          45.227667,
          45.323333,
          45.085,
          45.758333,
          45.715167,
          45.3875,
          45.371667,
          45.193667,
          45.762,
          45.269333,
          45.6605,
          45.711667,
          45.393,
          45.493833,
          45.246667,
          45.5225,
          45.484667,
          45.597333,
          45.595,
          45.595667,
          45.247833,
          45.21,
          45.21,
          45.544,
          45.335,
          45.381667,
          45.386,
          45.386,
          45.551667,
          45.308333,
          45.435,
          45.435,
          45.426667,
          45.7,
          45.275,
          45.511667,
          45.735,
          45.596667,
          45.568333,
          45.501667,
          45.601833,
          45.305,
          45.293,
          45.417833,
          45.190167,
          45.206833,
          45.266667,
          45.218167,
          45.217167,
          45.477167,
          45.532667,
          45.516667,
          45.452833,
          45.427667,
          45.282167,
          45.361667,
          45.368167,
          45.238833,
          45.223667,
          45.482333,
          45.224,
          45.577833,
          45.3435,
          45.601833,
          45.274833,
          45.468333,
          45.468333,
          45.468333,
          45.468333,
          45.507833,
          45.467,
          45.706833,
          45.759167,
          45.75,
          45.751667,
          45.751667,
          45.753333,
          45.274167,
          45.444833,
          45.445,
          45.444833,
          45.155833,
          45.2945,
          45.294,
          45.446667,
          45.446667,
          45.446667,
          45.160833,
          45.165,
          45.173,
          45.165,
          45.166667,
          45.176,
          45.185,
          45.461833,
          45.658667,
          45.5455,
          45.701,
          46.2845,
          45.8785,
          45.986333,
          45.816667,
          45.885,
          45.901667,
          46.196667,
          46.193333,
          46.046667,
          46.046667,
          46.131833,
          45.983333,
          46.186167,
          46.0795,
          46.093,
          46.255,
          46.341167,
          45.821667,
          46.213333,
          46.211667,
          46.198333,
          46.311667,
          46.078333,
          46.0685,
          46.263333,
          46.22,
          46.031833,
          46.026667,
          45.9295,
          45.92,
          45.923333,
          45.782333,
          45.985,
          46.255833,
          46.225167,
          46.218333,
          46.086667,
          45.923333,
          45.887167,
          45.898333,
          46.080667,
          46.08,
          46.048333,
          46.058333,
          46.047167,
          45.898333,
          45.892833,
          46.128667,
          45.822333,
          45.822333,
          45.909667,
          45.910833,
          46.033333,
          45.766667,
          45.783333,
          46.305,
          46.302333,
          45.953333,
          46.063,
          45.89,
          46.401667,
          46.3965,
          46.382333,
          45.746667,
          45.753333,
          46.0035,
          46.002833,
          46.176,
          46.158667,
          45.762667,
          45.970333,
          45.958167,
          45.941667,
          46.013333,
          46.012667,
          46.246667,
          46.251667,
          45.8925,
          45.900833,
          45.8935,
          46.119167,
          45.9625,
          46.261667,
          46.278167,
          45.7995,
          45.972,
          45.973333,
          46.168333,
          45.800167,
          46.003333,
          46.003833,
          46.020833,
          46.002333,
          46.024667,
          46.027667,
          46.024667,
          45.791833,
          46.165833,
          45.968333,
          46.29,
          45.855333,
          45.855667,
          45.855333,
          45.86,
          45.928167,
          46.16,
          46.16,
          45.855333,
          46.075,
          46.048167,
          45.803833,
          46.178333,
          46.18,
          46.178333,
          45.888333,
          46.368833,
          45.951667,
          45.921667,
          46.311667,
          46.098,
          46.106667,
          45.901167,
          45.9,
          45.915,
          46.135,
          46.011333,
          45.848333,
          46.235,
          45.886667,
          46.233333,
          45.931667,
          45.933333,
          46.086667,
          46.331667,
          45.801667,
          45.931167,
          45.963333,
          45.713,
          45.726667,
          45.921667,
          46.136667,
          45.826667,
          46.145,
          46.076333,
          46.108333,
          46.1,
          45.877833,
          46.366667,
          46.366667,
          45.995,
          46.008333,
          46.013,
          46.316333,
          46.315333,
          45.901667,
          46.0205,
          46.0205,
          45.918,
          45.231,
          45.203333,
          45.13,
          45.395,
          45.087833,
          45.031667,
          45.057167,
          45.182,
          45.227167,
          45.350333,
          45.071167,
          45.056667,
          45.605,
          45.608,
          45.5635,
          45.13,
          45.101667,
          45.128,
          45.098667,
          45.120667,
          44.97,
          45.463333,
          45.432833,
          45.581667,
          44.975,
          45.056667,
          45.140167,
          44.812,
          44.810333,
          45.433333,
          44.825333,
          44.826667,
          44.826667,
          44.826667,
          44.989833,
          45.3,
          45.295,
          45.4555,
          45.324667,
          45.22,
          44.819833,
          45.355333,
          45.778333,
          45.738333,
          45.12,
          45.176167,
          44.903333,
          45.516667,
          45.473333,
          45.594667,
          45.28,
          45.255667,
          45.363333,
          45.217167,
          45.185,
          45.185,
          45.2115,
          45.166667,
          45.364,
          44.899833,
          44.893167,
          45.08,
          45.097667,
          45.105,
          45.1,
          45.08,
          45.020833,
          44.932667,
          45.3545,
          45.318333,
          45.318333,
          45.066667,
          45.3,
          44.963333,
          44.905667,
          44.935,
          44.86,
          44.85,
          45.333333,
          45.326667,
          45.56,
          45.205,
          45.205,
          45.319333,
          44.756667,
          45.1115,
          44.990667,
          45.053333,
          45.371667,
          45.3895,
          45.38,
          45.015,
          45.456667,
          45.205833,
          45.211667,
          45.007333,
          45.009167,
          44.996667,
          44.997,
          45.018333,
          44.936833,
          45.453333,
          45.756667,
          45.590667,
          45.59,
          44.815833,
          45.228833,
          45.495,
          44.921667,
          45.036667,
          45.815,
          45.263333,
          45.128167,
          45.051667,
          45.668667,
          44.784167,
          44.816333,
          44.8,
          45.265333,
          45.408333,
          45.528333,
          45.533333,
          45.7495,
          45.061667,
          45.061667,
          45.243333,
          45.253833,
          45.245833,
          45.256167,
          45.25,
          45.275,
          45.113333,
          45.103333,
          45.086667,
          45.185,
          45.478667,
          44.882167,
          45.218333,
          45.329667,
          45.3875,
          45.44,
          45.201667,
          45.31,
          45.315,
          45.693333,
          45.053333,
          45.284167,
          45.2845,
          45.392667,
          44.946667,
          44.945833,
          45.308333,
          45.313833,
          45.345,
          44.796,
          45.325,
          45.33,
          44.9455,
          44.956667,
          44.956667,
          44.956667,
          45.463333,
          45.205,
          45.307833,
          45.5,
          45.565,
          45.4145,
          45.169167,
          45.148333,
          44.755,
          45.341667,
          45.413333,
          45.411,
          45.343333,
          45.317333,
          45.103167,
          44.926667,
          45.300167,
          45.302333,
          44.746667,
          44.746667,
          45.303,
          44.9005,
          44.88,
          44.869167,
          44.869833,
          45.101167,
          45.156667,
          45.149167,
          45.158833,
          45.149167,
          45.12,
          45.12,
          45.12,
          44.99,
          44.99,
          45.533333,
          45.053333,
          45.024333,
          45.074833,
          45.0715,
          45.0715,
          45.0785,
          45.070333,
          45.018333,
          45.212,
          45.21,
          45.366667
         ],
         "legendgroup": "",
         "lon": [
          5.813333,
          6.080167,
          5.889667,
          5.908333,
          6.371833,
          6.385,
          6.327667,
          6.371833,
          6.341,
          6.336333,
          6.211833,
          5.951833,
          6.5405,
          6.5265,
          6.313333,
          6.117333,
          6.732667,
          6.738333,
          6.744333,
          6.716833,
          6.721667,
          6.541667,
          6.616667,
          6.621667,
          6.568667,
          6.771167,
          6.995333,
          6.991667,
          7.002333,
          7.057167,
          7.051167,
          7.043333,
          6.768333,
          6.763333,
          6.765,
          6.207667,
          6.205667,
          6.2335,
          6.6495,
          6.648333,
          6.571667,
          6.563333,
          5.970333,
          5.973333,
          5.902833,
          5.918333,
          5.918333,
          5.918333,
          5.878,
          6.691667,
          6.171667,
          5.847333,
          6.53,
          6.535333,
          6.632167,
          6.17,
          6.166667,
          5.9005,
          5.983667,
          6.65,
          6.65,
          6.674167,
          6.3435,
          6.6475,
          6.253333,
          6.638833,
          6.585,
          6.3085,
          6.313333,
          6.176833,
          6.074667,
          5.985667,
          6.525833,
          6.511667,
          6.471667,
          6.413333,
          6.501,
          6.508333,
          5.860333,
          5.853667,
          6.698833,
          6.7035,
          6.678667,
          6.771833,
          6.675167,
          6.112333,
          6.848333,
          6.055,
          6.252,
          5.795833,
          6.875,
          6.875,
          6.944667,
          6.875,
          6.875,
          6.875,
          6.875,
          6.955333,
          6.266667,
          6.242833,
          7.016167,
          6.061167,
          6.826667,
          6.455,
          6.005,
          6.404,
          6.541667,
          6.469,
          6.528833,
          6.108333,
          6.5895,
          6.583333,
          6.674167,
          5.957167,
          6.899167,
          5.8215,
          5.986667,
          6.321,
          6.049167,
          6.401667,
          6.336833,
          6.534167,
          5.776833,
          5.771667,
          5.773,
          6.571,
          6.533333,
          6.533333,
          6.7565,
          6.348333,
          6.72,
          6.716667,
          6.716667,
          5.783333,
          6.246667,
          6.636667,
          6.636667,
          6.483333,
          5.828333,
          6.346667,
          6.566667,
          6.001667,
          6.436667,
          6.151667,
          5.845,
          6.886833,
          6.245,
          6.231167,
          6.3635,
          6.284333,
          6.278833,
          6.333333,
          6.4645,
          6.2025,
          6.271333,
          5.8865,
          5.883333,
          5.777333,
          6.482833,
          6.354333,
          6.521667,
          6.5105,
          6.446167,
          6.490833,
          6.0935,
          6.216333,
          6.895167,
          6.307167,
          6.886833,
          6.8145,
          6.908333,
          6.908333,
          6.908333,
          6.908333,
          6.920667,
          6.907167,
          5.977333,
          6.421,
          6.418333,
          6.416667,
          6.416667,
          6.403333,
          6.922333,
          6.978167,
          6.978167,
          6.978167,
          6.664833,
          6.5825,
          6.581,
          6.978333,
          6.978333,
          6.978333,
          6.4635,
          6.425,
          6.433167,
          6.425,
          6.426667,
          6.493833,
          6.481667,
          6.445167,
          6.3165,
          5.851667,
          5.755,
          6.734167,
          6.8875,
          6.896833,
          6.021667,
          6.233833,
          6.115,
          6.248333,
          6.231667,
          6.646667,
          6.646667,
          6.140167,
          6.928333,
          6.779833,
          6.431333,
          6.105667,
          6.53,
          6.708167,
          5.944667,
          6.395,
          6.416667,
          6.466667,
          6.678333,
          6.408333,
          6.399833,
          6.338333,
          6.423333,
          6.0435,
          6.048333,
          6.8775,
          6.863333,
          6.867333,
          6.152167,
          6.166667,
          6.818833,
          6.797167,
          6.792333,
          6.583333,
          6.73,
          6.427167,
          6.428333,
          6.559833,
          6.563333,
          6.588333,
          6.578333,
          6.264,
          6.643333,
          6.626667,
          6.34,
          6.728833,
          6.728833,
          6.958833,
          6.107833,
          6.106667,
          6.028333,
          6.225,
          6.301667,
          6.318333,
          6.393,
          6.275667,
          6.01,
          6.598333,
          6.5665,
          6.5825,
          6.293333,
          6.281833,
          6.697333,
          6.697167,
          6.210333,
          6.670333,
          6.255333,
          6.444667,
          6.456167,
          6.426667,
          6.176667,
          6.1745,
          6.491667,
          6.473333,
          6.800667,
          6.4855,
          6.445667,
          6.171167,
          6.889167,
          6.633333,
          6.621,
          6.367667,
          6.454167,
          6.471833,
          6.692833,
          6.102,
          6.946667,
          6.9485,
          6.970833,
          6.947333,
          6.644,
          6.665667,
          6.643833,
          6.699833,
          6.659167,
          6.942833,
          6.31,
          6.608167,
          6.608,
          6.608167,
          6.195,
          6.094,
          6.206667,
          6.206667,
          6.669,
          6.086667,
          6.483333,
          6.265,
          6.708333,
          6.71,
          6.708333,
          6.796667,
          6.79,
          6.731667,
          6.691667,
          6.455,
          6.2605,
          6.266667,
          6.885833,
          6.89,
          6.07,
          6.268333,
          6.5355,
          5.953333,
          6.321667,
          6.713333,
          6.656667,
          6.640333,
          6.631667,
          6.726667,
          6.378333,
          6.11,
          6.767333,
          5.85,
          6.276333,
          6.296667,
          6.41,
          6.477,
          6.153333,
          6.078333,
          6.612167,
          6.578333,
          6.576667,
          6.323,
          6.483333,
          6.455,
          6.246667,
          5.841667,
          5.8445,
          6.669833,
          6.673333,
          5.921667,
          6.919167,
          6.919167,
          5.994667,
          6.038167,
          6.040333,
          6.036667,
          6.072,
          6.085667,
          6.066667,
          6.076333,
          5.552167,
          5.581167,
          5.0365,
          6.168,
          6.040833,
          5.265,
          5.309333,
          5.404167,
          5.9,
          5.88,
          5.878333,
          5.876,
          5.895667,
          5.956667,
          5.985,
          5.517333,
          4.798333,
          5.571667,
          5.373333,
          5.306,
          5.571,
          5.580333,
          5.57,
          5.616833,
          5.621667,
          5.621667,
          5.621667,
          5.594167,
          5.77,
          5.765333,
          5.401,
          6.047333,
          5.765,
          5.946,
          5.596333,
          5.376667,
          5.388333,
          6.07,
          5.617167,
          5.946667,
          4.965,
          5,
          5.528833,
          6.075,
          5.661833,
          5.791833,
          5.8485,
          5.721667,
          5.721667,
          5.682833,
          5.733333,
          5.313333,
          5.565667,
          5.547167,
          6.051667,
          6.072833,
          6.0975,
          6.1,
          6.05,
          5.8625,
          6.292,
          5.262667,
          6.086667,
          6.086667,
          6.045,
          5.97,
          5.746667,
          5.783667,
          5.786167,
          5.978333,
          5.98,
          5.833333,
          5.931667,
          5.455,
          5.743333,
          5.743333,
          6.087667,
          5.675,
          5.609167,
          5.883333,
          6.028333,
          5.993333,
          6.123833,
          6.1,
          5.588667,
          5.505,
          6.0425,
          5.856667,
          6.122833,
          6.106667,
          6.171833,
          6.204667,
          6.126667,
          6.346167,
          4.766667,
          5.255,
          4.972167,
          4.955,
          5.754667,
          5.778333,
          5.04,
          5.6375,
          6.13,
          5.403333,
          5.56,
          6.071667,
          5.987333,
          5.203667,
          5.906167,
          5.908833,
          5.648333,
          6.016,
          5.126667,
          5.671333,
          5.67,
          5.1725,
          5.341667,
          5.341667,
          6.017167,
          6.016333,
          6.016667,
          5.995667,
          5.98,
          5.706667,
          5.474333,
          5.475,
          5.466667,
          5.869167,
          4.810667,
          5.6395,
          5.251667,
          4.768667,
          5.718,
          4.775,
          5.481667,
          5.886667,
          5.884833,
          5.501667,
          5.835,
          5.352833,
          5.353,
          5.657333,
          6.188333,
          6.188333,
          5.883333,
          5.8635,
          5.8465,
          5.796167,
          5.9,
          5.903333,
          6.188167,
          6.176667,
          6.176667,
          6.176667,
          5.653333,
          5.52,
          5.884,
          5.14,
          5.433333,
          5.739833,
          5.768833,
          5.323333,
          5.656667,
          5.815,
          5.85,
          5.843333,
          5.816667,
          5.803833,
          5.351833,
          5.773333,
          5.951333,
          5.995667,
          5.75,
          5.766667,
          5.489167,
          5.906167,
          6.018333,
          6.090333,
          6.090167,
          5.697667,
          6.076667,
          6.047167,
          6.097667,
          6.047,
          5.811667,
          5.811667,
          5.811667,
          6.116667,
          6.116667,
          4.881667,
          5.668333,
          5.567667,
          5.555333,
          5.542,
          5.542,
          5.561,
          5.552333,
          6.041667,
          5.376833,
          5.401667,
          5.588333
         ],
         "marker": {
          "color": "red"
         },
         "mode": "markers",
         "name": "",
         "showlegend": false,
         "subplot": "mapbox",
         "type": "scattermapbox"
        }
       ],
       "layout": {
        "height": 800,
        "hoverlabel": {
         "bgcolor": "rgb(255,255,255)"
        },
        "legend": {
         "tracegroupgap": 0
        },
        "mapbox": {
         "center": {
          "lat": 45.52045519156414,
          "lon": 6.188745170474516
         },
         "domain": {
          "x": [
           0,
           1
          ],
          "y": [
           0,
           1
          ]
         },
         "layers": [
          {
           "color": "rgba(0, 0, 0, 0.9)",
           "line": {
            "width": 1
           },
           "source": "https://www.data.gouv.fr/fr/datasets/r/90b9341a-e1f7-4d75-a73c-bbc010c7feeb",
           "sourcetype": "geojson",
           "type": "line"
          }
         ],
         "style": "open-street-map",
         "zoom": 8
        },
        "margin": {
         "t": 60
        },
        "template": {
         "data": {
          "bar": [
           {
            "error_x": {
             "color": "#2a3f5f"
            },
            "error_y": {
             "color": "#2a3f5f"
            },
            "marker": {
             "line": {
              "color": "#E5ECF6",
              "width": 0.5
             },
             "pattern": {
              "fillmode": "overlay",
              "size": 10,
              "solidity": 0.2
             }
            },
            "type": "bar"
           }
          ],
          "barpolar": [
           {
            "marker": {
             "line": {
              "color": "#E5ECF6",
              "width": 0.5
             },
             "pattern": {
              "fillmode": "overlay",
              "size": 10,
              "solidity": 0.2
             }
            },
            "type": "barpolar"
           }
          ],
          "carpet": [
           {
            "aaxis": {
             "endlinecolor": "#2a3f5f",
             "gridcolor": "white",
             "linecolor": "white",
             "minorgridcolor": "white",
             "startlinecolor": "#2a3f5f"
            },
            "baxis": {
             "endlinecolor": "#2a3f5f",
             "gridcolor": "white",
             "linecolor": "white",
             "minorgridcolor": "white",
             "startlinecolor": "#2a3f5f"
            },
            "type": "carpet"
           }
          ],
          "choropleth": [
           {
            "colorbar": {
             "outlinewidth": 0,
             "ticks": ""
            },
            "type": "choropleth"
           }
          ],
          "contour": [
           {
            "colorbar": {
             "outlinewidth": 0,
             "ticks": ""
            },
            "colorscale": [
             [
              0,
              "#0d0887"
             ],
             [
              0.1111111111111111,
              "#46039f"
             ],
             [
              0.2222222222222222,
              "#7201a8"
             ],
             [
              0.3333333333333333,
              "#9c179e"
             ],
             [
              0.4444444444444444,
              "#bd3786"
             ],
             [
              0.5555555555555556,
              "#d8576b"
             ],
             [
              0.6666666666666666,
              "#ed7953"
             ],
             [
              0.7777777777777778,
              "#fb9f3a"
             ],
             [
              0.8888888888888888,
              "#fdca26"
             ],
             [
              1,
              "#f0f921"
             ]
            ],
            "type": "contour"
           }
          ],
          "contourcarpet": [
           {
            "colorbar": {
             "outlinewidth": 0,
             "ticks": ""
            },
            "type": "contourcarpet"
           }
          ],
          "heatmap": [
           {
            "colorbar": {
             "outlinewidth": 0,
             "ticks": ""
            },
            "colorscale": [
             [
              0,
              "#0d0887"
             ],
             [
              0.1111111111111111,
              "#46039f"
             ],
             [
              0.2222222222222222,
              "#7201a8"
             ],
             [
              0.3333333333333333,
              "#9c179e"
             ],
             [
              0.4444444444444444,
              "#bd3786"
             ],
             [
              0.5555555555555556,
              "#d8576b"
             ],
             [
              0.6666666666666666,
              "#ed7953"
             ],
             [
              0.7777777777777778,
              "#fb9f3a"
             ],
             [
              0.8888888888888888,
              "#fdca26"
             ],
             [
              1,
              "#f0f921"
             ]
            ],
            "type": "heatmap"
           }
          ],
          "heatmapgl": [
           {
            "colorbar": {
             "outlinewidth": 0,
             "ticks": ""
            },
            "colorscale": [
             [
              0,
              "#0d0887"
             ],
             [
              0.1111111111111111,
              "#46039f"
             ],
             [
              0.2222222222222222,
              "#7201a8"
             ],
             [
              0.3333333333333333,
              "#9c179e"
             ],
             [
              0.4444444444444444,
              "#bd3786"
             ],
             [
              0.5555555555555556,
              "#d8576b"
             ],
             [
              0.6666666666666666,
              "#ed7953"
             ],
             [
              0.7777777777777778,
              "#fb9f3a"
             ],
             [
              0.8888888888888888,
              "#fdca26"
             ],
             [
              1,
              "#f0f921"
             ]
            ],
            "type": "heatmapgl"
           }
          ],
          "histogram": [
           {
            "marker": {
             "pattern": {
              "fillmode": "overlay",
              "size": 10,
              "solidity": 0.2
             }
            },
            "type": "histogram"
           }
          ],
          "histogram2d": [
           {
            "colorbar": {
             "outlinewidth": 0,
             "ticks": ""
            },
            "colorscale": [
             [
              0,
              "#0d0887"
             ],
             [
              0.1111111111111111,
              "#46039f"
             ],
             [
              0.2222222222222222,
              "#7201a8"
             ],
             [
              0.3333333333333333,
              "#9c179e"
             ],
             [
              0.4444444444444444,
              "#bd3786"
             ],
             [
              0.5555555555555556,
              "#d8576b"
             ],
             [
              0.6666666666666666,
              "#ed7953"
             ],
             [
              0.7777777777777778,
              "#fb9f3a"
             ],
             [
              0.8888888888888888,
              "#fdca26"
             ],
             [
              1,
              "#f0f921"
             ]
            ],
            "type": "histogram2d"
           }
          ],
          "histogram2dcontour": [
           {
            "colorbar": {
             "outlinewidth": 0,
             "ticks": ""
            },
            "colorscale": [
             [
              0,
              "#0d0887"
             ],
             [
              0.1111111111111111,
              "#46039f"
             ],
             [
              0.2222222222222222,
              "#7201a8"
             ],
             [
              0.3333333333333333,
              "#9c179e"
             ],
             [
              0.4444444444444444,
              "#bd3786"
             ],
             [
              0.5555555555555556,
              "#d8576b"
             ],
             [
              0.6666666666666666,
              "#ed7953"
             ],
             [
              0.7777777777777778,
              "#fb9f3a"
             ],
             [
              0.8888888888888888,
              "#fdca26"
             ],
             [
              1,
              "#f0f921"
             ]
            ],
            "type": "histogram2dcontour"
           }
          ],
          "mesh3d": [
           {
            "colorbar": {
             "outlinewidth": 0,
             "ticks": ""
            },
            "type": "mesh3d"
           }
          ],
          "parcoords": [
           {
            "line": {
             "colorbar": {
              "outlinewidth": 0,
              "ticks": ""
             }
            },
            "type": "parcoords"
           }
          ],
          "pie": [
           {
            "automargin": true,
            "type": "pie"
           }
          ],
          "scatter": [
           {
            "fillpattern": {
             "fillmode": "overlay",
             "size": 10,
             "solidity": 0.2
            },
            "type": "scatter"
           }
          ],
          "scatter3d": [
           {
            "line": {
             "colorbar": {
              "outlinewidth": 0,
              "ticks": ""
             }
            },
            "marker": {
             "colorbar": {
              "outlinewidth": 0,
              "ticks": ""
             }
            },
            "type": "scatter3d"
           }
          ],
          "scattercarpet": [
           {
            "marker": {
             "colorbar": {
              "outlinewidth": 0,
              "ticks": ""
             }
            },
            "type": "scattercarpet"
           }
          ],
          "scattergeo": [
           {
            "marker": {
             "colorbar": {
              "outlinewidth": 0,
              "ticks": ""
             }
            },
            "type": "scattergeo"
           }
          ],
          "scattergl": [
           {
            "marker": {
             "colorbar": {
              "outlinewidth": 0,
              "ticks": ""
             }
            },
            "type": "scattergl"
           }
          ],
          "scattermapbox": [
           {
            "marker": {
             "colorbar": {
              "outlinewidth": 0,
              "ticks": ""
             }
            },
            "type": "scattermapbox"
           }
          ],
          "scatterpolar": [
           {
            "marker": {
             "colorbar": {
              "outlinewidth": 0,
              "ticks": ""
             }
            },
            "type": "scatterpolar"
           }
          ],
          "scatterpolargl": [
           {
            "marker": {
             "colorbar": {
              "outlinewidth": 0,
              "ticks": ""
             }
            },
            "type": "scatterpolargl"
           }
          ],
          "scatterternary": [
           {
            "marker": {
             "colorbar": {
              "outlinewidth": 0,
              "ticks": ""
             }
            },
            "type": "scatterternary"
           }
          ],
          "surface": [
           {
            "colorbar": {
             "outlinewidth": 0,
             "ticks": ""
            },
            "colorscale": [
             [
              0,
              "#0d0887"
             ],
             [
              0.1111111111111111,
              "#46039f"
             ],
             [
              0.2222222222222222,
              "#7201a8"
             ],
             [
              0.3333333333333333,
              "#9c179e"
             ],
             [
              0.4444444444444444,
              "#bd3786"
             ],
             [
              0.5555555555555556,
              "#d8576b"
             ],
             [
              0.6666666666666666,
              "#ed7953"
             ],
             [
              0.7777777777777778,
              "#fb9f3a"
             ],
             [
              0.8888888888888888,
              "#fdca26"
             ],
             [
              1,
              "#f0f921"
             ]
            ],
            "type": "surface"
           }
          ],
          "table": [
           {
            "cells": {
             "fill": {
              "color": "#EBF0F8"
             },
             "line": {
              "color": "white"
             }
            },
            "header": {
             "fill": {
              "color": "#C8D4E3"
             },
             "line": {
              "color": "white"
             }
            },
            "type": "table"
           }
          ]
         },
         "layout": {
          "annotationdefaults": {
           "arrowcolor": "#2a3f5f",
           "arrowhead": 0,
           "arrowwidth": 1
          },
          "autotypenumbers": "strict",
          "coloraxis": {
           "colorbar": {
            "outlinewidth": 0,
            "ticks": ""
           }
          },
          "colorscale": {
           "diverging": [
            [
             0,
             "#8e0152"
            ],
            [
             0.1,
             "#c51b7d"
            ],
            [
             0.2,
             "#de77ae"
            ],
            [
             0.3,
             "#f1b6da"
            ],
            [
             0.4,
             "#fde0ef"
            ],
            [
             0.5,
             "#f7f7f7"
            ],
            [
             0.6,
             "#e6f5d0"
            ],
            [
             0.7,
             "#b8e186"
            ],
            [
             0.8,
             "#7fbc41"
            ],
            [
             0.9,
             "#4d9221"
            ],
            [
             1,
             "#276419"
            ]
           ],
           "sequential": [
            [
             0,
             "#0d0887"
            ],
            [
             0.1111111111111111,
             "#46039f"
            ],
            [
             0.2222222222222222,
             "#7201a8"
            ],
            [
             0.3333333333333333,
             "#9c179e"
            ],
            [
             0.4444444444444444,
             "#bd3786"
            ],
            [
             0.5555555555555556,
             "#d8576b"
            ],
            [
             0.6666666666666666,
             "#ed7953"
            ],
            [
             0.7777777777777778,
             "#fb9f3a"
            ],
            [
             0.8888888888888888,
             "#fdca26"
            ],
            [
             1,
             "#f0f921"
            ]
           ],
           "sequentialminus": [
            [
             0,
             "#0d0887"
            ],
            [
             0.1111111111111111,
             "#46039f"
            ],
            [
             0.2222222222222222,
             "#7201a8"
            ],
            [
             0.3333333333333333,
             "#9c179e"
            ],
            [
             0.4444444444444444,
             "#bd3786"
            ],
            [
             0.5555555555555556,
             "#d8576b"
            ],
            [
             0.6666666666666666,
             "#ed7953"
            ],
            [
             0.7777777777777778,
             "#fb9f3a"
            ],
            [
             0.8888888888888888,
             "#fdca26"
            ],
            [
             1,
             "#f0f921"
            ]
           ]
          },
          "colorway": [
           "#636efa",
           "#EF553B",
           "#00cc96",
           "#ab63fa",
           "#FFA15A",
           "#19d3f3",
           "#FF6692",
           "#B6E880",
           "#FF97FF",
           "#FECB52"
          ],
          "font": {
           "color": "#2a3f5f"
          },
          "geo": {
           "bgcolor": "white",
           "lakecolor": "white",
           "landcolor": "#E5ECF6",
           "showlakes": true,
           "showland": true,
           "subunitcolor": "white"
          },
          "hoverlabel": {
           "align": "left"
          },
          "hovermode": "closest",
          "mapbox": {
           "style": "light"
          },
          "paper_bgcolor": "white",
          "plot_bgcolor": "#E5ECF6",
          "polar": {
           "angularaxis": {
            "gridcolor": "white",
            "linecolor": "white",
            "ticks": ""
           },
           "bgcolor": "#E5ECF6",
           "radialaxis": {
            "gridcolor": "white",
            "linecolor": "white",
            "ticks": ""
           }
          },
          "scene": {
           "xaxis": {
            "backgroundcolor": "#E5ECF6",
            "gridcolor": "white",
            "gridwidth": 2,
            "linecolor": "white",
            "showbackground": true,
            "ticks": "",
            "zerolinecolor": "white"
           },
           "yaxis": {
            "backgroundcolor": "#E5ECF6",
            "gridcolor": "white",
            "gridwidth": 2,
            "linecolor": "white",
            "showbackground": true,
            "ticks": "",
            "zerolinecolor": "white"
           },
           "zaxis": {
            "backgroundcolor": "#E5ECF6",
            "gridcolor": "white",
            "gridwidth": 2,
            "linecolor": "white",
            "showbackground": true,
            "ticks": "",
            "zerolinecolor": "white"
           }
          },
          "shapedefaults": {
           "line": {
            "color": "#2a3f5f"
           }
          },
          "ternary": {
           "aaxis": {
            "gridcolor": "white",
            "linecolor": "white",
            "ticks": ""
           },
           "baxis": {
            "gridcolor": "white",
            "linecolor": "white",
            "ticks": ""
           },
           "bgcolor": "#E5ECF6",
           "caxis": {
            "gridcolor": "white",
            "linecolor": "white",
            "ticks": ""
           }
          },
          "title": {
           "x": 0.05
          },
          "xaxis": {
           "automargin": true,
           "gridcolor": "white",
           "linecolor": "white",
           "ticks": "",
           "title": {
            "standoff": 15
           },
           "zerolinecolor": "white",
           "zerolinewidth": 2
          },
          "yaxis": {
           "automargin": true,
           "gridcolor": "white",
           "linecolor": "white",
           "ticks": "",
           "title": {
            "standoff": 15
           },
           "zerolinecolor": "white",
           "zerolinewidth": 2
          }
         }
        },
        "title": {
         "text": "Alpes du Nord : postes actifs en 2025",
         "x": 0.5
        },
        "width": 900
       }
      }
     },
     "metadata": {},
     "output_type": "display_data"
    }
   ],
   "source": [
    "départements_alpes_nord = ['73','74','38']\n",
    "\n",
    "\n",
    "      \n",
    "# initialisation\n",
    "liste_dataframes = []\n",
    "\n",
    "for dept in départements_alpes_nord:\n",
    "    liste_départementale = synthétiser_information(dept)\n",
    "    liste_dataframes.append(liste_départementale)  # Add to list\n",
    "\n",
    "# Concaténation\n",
    "liste_alpes_nord = pd.concat(liste_dataframes, ignore_index=True)\n",
    "cartographier_postes(liste_alpes_nord, dept = 'nord')\n",
    "      "
   ]
  },
  {
   "cell_type": "code",
   "execution_count": 8,
   "metadata": {},
   "outputs": [
    {
     "data": {
      "text/html": [
       "<div>\n",
       "<style scoped>\n",
       "    .dataframe tbody tr th:only-of-type {\n",
       "        vertical-align: middle;\n",
       "    }\n",
       "\n",
       "    .dataframe tbody tr th {\n",
       "        vertical-align: top;\n",
       "    }\n",
       "\n",
       "    .dataframe thead th {\n",
       "        text-align: right;\n",
       "    }\n",
       "</style>\n",
       "<table border=\"1\" class=\"dataframe\">\n",
       "  <thead>\n",
       "    <tr style=\"text-align: right;\">\n",
       "      <th></th>\n",
       "      <th>poste</th>\n",
       "      <th>nom</th>\n",
       "      <th>valeurs</th>\n",
       "      <th>alt</th>\n",
       "      <th>lat</th>\n",
       "      <th>lon</th>\n",
       "      <th>début</th>\n",
       "      <th>fin</th>\n",
       "      <th>pluie</th>\n",
       "      <th>neige</th>\n",
       "      <th>HN</th>\n",
       "      <th>TM</th>\n",
       "      <th>TN</th>\n",
       "      <th>TX</th>\n",
       "    </tr>\n",
       "  </thead>\n",
       "  <tbody>\n",
       "    <tr>\n",
       "      <th>0</th>\n",
       "      <td>73001001</td>\n",
       "      <td>Aiguebelette</td>\n",
       "      <td>5539</td>\n",
       "      <td>400</td>\n",
       "      <td>45.551667</td>\n",
       "      <td>5.813333</td>\n",
       "      <td>1941-10-01</td>\n",
       "      <td>1966-08-31</td>\n",
       "      <td>True</td>\n",
       "      <td>False</td>\n",
       "      <td>False</td>\n",
       "      <td>False</td>\n",
       "      <td>False</td>\n",
       "      <td>False</td>\n",
       "    </tr>\n",
       "    <tr>\n",
       "      <th>0</th>\n",
       "      <td>73004001</td>\n",
       "      <td>Aillon Le Jeune</td>\n",
       "      <td>46217</td>\n",
       "      <td>900</td>\n",
       "      <td>45.617833</td>\n",
       "      <td>6.080167</td>\n",
       "      <td>1934-06-01</td>\n",
       "      <td>2020-12-31</td>\n",
       "      <td>True</td>\n",
       "      <td>True</td>\n",
       "      <td>True</td>\n",
       "      <td>False</td>\n",
       "      <td>False</td>\n",
       "      <td>False</td>\n",
       "    </tr>\n",
       "    <tr>\n",
       "      <th>0</th>\n",
       "      <td>73008003</td>\n",
       "      <td>Aix Les Bains</td>\n",
       "      <td>5296</td>\n",
       "      <td>234</td>\n",
       "      <td>45.700333</td>\n",
       "      <td>5.889667</td>\n",
       "      <td>2003-01-01</td>\n",
       "      <td>2015-08-31</td>\n",
       "      <td>True</td>\n",
       "      <td>False</td>\n",
       "      <td>False</td>\n",
       "      <td>False</td>\n",
       "      <td>False</td>\n",
       "      <td>False</td>\n",
       "    </tr>\n",
       "    <tr>\n",
       "      <th>0</th>\n",
       "      <td>73008001</td>\n",
       "      <td>Aix-Les-Bains</td>\n",
       "      <td>9048</td>\n",
       "      <td>365</td>\n",
       "      <td>45.693333</td>\n",
       "      <td>5.908333</td>\n",
       "      <td>1947-01-01</td>\n",
       "      <td>1971-01-31</td>\n",
       "      <td>True</td>\n",
       "      <td>False</td>\n",
       "      <td>False</td>\n",
       "      <td>False</td>\n",
       "      <td>True</td>\n",
       "      <td>True</td>\n",
       "    </tr>\n",
       "    <tr>\n",
       "      <th>0</th>\n",
       "      <td>73011002</td>\n",
       "      <td>Albertville</td>\n",
       "      <td>43171</td>\n",
       "      <td>331</td>\n",
       "      <td>45.662167</td>\n",
       "      <td>6.371833</td>\n",
       "      <td>1948-01-01</td>\n",
       "      <td>2015-08-31</td>\n",
       "      <td>True</td>\n",
       "      <td>True</td>\n",
       "      <td>True</td>\n",
       "      <td>False</td>\n",
       "      <td>False</td>\n",
       "      <td>False</td>\n",
       "    </tr>\n",
       "    <tr>\n",
       "      <th>...</th>\n",
       "      <td>...</td>\n",
       "      <td>...</td>\n",
       "      <td>...</td>\n",
       "      <td>...</td>\n",
       "      <td>...</td>\n",
       "      <td>...</td>\n",
       "      <td>...</td>\n",
       "      <td>...</td>\n",
       "      <td>...</td>\n",
       "      <td>...</td>\n",
       "      <td>...</td>\n",
       "      <td>...</td>\n",
       "      <td>...</td>\n",
       "      <td>...</td>\n",
       "    </tr>\n",
       "    <tr>\n",
       "      <th>0</th>\n",
       "      <td>38548002</td>\n",
       "      <td>Villard-De-Lans-Gend</td>\n",
       "      <td>19607</td>\n",
       "      <td>1031</td>\n",
       "      <td>45.070333</td>\n",
       "      <td>5.552333</td>\n",
       "      <td>1916-01-01</td>\n",
       "      <td>1969-04-30</td>\n",
       "      <td>True</td>\n",
       "      <td>False</td>\n",
       "      <td>False</td>\n",
       "      <td>False</td>\n",
       "      <td>True</td>\n",
       "      <td>True</td>\n",
       "    </tr>\n",
       "    <tr>\n",
       "      <th>0</th>\n",
       "      <td>38549001</td>\n",
       "      <td>Villard-Notre-Dame Village</td>\n",
       "      <td>5313</td>\n",
       "      <td>1550</td>\n",
       "      <td>45.018333</td>\n",
       "      <td>6.041667</td>\n",
       "      <td>1950-04-18</td>\n",
       "      <td>1965-11-30</td>\n",
       "      <td>True</td>\n",
       "      <td>False</td>\n",
       "      <td>False</td>\n",
       "      <td>False</td>\n",
       "      <td>False</td>\n",
       "      <td>False</td>\n",
       "    </tr>\n",
       "    <tr>\n",
       "      <th>0</th>\n",
       "      <td>38559004</td>\n",
       "      <td>Vinay</td>\n",
       "      <td>656</td>\n",
       "      <td>400</td>\n",
       "      <td>45.212000</td>\n",
       "      <td>5.376833</td>\n",
       "      <td>2015-03-01</td>\n",
       "      <td>2016-01-31</td>\n",
       "      <td>True</td>\n",
       "      <td>True</td>\n",
       "      <td>True</td>\n",
       "      <td>False</td>\n",
       "      <td>False</td>\n",
       "      <td>False</td>\n",
       "    </tr>\n",
       "    <tr>\n",
       "      <th>0</th>\n",
       "      <td>38559001</td>\n",
       "      <td>Vinay Bourg</td>\n",
       "      <td>1952</td>\n",
       "      <td>260</td>\n",
       "      <td>45.210000</td>\n",
       "      <td>5.401667</td>\n",
       "      <td>1949-01-01</td>\n",
       "      <td>1954-03-31</td>\n",
       "      <td>True</td>\n",
       "      <td>False</td>\n",
       "      <td>False</td>\n",
       "      <td>False</td>\n",
       "      <td>False</td>\n",
       "      <td>False</td>\n",
       "    </tr>\n",
       "    <tr>\n",
       "      <th>0</th>\n",
       "      <td>38563001</td>\n",
       "      <td>Voiron Pensionnat Saint-Joseph</td>\n",
       "      <td>461</td>\n",
       "      <td>292</td>\n",
       "      <td>45.366667</td>\n",
       "      <td>5.588333</td>\n",
       "      <td>1960-02-09</td>\n",
       "      <td>1961-04-30</td>\n",
       "      <td>True</td>\n",
       "      <td>False</td>\n",
       "      <td>False</td>\n",
       "      <td>False</td>\n",
       "      <td>False</td>\n",
       "      <td>False</td>\n",
       "    </tr>\n",
       "  </tbody>\n",
       "</table>\n",
       "<p>569 rows × 14 columns</p>\n",
       "</div>"
      ],
      "text/plain": [
       "       poste                             nom valeurs   alt        lat  \\\n",
       "0   73001001                    Aiguebelette    5539   400  45.551667   \n",
       "0   73004001                 Aillon Le Jeune   46217   900  45.617833   \n",
       "0   73008003                   Aix Les Bains    5296   234  45.700333   \n",
       "0   73008001                   Aix-Les-Bains    9048   365  45.693333   \n",
       "0   73011002                     Albertville   43171   331  45.662167   \n",
       "..       ...                             ...     ...   ...        ...   \n",
       "0   38548002            Villard-De-Lans-Gend   19607  1031  45.070333   \n",
       "0   38549001      Villard-Notre-Dame Village    5313  1550  45.018333   \n",
       "0   38559004                           Vinay     656   400  45.212000   \n",
       "0   38559001                     Vinay Bourg    1952   260  45.210000   \n",
       "0   38563001  Voiron Pensionnat Saint-Joseph     461   292  45.366667   \n",
       "\n",
       "         lon       début         fin pluie  neige     HN     TM     TN     TX  \n",
       "0   5.813333  1941-10-01  1966-08-31  True  False  False  False  False  False  \n",
       "0   6.080167  1934-06-01  2020-12-31  True   True   True  False  False  False  \n",
       "0   5.889667  2003-01-01  2015-08-31  True  False  False  False  False  False  \n",
       "0   5.908333  1947-01-01  1971-01-31  True  False  False  False   True   True  \n",
       "0   6.371833  1948-01-01  2015-08-31  True   True   True  False  False  False  \n",
       "..       ...         ...         ...   ...    ...    ...    ...    ...    ...  \n",
       "0   5.552333  1916-01-01  1969-04-30  True  False  False  False   True   True  \n",
       "0   6.041667  1950-04-18  1965-11-30  True  False  False  False  False  False  \n",
       "0   5.376833  2015-03-01  2016-01-31  True   True   True  False  False  False  \n",
       "0   5.401667  1949-01-01  1954-03-31  True  False  False  False  False  False  \n",
       "0   5.588333  1960-02-09  1961-04-30  True  False  False  False  False  False  \n",
       "\n",
       "[569 rows x 14 columns]"
      ]
     },
     "execution_count": 8,
     "metadata": {},
     "output_type": "execute_result"
    }
   ],
   "source": [
    "liste_alpes_nord"
   ]
  },
  {
   "cell_type": "code",
   "execution_count": 23,
   "metadata": {},
   "outputs": [],
   "source": [
    "fichier_excel   = os.path.join(répertoire_travail, 'liste_synthétique_Alpes_Nord.xlsx')\n",
    "onglet_liste = 'liste-stations'\n",
    "liste_alpes_nord.to_excel(fichier_excel, index=False, sheet_name= onglet_liste)"
   ]
  },
  {
   "cell_type": "markdown",
   "metadata": {},
   "source": [
    "# Extraction pour les Hautes Alpes"
   ]
  },
  {
   "cell_type": "code",
   "execution_count": 24,
   "metadata": {},
   "outputs": [
    {
     "name": "stderr",
     "output_type": "stream",
     "text": [
      "100%|██████████| 6/6 [00:27<00:00,  4.54s/it]\n"
     ]
    },
    {
     "data": {
      "application/vnd.plotly.v1+json": {
       "config": {
        "plotlyServerURL": "https://plot.ly"
       },
       "data": [
        {
         "customdata": [
          [
           "05001001",
           1560,
           "1932-01-01",
           "2025-05-31"
          ],
          [
           "05001401",
           2070,
           "2007-01-01",
           "2007-01-01"
          ],
          [
           "05001400",
           2018,
           "1985-12-23",
           "2025-03-22"
          ],
          [
           "05139006",
           1244,
           "1928-11-01",
           "2025-06-13"
          ],
          [
           "05004001",
           1354,
           "1928-03-01",
           "2025-06-13"
          ],
          [
           "05007003",
           1825,
           "2007-07-05",
           "2025-06-13"
          ],
          [
           "05007002",
           1763,
           "1936-04-01",
           "1943-06-30"
          ],
          [
           "05007001",
           1690,
           "1947-01-01",
           "2025-05-31"
          ],
          [
           "05013003",
           866,
           "2000-01-01",
           "2023-12-31"
          ],
          [
           "05013001",
           845,
           "1958-10-01",
           "1999-12-31"
          ],
          [
           "05023008",
           1352,
           "1933-10-01",
           "1945-10-31"
          ],
          [
           "05023001",
           1324,
           "1933-01-01",
           "2005-12-31"
          ],
          [
           "05023002",
           1406,
           "1946-08-01",
           "1966-02-28"
          ],
          [
           "05023003",
           1320,
           "1928-01-16",
           "1933-09-30"
          ],
          [
           "05026001",
           1665,
           "1931-01-01",
           "2025-05-31"
          ],
          [
           "05026400",
           1665,
           "1979-12-10",
           "2025-06-14"
          ],
          [
           "05027001",
           1614,
           "1933-01-01",
           "2025-06-13"
          ],
          [
           "05028001",
           755,
           "1989-01-01",
           "2004-06-30"
          ],
          [
           "05031001",
           1100,
           "1928-01-01",
           "2005-10-31"
          ],
          [
           "05031002",
           930,
           "1960-07-01",
           "1970-05-31"
          ],
          [
           "05032002",
           1275,
           "1928-01-01",
           "2025-05-31"
          ],
          [
           "05064001",
           1270,
           "1928-01-01",
           "2025-05-31"
          ],
          [
           "05038001",
           1355,
           "1928-01-15",
           "2025-06-13"
          ],
          [
           "05077402",
           2630,
           "1994-08-31",
           "2025-06-13"
          ],
          [
           "05044001",
           1580,
           "1958-01-01",
           "1977-03-31"
          ],
          [
           "05139001",
           1350,
           "1958-01-01",
           "1980-12-31"
          ],
          [
           "05046001",
           873,
           "1877-01-01",
           "2025-06-13"
          ],
          [
           "05049001",
           1150,
           "1939-01-01",
           "1958-09-30"
          ],
          [
           "05052002",
           1050,
           "1937-07-01",
           "1940-04-30"
          ],
          [
           "05052001",
           880,
           "1955-10-19",
           "1963-09-30"
          ],
          [
           "05053001",
           603,
           "1928-01-01",
           "1938-09-30"
          ],
          [
           "05058001",
           1320,
           "1958-08-01",
           "2002-01-31"
          ],
          [
           "05058002",
           1130,
           "1933-01-01",
           "1959-10-31"
          ],
          [
           "05079402",
           2559,
           "2015-10-07",
           "2025-06-13"
          ],
          [
           "05061008",
           750,
           "1877-01-01",
           "1998-12-31"
          ],
          [
           "05061009",
           885,
           "2003-12-01",
           "2025-06-13"
          ],
          [
           "05061400",
           1240,
           "2009-12-12",
           "2023-03-03"
          ],
          [
           "05061002",
           1249,
           "1935-01-01",
           "1966-01-31"
          ],
          [
           "05061003",
           735,
           "1943-12-01",
           "1949-12-31"
          ],
          [
           "05065001",
           980,
           "1928-01-01",
           "1975-10-31"
          ],
          [
           "05055001",
           825,
           "1997-06-01",
           "2025-06-13"
          ],
          [
           "05063001",
           1790,
           "1921-01-01",
           "2025-05-31"
          ],
          [
           "05063410",
           3196,
           "2020-10-13",
           "2025-05-03"
          ],
          [
           "05063402",
           3093,
           "1990-03-22",
           "2025-06-13"
          ],
          [
           "05124001",
           815,
           "1954-01-01",
           "1962-12-31"
          ],
          [
           "05162001",
           580,
           "1950-01-01",
           "1975-05-31"
          ],
          [
           "05070003",
           565,
           "1992-12-01",
           "2025-06-13"
          ],
          [
           "05070001",
           575,
           "1940-01-01",
           "2025-05-31"
          ],
          [
           "05079002",
           1947,
           "1950-04-01",
           "1965-08-31"
          ],
          [
           "05079001",
           1459,
           "1924-01-01",
           "2025-05-31"
          ],
          [
           "05158001",
           801,
           "2003-05-01",
           "2024-03-31"
          ],
          [
           "05098001",
           1457,
           "1931-03-01",
           "2025-06-13"
          ],
          [
           "05098402",
           1895,
           "2002-12-20",
           "2025-04-13"
          ],
          [
           "05064403",
           1270,
           "2000-08-01",
           "2025-06-14"
          ],
          [
           "05180001",
           1120,
           "1936-01-01",
           "1937-08-31"
          ],
          [
           "05077404",
           2049,
           "2024-03-07",
           "2025-03-23"
          ],
          [
           "05085001",
           1848,
           "1939-01-02",
           "2015-03-31"
          ],
          [
           "05085403",
           2134,
           "2004-12-28",
           "2025-04-06"
          ],
          [
           "05086001",
           815,
           "1938-11-01",
           "1974-12-31"
          ],
          [
           "05088001",
           760,
           "1928-01-01",
           "1938-12-31"
          ],
          [
           "05090001",
           1100,
           "1928-01-01",
           "2014-12-31"
          ],
          [
           "05090002",
           1250,
           "1955-10-01",
           "2025-06-13"
          ],
          [
           "05093001",
           1603,
           "1928-04-01",
           "2025-05-31"
          ],
          [
           "05096002",
           1555,
           "1958-01-01",
           "1970-10-31"
          ],
          [
           "05096404",
           2280,
           "2006-12-21",
           "2025-06-13"
          ],
          [
           "05044400",
           2545,
           "2010-08-17",
           "2025-06-13"
          ],
          [
           "05101001",
           1270,
           "1936-06-01",
           "2025-06-13"
          ],
          [
           "05101400",
           1270,
           "1994-12-27",
           "2024-11-17"
          ],
          [
           "05110400",
           1680,
           "1979-12-17",
           "2025-04-13"
          ],
          [
           "05110001",
           1388,
           "1955-10-19",
           "2025-06-13"
          ],
          [
           "05114002",
           1429,
           "1938-05-01",
           "1998-08-31"
          ],
          [
           "05114402",
           1716,
           "2007-03-30",
           "2025-03-23"
          ],
          [
           "05115001",
           670,
           "1928-01-01",
           "1974-04-30"
          ],
          [
           "05118003",
           520,
           "2002-04-01",
           "2012-12-31"
          ],
          [
           "05118002",
           530,
           "1985-03-01",
           "2020-12-31"
          ],
          [
           "05119402",
           2050,
           "2012-12-24",
           "2025-04-13"
          ],
          [
           "05120002",
           1670,
           "2004-10-01",
           "2025-06-13"
          ],
          [
           "05126001",
           625,
           "1971-12-01",
           "2025-06-13"
          ],
          [
           "05127001",
           675,
           "1958-01-01",
           "2025-05-31"
          ],
          [
           "05133003",
           1350,
           "1928-01-01",
           "1928-08-31"
          ],
          [
           "05136001",
           904,
           "1976-09-01",
           "1982-04-30"
          ],
          [
           "05142002",
           775,
           "1935-02-01",
           "1974-12-31"
          ],
          [
           "05145001",
           1120,
           "1935-02-01",
           "1975-12-31"
          ],
          [
           "05146003",
           1050,
           "1928-01-01",
           "1960-11-09"
          ],
          [
           "05154001",
           780,
           "1938-08-02",
           "1968-10-31"
          ],
          [
           "05133400",
           1905,
           "1976-01-18",
           "2025-04-13"
          ],
          [
           "05079400",
           2185,
           "1983-12-12",
           "2025-04-21"
          ],
          [
           "05166001",
           652,
           "1877-01-01",
           "2025-05-31"
          ],
          [
           "05132002",
           1015,
           "1991-01-01",
           "2003-07-31"
          ],
          [
           "05136002",
           906,
           "2006-09-01",
           "2025-06-13"
          ],
          [
           "05139400",
           1281,
           "1973-12-16",
           "2019-03-20"
          ],
          [
           "05139002",
           1300,
           "1928-01-01",
           "2025-05-31"
          ],
          [
           "05142001",
           935,
           "1928-01-01",
           "2025-06-13"
          ],
          [
           "05145002",
           1210,
           "2003-08-01",
           "2025-06-13"
          ],
          [
           "05157001",
           2035,
           "1929-05-01",
           "2025-05-31"
          ],
          [
           "05157400",
           2140,
           "1979-12-16",
           "2023-12-25"
          ],
          [
           "05132001",
           1005,
           "1928-01-01",
           "2025-05-31"
          ],
          [
           "05146001",
           925,
           "1961-06-01",
           "1996-08-31"
          ],
          [
           "05139405",
           1915,
           "2001-12-26",
           "2023-01-02"
          ],
          [
           "05170001",
           593,
           "1964-05-28",
           "2025-06-13"
          ],
          [
           "05173001",
           574,
           "1935-04-01",
           "1939-05-31"
          ],
          [
           "05173002",
           590,
           "1985-03-01",
           "1987-10-31"
          ],
          [
           "05174001",
           1355,
           "1936-06-01",
           "1969-12-31"
          ],
          [
           "05064400",
           2560,
           "1983-01-13",
           "1988-02-11"
          ],
          [
           "05175001",
           1150,
           "1931-01-01",
           "1936-05-31"
          ],
          [
           "05177001",
           1850,
           "1935-11-02",
           "1971-01-31"
          ],
          [
           "05177003",
           1673,
           "1931-04-01",
           "1935-02-28"
          ],
          [
           "05179001",
           823,
           "1964-05-01",
           "2025-06-13"
          ],
          [
           "05181002",
           1665,
           "2004-07-31",
           "2025-06-13"
          ],
          [
           "05182001",
           1072,
           "1928-01-01",
           "2025-06-13"
          ],
          [
           "05183001",
           1310,
           "2003-08-01",
           "2025-06-13"
          ],
          [
           "05181001",
           1650,
           "1944-06-01",
           "1967-01-31"
          ],
          [
           "05184002",
           595,
           "1997-02-01",
           "2012-12-31"
          ]
         ],
         "hovertemplate": "<b>%{hovertext}</b><br><br>lat=%{lat}<br>lon=%{lon}<br>poste=%{customdata[0]}<br>alt=%{customdata[1]}<br>début=%{customdata[2]}<br>fin=%{customdata[3]}<extra></extra>",
         "hovertext": [
          "Abries",
          "Abries -S-",
          "Abries_Nivo",
          "Agnieres-En-Devoluy",
          "Ancelle",
          "Arvieux",
          "Arvieux Brunissard",
          "Arvieux La Chalp",
          "Barcillonnette",
          "Barcillonnette",
          "Briancon",
          "Briancon",
          "Briancon",
          "Briancon Station Militaire",
          "Ceillac",
          "Ceillac_Nivo",
          "Cervieres",
          "Chabestan",
          "Champcella",
          "Champcella Usine Edf",
          "Champoleon",
          "Chapelle-En-Valgaudemar",
          "Chateau-Ville-Vieille",
          "Col Agnel-Nivose",
          "Crevoux Chef-Lieu",
          "Cypieres",
          "Embrun",
          "Esparron",
          "Eygliers",
          "Eygliers Lac Du Mont Dauphin",
          "Eyguians Agglomeration",
          "Freissinieres",
          "Freissinieres",
          "Galibier-Nivose",
          "Gap",
          "Gap",
          "Gap Bayard_Nivo",
          "Gap Col Bayard",
          "Gap Eaux Et Forets",
          "Guillestre Quartier Prepareing",
          "La Faurie",
          "La Grave",
          "La Grave 3200 M",
          "La Meije-Nivose",
          "La Rochette",
          "La Saulce Barrage Edf",
          "Laragne Monteglin",
          "Laragne-Monteglin",
          "Le Monetier",
          "Le Monetier Les Bains",
          "Le Saix",
          "Les Orres",
          "Les Orres_Nivo",
          "Les Portes En Valgaudemar_Nivo",
          "Les Vigneaux Ecole Batie",
          "Molines En Queyras_Nivo",
          "Montgenevre",
          "Montgenevre_Nivo",
          "Montjay Bourg",
          "Montmorin Maison Forestiere",
          "Motte-Dalmas",
          "Motte-Molines",
          "Nevache-Edf-03",
          "Orcieres Prapic",
          "Orcieres-Nivose",
          "Parpaillon-Nivose",
          "Pelvoux",
          "Pelvoux St Antoine_Nivo",
          "Puy St Vincent_Nivo",
          "Puy-St-Vincent",
          "Reallon Iscle",
          "Reallon _Nivo",
          "Remollon",
          "Ribiers",
          "Ribiers-Grange",
          "Risoul_Nivo",
          "Ristolas",
          "Rosans",
          "Rousset",
          "Saint-Chaffrey",
          "Saint-Crepin",
          "Saint-Firmin",
          "Saint-Jean-Saint-Nicolas",
          "Saint-Julien-En-Beauchene",
          "Saint-Pierre-D'Argencon",
          "Serre Che-Chantemerle_Nivo",
          "Serre Che-Le Monetier_Nivo",
          "Serres",
          "St Bonnet",
          "St Crepin",
          "St Etienne En Devoluy",
          "St Etienne-En-Devoluy",
          "St Firmin",
          "St Jean-St-Nicolas",
          "St Veran",
          "St Veran Rm",
          "St-Bonnet Champsaur",
          "St-Jul-En-Beauc",
          "Super_Devoluy",
          "Tallard",
          "Upaix Agglomeration",
          "Upaix Rourebeau",
          "Val-Des-Pres",
          "Vallompierre",
          "Vallouise Agglomeration",
          "Vars Les Claux",
          "Vars Sainte-Marie",
          "Veynes",
          "Villar D'Arene",
          "Villar Loubiere",
          "Villar St Pancrace",
          "Villar-D'Arene Village",
          "Vitrolles"
         ],
         "lat": [
          44.796667,
          44.791333,
          44.792833,
          44.696167,
          44.6245,
          44.796,
          44.766667,
          44.781167,
          44.441667,
          44.436667,
          44.896667,
          44.908333,
          44.896667,
          44.896667,
          44.671167,
          44.671167,
          44.869333,
          44.471667,
          44.728333,
          44.723333,
          44.720167,
          44.81,
          44.759333,
          44.686,
          44.546667,
          44.683333,
          44.571167,
          44.453333,
          44.676667,
          44.676667,
          44.345,
          44.748333,
          44.755,
          45.056833,
          44.568333,
          44.577667,
          44.6215,
          44.558333,
          44.558333,
          44.66,
          44.566667,
          45.054167,
          45.006,
          45.012333,
          44.593333,
          44.425,
          44.319167,
          44.316667,
          45.041167,
          44.9715,
          44.475833,
          44.508833,
          44.481667,
          44.81,
          44.823333,
          44.715333,
          44.9305,
          44.938167,
          44.36,
          44.45,
          44.730833,
          44.748167,
          45.0185,
          44.683333,
          44.719,
          44.495333,
          44.866833,
          44.870833,
          44.818,
          44.828833,
          44.608333,
          44.579333,
          44.466667,
          44.2355,
          44.198167,
          44.616667,
          44.765667,
          44.3875,
          44.468667,
          44.925,
          44.706667,
          44.781667,
          44.668333,
          44.616667,
          44.518333,
          44.9245,
          44.949833,
          44.421667,
          44.685,
          44.7045,
          44.69,
          44.6945,
          44.7825,
          44.670833,
          44.699833,
          44.705167,
          44.684167,
          44.616667,
          44.6655,
          44.452167,
          44.318333,
          44.318333,
          44.948333,
          44.8,
          44.845,
          44.61,
          44.61,
          44.536333,
          45.030833,
          44.826833,
          44.880333,
          45.041667,
          44.408667
         ],
         "legendgroup": "",
         "lon": [
          6.928333,
          6.949667,
          6.947,
          5.880833,
          6.209833,
          6.728,
          6.738333,
          6.736667,
          5.927,
          5.92,
          6.638333,
          6.635,
          6.638333,
          6.638333,
          6.776167,
          6.776167,
          6.7235,
          5.781667,
          6.57,
          6.57,
          6.258833,
          6.195333,
          6.809,
          6.972167,
          6.606667,
          5.933333,
          6.508667,
          5.901667,
          6.633333,
          6.633333,
          5.771667,
          6.503333,
          6.538333,
          6.377167,
          6.091667,
          6.079833,
          6.084333,
          6.076667,
          6.076667,
          6.65,
          5.750167,
          6.285833,
          6.253,
          6.265167,
          6.155,
          6.006667,
          5.7945,
          5.827,
          6.419167,
          6.514167,
          5.8155,
          6.559333,
          6.562833,
          6.195333,
          6.541667,
          6.8605,
          6.721333,
          6.7195,
          5.605,
          5.54,
          6.066167,
          6.122833,
          6.622333,
          6.325,
          6.333667,
          6.636333,
          6.486667,
          6.487167,
          6.485833,
          6.492667,
          6.338333,
          6.352333,
          6.166667,
          5.855,
          5.881167,
          6.644167,
          6.9845,
          5.462167,
          6.2685,
          6.606667,
          6.608333,
          6.026667,
          6.216667,
          5.71,
          5.696667,
          6.571333,
          6.501,
          5.710167,
          6.08,
          6.6,
          5.937667,
          5.9405,
          6.035,
          6.209833,
          6.869167,
          6.867833,
          6.072833,
          5.711667,
          5.906667,
          6.033333,
          5.871667,
          5.871667,
          6.676667,
          6.27,
          6.488333,
          6.686667,
          6.686667,
          5.840667,
          6.361667,
          6.146,
          6.640333,
          6.336667,
          5.951667
         ],
         "marker": {
          "color": "red"
         },
         "mode": "markers",
         "name": "",
         "showlegend": false,
         "subplot": "mapbox",
         "type": "scattermapbox"
        }
       ],
       "layout": {
        "height": 800,
        "hoverlabel": {
         "bgcolor": "rgb(255,255,255)"
        },
        "legend": {
         "tracegroupgap": 0
        },
        "mapbox": {
         "center": {
          "lat": 44.68436873451327,
          "lon": 6.314681451327433
         },
         "domain": {
          "x": [
           0,
           1
          ],
          "y": [
           0,
           1
          ]
         },
         "layers": [
          {
           "color": "rgba(0, 0, 0, 0.9)",
           "line": {
            "width": 1
           },
           "source": "https://www.data.gouv.fr/fr/datasets/r/90b9341a-e1f7-4d75-a73c-bbc010c7feeb",
           "sourcetype": "geojson",
           "type": "line"
          }
         ],
         "style": "open-street-map",
         "zoom": 8
        },
        "margin": {
         "t": 60
        },
        "template": {
         "data": {
          "bar": [
           {
            "error_x": {
             "color": "#2a3f5f"
            },
            "error_y": {
             "color": "#2a3f5f"
            },
            "marker": {
             "line": {
              "color": "#E5ECF6",
              "width": 0.5
             },
             "pattern": {
              "fillmode": "overlay",
              "size": 10,
              "solidity": 0.2
             }
            },
            "type": "bar"
           }
          ],
          "barpolar": [
           {
            "marker": {
             "line": {
              "color": "#E5ECF6",
              "width": 0.5
             },
             "pattern": {
              "fillmode": "overlay",
              "size": 10,
              "solidity": 0.2
             }
            },
            "type": "barpolar"
           }
          ],
          "carpet": [
           {
            "aaxis": {
             "endlinecolor": "#2a3f5f",
             "gridcolor": "white",
             "linecolor": "white",
             "minorgridcolor": "white",
             "startlinecolor": "#2a3f5f"
            },
            "baxis": {
             "endlinecolor": "#2a3f5f",
             "gridcolor": "white",
             "linecolor": "white",
             "minorgridcolor": "white",
             "startlinecolor": "#2a3f5f"
            },
            "type": "carpet"
           }
          ],
          "choropleth": [
           {
            "colorbar": {
             "outlinewidth": 0,
             "ticks": ""
            },
            "type": "choropleth"
           }
          ],
          "contour": [
           {
            "colorbar": {
             "outlinewidth": 0,
             "ticks": ""
            },
            "colorscale": [
             [
              0,
              "#0d0887"
             ],
             [
              0.1111111111111111,
              "#46039f"
             ],
             [
              0.2222222222222222,
              "#7201a8"
             ],
             [
              0.3333333333333333,
              "#9c179e"
             ],
             [
              0.4444444444444444,
              "#bd3786"
             ],
             [
              0.5555555555555556,
              "#d8576b"
             ],
             [
              0.6666666666666666,
              "#ed7953"
             ],
             [
              0.7777777777777778,
              "#fb9f3a"
             ],
             [
              0.8888888888888888,
              "#fdca26"
             ],
             [
              1,
              "#f0f921"
             ]
            ],
            "type": "contour"
           }
          ],
          "contourcarpet": [
           {
            "colorbar": {
             "outlinewidth": 0,
             "ticks": ""
            },
            "type": "contourcarpet"
           }
          ],
          "heatmap": [
           {
            "colorbar": {
             "outlinewidth": 0,
             "ticks": ""
            },
            "colorscale": [
             [
              0,
              "#0d0887"
             ],
             [
              0.1111111111111111,
              "#46039f"
             ],
             [
              0.2222222222222222,
              "#7201a8"
             ],
             [
              0.3333333333333333,
              "#9c179e"
             ],
             [
              0.4444444444444444,
              "#bd3786"
             ],
             [
              0.5555555555555556,
              "#d8576b"
             ],
             [
              0.6666666666666666,
              "#ed7953"
             ],
             [
              0.7777777777777778,
              "#fb9f3a"
             ],
             [
              0.8888888888888888,
              "#fdca26"
             ],
             [
              1,
              "#f0f921"
             ]
            ],
            "type": "heatmap"
           }
          ],
          "heatmapgl": [
           {
            "colorbar": {
             "outlinewidth": 0,
             "ticks": ""
            },
            "colorscale": [
             [
              0,
              "#0d0887"
             ],
             [
              0.1111111111111111,
              "#46039f"
             ],
             [
              0.2222222222222222,
              "#7201a8"
             ],
             [
              0.3333333333333333,
              "#9c179e"
             ],
             [
              0.4444444444444444,
              "#bd3786"
             ],
             [
              0.5555555555555556,
              "#d8576b"
             ],
             [
              0.6666666666666666,
              "#ed7953"
             ],
             [
              0.7777777777777778,
              "#fb9f3a"
             ],
             [
              0.8888888888888888,
              "#fdca26"
             ],
             [
              1,
              "#f0f921"
             ]
            ],
            "type": "heatmapgl"
           }
          ],
          "histogram": [
           {
            "marker": {
             "pattern": {
              "fillmode": "overlay",
              "size": 10,
              "solidity": 0.2
             }
            },
            "type": "histogram"
           }
          ],
          "histogram2d": [
           {
            "colorbar": {
             "outlinewidth": 0,
             "ticks": ""
            },
            "colorscale": [
             [
              0,
              "#0d0887"
             ],
             [
              0.1111111111111111,
              "#46039f"
             ],
             [
              0.2222222222222222,
              "#7201a8"
             ],
             [
              0.3333333333333333,
              "#9c179e"
             ],
             [
              0.4444444444444444,
              "#bd3786"
             ],
             [
              0.5555555555555556,
              "#d8576b"
             ],
             [
              0.6666666666666666,
              "#ed7953"
             ],
             [
              0.7777777777777778,
              "#fb9f3a"
             ],
             [
              0.8888888888888888,
              "#fdca26"
             ],
             [
              1,
              "#f0f921"
             ]
            ],
            "type": "histogram2d"
           }
          ],
          "histogram2dcontour": [
           {
            "colorbar": {
             "outlinewidth": 0,
             "ticks": ""
            },
            "colorscale": [
             [
              0,
              "#0d0887"
             ],
             [
              0.1111111111111111,
              "#46039f"
             ],
             [
              0.2222222222222222,
              "#7201a8"
             ],
             [
              0.3333333333333333,
              "#9c179e"
             ],
             [
              0.4444444444444444,
              "#bd3786"
             ],
             [
              0.5555555555555556,
              "#d8576b"
             ],
             [
              0.6666666666666666,
              "#ed7953"
             ],
             [
              0.7777777777777778,
              "#fb9f3a"
             ],
             [
              0.8888888888888888,
              "#fdca26"
             ],
             [
              1,
              "#f0f921"
             ]
            ],
            "type": "histogram2dcontour"
           }
          ],
          "mesh3d": [
           {
            "colorbar": {
             "outlinewidth": 0,
             "ticks": ""
            },
            "type": "mesh3d"
           }
          ],
          "parcoords": [
           {
            "line": {
             "colorbar": {
              "outlinewidth": 0,
              "ticks": ""
             }
            },
            "type": "parcoords"
           }
          ],
          "pie": [
           {
            "automargin": true,
            "type": "pie"
           }
          ],
          "scatter": [
           {
            "fillpattern": {
             "fillmode": "overlay",
             "size": 10,
             "solidity": 0.2
            },
            "type": "scatter"
           }
          ],
          "scatter3d": [
           {
            "line": {
             "colorbar": {
              "outlinewidth": 0,
              "ticks": ""
             }
            },
            "marker": {
             "colorbar": {
              "outlinewidth": 0,
              "ticks": ""
             }
            },
            "type": "scatter3d"
           }
          ],
          "scattercarpet": [
           {
            "marker": {
             "colorbar": {
              "outlinewidth": 0,
              "ticks": ""
             }
            },
            "type": "scattercarpet"
           }
          ],
          "scattergeo": [
           {
            "marker": {
             "colorbar": {
              "outlinewidth": 0,
              "ticks": ""
             }
            },
            "type": "scattergeo"
           }
          ],
          "scattergl": [
           {
            "marker": {
             "colorbar": {
              "outlinewidth": 0,
              "ticks": ""
             }
            },
            "type": "scattergl"
           }
          ],
          "scattermapbox": [
           {
            "marker": {
             "colorbar": {
              "outlinewidth": 0,
              "ticks": ""
             }
            },
            "type": "scattermapbox"
           }
          ],
          "scatterpolar": [
           {
            "marker": {
             "colorbar": {
              "outlinewidth": 0,
              "ticks": ""
             }
            },
            "type": "scatterpolar"
           }
          ],
          "scatterpolargl": [
           {
            "marker": {
             "colorbar": {
              "outlinewidth": 0,
              "ticks": ""
             }
            },
            "type": "scatterpolargl"
           }
          ],
          "scatterternary": [
           {
            "marker": {
             "colorbar": {
              "outlinewidth": 0,
              "ticks": ""
             }
            },
            "type": "scatterternary"
           }
          ],
          "surface": [
           {
            "colorbar": {
             "outlinewidth": 0,
             "ticks": ""
            },
            "colorscale": [
             [
              0,
              "#0d0887"
             ],
             [
              0.1111111111111111,
              "#46039f"
             ],
             [
              0.2222222222222222,
              "#7201a8"
             ],
             [
              0.3333333333333333,
              "#9c179e"
             ],
             [
              0.4444444444444444,
              "#bd3786"
             ],
             [
              0.5555555555555556,
              "#d8576b"
             ],
             [
              0.6666666666666666,
              "#ed7953"
             ],
             [
              0.7777777777777778,
              "#fb9f3a"
             ],
             [
              0.8888888888888888,
              "#fdca26"
             ],
             [
              1,
              "#f0f921"
             ]
            ],
            "type": "surface"
           }
          ],
          "table": [
           {
            "cells": {
             "fill": {
              "color": "#EBF0F8"
             },
             "line": {
              "color": "white"
             }
            },
            "header": {
             "fill": {
              "color": "#C8D4E3"
             },
             "line": {
              "color": "white"
             }
            },
            "type": "table"
           }
          ]
         },
         "layout": {
          "annotationdefaults": {
           "arrowcolor": "#2a3f5f",
           "arrowhead": 0,
           "arrowwidth": 1
          },
          "autotypenumbers": "strict",
          "coloraxis": {
           "colorbar": {
            "outlinewidth": 0,
            "ticks": ""
           }
          },
          "colorscale": {
           "diverging": [
            [
             0,
             "#8e0152"
            ],
            [
             0.1,
             "#c51b7d"
            ],
            [
             0.2,
             "#de77ae"
            ],
            [
             0.3,
             "#f1b6da"
            ],
            [
             0.4,
             "#fde0ef"
            ],
            [
             0.5,
             "#f7f7f7"
            ],
            [
             0.6,
             "#e6f5d0"
            ],
            [
             0.7,
             "#b8e186"
            ],
            [
             0.8,
             "#7fbc41"
            ],
            [
             0.9,
             "#4d9221"
            ],
            [
             1,
             "#276419"
            ]
           ],
           "sequential": [
            [
             0,
             "#0d0887"
            ],
            [
             0.1111111111111111,
             "#46039f"
            ],
            [
             0.2222222222222222,
             "#7201a8"
            ],
            [
             0.3333333333333333,
             "#9c179e"
            ],
            [
             0.4444444444444444,
             "#bd3786"
            ],
            [
             0.5555555555555556,
             "#d8576b"
            ],
            [
             0.6666666666666666,
             "#ed7953"
            ],
            [
             0.7777777777777778,
             "#fb9f3a"
            ],
            [
             0.8888888888888888,
             "#fdca26"
            ],
            [
             1,
             "#f0f921"
            ]
           ],
           "sequentialminus": [
            [
             0,
             "#0d0887"
            ],
            [
             0.1111111111111111,
             "#46039f"
            ],
            [
             0.2222222222222222,
             "#7201a8"
            ],
            [
             0.3333333333333333,
             "#9c179e"
            ],
            [
             0.4444444444444444,
             "#bd3786"
            ],
            [
             0.5555555555555556,
             "#d8576b"
            ],
            [
             0.6666666666666666,
             "#ed7953"
            ],
            [
             0.7777777777777778,
             "#fb9f3a"
            ],
            [
             0.8888888888888888,
             "#fdca26"
            ],
            [
             1,
             "#f0f921"
            ]
           ]
          },
          "colorway": [
           "#636efa",
           "#EF553B",
           "#00cc96",
           "#ab63fa",
           "#FFA15A",
           "#19d3f3",
           "#FF6692",
           "#B6E880",
           "#FF97FF",
           "#FECB52"
          ],
          "font": {
           "color": "#2a3f5f"
          },
          "geo": {
           "bgcolor": "white",
           "lakecolor": "white",
           "landcolor": "#E5ECF6",
           "showlakes": true,
           "showland": true,
           "subunitcolor": "white"
          },
          "hoverlabel": {
           "align": "left"
          },
          "hovermode": "closest",
          "mapbox": {
           "style": "light"
          },
          "paper_bgcolor": "white",
          "plot_bgcolor": "#E5ECF6",
          "polar": {
           "angularaxis": {
            "gridcolor": "white",
            "linecolor": "white",
            "ticks": ""
           },
           "bgcolor": "#E5ECF6",
           "radialaxis": {
            "gridcolor": "white",
            "linecolor": "white",
            "ticks": ""
           }
          },
          "scene": {
           "xaxis": {
            "backgroundcolor": "#E5ECF6",
            "gridcolor": "white",
            "gridwidth": 2,
            "linecolor": "white",
            "showbackground": true,
            "ticks": "",
            "zerolinecolor": "white"
           },
           "yaxis": {
            "backgroundcolor": "#E5ECF6",
            "gridcolor": "white",
            "gridwidth": 2,
            "linecolor": "white",
            "showbackground": true,
            "ticks": "",
            "zerolinecolor": "white"
           },
           "zaxis": {
            "backgroundcolor": "#E5ECF6",
            "gridcolor": "white",
            "gridwidth": 2,
            "linecolor": "white",
            "showbackground": true,
            "ticks": "",
            "zerolinecolor": "white"
           }
          },
          "shapedefaults": {
           "line": {
            "color": "#2a3f5f"
           }
          },
          "ternary": {
           "aaxis": {
            "gridcolor": "white",
            "linecolor": "white",
            "ticks": ""
           },
           "baxis": {
            "gridcolor": "white",
            "linecolor": "white",
            "ticks": ""
           },
           "bgcolor": "#E5ECF6",
           "caxis": {
            "gridcolor": "white",
            "linecolor": "white",
            "ticks": ""
           }
          },
          "title": {
           "x": 0.05
          },
          "xaxis": {
           "automargin": true,
           "gridcolor": "white",
           "linecolor": "white",
           "ticks": "",
           "title": {
            "standoff": 15
           },
           "zerolinecolor": "white",
           "zerolinewidth": 2
          },
          "yaxis": {
           "automargin": true,
           "gridcolor": "white",
           "linecolor": "white",
           "ticks": "",
           "title": {
            "standoff": 15
           },
           "zerolinecolor": "white",
           "zerolinewidth": 2
          }
         }
        },
        "title": {
         "text": "Hautes-Alpes : postes actifs en 2025",
         "x": 0.5
        },
        "width": 900
       }
      }
     },
     "metadata": {},
     "output_type": "display_data"
    }
   ],
   "source": [
    "liste_05 = synthétiser_information('05')\n",
    "cartographier_postes(liste_05, dept = '05')"
   ]
  },
  {
   "cell_type": "code",
   "execution_count": 11,
   "metadata": {},
   "outputs": [
    {
     "data": {
      "text/html": [
       "<div>\n",
       "<style scoped>\n",
       "    .dataframe tbody tr th:only-of-type {\n",
       "        vertical-align: middle;\n",
       "    }\n",
       "\n",
       "    .dataframe tbody tr th {\n",
       "        vertical-align: top;\n",
       "    }\n",
       "\n",
       "    .dataframe thead th {\n",
       "        text-align: right;\n",
       "    }\n",
       "</style>\n",
       "<table border=\"1\" class=\"dataframe\">\n",
       "  <thead>\n",
       "    <tr style=\"text-align: right;\">\n",
       "      <th></th>\n",
       "      <th>poste</th>\n",
       "      <th>nom</th>\n",
       "      <th>valeurs</th>\n",
       "      <th>alt</th>\n",
       "      <th>lat</th>\n",
       "      <th>lon</th>\n",
       "      <th>début</th>\n",
       "      <th>fin</th>\n",
       "      <th>pluie</th>\n",
       "      <th>neige</th>\n",
       "      <th>HN</th>\n",
       "      <th>TM</th>\n",
       "      <th>TN</th>\n",
       "      <th>TX</th>\n",
       "    </tr>\n",
       "  </thead>\n",
       "  <tbody>\n",
       "    <tr>\n",
       "      <th>0</th>\n",
       "      <td>05001001</td>\n",
       "      <td>Abries</td>\n",
       "      <td>36317</td>\n",
       "      <td>1560</td>\n",
       "      <td>44.796667</td>\n",
       "      <td>6.928333</td>\n",
       "      <td>1932-01-01</td>\n",
       "      <td>2025-05-31</td>\n",
       "      <td>True</td>\n",
       "      <td>False</td>\n",
       "      <td>False</td>\n",
       "      <td>False</td>\n",
       "      <td>True</td>\n",
       "      <td>True</td>\n",
       "    </tr>\n",
       "    <tr>\n",
       "      <th>0</th>\n",
       "      <td>05001401</td>\n",
       "      <td>Abries -S-</td>\n",
       "      <td>1</td>\n",
       "      <td>2070</td>\n",
       "      <td>44.791333</td>\n",
       "      <td>6.949667</td>\n",
       "      <td>2007-01-01</td>\n",
       "      <td>2007-01-01</td>\n",
       "      <td>False</td>\n",
       "      <td>False</td>\n",
       "      <td>False</td>\n",
       "      <td>False</td>\n",
       "      <td>False</td>\n",
       "      <td>False</td>\n",
       "    </tr>\n",
       "    <tr>\n",
       "      <th>0</th>\n",
       "      <td>05001400</td>\n",
       "      <td>Abries_Nivo</td>\n",
       "      <td>5830</td>\n",
       "      <td>2018</td>\n",
       "      <td>44.792833</td>\n",
       "      <td>6.947000</td>\n",
       "      <td>1985-12-23</td>\n",
       "      <td>2025-03-22</td>\n",
       "      <td>True</td>\n",
       "      <td>True</td>\n",
       "      <td>True</td>\n",
       "      <td>False</td>\n",
       "      <td>True</td>\n",
       "      <td>True</td>\n",
       "    </tr>\n",
       "    <tr>\n",
       "      <th>0</th>\n",
       "      <td>05139006</td>\n",
       "      <td>Agnieres-En-Devoluy</td>\n",
       "      <td>52188</td>\n",
       "      <td>1244</td>\n",
       "      <td>44.696167</td>\n",
       "      <td>5.880833</td>\n",
       "      <td>1928-11-01</td>\n",
       "      <td>2025-06-13</td>\n",
       "      <td>True</td>\n",
       "      <td>True</td>\n",
       "      <td>True</td>\n",
       "      <td>True</td>\n",
       "      <td>True</td>\n",
       "      <td>True</td>\n",
       "    </tr>\n",
       "    <tr>\n",
       "      <th>0</th>\n",
       "      <td>05004001</td>\n",
       "      <td>Ancelle</td>\n",
       "      <td>48053</td>\n",
       "      <td>1354</td>\n",
       "      <td>44.624500</td>\n",
       "      <td>6.209833</td>\n",
       "      <td>1928-03-01</td>\n",
       "      <td>2025-06-13</td>\n",
       "      <td>True</td>\n",
       "      <td>True</td>\n",
       "      <td>True</td>\n",
       "      <td>True</td>\n",
       "      <td>True</td>\n",
       "      <td>True</td>\n",
       "    </tr>\n",
       "    <tr>\n",
       "      <th>...</th>\n",
       "      <td>...</td>\n",
       "      <td>...</td>\n",
       "      <td>...</td>\n",
       "      <td>...</td>\n",
       "      <td>...</td>\n",
       "      <td>...</td>\n",
       "      <td>...</td>\n",
       "      <td>...</td>\n",
       "      <td>...</td>\n",
       "      <td>...</td>\n",
       "      <td>...</td>\n",
       "      <td>...</td>\n",
       "      <td>...</td>\n",
       "      <td>...</td>\n",
       "    </tr>\n",
       "    <tr>\n",
       "      <th>0</th>\n",
       "      <td>05181002</td>\n",
       "      <td>Villar D'Arene</td>\n",
       "      <td>15211</td>\n",
       "      <td>1665</td>\n",
       "      <td>45.030833</td>\n",
       "      <td>6.361667</td>\n",
       "      <td>2004-07-31</td>\n",
       "      <td>2025-06-13</td>\n",
       "      <td>True</td>\n",
       "      <td>True</td>\n",
       "      <td>False</td>\n",
       "      <td>True</td>\n",
       "      <td>True</td>\n",
       "      <td>True</td>\n",
       "    </tr>\n",
       "    <tr>\n",
       "      <th>0</th>\n",
       "      <td>05182001</td>\n",
       "      <td>Villar Loubiere</td>\n",
       "      <td>48319</td>\n",
       "      <td>1072</td>\n",
       "      <td>44.826833</td>\n",
       "      <td>6.146000</td>\n",
       "      <td>1928-01-01</td>\n",
       "      <td>2025-06-13</td>\n",
       "      <td>True</td>\n",
       "      <td>True</td>\n",
       "      <td>True</td>\n",
       "      <td>True</td>\n",
       "      <td>True</td>\n",
       "      <td>True</td>\n",
       "    </tr>\n",
       "    <tr>\n",
       "      <th>0</th>\n",
       "      <td>05183001</td>\n",
       "      <td>Villar St Pancrace</td>\n",
       "      <td>15976</td>\n",
       "      <td>1310</td>\n",
       "      <td>44.880333</td>\n",
       "      <td>6.640333</td>\n",
       "      <td>2003-08-01</td>\n",
       "      <td>2025-06-13</td>\n",
       "      <td>True</td>\n",
       "      <td>True</td>\n",
       "      <td>True</td>\n",
       "      <td>True</td>\n",
       "      <td>True</td>\n",
       "      <td>True</td>\n",
       "    </tr>\n",
       "    <tr>\n",
       "      <th>0</th>\n",
       "      <td>05181001</td>\n",
       "      <td>Villar-D'Arene Village</td>\n",
       "      <td>5586</td>\n",
       "      <td>1650</td>\n",
       "      <td>45.041667</td>\n",
       "      <td>6.336667</td>\n",
       "      <td>1944-06-01</td>\n",
       "      <td>1967-01-31</td>\n",
       "      <td>True</td>\n",
       "      <td>False</td>\n",
       "      <td>False</td>\n",
       "      <td>False</td>\n",
       "      <td>False</td>\n",
       "      <td>False</td>\n",
       "    </tr>\n",
       "    <tr>\n",
       "      <th>0</th>\n",
       "      <td>05184002</td>\n",
       "      <td>Vitrolles</td>\n",
       "      <td>11056</td>\n",
       "      <td>595</td>\n",
       "      <td>44.408667</td>\n",
       "      <td>5.951667</td>\n",
       "      <td>1997-02-01</td>\n",
       "      <td>2012-12-31</td>\n",
       "      <td>True</td>\n",
       "      <td>False</td>\n",
       "      <td>False</td>\n",
       "      <td>True</td>\n",
       "      <td>True</td>\n",
       "      <td>True</td>\n",
       "    </tr>\n",
       "  </tbody>\n",
       "</table>\n",
       "<p>113 rows × 14 columns</p>\n",
       "</div>"
      ],
      "text/plain": [
       "       poste                     nom valeurs   alt        lat       lon  \\\n",
       "0   05001001                  Abries   36317  1560  44.796667  6.928333   \n",
       "0   05001401              Abries -S-       1  2070  44.791333  6.949667   \n",
       "0   05001400             Abries_Nivo    5830  2018  44.792833  6.947000   \n",
       "0   05139006     Agnieres-En-Devoluy   52188  1244  44.696167  5.880833   \n",
       "0   05004001                 Ancelle   48053  1354  44.624500  6.209833   \n",
       "..       ...                     ...     ...   ...        ...       ...   \n",
       "0   05181002          Villar D'Arene   15211  1665  45.030833  6.361667   \n",
       "0   05182001         Villar Loubiere   48319  1072  44.826833  6.146000   \n",
       "0   05183001      Villar St Pancrace   15976  1310  44.880333  6.640333   \n",
       "0   05181001  Villar-D'Arene Village    5586  1650  45.041667  6.336667   \n",
       "0   05184002               Vitrolles   11056   595  44.408667  5.951667   \n",
       "\n",
       "         début         fin  pluie  neige     HN     TM     TN     TX  \n",
       "0   1932-01-01  2025-05-31   True  False  False  False   True   True  \n",
       "0   2007-01-01  2007-01-01  False  False  False  False  False  False  \n",
       "0   1985-12-23  2025-03-22   True   True   True  False   True   True  \n",
       "0   1928-11-01  2025-06-13   True   True   True   True   True   True  \n",
       "0   1928-03-01  2025-06-13   True   True   True   True   True   True  \n",
       "..         ...         ...    ...    ...    ...    ...    ...    ...  \n",
       "0   2004-07-31  2025-06-13   True   True  False   True   True   True  \n",
       "0   1928-01-01  2025-06-13   True   True   True   True   True   True  \n",
       "0   2003-08-01  2025-06-13   True   True   True   True   True   True  \n",
       "0   1944-06-01  1967-01-31   True  False  False  False  False  False  \n",
       "0   1997-02-01  2012-12-31   True  False  False   True   True   True  \n",
       "\n",
       "[113 rows x 14 columns]"
      ]
     },
     "execution_count": 11,
     "metadata": {},
     "output_type": "execute_result"
    }
   ],
   "source": [
    "liste_05"
   ]
  },
  {
   "cell_type": "markdown",
   "metadata": {},
   "source": [
    "# Création pour les Alpes du Sud"
   ]
  },
  {
   "cell_type": "code",
   "execution_count": 25,
   "metadata": {},
   "outputs": [
    {
     "name": "stderr",
     "output_type": "stream",
     "text": [
      "100%|██████████| 6/6 [00:28<00:00,  4.72s/it]\n",
      "100%|██████████| 6/6 [00:24<00:00,  4.10s/it]\n",
      "100%|██████████| 6/6 [00:42<00:00,  7.17s/it]\n"
     ]
    },
    {
     "data": {
      "application/vnd.plotly.v1+json": {
       "config": {
        "plotlyServerURL": "https://plot.ly"
       },
       "data": [
        {
         "customdata": [
          [
           "05001001",
           1560,
           "1932-01-01",
           "2025-05-31"
          ],
          [
           "05001401",
           2070,
           "2007-01-01",
           "2007-01-01"
          ],
          [
           "05001400",
           2018,
           "1985-12-23",
           "2025-03-22"
          ],
          [
           "05139006",
           1244,
           "1928-11-01",
           "2025-06-13"
          ],
          [
           "05004001",
           1354,
           "1928-03-01",
           "2025-06-13"
          ],
          [
           "05007003",
           1825,
           "2007-07-05",
           "2025-06-13"
          ],
          [
           "05007002",
           1763,
           "1936-04-01",
           "1943-06-30"
          ],
          [
           "05007001",
           1690,
           "1947-01-01",
           "2025-05-31"
          ],
          [
           "05013003",
           866,
           "2000-01-01",
           "2023-12-31"
          ],
          [
           "05013001",
           845,
           "1958-10-01",
           "1999-12-31"
          ],
          [
           "05023008",
           1352,
           "1933-10-01",
           "1945-10-31"
          ],
          [
           "05023001",
           1324,
           "1933-01-01",
           "2005-12-31"
          ],
          [
           "05023002",
           1406,
           "1946-08-01",
           "1966-02-28"
          ],
          [
           "05023003",
           1320,
           "1928-01-16",
           "1933-09-30"
          ],
          [
           "05026001",
           1665,
           "1931-01-01",
           "2025-05-31"
          ],
          [
           "05026400",
           1665,
           "1979-12-10",
           "2025-06-14"
          ],
          [
           "05027001",
           1614,
           "1933-01-01",
           "2025-06-13"
          ],
          [
           "05028001",
           755,
           "1989-01-01",
           "2004-06-30"
          ],
          [
           "05031001",
           1100,
           "1928-01-01",
           "2005-10-31"
          ],
          [
           "05031002",
           930,
           "1960-07-01",
           "1970-05-31"
          ],
          [
           "05032002",
           1275,
           "1928-01-01",
           "2025-05-31"
          ],
          [
           "05064001",
           1270,
           "1928-01-01",
           "2025-05-31"
          ],
          [
           "05038001",
           1355,
           "1928-01-15",
           "2025-06-13"
          ],
          [
           "05077402",
           2630,
           "1994-08-31",
           "2025-06-13"
          ],
          [
           "05044001",
           1580,
           "1958-01-01",
           "1977-03-31"
          ],
          [
           "05139001",
           1350,
           "1958-01-01",
           "1980-12-31"
          ],
          [
           "05046001",
           873,
           "1877-01-01",
           "2025-06-13"
          ],
          [
           "05049001",
           1150,
           "1939-01-01",
           "1958-09-30"
          ],
          [
           "05052002",
           1050,
           "1937-07-01",
           "1940-04-30"
          ],
          [
           "05052001",
           880,
           "1955-10-19",
           "1963-09-30"
          ],
          [
           "05053001",
           603,
           "1928-01-01",
           "1938-09-30"
          ],
          [
           "05058001",
           1320,
           "1958-08-01",
           "2002-01-31"
          ],
          [
           "05058002",
           1130,
           "1933-01-01",
           "1959-10-31"
          ],
          [
           "05079402",
           2559,
           "2015-10-07",
           "2025-06-13"
          ],
          [
           "05061008",
           750,
           "1877-01-01",
           "1998-12-31"
          ],
          [
           "05061009",
           885,
           "2003-12-01",
           "2025-06-13"
          ],
          [
           "05061400",
           1240,
           "2009-12-12",
           "2023-03-03"
          ],
          [
           "05061002",
           1249,
           "1935-01-01",
           "1966-01-31"
          ],
          [
           "05061003",
           735,
           "1943-12-01",
           "1949-12-31"
          ],
          [
           "05065001",
           980,
           "1928-01-01",
           "1975-10-31"
          ],
          [
           "05055001",
           825,
           "1997-06-01",
           "2025-06-13"
          ],
          [
           "05063001",
           1790,
           "1921-01-01",
           "2025-05-31"
          ],
          [
           "05063410",
           3196,
           "2020-10-13",
           "2025-05-03"
          ],
          [
           "05063402",
           3093,
           "1990-03-22",
           "2025-06-13"
          ],
          [
           "05124001",
           815,
           "1954-01-01",
           "1962-12-31"
          ],
          [
           "05162001",
           580,
           "1950-01-01",
           "1975-05-31"
          ],
          [
           "05070003",
           565,
           "1992-12-01",
           "2025-06-13"
          ],
          [
           "05070001",
           575,
           "1940-01-01",
           "2025-05-31"
          ],
          [
           "05079002",
           1947,
           "1950-04-01",
           "1965-08-31"
          ],
          [
           "05079001",
           1459,
           "1924-01-01",
           "2025-05-31"
          ],
          [
           "05158001",
           801,
           "2003-05-01",
           "2024-03-31"
          ],
          [
           "05098001",
           1457,
           "1931-03-01",
           "2025-06-13"
          ],
          [
           "05098402",
           1895,
           "2002-12-20",
           "2025-04-13"
          ],
          [
           "05064403",
           1270,
           "2000-08-01",
           "2025-06-14"
          ],
          [
           "05180001",
           1120,
           "1936-01-01",
           "1937-08-31"
          ],
          [
           "05077404",
           2049,
           "2024-03-07",
           "2025-03-23"
          ],
          [
           "05085001",
           1848,
           "1939-01-02",
           "2015-03-31"
          ],
          [
           "05085403",
           2134,
           "2004-12-28",
           "2025-04-06"
          ],
          [
           "05086001",
           815,
           "1938-11-01",
           "1974-12-31"
          ],
          [
           "05088001",
           760,
           "1928-01-01",
           "1938-12-31"
          ],
          [
           "05090001",
           1100,
           "1928-01-01",
           "2014-12-31"
          ],
          [
           "05090002",
           1250,
           "1955-10-01",
           "2025-06-13"
          ],
          [
           "05093001",
           1603,
           "1928-04-01",
           "2025-05-31"
          ],
          [
           "05096002",
           1555,
           "1958-01-01",
           "1970-10-31"
          ],
          [
           "05096404",
           2280,
           "2006-12-21",
           "2025-06-13"
          ],
          [
           "05044400",
           2545,
           "2010-08-17",
           "2025-06-13"
          ],
          [
           "05101001",
           1270,
           "1936-06-01",
           "2025-06-13"
          ],
          [
           "05101400",
           1270,
           "1994-12-27",
           "2024-11-17"
          ],
          [
           "05110400",
           1680,
           "1979-12-17",
           "2025-04-13"
          ],
          [
           "05110001",
           1388,
           "1955-10-19",
           "2025-06-13"
          ],
          [
           "05114002",
           1429,
           "1938-05-01",
           "1998-08-31"
          ],
          [
           "05114402",
           1716,
           "2007-03-30",
           "2025-03-23"
          ],
          [
           "05115001",
           670,
           "1928-01-01",
           "1974-04-30"
          ],
          [
           "05118003",
           520,
           "2002-04-01",
           "2012-12-31"
          ],
          [
           "05118002",
           530,
           "1985-03-01",
           "2020-12-31"
          ],
          [
           "05119402",
           2050,
           "2012-12-24",
           "2025-04-13"
          ],
          [
           "05120002",
           1670,
           "2004-10-01",
           "2025-06-13"
          ],
          [
           "05126001",
           625,
           "1971-12-01",
           "2025-06-13"
          ],
          [
           "05127001",
           675,
           "1958-01-01",
           "2025-05-31"
          ],
          [
           "05133003",
           1350,
           "1928-01-01",
           "1928-08-31"
          ],
          [
           "05136001",
           904,
           "1976-09-01",
           "1982-04-30"
          ],
          [
           "05142002",
           775,
           "1935-02-01",
           "1974-12-31"
          ],
          [
           "05145001",
           1120,
           "1935-02-01",
           "1975-12-31"
          ],
          [
           "05146003",
           1050,
           "1928-01-01",
           "1960-11-09"
          ],
          [
           "05154001",
           780,
           "1938-08-02",
           "1968-10-31"
          ],
          [
           "05133400",
           1905,
           "1976-01-18",
           "2025-04-13"
          ],
          [
           "05079400",
           2185,
           "1983-12-12",
           "2025-04-21"
          ],
          [
           "05166001",
           652,
           "1877-01-01",
           "2025-05-31"
          ],
          [
           "05132002",
           1015,
           "1991-01-01",
           "2003-07-31"
          ],
          [
           "05136002",
           906,
           "2006-09-01",
           "2025-06-13"
          ],
          [
           "05139400",
           1281,
           "1973-12-16",
           "2019-03-20"
          ],
          [
           "05139002",
           1300,
           "1928-01-01",
           "2025-05-31"
          ],
          [
           "05142001",
           935,
           "1928-01-01",
           "2025-06-13"
          ],
          [
           "05145002",
           1210,
           "2003-08-01",
           "2025-06-13"
          ],
          [
           "05157001",
           2035,
           "1929-05-01",
           "2025-05-31"
          ],
          [
           "05157400",
           2140,
           "1979-12-16",
           "2023-12-25"
          ],
          [
           "05132001",
           1005,
           "1928-01-01",
           "2025-05-31"
          ],
          [
           "05146001",
           925,
           "1961-06-01",
           "1996-08-31"
          ],
          [
           "05139405",
           1915,
           "2001-12-26",
           "2023-01-02"
          ],
          [
           "05170001",
           593,
           "1964-05-28",
           "2025-06-13"
          ],
          [
           "05173001",
           574,
           "1935-04-01",
           "1939-05-31"
          ],
          [
           "05173002",
           590,
           "1985-03-01",
           "1987-10-31"
          ],
          [
           "05174001",
           1355,
           "1936-06-01",
           "1969-12-31"
          ],
          [
           "05064400",
           2560,
           "1983-01-13",
           "1988-02-11"
          ],
          [
           "05175001",
           1150,
           "1931-01-01",
           "1936-05-31"
          ],
          [
           "05177001",
           1850,
           "1935-11-02",
           "1971-01-31"
          ],
          [
           "05177003",
           1673,
           "1931-04-01",
           "1935-02-28"
          ],
          [
           "05179001",
           823,
           "1964-05-01",
           "2025-06-13"
          ],
          [
           "05181002",
           1665,
           "2004-07-31",
           "2025-06-13"
          ],
          [
           "05182001",
           1072,
           "1928-01-01",
           "2025-06-13"
          ],
          [
           "05183001",
           1310,
           "2003-08-01",
           "2025-06-13"
          ],
          [
           "05181001",
           1650,
           "1944-06-01",
           "1967-01-31"
          ],
          [
           "05184002",
           595,
           "1997-02-01",
           "2012-12-31"
          ],
          [
           "04001002",
           655,
           "1997-01-01",
           "2003-12-31"
          ],
          [
           "04001001",
           700,
           "1946-03-01",
           "1946-11-30"
          ],
          [
           "04004001",
           450,
           "1951-01-01",
           "1976-02-29"
          ],
          [
           "04006004",
           1370,
           "2001-11-01",
           "2010-04-30"
          ],
          [
           "04006005",
           1400,
           "2010-05-26",
           "2025-06-13"
          ],
          [
           "04008001",
           705,
           "1929-01-01",
           "1965-05-31"
          ],
          [
           "04018001",
           780,
           "1940-03-01",
           "2006-05-31"
          ],
          [
           "04018003",
           800,
           "1928-01-01",
           "1940-02-29"
          ],
          [
           "04019006",
           1173,
           "1872-02-01",
           "1877-11-30"
          ],
          [
           "04019001",
           1155,
           "1927-08-01",
           "2025-06-13"
          ],
          [
           "04019005",
           1135,
           "1928-01-01",
           "1939-07-31"
          ],
          [
           "04022001",
           743,
           "1966-07-01",
           "2025-06-13"
          ],
          [
           "04023001",
           886,
           "1997-01-01",
           "2025-06-13"
          ],
          [
           "04024001",
           1050,
           "1933-08-01",
           "2017-12-31"
          ],
          [
           "04024002",
           920,
           "1947-01-01",
           "1951-03-31"
          ],
          [
           "04024004",
           960,
           "2023-08-30",
           "2025-06-13"
          ],
          [
           "04027002",
           520,
           "1997-01-01",
           "2020-12-31"
          ],
          [
           "04027001",
           600,
           "1976-12-01",
           "1996-01-31"
          ],
          [
           "04039001",
           729,
           "1968-03-01",
           "2025-06-08"
          ],
          [
           "04039011",
           723,
           "1933-08-01",
           "1947-09-30"
          ],
          [
           "04040001",
           1199,
           "1933-08-01",
           "1990-06-30"
          ],
          [
           "04040002",
           1070,
           "1990-09-01",
           "1991-01-31"
          ],
          [
           "04045001",
           350,
           "2003-11-01",
           "2020-12-31"
          ],
          [
           "04049005",
           460,
           "1950-12-01",
           "1953-12-31"
          ],
          [
           "04049002",
           423,
           "1928-01-01",
           "1953-12-30"
          ],
          [
           "04051001",
           660,
           "1963-08-01",
           "2020-12-31"
          ],
          [
           "04197011",
           300,
           "1959-01-01",
           "1966-04-30"
          ],
          [
           "04061001",
           1200,
           "1933-08-01",
           "1974-11-30"
          ],
          [
           "04193006",
           1960,
           "1960-08-01",
           "1971-10-31"
          ],
          [
           "04063001",
           304,
           "1963-01-01",
           "1979-12-31"
          ],
          [
           "04063002",
           275,
           "1958-01-01",
           "1962-12-31"
          ],
          [
           "04068001",
           427,
           "2003-08-01",
           "2025-06-13"
          ],
          [
           "04070008",
           585,
           "1950-03-01",
           "2003-08-10"
          ],
          [
           "04070007",
           560,
           "1985-01-01",
           "1992-11-30"
          ],
          [
           "04070009",
           554,
           "2003-08-01",
           "2025-06-13"
          ],
          [
           "04070005",
           580,
           "1872-10-01",
           "1872-10-31"
          ],
          [
           "04070003",
           1025,
           "1933-08-01",
           "1978-05-31"
          ],
          [
           "04070002",
           595,
           "1970-08-01",
           "1974-10-31"
          ],
          [
           "04074001",
           600,
           "1961-10-04",
           "1997-05-31"
          ],
          [
           "04076001",
           475,
           "1966-02-01",
           "2018-12-31"
          ],
          [
           "04085001",
           875,
           "1928-01-01",
           "1948-05-31"
          ],
          [
           "04088001",
           535,
           "1928-01-01",
           "2025-05-31"
          ],
          [
           "04088003",
           470,
           "2000-07-01",
           "2002-07-31"
          ],
          [
           "04094002",
           359,
           "1981-01-01",
           "1996-03-31"
          ],
          [
           "04094001",
           296,
           "1962-10-01",
           "1993-01-31"
          ],
          [
           "04096001",
           1510,
           "1960-08-01",
           "2007-03-31"
          ],
          [
           "04096002",
           1240,
           "1985-01-01",
           "2025-06-13"
          ],
          [
           "04079001",
           435,
           "1963-08-01",
           "1973-05-31"
          ],
          [
           "04034003",
           385,
           "1950-05-01",
           "2009-12-31"
          ],
          [
           "04006002",
           1817,
           "1964-06-01",
           "2007-04-30"
          ],
          [
           "04006400",
           1900,
           "1971-12-05",
           "2025-04-06"
          ],
          [
           "04134003",
           750,
           "2004-09-01",
           "2020-12-31"
          ],
          [
           "04134002",
           665,
           "1933-08-01",
           "2025-06-13"
          ],
          [
           "04134001",
           690,
           "1956-06-16",
           "1981-12-31"
          ],
          [
           "04136001",
           920,
           "2005-06-29",
           "2025-06-13"
          ],
          [
           "04144001",
           1110,
           "1962-10-01",
           "1971-01-31"
          ],
          [
           "04099001",
           1123,
           "1952-09-25",
           "2021-01-01"
          ],
          [
           "04100001",
           1700,
           "1960-08-01",
           "1962-01-31"
          ],
          [
           "04101001",
           747,
           "2006-03-01",
           "2020-12-31"
          ],
          [
           "04102002",
           900,
           "1928-01-01",
           "1991-01-30"
          ],
          [
           "04102004",
           1070,
           "1991-02-01",
           "1993-02-28"
          ],
          [
           "04041001",
           473,
           "1958-01-01",
           "2025-06-13"
          ],
          [
           "04102005",
           765,
           "1955-10-20",
           "1956-06-30"
          ],
          [
           "04106001",
           385,
           "2004-07-01",
           "2008-09-30"
          ],
          [
           "04108001",
           430,
           "1934-10-01",
           "1945-09-30"
          ],
          [
           "04193400",
           1908,
           "1980-12-16",
           "2020-07-25"
          ],
          [
           "04111001",
           442,
           "1928-01-01",
           "1945-07-31"
          ],
          [
           "04112009",
           457,
           "2010-06-17",
           "2014-07-31"
          ],
          [
           "04112001",
           380,
           "1967-01-01",
           "2004-02-29"
          ],
          [
           "04112006",
           289,
           "2005-01-01",
           "2010-06-14"
          ],
          [
           "04112003",
           610,
           "1942-04-01",
           "1944-04-30"
          ],
          [
           "04112002",
           350,
           "1946-11-19",
           "1962-09-30"
          ],
          [
           "04112010",
           375,
           "2014-08-01",
           "2023-12-31"
          ],
          [
           "04115001",
           1090,
           "2007-06-16",
           "2025-06-13"
          ],
          [
           "04116001",
           375,
           "1958-01-01",
           "1996-12-31"
          ],
          [
           "04161001",
           1209,
           "1931-04-01",
           "1939-08-31"
          ],
          [
           "04120001",
           1599,
           "1931-04-01",
           "1939-05-31"
          ],
          [
           "04123001",
           560,
           "1953-01-01",
           "2004-12-31"
          ],
          [
           "04124001",
           480,
           "1972-06-01",
           "1975-09-30"
          ],
          [
           "04126001",
           1197,
           "2007-10-31",
           "2025-06-13"
          ],
          [
           "04135001",
           610,
           "1970-11-01",
           "1993-03-31"
          ],
          [
           "04135002",
           865,
           "1972-06-01",
           "1983-11-30"
          ],
          [
           "04135003",
           631,
           "1972-11-01",
           "1974-07-31"
          ],
          [
           "04139001",
           558,
           "1928-01-01",
           "1949-09-30"
          ],
          [
           "04039002",
           820,
           "1947-11-01",
           "1968-02-29"
          ],
          [
           "04149001",
           411,
           "1928-01-01",
           "1945-08-31"
          ],
          [
           "04195001",
           1132,
           "1971-06-01",
           "1976-04-25"
          ],
          [
           "04019404",
           2100,
           "1996-12-21",
           "2025-04-04"
          ],
          [
           "04155001",
           968,
           "1947-03-01",
           "1957-06-30"
          ],
          [
           "04157001",
           775,
           "1988-05-01",
           "1993-08-31"
          ],
          [
           "04158001",
           380,
           "1971-03-01",
           "2008-02-29"
          ],
          [
           "04158002",
           400,
           "2008-03-01",
           "2021-01-01"
          ],
          [
           "04160002",
           560,
           "1928-01-01",
           "1979-08-31"
          ],
          [
           "04160001",
           455,
           "1980-03-01",
           "2007-04-30"
          ],
          [
           "04096401",
           2550,
           "1995-09-27",
           "2025-06-13"
          ],
          [
           "04172001",
           665,
           "1976-03-01",
           "2009-12-31"
          ],
          [
           "04178002",
           1530,
           "1961-10-04",
           "1962-09-30"
          ],
          [
           "04193001",
           1460,
           "1955-10-01",
           "1973-10-31"
          ],
          [
           "04193003",
           1875,
           "1950-05-01",
           "1962-11-30"
          ],
          [
           "04193004",
           1531,
           "1931-04-01",
           "1943-06-29"
          ],
          [
           "04193005",
           1360,
           "1931-09-03",
           "1939-12-29"
          ],
          [
           "04199001",
           1300,
           "1931-04-01",
           "1934-07-31"
          ],
          [
           "04135004",
           740,
           "1963-09-01",
           "1968-07-31"
          ],
          [
           "04205001",
           1210,
           "1933-08-01",
           "2025-05-31"
          ],
          [
           "04205004",
           1347,
           "1998-01-01",
           "2009-12-31"
          ],
          [
           "04206001",
           500,
           "1958-01-01",
           "1974-11-30"
          ],
          [
           "04209005",
           500,
           "1998-07-01",
           "2025-06-13"
          ],
          [
           "04209001",
           480,
           "1928-01-01",
           "1978-08-31"
          ],
          [
           "04209004",
           485,
           "1990-10-01",
           "2004-02-29"
          ],
          [
           "04173002",
           882,
           "1990-06-01",
           "2005-06-30"
          ],
          [
           "04049001",
           458,
           "1954-01-01",
           "2025-06-13"
          ],
          [
           "04184001",
           867,
           "1962-10-01",
           "2025-06-13"
          ],
          [
           "04192001",
           650,
           "1950-02-01",
           "2003-10-31"
          ],
          [
           "04193002",
           1908,
           "1960-12-27",
           "2018-12-31"
          ],
          [
           "04173001",
           890,
           "1927-03-01",
           "1994-12-31"
          ],
          [
           "04189001",
           392,
           "1996-01-01",
           "2001-11-30"
          ],
          [
           "04217002",
           732,
           "2008-07-01",
           "2020-12-31"
          ],
          [
           "04217001",
           785,
           "1999-05-01",
           "2008-06-30"
          ],
          [
           "04219001",
           1155,
           "1935-08-02",
           "2025-05-31"
          ],
          [
           "04218001",
           1140,
           "1933-08-01",
           "1935-04-30"
          ],
          [
           "04219002",
           1450,
           "1964-06-07",
           "1970-09-30"
          ],
          [
           "04222001",
           1020,
           "2000-01-01",
           "2025-06-13"
          ],
          [
           "04226001",
           1660,
           "1954-11-01",
           "2022-12-31"
          ],
          [
           "04226002",
           1770,
           "1931-05-01",
           "1954-10-31"
          ],
          [
           "04229001",
           585,
           "1933-08-01",
           "1976-11-30"
          ],
          [
           "04230002",
           545,
           "1958-01-01",
           "2012-12-31"
          ],
          [
           "04230001",
           600,
           "1995-01-01",
           "2025-06-13"
          ],
          [
           "04236001",
           1035,
           "1933-08-01",
           "1974-11-30"
          ],
          [
           "04244001",
           440,
           "1958-01-01",
           "1962-11-30"
          ],
          [
           "04245001",
           370,
           "1958-01-01",
           "1971-07-31"
          ],
          [
           "06003002",
           1250,
           "1931-01-01",
           "1960-12-31"
          ],
          [
           "06004014",
           1,
           "1920-08-01",
           "1942-06-30"
          ],
          [
           "06004003",
           10,
           "1950-01-01",
           "1994-12-31"
          ],
          [
           "06004008",
           66,
           "1950-01-01",
           "1953-12-31"
          ],
          [
           "06004006",
           31,
           "1948-01-01",
           "1965-05-31"
          ],
          [
           "06004012",
           3,
           "1992-05-01",
           "2008-03-13"
          ],
          [
           "06004001",
           39,
           "1952-12-01",
           "1972-06-30"
          ],
          [
           "06004011",
           85,
           "1930-06-01",
           "1931-06-30"
          ],
          [
           "06004002",
           75,
           "1934-01-01",
           "2025-06-13"
          ],
          [
           "06004004",
           13,
           "1964-01-01",
           "2025-06-13"
          ],
          [
           "06004005",
           30,
           "1966-01-01",
           "2007-12-31"
          ],
          [
           "06004009",
           32,
           "1988-07-08",
           "2025-06-13"
          ],
          [
           "06005001",
           1173,
           "1987-08-14",
           "2025-06-13"
          ],
          [
           "06006001",
           380,
           "1983-01-01",
           "2018-07-31"
          ],
          [
           "06120401",
           2099,
           "2005-04-01",
           "2005-04-30"
          ],
          [
           "06120400",
           1910,
           "1982-12-21",
           "2025-04-02"
          ],
          [
           "06010001",
           330,
           "1966-02-01",
           "2002-12-31"
          ],
          [
           "06011001",
           50,
           "1969-04-01",
           "1971-10-31"
          ],
          [
           "06011002",
           9,
           "1921-01-01",
           "1935-02-28"
          ],
          [
           "06013001",
           950,
           "1877-01-01",
           "1880-05-31"
          ],
          [
           "06015002",
           500,
           "2015-01-01",
           "2020-11-30"
          ],
          [
           "06015001",
           715,
           "1988-07-28",
           "2010-01-05"
          ],
          [
           "06103002",
           938,
           "2023-07-05",
           "2025-06-13"
          ],
          [
           "06016004",
           1368,
           "1990-10-15",
           "2005-12-31"
          ],
          [
           "06016002",
           1480,
           "1935-01-01",
           "1939-12-31"
          ],
          [
           "06016001",
           1464,
           "1928-01-01",
           "2025-06-13"
          ],
          [
           "06127002",
           1550,
           "1982-05-19",
           "1993-08-31"
          ],
          [
           "06022002",
           723,
           "1989-08-01",
           "2005-12-31"
          ],
          [
           "06022001",
           730,
           "1950-01-01",
           "1986-11-30"
          ],
          [
           "06023001",
           320,
           "1931-01-01",
           "1998-12-31"
          ],
          [
           "06023004",
           305,
           "1987-08-27",
           "2025-06-13"
          ],
          [
           "06029003",
           10,
           "1952-01-01",
           "1975-11-30"
          ],
          [
           "06029001",
           2,
           "1949-03-21",
           "2025-06-13"
          ],
          [
           "06029006",
           5,
           "1877-01-01",
           "1881-12-31"
          ],
          [
           "06029002",
           59,
           "1928-01-01",
           "1981-08-31"
          ],
          [
           "06029007",
           3,
           "1992-04-24",
           "1999-12-31"
          ],
          [
           "06029005",
           75,
           "1932-07-01",
           "1956-05-31"
          ],
          [
           "06121001",
           138,
           "1921-01-01",
           "2010-04-12"
          ],
          [
           "06033001",
           63,
           "1967-04-01",
           "2004-03-31"
          ],
          [
           "06033002",
           78,
           "1991-03-20",
           "2025-06-13"
          ],
          [
           "06037002",
           1268,
           "1987-08-19",
           "2025-06-13"
          ],
          [
           "06037001",
           1104,
           "1968-07-01",
           "1972-05-31"
          ],
          [
           "06038001",
           379,
           "2012-10-04",
           "2025-06-13"
          ],
          [
           "06042002",
           630,
           "1952-07-01",
           "1961-06-30"
          ],
          [
           "06044001",
           44,
           "1950-01-01",
           "1998-07-31"
          ],
          [
           "06044002",
           165,
           "1990-09-26",
           "2000-10-31"
          ],
          [
           "06046001",
           334,
           "1953-06-01",
           "1990-12-31"
          ],
          [
           "06048003",
           200,
           "1990-10-02",
           "2005-06-06"
          ],
          [
           "06048002",
           340,
           "1952-06-01",
           "1970-05-31"
          ],
          [
           "06048001",
           190,
           "1966-01-01",
           "2007-12-31"
          ],
          [
           "06050002",
           985,
           "1989-08-01",
           "2025-06-13"
          ],
          [
           "06052001",
           562,
           "2014-10-01",
           "2019-03-31"
          ],
          [
           "06056002",
           1659,
           "1952-03-01",
           "1966-09-30"
          ],
          [
           "06056004",
           1788,
           "1966-10-01",
           "1968-10-31"
          ],
          [
           "06056003",
           1850,
           "1985-06-01",
           "2007-12-31"
          ],
          [
           "06056400",
           1850,
           "1996-08-01",
           "2025-01-26"
          ],
          [
           "06059003",
           704,
           "1991-06-14",
           "2025-06-13"
          ],
          [
           "06059001",
           388,
           "1966-01-01",
           "2007-12-31"
          ],
          [
           "06062001",
           425,
           "1932-01-01",
           "1971-03-31"
          ],
          [
           "06065001",
           30,
           "1983-01-01",
           "1988-12-31"
          ],
          [
           "06088004",
           3,
           "1950-01-01",
           "1978-09-30"
          ],
          [
           "06069003",
           204,
           "1966-01-01",
           "1986-12-31"
          ],
          [
           "06069008",
           183,
           "1956-01-01",
           "2007-12-31"
          ],
          [
           "06069004",
           255,
           "1967-01-01",
           "1978-12-31"
          ],
          [
           "06069006",
           350,
           "1877-01-01",
           "1939-12-31"
          ],
          [
           "06069002",
           318,
           "1966-03-01",
           "1990-12-31"
          ],
          [
           "06070001",
           1380,
           "1966-04-01",
           "1995-12-31"
          ],
          [
           "06071003",
           780,
           "1987-08-11",
           "2003-08-31"
          ],
          [
           "06071001",
           788,
           "1931-01-01",
           "2025-06-13"
          ],
          [
           "06073001",
           870,
           "1931-03-01",
           "1999-12-31"
          ],
          [
           "06073004",
           2035,
           "1982-01-01",
           "1989-12-31"
          ],
          [
           "06073005",
           1912,
           "1972-01-02",
           "2025-06-13"
          ],
          [
           "06073002",
           875,
           "1952-01-01",
           "1959-12-31"
          ],
          [
           "06073405",
           1912,
           "2014-07-18",
           "2025-06-07"
          ],
          [
           "06057001",
           380,
           "1931-01-01",
           "2014-12-31"
          ],
          [
           "06020001",
           650,
           "1932-07-01",
           "1970-12-31"
          ],
          [
           "06051001",
           860,
           "2006-12-21",
           "2013-11-28"
          ],
          [
           "06093001",
           683,
           "1992-08-01",
           "2014-09-30"
          ],
          [
           "06149001",
           341,
           "1966-01-01",
           "2021-01-01"
          ],
          [
           "06150001",
           495,
           "1967-11-01",
           "2006-12-31"
          ],
          [
           "06150002",
           1110,
           "1934-08-01",
           "1940-04-30"
          ],
          [
           "06074001",
           550,
           "1966-01-01",
           "2002-12-31"
          ],
          [
           "06074002",
           485,
           "1932-01-01",
           "1975-12-31"
          ],
          [
           "06074005",
           550,
           "2006-12-27",
           "2025-06-13"
          ],
          [
           "06081001",
           1525,
           "2006-04-21",
           "2025-06-13"
          ],
          [
           "06075007",
           691,
           "2008-05-17",
           "2025-06-13"
          ],
          [
           "06075003",
           266,
           "1950-01-01",
           "1951-06-30"
          ],
          [
           "06075002",
           583,
           "1933-01-01",
           "1960-12-31"
          ],
          [
           "06075001",
           565,
           "1950-01-01",
           "2002-05-31"
          ],
          [
           "06075006",
           668,
           "1989-08-09",
           "2008-05-19"
          ],
          [
           "06077005",
           1500,
           "1929-01-01",
           "1944-07-31"
          ],
          [
           "06077003",
           1100,
           "1933-01-01",
           "1933-12-31"
          ],
          [
           "06077002",
           1920,
           "1934-09-01",
           "1940-04-30"
          ],
          [
           "06077001",
           1420,
           "1953-11-01",
           "1999-01-31"
          ],
          [
           "06079002",
           104,
           "1988-07-30",
           "2025-06-13"
          ],
          [
           "06079001",
           3,
           "1955-01-01",
           "1957-12-31"
          ],
          [
           "06083005",
           216,
           "1988-09-01",
           "2025-06-13"
          ],
          [
           "06083004",
           15,
           "1877-01-01",
           "1877-03-05"
          ],
          [
           "06083003",
           24,
           "1950-01-01",
           "1959-03-31"
          ],
          [
           "06083001",
           12,
           "1956-07-01",
           "2015-12-31"
          ],
          [
           "06083006",
           19,
           "1992-05-26",
           "2005-11-30"
          ],
          [
           "06083002",
           10,
           "1948-01-01",
           "1986-02-28"
          ],
          [
           "06153400",
           2430,
           "2007-10-19",
           "2025-06-13"
          ],
          [
           "06084002",
           165,
           "1992-04-07",
           "2009-01-01"
          ],
          [
           "06086002",
           1607,
           "1966-01-01",
           "1969-05-31"
          ],
          [
           "06086001",
           817,
           "1950-03-01",
           "2025-06-13"
          ],
          [
           "06088006",
           37,
           "1967-05-01",
           "1970-12-31"
          ],
          [
           "06088008",
           79,
           "1978-10-01",
           "1979-02-28"
          ],
          [
           "06088002",
           6,
           "1966-01-01",
           "1971-06-30"
          ],
          [
           "06088010",
           18,
           "1877-01-01",
           "1877-02-28"
          ],
          [
           "06088001",
           2,
           "1942-07-01",
           "2025-06-13"
          ],
          [
           "06088020",
           2,
           "1926-07-01",
           "1938-12-31"
          ],
          [
           "06088011",
           347,
           "1884-03-01",
           "1935-12-31"
          ],
          [
           "06088003",
           199,
           "1950-01-01",
           "2019-04-30"
          ],
          [
           "06088005",
           197,
           "1950-01-01",
           "2008-12-31"
          ],
          [
           "06088007",
           238,
           "1950-01-01",
           "2025-06-13"
          ],
          [
           "06088009",
           323,
           "1987-08-06",
           "2009-04-01"
          ],
          [
           "06090002",
           109,
           "2010-03-15",
           "2025-06-13"
          ],
          [
           "06090001",
           483,
           "1987-08-01",
           "2010-04-01"
          ],
          [
           "06091004",
           672,
           "1989-10-01",
           "1997-04-20"
          ],
          [
           "06091003",
           1106,
           "1987-11-05",
           "2025-06-13"
          ],
          [
           "06091006",
           848,
           "2013-06-01",
           "2020-12-31"
          ],
          [
           "06091002",
           1000,
           "1966-01-01",
           "1999-12-31"
          ],
          [
           "06091005",
           793,
           "2000-01-01",
           "2013-05-31"
          ],
          [
           "06091001",
           630,
           "1956-02-01",
           "1990-12-31"
          ],
          [
           "06092001",
           142,
           "1950-01-01",
           "2004-05-31"
          ],
          [
           "06077006",
           1443,
           "1989-09-05",
           "2025-06-13"
          ],
          [
           "06094002",
           1784,
           "2002-11-01",
           "2025-06-13"
          ],
          [
           "06094001",
           1659,
           "1951-02-01",
           "2005-06-30"
          ],
          [
           "06099004",
           449,
           "1991-05-31",
           "2025-06-13"
          ],
          [
           "06099001",
           420,
           "1948-01-01",
           "1999-12-31"
          ],
          [
           "06099002",
           490,
           "1931-01-01",
           "1946-12-31"
          ],
          [
           "06102001",
           1130,
           "2007-02-15",
           "2025-06-13"
          ],
          [
           "06103001",
           625,
           "1952-03-01",
           "1958-10-31"
          ],
          [
           "06104002",
           40,
           "1966-01-01",
           "1998-07-31"
          ],
          [
           "06104001",
           75,
           "1959-05-01",
           "1977-06-30"
          ],
          [
           "06106002",
           405,
           "1987-08-06",
           "2009-01-01"
          ],
          [
           "06106001",
           340,
           "1931-01-01",
           "1961-02-28"
          ],
          [
           "06109001",
           260,
           "1965-02-01",
           "1991-12-31"
          ],
          [
           "06110001",
           1305,
           "1959-04-01",
           "1970-12-31"
          ],
          [
           "06127006",
           899,
           "2013-11-01",
           "2020-10-03"
          ],
          [
           "06117001",
           260,
           "1952-01-01",
           "1965-12-31"
          ],
          [
           "06119002",
           1880,
           "1960-02-01",
           "1960-10-31"
          ],
          [
           "06120003",
           1143,
           "1928-11-01",
           "1968-08-31"
          ],
          [
           "06121002",
           35,
           "1893-09-10",
           "1945-12-31"
          ],
          [
           "06134001",
           1070,
           "1966-01-01",
           "1972-06-30"
          ],
          [
           "06135001",
           629,
           "1961-05-01",
           "2002-12-31"
          ],
          [
           "06136003",
           360,
           "1988-09-01",
           "2003-01-31"
          ],
          [
           "06136005",
           843,
           "2004-11-01",
           "2025-06-13"
          ],
          [
           "06136004",
           540,
           "1989-05-01",
           "2005-06-30"
          ],
          [
           "06136001",
           349,
           "1928-01-01",
           "1989-04-30"
          ],
          [
           "06116002",
           1048,
           "1930-01-01",
           "2007-12-31"
          ],
          [
           "06118001",
           474,
           "1987-08-01",
           "2005-03-31"
          ],
          [
           "06118002",
           694,
           "2005-11-01",
           "2025-06-13"
          ],
          [
           "06120004",
           1150,
           "2007-03-29",
           "2025-06-13"
          ],
          [
           "06125001",
           1642,
           "2007-07-01",
           "2025-06-13"
          ],
          [
           "06126001",
           103,
           "1966-09-01",
           "1986-12-31"
          ],
          [
           "06127003",
           1044,
           "1989-07-19",
           "2014-01-01"
          ],
          [
           "06130002",
           708,
           "1989-11-28",
           "2005-12-31"
          ],
          [
           "06119001",
           1500,
           "1931-01-01",
           "2002-12-31"
          ],
          [
           "06127001",
           994,
           "1950-03-01",
           "2023-07-04"
          ],
          [
           "06129001",
           487,
           "1932-01-01",
           "2007-12-31"
          ],
          [
           "06130001",
           715,
           "1950-03-01",
           "2005-07-31"
          ],
          [
           "06163003",
           1279,
           "1966-01-01",
           "1970-10-31"
          ],
          [
           "06163004",
           1370,
           "1952-03-01",
           "1962-12-27"
          ],
          [
           "06163005",
           1554,
           "1982-06-15",
           "2007-12-31"
          ],
          [
           "06163001",
           792,
           "1952-09-25",
           "2025-06-13"
          ],
          [
           "06163007",
           636,
           "1989-07-21",
           "2025-06-13"
          ],
          [
           "06138001",
           15,
           "1966-02-01",
           "1990-12-31"
          ],
          [
           "06120001",
           1605,
           "1952-03-01",
           "2007-12-31"
          ],
          [
           "06148001",
           311,
           "1988-07-22",
           "2012-10-23"
          ],
          [
           "06151002",
           279,
           "1950-01-01",
           "1992-12-31"
          ],
          [
           "06151001",
           800,
           "1931-01-01",
           "1980-09-30"
          ],
          [
           "06094400",
           1630,
           "1971-12-12",
           "2024-03-26"
          ],
          [
           "06152001",
           190,
           "1965-03-01",
           "1991-12-31"
          ],
          [
           "06152002",
           238,
           "1987-08-01",
           "2025-06-13"
          ],
          [
           "06153004",
           1058,
           "1991-05-29",
           "2005-12-31"
          ],
          [
           "06153003",
           1110,
           "1931-01-01",
           "1935-01-31"
          ],
          [
           "06153001",
           1000,
           "1936-01-01",
           "2001-03-31"
          ],
          [
           "06154002",
           1105,
           "1987-04-01",
           "2005-12-31"
          ],
          [
           "06155001",
           110,
           "1966-01-01",
           "1987-07-31"
          ],
          [
           "06156001",
           1130,
           "1928-01-01",
           "1972-06-30"
          ],
          [
           "06157002",
           321,
           "1951-01-01",
           "2001-09-30"
          ],
          [
           "06157001",
           299,
           "1958-01-01",
           "1971-08-31"
          ],
          [
           "06158001",
           380,
           "1966-01-01",
           "2007-12-31"
          ]
         ],
         "hovertemplate": "<b>%{hovertext}</b><br><br>lat=%{lat}<br>lon=%{lon}<br>poste=%{customdata[0]}<br>alt=%{customdata[1]}<br>début=%{customdata[2]}<br>fin=%{customdata[3]}<extra></extra>",
         "hovertext": [
          "Abries",
          "Abries -S-",
          "Abries_Nivo",
          "Agnieres-En-Devoluy",
          "Ancelle",
          "Arvieux",
          "Arvieux Brunissard",
          "Arvieux La Chalp",
          "Barcillonnette",
          "Barcillonnette",
          "Briancon",
          "Briancon",
          "Briancon",
          "Briancon Station Militaire",
          "Ceillac",
          "Ceillac_Nivo",
          "Cervieres",
          "Chabestan",
          "Champcella",
          "Champcella Usine Edf",
          "Champoleon",
          "Chapelle-En-Valgaudemar",
          "Chateau-Ville-Vieille",
          "Col Agnel-Nivose",
          "Crevoux Chef-Lieu",
          "Cypieres",
          "Embrun",
          "Esparron",
          "Eygliers",
          "Eygliers Lac Du Mont Dauphin",
          "Eyguians Agglomeration",
          "Freissinieres",
          "Freissinieres",
          "Galibier-Nivose",
          "Gap",
          "Gap",
          "Gap Bayard_Nivo",
          "Gap Col Bayard",
          "Gap Eaux Et Forets",
          "Guillestre Quartier Prepareing",
          "La Faurie",
          "La Grave",
          "La Grave 3200 M",
          "La Meije-Nivose",
          "La Rochette",
          "La Saulce Barrage Edf",
          "Laragne Monteglin",
          "Laragne-Monteglin",
          "Le Monetier",
          "Le Monetier Les Bains",
          "Le Saix",
          "Les Orres",
          "Les Orres_Nivo",
          "Les Portes En Valgaudemar_Nivo",
          "Les Vigneaux Ecole Batie",
          "Molines En Queyras_Nivo",
          "Montgenevre",
          "Montgenevre_Nivo",
          "Montjay Bourg",
          "Montmorin Maison Forestiere",
          "Motte-Dalmas",
          "Motte-Molines",
          "Nevache-Edf-03",
          "Orcieres Prapic",
          "Orcieres-Nivose",
          "Parpaillon-Nivose",
          "Pelvoux",
          "Pelvoux St Antoine_Nivo",
          "Puy St Vincent_Nivo",
          "Puy-St-Vincent",
          "Reallon Iscle",
          "Reallon _Nivo",
          "Remollon",
          "Ribiers",
          "Ribiers-Grange",
          "Risoul_Nivo",
          "Ristolas",
          "Rosans",
          "Rousset",
          "Saint-Chaffrey",
          "Saint-Crepin",
          "Saint-Firmin",
          "Saint-Jean-Saint-Nicolas",
          "Saint-Julien-En-Beauchene",
          "Saint-Pierre-D'Argencon",
          "Serre Che-Chantemerle_Nivo",
          "Serre Che-Le Monetier_Nivo",
          "Serres",
          "St Bonnet",
          "St Crepin",
          "St Etienne En Devoluy",
          "St Etienne-En-Devoluy",
          "St Firmin",
          "St Jean-St-Nicolas",
          "St Veran",
          "St Veran Rm",
          "St-Bonnet Champsaur",
          "St-Jul-En-Beauc",
          "Super_Devoluy",
          "Tallard",
          "Upaix Agglomeration",
          "Upaix Rourebeau",
          "Val-Des-Pres",
          "Vallompierre",
          "Vallouise Agglomeration",
          "Vars Les Claux",
          "Vars Sainte-Marie",
          "Veynes",
          "Villar D'Arene",
          "Villar Loubiere",
          "Villar St Pancrace",
          "Villar-D'Arene Village",
          "Vitrolles",
          "Aiglun",
          "Aiglun Chateau",
          "Allemagne-En-Provence",
          "Allos",
          "Allos_Sapc",
          "Annot Pre De Monge",
          "Banon",
          "Banon Bourg",
          "Barcellonnette En",
          "Barcelonnette",
          "Barcelonnette",
          "Barreme",
          "Bayons",
          "Beaujeu",
          "Beaujeu Hameau De Saint-Pierre",
          "Beaujeu St Pierre",
          "Bevons",
          "Bevons",
          "Castellane",
          "Castellane Bourg",
          "Castellard",
          "Castellard(Le)",
          "Cereste",
          "Chateau-Arnoux-Saint-Auban-Bg",
          "Chateau-Arnoux-Saint-Auban-P-C",
          "Chateauneuf-Miravail",
          "Chemins",
          "Colmars La Buissiere",
          "Combe",
          "Corbieres Les Aires",
          "Corbieres Passage A Niveau 4",
          "Dauphin",
          "Digne",
          "Digne",
          "Digne Les Bains",
          "Digne-Les-Bains Agglomeration",
          "Digne-Les-Bains Les Dourbes",
          "Digne-Les-Bains Les Sieyes",
          "Entrages",
          "Entrevaux",
          "Faucon-Du-Caire Bourg",
          "Forcalquier",
          "Forcalquier",
          "Greoux",
          "Greoux-Itcf",
          "Jausiers",
          "Jausiers-St Anne",
          "L'Escale Barrage",
          "La Brillanne",
          "La Foux",
          "La Foux D Allos_Nivo",
          "La Motte",
          "La Motte Du Caire",
          "La Motte-Du-Caire Le Verger",
          "La Mure-Argens",
          "La Palud-Sur-Verdon",
          "Lambruisse",
          "Larche Bourg",
          "Lardiers",
          "Lauzet(Le)",
          "Lauzet(Le)",
          "Le Castellet",
          "Le Lauzet-Ubaye Ubaye - Bourg",
          "Lurs",
          "Malijai Bourg",
          "Maljasset_Nivo",
          "Mane Bourg",
          "Manosque",
          "Manosque",
          "Manosque",
          "Manosque Pelicier",
          "Manosque Piscine",
          "Manosque-Pimarlet",
          "Meailles_Sapc",
          "Mees(Les)",
          "Meolans-Revel",
          "Meyronnes Bourg",
          "Mison",
          "Montagnac-Montpezat",
          "Montclar_Sapc",
          "Moustiers",
          "Moustiers-Sainte-Marie La Clue",
          "Moustiers-Sainte-Marie La Tour",
          "Noyers-Sur-Jabron Bourg",
          "Pallud",
          "Peyruis Bourg",
          "Pons",
          "Pra Loup_Nivo",
          "Prads-Haute-Bleone",
          "Puimoisson",
          "Quinson",
          "Quinson",
          "Reil",
          "Reillanne",
          "Restefond-Nivose",
          "Roumoules",
          "Saint-Etienne-Les-Orgues",
          "Saint-Paul Bourg",
          "Saint-Paul Fouillouse",
          "Saint-Paul Serennes",
          "Saint-Paul Tournoux",
          "Saint-Vincent-Sur-Jabron Bourg",
          "Segriez",
          "Seyne",
          "Seyne-Col Maure",
          "Sigonce L'Aire",
          "Sisteron",
          "Sisteron Beaulieu",
          "Sisteron-Chaumi",
          "St Andre Alpes",
          "St Auban",
          "St Jurs",
          "St Michel L Obs",
          "St Paul",
          "St-Andre",
          "St-Martin",
          "Thoard",
          "Thoard",
          "Thorame Haute",
          "Thorame-Basse Bourg",
          "Thorame-Haute",
          "Turriers",
          "Uvernet Fours",
          "Uvernet-Fours",
          "Valbelle Bourg",
          "Valensole",
          "Valensole",
          "Vergons Bourg",
          "Volonne Bourg",
          "Volx Cours Pasteur",
          "Andon Domaine De Thorenc",
          "Antibes",
          "Antibes",
          "Antibes Le Puy - Cge",
          "Antibes Phare De La Garoupe",
          "Antibes Port",
          "Antibes Villa Thuret",
          "Antibes Ville",
          "Antibes-Garoupe",
          "Antibes-Golf",
          "Antibes-Obs",
          "Antibes_Sapc",
          "Ascros",
          "Aspremont",
          "Auron -S-",
          "Auron_Nivo",
          "Bar-Sur-Loup",
          "Beaulieu-Sur-Mer",
          "Beaulieu-Sur-Mer Villa Salles",
          "Belvedere Agglomeration",
          "Berre Les Alpes-Colla Donna",
          "Berre-Des-Alpes",
          "Berthemont-Les-Bains_Sapc",
          "Beuil",
          "Beuil Station Militaire",
          "Beuil-Obs",
          "Boreon",
          "Bouyon",
          "Bouyon-Obs",
          "Breil Roya-Obs",
          "Breil Sur Roya",
          "Cannes",
          "Cannes",
          "Cannes Agglomeration",
          "Cannes Pepiniere Municipale",
          "Cannes Port",
          "Cannes Route De Grasse",
          "Cap Ferrat",
          "Carros-Obs",
          "Carros_Sapc",
          "Caussols",
          "Caussols La Celle",
          "Chateauneuf Grasse",
          "Clans Bourg - Edf",
          "Colle Loup-Obs",
          "Colle Sur Loup",
          "Colomars",
          "Contes",
          "Contes Sclos De Contes",
          "Contes-Obs",
          "Coursegoules_Sapc",
          "Cuebris",
          "Entraunes",
          "Entraunes Esteinc",
          "Entraunes-Estenc",
          "Estenc_Nivo",
          "Eze",
          "Eze-Obs",
          "Fontan Usine Electrique",
          "Gaude",
          "Gioffredo",
          "Grasm",
          "Grasse",
          "Grasse Plascassier",
          "Grasse Villa Mont-Ventoux",
          "Grasse-Obs",
          "Greolieres",
          "Guillaumes",
          "Guillaumes-Obs",
          "Isola",
          "Isola",
          "Isola 2000",
          "Isola Le Verger",
          "Isola_Nivo",
          "L Escarene",
          "La Bollene-Vesubie Bourg",
          "La Croix Sur Roudoule_Sapc",
          "La Penne",
          "La Trinite",
          "La Turbie",
          "La Turbie Mont Agel",
          "Lantosque-Obs",
          "Lantosque-St-Andre",
          "Lantosque_Sapc",
          "Le Mas",
          "Levens",
          "Levens Les Moulins",
          "Levens Rue Massena",
          "Levens-Obs",
          "Levens_Reservoirs",
          "Luceram",
          "Luceram Le Tournet",
          "Luceram Plan Caval",
          "Luceram-Obs",
          "Mandelieu La Napoule_Sapc",
          "Mandelieu-La-Napoule Bourg",
          "Menton",
          "Menton Agglomeration",
          "Menton Carei",
          "Menton-Obs",
          "Menton-Port",
          "Mentp",
          "Millefonts-Nivose",
          "Mouans Sartoux",
          "Moulinet",
          "Moulinet",
          "Nice",
          "Nice",
          "Nice",
          "Nice",
          "Nice",
          "Nice Massena",
          "Nice Mont-Gros",
          "Nice-Col",
          "Nice-Feric",
          "Nice-Rimiez",
          "Nice-St Roman",
          "Pegomas",
          "Pegomas-Tanneron",
          "Peille",
          "Peille",
          "Peille Col De La Madone",
          "Peille Madone",
          "Peille-Fontbonne",
          "Peille-Obs",
          "Peillon",
          "Peira Cava",
          "Peone",
          "Peone-Valberg",
          "Puget Theniers_Sapc",
          "Puget-Theni-Obs",
          "Puget-Theniers",
          "Rimplas_Sapc",
          "Roquebilliere Edf",
          "Roquebrune-Cap-",
          "Roquebrune-Cap-Martin-Cge",
          "Roquesteron",
          "Roquesteron La Traverse",
          "Roquette-Sur-Va",
          "Roubion Bourg",
          "Saint Martin Vesubie_Sapc",
          "Saint-Blaise Bourg",
          "Saint-Dalmas-Le-Selvage",
          "Saint-Etienne-De-Tinee",
          "Saint-Jean-Cap-Ferrat",
          "Seranon Gendarmerie",
          "Sigale",
          "Sospel",
          "Sospel",
          "Sospel-Colletta",
          "Sospel-Obs",
          "St Auban",
          "St Cezaire",
          "St Cezaire Sur Siagne",
          "St Etienne De Tinee_Sapc",
          "St Martin D'Entraunes_Sapc",
          "St Martin Duvar",
          "St Martin Vesubie",
          "St Vallier",
          "St-Dalmas-Le-Se",
          "St-Martin-De-Vesubie-Obs",
          "St-Sauveur-Sur-Tinee",
          "St-Vallier-Obs",
          "Tende Tunnel - Col De Tende",
          "Tende Usine De Mesces - Edf",
          "Tende-Casterino",
          "Tende-Obs",
          "Tende_Sapc",
          "Theoule",
          "Tinee-Auron",
          "Tourrettes Sur Loup",
          "Utelle",
          "Utelle Cimetiere",
          "Valberg_Nivo",
          "Valbonne",
          "Valbonne-Sophia",
          "Valdeblore",
          "Valdeblore Bourg",
          "Valdeblore-Obs",
          "Valderoure",
          "Vallauris",
          "Venanson Village",
          "Vence",
          "Vence Maison Des Etudiantes",
          "Villars-Sur-Var"
         ],
         "lat": [
          44.796667,
          44.791333,
          44.792833,
          44.696167,
          44.6245,
          44.796,
          44.766667,
          44.781167,
          44.441667,
          44.436667,
          44.896667,
          44.908333,
          44.896667,
          44.896667,
          44.671167,
          44.671167,
          44.869333,
          44.471667,
          44.728333,
          44.723333,
          44.720167,
          44.81,
          44.759333,
          44.686,
          44.546667,
          44.683333,
          44.571167,
          44.453333,
          44.676667,
          44.676667,
          44.345,
          44.748333,
          44.755,
          45.056833,
          44.568333,
          44.577667,
          44.6215,
          44.558333,
          44.558333,
          44.66,
          44.566667,
          45.054167,
          45.006,
          45.012333,
          44.593333,
          44.425,
          44.319167,
          44.316667,
          45.041167,
          44.9715,
          44.475833,
          44.508833,
          44.481667,
          44.81,
          44.823333,
          44.715333,
          44.9305,
          44.938167,
          44.36,
          44.45,
          44.730833,
          44.748167,
          45.0185,
          44.683333,
          44.719,
          44.495333,
          44.866833,
          44.870833,
          44.818,
          44.828833,
          44.608333,
          44.579333,
          44.466667,
          44.2355,
          44.198167,
          44.616667,
          44.765667,
          44.3875,
          44.468667,
          44.925,
          44.706667,
          44.781667,
          44.668333,
          44.616667,
          44.518333,
          44.9245,
          44.949833,
          44.421667,
          44.685,
          44.7045,
          44.69,
          44.6945,
          44.7825,
          44.670833,
          44.699833,
          44.705167,
          44.684167,
          44.616667,
          44.6655,
          44.452167,
          44.318333,
          44.318333,
          44.948333,
          44.8,
          44.845,
          44.61,
          44.61,
          44.536333,
          45.030833,
          44.826833,
          44.880333,
          45.041667,
          44.408667,
          44.071667,
          44.063333,
          43.781667,
          44.226667,
          44.2425,
          43.968333,
          44.038333,
          44.04,
          44.388333,
          44.391167,
          44.388333,
          43.957167,
          44.342667,
          44.234333,
          44.203333,
          44.209833,
          44.167,
          44.176667,
          43.849167,
          43.846667,
          44.186667,
          44.186667,
          43.850667,
          44.093333,
          44.095,
          44.161833,
          43.786667,
          44.181667,
          44.596667,
          43.761667,
          43.761667,
          43.909833,
          44.083333,
          44.076667,
          44.07,
          44.095,
          44.095,
          44.095,
          44.016667,
          43.950333,
          44.396667,
          43.962833,
          43.933333,
          43.756667,
          43.751667,
          44.405,
          44.413667,
          44.083333,
          43.9235,
          44.241667,
          44.289833,
          44.356333,
          44.326667,
          44.325,
          43.977,
          43.811667,
          44.042833,
          44.451667,
          44.052333,
          44.433333,
          44.441667,
          43.938333,
          44.43,
          43.9445,
          44.046667,
          44.593,
          43.936667,
          43.8355,
          43.843333,
          43.797,
          43.831667,
          43.831667,
          43.837167,
          44.031167,
          43.985,
          44.398333,
          44.476667,
          44.241667,
          43.778333,
          44.391833,
          43.841667,
          43.816667,
          43.845,
          44.168333,
          43.866667,
          44.026667,
          44.386667,
          44.36,
          44.181667,
          43.871167,
          43.701,
          43.7075,
          43.881667,
          43.87,
          44.34,
          43.7935,
          44.045,
          44.515,
          44.515,
          44.515,
          44.515,
          44.171667,
          43.856667,
          44.3515,
          44.320333,
          43.996667,
          44.2245,
          44.195,
          44.215,
          43.958333,
          44.062167,
          43.900833,
          43.933333,
          44.593,
          43.968333,
          43.763333,
          44.146833,
          44.16,
          44.091667,
          44.091667,
          44.05,
          44.399,
          44.319167,
          44.32,
          44.151667,
          43.843333,
          43.8395,
          43.916667,
          44.11,
          43.876667,
          43.773333,
          43.590167,
          43.616667,
          43.58,
          43.58,
          43.585333,
          43.58,
          43.58,
          43.564667,
          43.579667,
          43.6,
          43.599167,
          43.922,
          43.754667,
          44.207833,
          44.215333,
          43.7,
          43.705,
          43.705,
          44.018333,
          43.824333,
          43.838333,
          44.044333,
          44.089,
          44.095,
          44.089833,
          44.116667,
          43.823,
          43.815333,
          43.933333,
          43.940167,
          43.516667,
          43.5565,
          43.558333,
          43.558333,
          43.55,
          43.558333,
          43.683333,
          43.766667,
          43.786667,
          43.752333,
          43.743333,
          43.678333,
          43.996667,
          43.689333,
          43.691667,
          43.766667,
          43.8,
          43.815,
          43.8045,
          43.792,
          43.888,
          44.19,
          44.19,
          44.255833,
          44.239167,
          43.738833,
          43.726,
          44.005,
          43.732167,
          43.705,
          43.666667,
          43.653667,
          43.658333,
          43.658333,
          43.65,
          43.833333,
          44.1,
          44.090667,
          44.2,
          44.2,
          44.1895,
          44.186667,
          44.1895,
          43.838,
          43.991667,
          43.987667,
          43.906333,
          43.7275,
          43.741667,
          43.745,
          43.966667,
          43.975,
          43.972,
          43.813667,
          43.846333,
          43.86,
          43.86,
          43.866667,
          43.861667,
          43.883333,
          43.883333,
          43.883333,
          43.933333,
          43.523667,
          43.555,
          43.785833,
          43.775,
          43.775,
          43.784833,
          43.784,
          43.783333,
          44.118333,
          43.611833,
          43.941667,
          43.942,
          43.717667,
          43.7035,
          43.694667,
          43.714333,
          43.648833,
          43.695333,
          43.726333,
          43.710333,
          43.7175,
          43.738667,
          43.751667,
          43.602667,
          43.562667,
          43.8,
          43.775167,
          43.796,
          43.796,
          43.764167,
          43.833333,
          43.766333,
          43.929167,
          44.099667,
          44.1,
          43.956833,
          43.95,
          43.958333,
          44.067167,
          44.018333,
          43.766667,
          43.76,
          43.876333,
          43.873333,
          43.816667,
          44.095,
          44.065667,
          43.821667,
          44.285,
          44.255,
          43.69,
          43.773333,
          43.874,
          43.883333,
          43.862833,
          43.866667,
          43.9,
          43.847,
          43.645167,
          43.678667,
          44.257667,
          44.154667,
          43.821,
          44.073667,
          43.691333,
          44.283333,
          44.074167,
          44.084,
          43.716667,
          44.085,
          44.085,
          44.091833,
          44.086667,
          44.043167,
          43.5,
          44.222667,
          43.708167,
          43.916667,
          43.918333,
          44.087,
          43.642167,
          43.623167,
          44.069,
          44.066667,
          44.066667,
          43.792333,
          43.583333,
          44.055,
          43.716667,
          43.723333,
          43.9345
         ],
         "legendgroup": "",
         "lon": [
          6.928333,
          6.949667,
          6.947,
          5.880833,
          6.209833,
          6.728,
          6.738333,
          6.736667,
          5.927,
          5.92,
          6.638333,
          6.635,
          6.638333,
          6.638333,
          6.776167,
          6.776167,
          6.7235,
          5.781667,
          6.57,
          6.57,
          6.258833,
          6.195333,
          6.809,
          6.972167,
          6.606667,
          5.933333,
          6.508667,
          5.901667,
          6.633333,
          6.633333,
          5.771667,
          6.503333,
          6.538333,
          6.377167,
          6.091667,
          6.079833,
          6.084333,
          6.076667,
          6.076667,
          6.65,
          5.750167,
          6.285833,
          6.253,
          6.265167,
          6.155,
          6.006667,
          5.7945,
          5.827,
          6.419167,
          6.514167,
          5.8155,
          6.559333,
          6.562833,
          6.195333,
          6.541667,
          6.8605,
          6.721333,
          6.7195,
          5.605,
          5.54,
          6.066167,
          6.122833,
          6.622333,
          6.325,
          6.333667,
          6.636333,
          6.486667,
          6.487167,
          6.485833,
          6.492667,
          6.338333,
          6.352333,
          6.166667,
          5.855,
          5.881167,
          6.644167,
          6.9845,
          5.462167,
          6.2685,
          6.606667,
          6.608333,
          6.026667,
          6.216667,
          5.71,
          5.696667,
          6.571333,
          6.501,
          5.710167,
          6.08,
          6.6,
          5.937667,
          5.9405,
          6.035,
          6.209833,
          6.869167,
          6.867833,
          6.072833,
          5.711667,
          5.906667,
          6.033333,
          5.871667,
          5.871667,
          6.676667,
          6.27,
          6.488333,
          6.686667,
          6.686667,
          5.840667,
          6.361667,
          6.146,
          6.640333,
          6.336667,
          5.951667,
          6.136667,
          6.13,
          6.006667,
          6.631667,
          6.625333,
          6.668333,
          5.63,
          5.628333,
          6.65,
          6.670167,
          6.65,
          6.372333,
          6.178667,
          6.357833,
          6.37,
          6.385167,
          5.861833,
          5.878333,
          6.508,
          6.511667,
          6.125,
          6.125,
          5.566,
          6.006667,
          6.008333,
          5.726667,
          5.768333,
          6.625,
          6.856667,
          5.75,
          5.75,
          5.767167,
          6.225,
          6.186667,
          6.186667,
          6.235,
          6.235,
          6.235,
          6.253333,
          6.8165,
          6.091667,
          5.784667,
          5.78,
          5.883333,
          5.858333,
          6.761667,
          6.725167,
          6.025,
          5.8865,
          6.625,
          6.561667,
          6.0355,
          6.0305,
          6.028333,
          6.520167,
          6.336667,
          6.4455,
          6.845,
          5.7135,
          6.433333,
          6.426667,
          5.9795,
          6.431667,
          5.866333,
          6.03,
          6.843333,
          5.768333,
          5.793333,
          5.785,
          5.817167,
          5.785,
          5.785,
          5.801,
          6.6295,
          5.928333,
          6.508333,
          6.798333,
          5.888333,
          6.091667,
          6.333333,
          6.221667,
          6.275,
          6.22,
          5.826667,
          6.496667,
          5.935,
          6.61,
          6.584667,
          6.418333,
          6.168833,
          6.0385,
          6.039833,
          5.66,
          5.663333,
          6.8,
          6.150833,
          5.778333,
          6.751667,
          6.751667,
          6.751667,
          6.751667,
          5.741667,
          6.175,
          6.3645,
          6.400167,
          5.841667,
          5.916,
          5.941667,
          5.941667,
          6.511667,
          5.989667,
          6.2005,
          5.713333,
          6.843333,
          6.511667,
          5.94,
          6.138833,
          6.138333,
          6.557333,
          6.5,
          6.595,
          6.1695,
          6.693,
          6.693333,
          5.873333,
          5.986667,
          6.000833,
          6.586667,
          6.011667,
          5.843333,
          6.785,
          7.128333,
          7.116667,
          7.118333,
          7.118333,
          7.127167,
          7.118333,
          7.118333,
          7.133,
          7.091167,
          7.116667,
          7.111167,
          7.013667,
          7.247667,
          6.928667,
          6.9135,
          6.983333,
          7.326667,
          7.326667,
          7.32,
          7.338167,
          7.321667,
          7.300833,
          6.989333,
          6.99,
          6.988,
          7.283333,
          7.118167,
          7.107167,
          7.5,
          7.513667,
          7.066667,
          6.9505,
          7.016667,
          7.016667,
          7.033333,
          7.016667,
          7.328333,
          7.2,
          7.209167,
          6.923167,
          6.898333,
          6.996167,
          7.148333,
          7.072667,
          7.1,
          7.216667,
          7.316667,
          7.316667,
          7.317167,
          7.0485,
          7.015667,
          6.748333,
          6.748333,
          6.753,
          6.753,
          7.365833,
          7.355,
          7.553333,
          7.180167,
          7.261667,
          6.95,
          6.9395,
          6.921667,
          6.921667,
          6.9,
          6.966667,
          6.85,
          6.852333,
          7.033333,
          7.166667,
          7.149,
          7.05,
          7.149,
          7.355,
          7.333333,
          6.873333,
          6.933333,
          7.301,
          7.400167,
          7.4,
          7.316667,
          7.313333,
          7.307,
          6.809333,
          7.21,
          7.225,
          7.225,
          7.216667,
          7.236667,
          7.36,
          7.36,
          7.36,
          7.366667,
          6.898667,
          6.936667,
          7.488667,
          7.495,
          7.495,
          7.528833,
          7.519333,
          7.5,
          7.192,
          6.951167,
          7.411667,
          7.414667,
          7.187167,
          7.276,
          7.286833,
          7.268833,
          7.209,
          7.2695,
          7.2985,
          7.301333,
          7.2345,
          7.279167,
          7.216667,
          6.936667,
          6.897,
          7.4,
          7.428333,
          7.414667,
          7.414667,
          7.425,
          7.4,
          7.356167,
          7.363333,
          6.930833,
          6.933333,
          6.892333,
          6.9,
          6.893333,
          7.1335,
          7.311667,
          7.483333,
          7.478333,
          7.006167,
          7.005,
          7.216667,
          7.048333,
          7.255,
          7.236667,
          6.865,
          6.923333,
          7.33,
          6.705,
          6.968667,
          7.45,
          7.433667,
          7.433333,
          7.433333,
          6.727,
          6.797667,
          6.809,
          6.921167,
          6.747,
          7.188,
          7.258167,
          6.843,
          6.85,
          7.254167,
          7.102333,
          6.833333,
          7.591667,
          7.591667,
          7.5035,
          7.595,
          7.586,
          6.95,
          6.937333,
          7.055833,
          7.266667,
          7.246667,
          6.941333,
          7.037167,
          7.0285,
          7.1695,
          7.203333,
          7.166667,
          6.7345,
          7.05,
          7.255,
          7.116667,
          7.111667,
          7.088667
         ],
         "marker": {
          "color": "red"
         },
         "mode": "markers",
         "name": "",
         "showlegend": false,
         "subplot": "mapbox",
         "type": "scattermapbox"
        }
       ],
       "layout": {
        "height": 800,
        "hoverlabel": {
         "bgcolor": "rgb(255,255,255)"
        },
        "legend": {
         "tracegroupgap": 0
        },
        "mapbox": {
         "center": {
          "lat": 44.146066997663546,
          "lon": 6.644921371495327
         },
         "domain": {
          "x": [
           0,
           1
          ],
          "y": [
           0,
           1
          ]
         },
         "layers": [
          {
           "color": "rgba(0, 0, 0, 0.9)",
           "line": {
            "width": 1
           },
           "source": "https://www.data.gouv.fr/fr/datasets/r/90b9341a-e1f7-4d75-a73c-bbc010c7feeb",
           "sourcetype": "geojson",
           "type": "line"
          }
         ],
         "style": "open-street-map",
         "zoom": 8
        },
        "margin": {
         "t": 60
        },
        "template": {
         "data": {
          "bar": [
           {
            "error_x": {
             "color": "#2a3f5f"
            },
            "error_y": {
             "color": "#2a3f5f"
            },
            "marker": {
             "line": {
              "color": "#E5ECF6",
              "width": 0.5
             },
             "pattern": {
              "fillmode": "overlay",
              "size": 10,
              "solidity": 0.2
             }
            },
            "type": "bar"
           }
          ],
          "barpolar": [
           {
            "marker": {
             "line": {
              "color": "#E5ECF6",
              "width": 0.5
             },
             "pattern": {
              "fillmode": "overlay",
              "size": 10,
              "solidity": 0.2
             }
            },
            "type": "barpolar"
           }
          ],
          "carpet": [
           {
            "aaxis": {
             "endlinecolor": "#2a3f5f",
             "gridcolor": "white",
             "linecolor": "white",
             "minorgridcolor": "white",
             "startlinecolor": "#2a3f5f"
            },
            "baxis": {
             "endlinecolor": "#2a3f5f",
             "gridcolor": "white",
             "linecolor": "white",
             "minorgridcolor": "white",
             "startlinecolor": "#2a3f5f"
            },
            "type": "carpet"
           }
          ],
          "choropleth": [
           {
            "colorbar": {
             "outlinewidth": 0,
             "ticks": ""
            },
            "type": "choropleth"
           }
          ],
          "contour": [
           {
            "colorbar": {
             "outlinewidth": 0,
             "ticks": ""
            },
            "colorscale": [
             [
              0,
              "#0d0887"
             ],
             [
              0.1111111111111111,
              "#46039f"
             ],
             [
              0.2222222222222222,
              "#7201a8"
             ],
             [
              0.3333333333333333,
              "#9c179e"
             ],
             [
              0.4444444444444444,
              "#bd3786"
             ],
             [
              0.5555555555555556,
              "#d8576b"
             ],
             [
              0.6666666666666666,
              "#ed7953"
             ],
             [
              0.7777777777777778,
              "#fb9f3a"
             ],
             [
              0.8888888888888888,
              "#fdca26"
             ],
             [
              1,
              "#f0f921"
             ]
            ],
            "type": "contour"
           }
          ],
          "contourcarpet": [
           {
            "colorbar": {
             "outlinewidth": 0,
             "ticks": ""
            },
            "type": "contourcarpet"
           }
          ],
          "heatmap": [
           {
            "colorbar": {
             "outlinewidth": 0,
             "ticks": ""
            },
            "colorscale": [
             [
              0,
              "#0d0887"
             ],
             [
              0.1111111111111111,
              "#46039f"
             ],
             [
              0.2222222222222222,
              "#7201a8"
             ],
             [
              0.3333333333333333,
              "#9c179e"
             ],
             [
              0.4444444444444444,
              "#bd3786"
             ],
             [
              0.5555555555555556,
              "#d8576b"
             ],
             [
              0.6666666666666666,
              "#ed7953"
             ],
             [
              0.7777777777777778,
              "#fb9f3a"
             ],
             [
              0.8888888888888888,
              "#fdca26"
             ],
             [
              1,
              "#f0f921"
             ]
            ],
            "type": "heatmap"
           }
          ],
          "heatmapgl": [
           {
            "colorbar": {
             "outlinewidth": 0,
             "ticks": ""
            },
            "colorscale": [
             [
              0,
              "#0d0887"
             ],
             [
              0.1111111111111111,
              "#46039f"
             ],
             [
              0.2222222222222222,
              "#7201a8"
             ],
             [
              0.3333333333333333,
              "#9c179e"
             ],
             [
              0.4444444444444444,
              "#bd3786"
             ],
             [
              0.5555555555555556,
              "#d8576b"
             ],
             [
              0.6666666666666666,
              "#ed7953"
             ],
             [
              0.7777777777777778,
              "#fb9f3a"
             ],
             [
              0.8888888888888888,
              "#fdca26"
             ],
             [
              1,
              "#f0f921"
             ]
            ],
            "type": "heatmapgl"
           }
          ],
          "histogram": [
           {
            "marker": {
             "pattern": {
              "fillmode": "overlay",
              "size": 10,
              "solidity": 0.2
             }
            },
            "type": "histogram"
           }
          ],
          "histogram2d": [
           {
            "colorbar": {
             "outlinewidth": 0,
             "ticks": ""
            },
            "colorscale": [
             [
              0,
              "#0d0887"
             ],
             [
              0.1111111111111111,
              "#46039f"
             ],
             [
              0.2222222222222222,
              "#7201a8"
             ],
             [
              0.3333333333333333,
              "#9c179e"
             ],
             [
              0.4444444444444444,
              "#bd3786"
             ],
             [
              0.5555555555555556,
              "#d8576b"
             ],
             [
              0.6666666666666666,
              "#ed7953"
             ],
             [
              0.7777777777777778,
              "#fb9f3a"
             ],
             [
              0.8888888888888888,
              "#fdca26"
             ],
             [
              1,
              "#f0f921"
             ]
            ],
            "type": "histogram2d"
           }
          ],
          "histogram2dcontour": [
           {
            "colorbar": {
             "outlinewidth": 0,
             "ticks": ""
            },
            "colorscale": [
             [
              0,
              "#0d0887"
             ],
             [
              0.1111111111111111,
              "#46039f"
             ],
             [
              0.2222222222222222,
              "#7201a8"
             ],
             [
              0.3333333333333333,
              "#9c179e"
             ],
             [
              0.4444444444444444,
              "#bd3786"
             ],
             [
              0.5555555555555556,
              "#d8576b"
             ],
             [
              0.6666666666666666,
              "#ed7953"
             ],
             [
              0.7777777777777778,
              "#fb9f3a"
             ],
             [
              0.8888888888888888,
              "#fdca26"
             ],
             [
              1,
              "#f0f921"
             ]
            ],
            "type": "histogram2dcontour"
           }
          ],
          "mesh3d": [
           {
            "colorbar": {
             "outlinewidth": 0,
             "ticks": ""
            },
            "type": "mesh3d"
           }
          ],
          "parcoords": [
           {
            "line": {
             "colorbar": {
              "outlinewidth": 0,
              "ticks": ""
             }
            },
            "type": "parcoords"
           }
          ],
          "pie": [
           {
            "automargin": true,
            "type": "pie"
           }
          ],
          "scatter": [
           {
            "fillpattern": {
             "fillmode": "overlay",
             "size": 10,
             "solidity": 0.2
            },
            "type": "scatter"
           }
          ],
          "scatter3d": [
           {
            "line": {
             "colorbar": {
              "outlinewidth": 0,
              "ticks": ""
             }
            },
            "marker": {
             "colorbar": {
              "outlinewidth": 0,
              "ticks": ""
             }
            },
            "type": "scatter3d"
           }
          ],
          "scattercarpet": [
           {
            "marker": {
             "colorbar": {
              "outlinewidth": 0,
              "ticks": ""
             }
            },
            "type": "scattercarpet"
           }
          ],
          "scattergeo": [
           {
            "marker": {
             "colorbar": {
              "outlinewidth": 0,
              "ticks": ""
             }
            },
            "type": "scattergeo"
           }
          ],
          "scattergl": [
           {
            "marker": {
             "colorbar": {
              "outlinewidth": 0,
              "ticks": ""
             }
            },
            "type": "scattergl"
           }
          ],
          "scattermapbox": [
           {
            "marker": {
             "colorbar": {
              "outlinewidth": 0,
              "ticks": ""
             }
            },
            "type": "scattermapbox"
           }
          ],
          "scatterpolar": [
           {
            "marker": {
             "colorbar": {
              "outlinewidth": 0,
              "ticks": ""
             }
            },
            "type": "scatterpolar"
           }
          ],
          "scatterpolargl": [
           {
            "marker": {
             "colorbar": {
              "outlinewidth": 0,
              "ticks": ""
             }
            },
            "type": "scatterpolargl"
           }
          ],
          "scatterternary": [
           {
            "marker": {
             "colorbar": {
              "outlinewidth": 0,
              "ticks": ""
             }
            },
            "type": "scatterternary"
           }
          ],
          "surface": [
           {
            "colorbar": {
             "outlinewidth": 0,
             "ticks": ""
            },
            "colorscale": [
             [
              0,
              "#0d0887"
             ],
             [
              0.1111111111111111,
              "#46039f"
             ],
             [
              0.2222222222222222,
              "#7201a8"
             ],
             [
              0.3333333333333333,
              "#9c179e"
             ],
             [
              0.4444444444444444,
              "#bd3786"
             ],
             [
              0.5555555555555556,
              "#d8576b"
             ],
             [
              0.6666666666666666,
              "#ed7953"
             ],
             [
              0.7777777777777778,
              "#fb9f3a"
             ],
             [
              0.8888888888888888,
              "#fdca26"
             ],
             [
              1,
              "#f0f921"
             ]
            ],
            "type": "surface"
           }
          ],
          "table": [
           {
            "cells": {
             "fill": {
              "color": "#EBF0F8"
             },
             "line": {
              "color": "white"
             }
            },
            "header": {
             "fill": {
              "color": "#C8D4E3"
             },
             "line": {
              "color": "white"
             }
            },
            "type": "table"
           }
          ]
         },
         "layout": {
          "annotationdefaults": {
           "arrowcolor": "#2a3f5f",
           "arrowhead": 0,
           "arrowwidth": 1
          },
          "autotypenumbers": "strict",
          "coloraxis": {
           "colorbar": {
            "outlinewidth": 0,
            "ticks": ""
           }
          },
          "colorscale": {
           "diverging": [
            [
             0,
             "#8e0152"
            ],
            [
             0.1,
             "#c51b7d"
            ],
            [
             0.2,
             "#de77ae"
            ],
            [
             0.3,
             "#f1b6da"
            ],
            [
             0.4,
             "#fde0ef"
            ],
            [
             0.5,
             "#f7f7f7"
            ],
            [
             0.6,
             "#e6f5d0"
            ],
            [
             0.7,
             "#b8e186"
            ],
            [
             0.8,
             "#7fbc41"
            ],
            [
             0.9,
             "#4d9221"
            ],
            [
             1,
             "#276419"
            ]
           ],
           "sequential": [
            [
             0,
             "#0d0887"
            ],
            [
             0.1111111111111111,
             "#46039f"
            ],
            [
             0.2222222222222222,
             "#7201a8"
            ],
            [
             0.3333333333333333,
             "#9c179e"
            ],
            [
             0.4444444444444444,
             "#bd3786"
            ],
            [
             0.5555555555555556,
             "#d8576b"
            ],
            [
             0.6666666666666666,
             "#ed7953"
            ],
            [
             0.7777777777777778,
             "#fb9f3a"
            ],
            [
             0.8888888888888888,
             "#fdca26"
            ],
            [
             1,
             "#f0f921"
            ]
           ],
           "sequentialminus": [
            [
             0,
             "#0d0887"
            ],
            [
             0.1111111111111111,
             "#46039f"
            ],
            [
             0.2222222222222222,
             "#7201a8"
            ],
            [
             0.3333333333333333,
             "#9c179e"
            ],
            [
             0.4444444444444444,
             "#bd3786"
            ],
            [
             0.5555555555555556,
             "#d8576b"
            ],
            [
             0.6666666666666666,
             "#ed7953"
            ],
            [
             0.7777777777777778,
             "#fb9f3a"
            ],
            [
             0.8888888888888888,
             "#fdca26"
            ],
            [
             1,
             "#f0f921"
            ]
           ]
          },
          "colorway": [
           "#636efa",
           "#EF553B",
           "#00cc96",
           "#ab63fa",
           "#FFA15A",
           "#19d3f3",
           "#FF6692",
           "#B6E880",
           "#FF97FF",
           "#FECB52"
          ],
          "font": {
           "color": "#2a3f5f"
          },
          "geo": {
           "bgcolor": "white",
           "lakecolor": "white",
           "landcolor": "#E5ECF6",
           "showlakes": true,
           "showland": true,
           "subunitcolor": "white"
          },
          "hoverlabel": {
           "align": "left"
          },
          "hovermode": "closest",
          "mapbox": {
           "style": "light"
          },
          "paper_bgcolor": "white",
          "plot_bgcolor": "#E5ECF6",
          "polar": {
           "angularaxis": {
            "gridcolor": "white",
            "linecolor": "white",
            "ticks": ""
           },
           "bgcolor": "#E5ECF6",
           "radialaxis": {
            "gridcolor": "white",
            "linecolor": "white",
            "ticks": ""
           }
          },
          "scene": {
           "xaxis": {
            "backgroundcolor": "#E5ECF6",
            "gridcolor": "white",
            "gridwidth": 2,
            "linecolor": "white",
            "showbackground": true,
            "ticks": "",
            "zerolinecolor": "white"
           },
           "yaxis": {
            "backgroundcolor": "#E5ECF6",
            "gridcolor": "white",
            "gridwidth": 2,
            "linecolor": "white",
            "showbackground": true,
            "ticks": "",
            "zerolinecolor": "white"
           },
           "zaxis": {
            "backgroundcolor": "#E5ECF6",
            "gridcolor": "white",
            "gridwidth": 2,
            "linecolor": "white",
            "showbackground": true,
            "ticks": "",
            "zerolinecolor": "white"
           }
          },
          "shapedefaults": {
           "line": {
            "color": "#2a3f5f"
           }
          },
          "ternary": {
           "aaxis": {
            "gridcolor": "white",
            "linecolor": "white",
            "ticks": ""
           },
           "baxis": {
            "gridcolor": "white",
            "linecolor": "white",
            "ticks": ""
           },
           "bgcolor": "#E5ECF6",
           "caxis": {
            "gridcolor": "white",
            "linecolor": "white",
            "ticks": ""
           }
          },
          "title": {
           "x": 0.05
          },
          "xaxis": {
           "automargin": true,
           "gridcolor": "white",
           "linecolor": "white",
           "ticks": "",
           "title": {
            "standoff": 15
           },
           "zerolinecolor": "white",
           "zerolinewidth": 2
          },
          "yaxis": {
           "automargin": true,
           "gridcolor": "white",
           "linecolor": "white",
           "ticks": "",
           "title": {
            "standoff": 15
           },
           "zerolinecolor": "white",
           "zerolinewidth": 2
          }
         }
        },
        "title": {
         "text": "Alpes du Sud : postes actifs en 2025",
         "x": 0.5
        },
        "width": 900
       }
      }
     },
     "metadata": {},
     "output_type": "display_data"
    }
   ],
   "source": [
    "départements_alpes_sud = ['05','04','06']\n",
    "\n",
    "\n",
    " \n",
    "# initialisation\n",
    "liste_dataframes = []\n",
    "\n",
    "for dept in départements_alpes_sud:\n",
    "    liste_départementale = synthétiser_information(dept)\n",
    "    liste_dataframes.append(liste_départementale)   \n",
    "\n",
    "# Concaténation\n",
    "liste_alpes_sud = pd.concat(liste_dataframes, ignore_index=True)\n",
    "cartographier_postes(liste_alpes_sud, dept = 'sud')"
   ]
  },
  {
   "cell_type": "code",
   "execution_count": 13,
   "metadata": {},
   "outputs": [],
   "source": [
    "fichier_excel   = os.path.join(répertoire_travail, 'liste_synthétique_Alpes_Sud.xlsx')\n",
    "onglet_liste = 'liste-stations'\n",
    "liste_alpes_sud.to_excel(fichier_excel, index=False, sheet_name= onglet_liste)"
   ]
  },
  {
   "cell_type": "code",
   "execution_count": null,
   "metadata": {},
   "outputs": [],
   "source": []
  },
  {
   "cell_type": "code",
   "execution_count": 14,
   "metadata": {},
   "outputs": [
    {
     "name": "stderr",
     "output_type": "stream",
     "text": [
      "100%|██████████| 6/6 [00:26<00:00,  4.35s/it]\n"
     ]
    },
    {
     "data": {
      "text/html": [
       "<div>\n",
       "<style scoped>\n",
       "    .dataframe tbody tr th:only-of-type {\n",
       "        vertical-align: middle;\n",
       "    }\n",
       "\n",
       "    .dataframe tbody tr th {\n",
       "        vertical-align: top;\n",
       "    }\n",
       "\n",
       "    .dataframe thead th {\n",
       "        text-align: right;\n",
       "    }\n",
       "</style>\n",
       "<table border=\"1\" class=\"dataframe\">\n",
       "  <thead>\n",
       "    <tr style=\"text-align: right;\">\n",
       "      <th></th>\n",
       "      <th>poste</th>\n",
       "      <th>nom</th>\n",
       "      <th>valeurs</th>\n",
       "      <th>alt</th>\n",
       "      <th>lat</th>\n",
       "      <th>lon</th>\n",
       "      <th>début</th>\n",
       "      <th>fin</th>\n",
       "      <th>pluie</th>\n",
       "      <th>TM</th>\n",
       "      <th>TN</th>\n",
       "      <th>TX</th>\n",
       "      <th>HN</th>\n",
       "      <th>neige</th>\n",
       "      <th>séquence</th>\n",
       "    </tr>\n",
       "  </thead>\n",
       "  <tbody>\n",
       "    <tr>\n",
       "      <th>18</th>\n",
       "      <td>05001001</td>\n",
       "      <td>Abries</td>\n",
       "      <td>40</td>\n",
       "      <td>1560</td>\n",
       "      <td>44.796667</td>\n",
       "      <td>6.928333</td>\n",
       "      <td>1947-01-05</td>\n",
       "      <td>1949-01-08</td>\n",
       "      <td>False</td>\n",
       "      <td>False</td>\n",
       "      <td>False</td>\n",
       "      <td>False</td>\n",
       "      <td>False</td>\n",
       "      <td>False</td>\n",
       "      <td>3</td>\n",
       "    </tr>\n",
       "    <tr>\n",
       "      <th>57</th>\n",
       "      <td>05001001</td>\n",
       "      <td>Abries</td>\n",
       "      <td>4355</td>\n",
       "      <td>1560</td>\n",
       "      <td>44.796667</td>\n",
       "      <td>6.928333</td>\n",
       "      <td>1950-05-17</td>\n",
       "      <td>2023-02-28</td>\n",
       "      <td>False</td>\n",
       "      <td>False</td>\n",
       "      <td>False</td>\n",
       "      <td>False</td>\n",
       "      <td>False</td>\n",
       "      <td>False</td>\n",
       "      <td>4</td>\n",
       "    </tr>\n",
       "    <tr>\n",
       "      <th>31</th>\n",
       "      <td>05001001</td>\n",
       "      <td>Abries</td>\n",
       "      <td>517</td>\n",
       "      <td>1560</td>\n",
       "      <td>44.796667</td>\n",
       "      <td>6.928333</td>\n",
       "      <td>2024-01-01</td>\n",
       "      <td>2025-05-31</td>\n",
       "      <td>True</td>\n",
       "      <td>False</td>\n",
       "      <td>True</td>\n",
       "      <td>True</td>\n",
       "      <td>False</td>\n",
       "      <td>False</td>\n",
       "      <td>2</td>\n",
       "    </tr>\n",
       "    <tr>\n",
       "      <th>17</th>\n",
       "      <td>05001001</td>\n",
       "      <td>Abries</td>\n",
       "      <td>26232</td>\n",
       "      <td>1560</td>\n",
       "      <td>44.796667</td>\n",
       "      <td>6.928333</td>\n",
       "      <td>1950-05-01</td>\n",
       "      <td>2023-12-31</td>\n",
       "      <td>True</td>\n",
       "      <td>False</td>\n",
       "      <td>True</td>\n",
       "      <td>True</td>\n",
       "      <td>False</td>\n",
       "      <td>False</td>\n",
       "      <td>1</td>\n",
       "    </tr>\n",
       "    <tr>\n",
       "      <th>16</th>\n",
       "      <td>05001001</td>\n",
       "      <td>Abries</td>\n",
       "      <td>5173</td>\n",
       "      <td>1560</td>\n",
       "      <td>44.796667</td>\n",
       "      <td>6.928333</td>\n",
       "      <td>1932-01-01</td>\n",
       "      <td>1949-05-31</td>\n",
       "      <td>True</td>\n",
       "      <td>False</td>\n",
       "      <td>False</td>\n",
       "      <td>False</td>\n",
       "      <td>False</td>\n",
       "      <td>False</td>\n",
       "      <td>0</td>\n",
       "    </tr>\n",
       "    <tr>\n",
       "      <th>...</th>\n",
       "      <td>...</td>\n",
       "      <td>...</td>\n",
       "      <td>...</td>\n",
       "      <td>...</td>\n",
       "      <td>...</td>\n",
       "      <td>...</td>\n",
       "      <td>...</td>\n",
       "      <td>...</td>\n",
       "      <td>...</td>\n",
       "      <td>...</td>\n",
       "      <td>...</td>\n",
       "      <td>...</td>\n",
       "      <td>...</td>\n",
       "      <td>...</td>\n",
       "      <td>...</td>\n",
       "    </tr>\n",
       "    <tr>\n",
       "      <th>55</th>\n",
       "      <td>05183001</td>\n",
       "      <td>Villar St Pancrace</td>\n",
       "      <td>7458</td>\n",
       "      <td>1310</td>\n",
       "      <td>44.880333</td>\n",
       "      <td>6.640333</td>\n",
       "      <td>2003-08-01</td>\n",
       "      <td>2023-12-31</td>\n",
       "      <td>True</td>\n",
       "      <td>True</td>\n",
       "      <td>True</td>\n",
       "      <td>True</td>\n",
       "      <td>False</td>\n",
       "      <td>False</td>\n",
       "      <td>1</td>\n",
       "    </tr>\n",
       "    <tr>\n",
       "      <th>1</th>\n",
       "      <td>05183001</td>\n",
       "      <td>Villar St Pancrace</td>\n",
       "      <td>530</td>\n",
       "      <td>1310</td>\n",
       "      <td>44.880333</td>\n",
       "      <td>6.640333</td>\n",
       "      <td>2024-01-01</td>\n",
       "      <td>2025-06-13</td>\n",
       "      <td>True</td>\n",
       "      <td>True</td>\n",
       "      <td>True</td>\n",
       "      <td>True</td>\n",
       "      <td>False</td>\n",
       "      <td>False</td>\n",
       "      <td>2</td>\n",
       "    </tr>\n",
       "    <tr>\n",
       "      <th>32</th>\n",
       "      <td>05183001</td>\n",
       "      <td>Villar St Pancrace</td>\n",
       "      <td>7458</td>\n",
       "      <td>1310</td>\n",
       "      <td>44.880333</td>\n",
       "      <td>6.640333</td>\n",
       "      <td>2003-08-01</td>\n",
       "      <td>2023-12-31</td>\n",
       "      <td>False</td>\n",
       "      <td>False</td>\n",
       "      <td>False</td>\n",
       "      <td>False</td>\n",
       "      <td>True</td>\n",
       "      <td>True</td>\n",
       "      <td>4</td>\n",
       "    </tr>\n",
       "    <tr>\n",
       "      <th>67</th>\n",
       "      <td>05184002</td>\n",
       "      <td>Vitrolles</td>\n",
       "      <td>5813</td>\n",
       "      <td>595</td>\n",
       "      <td>44.408667</td>\n",
       "      <td>5.951667</td>\n",
       "      <td>1997-02-01</td>\n",
       "      <td>2012-12-31</td>\n",
       "      <td>True</td>\n",
       "      <td>True</td>\n",
       "      <td>True</td>\n",
       "      <td>True</td>\n",
       "      <td>False</td>\n",
       "      <td>False</td>\n",
       "      <td>1</td>\n",
       "    </tr>\n",
       "    <tr>\n",
       "      <th>50</th>\n",
       "      <td>05184002</td>\n",
       "      <td>Vitrolles</td>\n",
       "      <td>5243</td>\n",
       "      <td>595</td>\n",
       "      <td>44.408667</td>\n",
       "      <td>5.951667</td>\n",
       "      <td>1997-03-01</td>\n",
       "      <td>2012-12-31</td>\n",
       "      <td>False</td>\n",
       "      <td>False</td>\n",
       "      <td>False</td>\n",
       "      <td>False</td>\n",
       "      <td>False</td>\n",
       "      <td>False</td>\n",
       "      <td>4</td>\n",
       "    </tr>\n",
       "  </tbody>\n",
       "</table>\n",
       "<p>397 rows × 15 columns</p>\n",
       "</div>"
      ],
      "text/plain": [
       "       poste                 nom  valeurs   alt        lat       lon  \\\n",
       "18  05001001              Abries       40  1560  44.796667  6.928333   \n",
       "57  05001001              Abries     4355  1560  44.796667  6.928333   \n",
       "31  05001001              Abries      517  1560  44.796667  6.928333   \n",
       "17  05001001              Abries    26232  1560  44.796667  6.928333   \n",
       "16  05001001              Abries     5173  1560  44.796667  6.928333   \n",
       "..       ...                 ...      ...   ...        ...       ...   \n",
       "55  05183001  Villar St Pancrace     7458  1310  44.880333  6.640333   \n",
       "1   05183001  Villar St Pancrace      530  1310  44.880333  6.640333   \n",
       "32  05183001  Villar St Pancrace     7458  1310  44.880333  6.640333   \n",
       "67  05184002           Vitrolles     5813   595  44.408667  5.951667   \n",
       "50  05184002           Vitrolles     5243   595  44.408667  5.951667   \n",
       "\n",
       "         début         fin  pluie     TM     TN     TX     HN  neige  séquence  \n",
       "18  1947-01-05  1949-01-08  False  False  False  False  False  False         3  \n",
       "57  1950-05-17  2023-02-28  False  False  False  False  False  False         4  \n",
       "31  2024-01-01  2025-05-31   True  False   True   True  False  False         2  \n",
       "17  1950-05-01  2023-12-31   True  False   True   True  False  False         1  \n",
       "16  1932-01-01  1949-05-31   True  False  False  False  False  False         0  \n",
       "..         ...         ...    ...    ...    ...    ...    ...    ...       ...  \n",
       "55  2003-08-01  2023-12-31   True   True   True   True  False  False         1  \n",
       "1   2024-01-01  2025-06-13   True   True   True   True  False  False         2  \n",
       "32  2003-08-01  2023-12-31  False  False  False  False   True   True         4  \n",
       "67  1997-02-01  2012-12-31   True   True   True   True  False  False         1  \n",
       "50  1997-03-01  2012-12-31  False  False  False  False  False  False         4  \n",
       "\n",
       "[397 rows x 15 columns]"
      ]
     },
     "execution_count": 14,
     "metadata": {},
     "output_type": "execute_result"
    }
   ],
   "source": [
    "extraction_information('05')"
   ]
  },
  {
   "cell_type": "markdown",
   "metadata": {},
   "source": [
    "# Extraction pour les Pyrénées"
   ]
  },
  {
   "cell_type": "code",
   "execution_count": 26,
   "metadata": {},
   "outputs": [
    {
     "name": "stderr",
     "output_type": "stream",
     "text": [
      "100%|██████████| 6/6 [00:29<00:00,  4.89s/it]\n",
      "100%|██████████| 6/6 [00:20<00:00,  3.43s/it]\n",
      "100%|██████████| 6/6 [00:34<00:00,  5.77s/it]\n",
      "100%|██████████| 6/6 [00:22<00:00,  3.83s/it]\n",
      "100%|██████████| 6/6 [00:40<00:00,  6.67s/it]\n"
     ]
    },
    {
     "data": {
      "application/vnd.plotly.v1+json": {
       "config": {
        "plotlyServerURL": "https://plot.ly"
       },
       "data": [
        {
         "customdata": [
          [
           "09002001",
           410,
           "1981-11-01",
           "2000-08-31"
          ],
          [
           "09008001",
           700,
           "1928-01-01",
           "1934-05-31"
          ],
          [
           "09290006",
           1966,
           "1998-06-01",
           "2015-09-30"
          ],
          [
           "09017001",
           672,
           "1928-01-01",
           "1968-08-31"
          ],
          [
           "09022001",
           370,
           "1987-09-14",
           "2010-05-01"
          ],
          [
           "09023002",
           1100,
           "1955-07-01",
           "2025-06-13"
          ],
          [
           "09023400",
           1500,
           "1986-02-03",
           "2025-03-23"
          ],
          [
           "09023800",
           1104,
           "2023-05-10",
           "2025-05-31"
          ],
          [
           "09024001",
           547,
           "1948-06-01",
           "1975-09-30"
          ],
          [
           "09024004",
           1781,
           "2002-06-26",
           "2025-06-13"
          ],
          [
           "09026001",
           506,
           "1948-01-01",
           "1974-12-31"
          ],
          [
           "09027001",
           655,
           "1989-08-01",
           "2025-06-13"
          ],
          [
           "09029402",
           733,
           "2001-08-01",
           "2015-05-26"
          ],
          [
           "09029001",
           733,
           "1899-08-01",
           "2018-12-31"
          ],
          [
           "09030003",
           1200,
           "1944-01-01",
           "1982-12-31"
          ],
          [
           "09030012",
           900,
           "1902-08-01",
           "1913-12-31"
          ],
          [
           "09030007",
           720,
           "1959-12-01",
           "1962-01-30"
          ],
          [
           "09030004",
           1190,
           "1952-03-01",
           "1964-02-27"
          ],
          [
           "09030013",
           1050,
           "1910-02-01",
           "1912-03-31"
          ],
          [
           "09030005",
           1170,
           "1950-09-01",
           "1958-12-31"
          ],
          [
           "09030008",
           875,
           "1928-01-01",
           "1946-04-30"
          ],
          [
           "09030001",
           740,
           "1952-03-01",
           "1980-12-31"
          ],
          [
           "09030002",
           1020,
           "1959-01-01",
           "1980-08-31"
          ],
          [
           "09032402",
           1715,
           "1995-12-29",
           "2024-01-30"
          ],
          [
           "09032001",
           714,
           "1878-04-01",
           "1987-12-31"
          ],
          [
           "09032403",
           1997,
           "2024-02-03",
           "2025-03-30"
          ],
          [
           "09032004",
           700,
           "1946-01-01",
           "1947-12-31"
          ],
          [
           "09032003",
           720,
           "1902-05-01",
           "1949-12-31"
          ],
          [
           "09042001",
           404,
           "1880-04-01",
           "1890-10-31"
          ],
          [
           "09070400",
           1789,
           "1990-01-27",
           "2025-03-26"
          ],
          [
           "09047001",
           490,
           "1928-01-01",
           "2025-06-13"
          ],
          [
           "09047002",
           409,
           "1877-01-01",
           "1908-12-31"
          ],
          [
           "09055001",
           749,
           "1968-09-01",
           "2003-05-31"
          ],
          [
           "09055002",
           696,
           "1899-07-01",
           "1906-12-31"
          ],
          [
           "09059001",
           850,
           "1995-05-01",
           "2006-03-31"
          ],
          [
           "09062001",
           565,
           "1953-01-01",
           "1975-06-30"
          ],
          [
           "09065001",
           880,
           "1928-01-01",
           "1968-02-29"
          ],
          [
           "09065002",
           962,
           "1877-01-01",
           "1908-12-31"
          ],
          [
           "09066001",
           650,
           "1928-01-01",
           "1955-12-31"
          ],
          [
           "09067001",
           265,
           "2002-04-01",
           "2020-12-31"
          ],
          [
           "09071001",
           510,
           "2000-10-01",
           "2020-12-31"
          ],
          [
           "09076001",
           230,
           "1983-01-01",
           "1994-06-30"
          ],
          [
           "09077001",
           582,
           "1902-08-01",
           "1905-12-31"
          ],
          [
           "09078001",
           1185,
           "1952-03-01",
           "1966-07-31"
          ],
          [
           "09078002",
           1360,
           "2009-09-23",
           "2020-12-31"
          ],
          [
           "09079001",
           375,
           "1976-01-01",
           "2013-12-31"
          ],
          [
           "09079002",
           387,
           "1986-01-01",
           "1998-08-31"
          ],
          [
           "09082001",
           585,
           "1990-09-01",
           "1998-03-31"
          ],
          [
           "09085002",
           525,
           "1899-07-01",
           "1933-12-31"
          ],
          [
           "09085001",
           541,
           "1880-04-01",
           "1947-12-31"
          ],
          [
           "09094001",
           374,
           "1981-06-01",
           "2025-06-13"
          ],
          [
           "09099001",
           519,
           "2003-10-16",
           "2025-06-13"
          ],
          [
           "09100002",
           702,
           "1899-07-01",
           "1960-10-31"
          ],
          [
           "09100003",
           705,
           "1878-04-01",
           "1908-12-31"
          ],
          [
           "09100001",
           855,
           "1952-03-01",
           "2017-12-31"
          ],
          [
           "09113001",
           695,
           "1952-03-01",
           "1970-12-31"
          ],
          [
           "09118001",
           700,
           "1941-01-01",
           "1947-10-31"
          ],
          [
           "09231400",
           1280,
           "1992-12-18",
           "2019-03-04"
          ],
          [
           "09290004",
           1010,
           "1991-11-01",
           "2017-12-31"
          ],
          [
           "09121001",
           405,
           "1986-01-01",
           "1988-04-30"
          ],
          [
           "09122001",
           365,
           "1952-03-01",
           "2000-06-30"
          ],
          [
           "09122003",
           380,
           "1877-01-01",
           "1965-12-31"
          ],
          [
           "09122002",
           425,
           "1872-12-01",
           "2002-02-28"
          ],
          [
           "09122004",
           390,
           "1954-01-01",
           "1963-01-31"
          ],
          [
           "09125001",
           600,
           "1902-09-01",
           "1906-12-31"
          ],
          [
           "09130001",
           1200,
           "1903-01-01",
           "1906-11-30"
          ],
          [
           "09134001",
           965,
           "1961-12-01",
           "1971-10-31"
          ],
          [
           "09135400",
           1468,
           "1999-12-20",
           "2025-02-18"
          ],
          [
           "09135001",
           1084,
           "1902-08-01",
           "1906-12-31"
          ],
          [
           "09029400",
           1384,
           "1983-12-24",
           "2025-03-08"
          ],
          [
           "09139001",
           1425,
           "1959-01-01",
           "2017-12-31"
          ],
          [
           "09139002",
           1430,
           "1902-05-01",
           "1963-09-30"
          ],
          [
           "09139400",
           1420,
           "1971-12-15",
           "2020-03-16"
          ],
          [
           "09042002",
           395,
           "1983-02-01",
           "1985-05-31"
          ],
          [
           "09042003",
           420,
           "1990-06-01",
           "2020-12-31"
          ],
          [
           "09149001",
           430,
           "1952-03-01",
           "1975-06-30"
          ],
          [
           "09155001",
           830,
           "1902-05-01",
           "1906-12-31"
          ],
          [
           "09063001",
           650,
           "1957-01-01",
           "1980-03-31"
          ],
          [
           "09063002",
           750,
           "1902-08-01",
           "1906-12-31"
          ],
          [
           "09140001",
           1600,
           "2005-01-01",
           "2017-03-07"
          ],
          [
           "09124001",
           243,
           "1877-01-01",
           "1974-12-31"
          ],
          [
           "09181003",
           293,
           "1971-05-01",
           "2025-06-13"
          ],
          [
           "09181001",
           285,
           "1964-09-01",
           "1984-02-29"
          ],
          [
           "09181002",
           298,
           "1878-04-01",
           "1970-12-31"
          ],
          [
           "09230001",
           1040,
           "1991-11-01",
           "2008-03-31"
          ],
          [
           "09230002",
           1170,
           "1999-12-01",
           "2002-02-28"
          ],
          [
           "09231001",
           710,
           "1952-03-01",
           "1977-10-31"
          ],
          [
           "09032401",
           2000,
           "1993-01-08",
           "1995-04-14"
          ],
          [
           "09161002",
           390,
           "2000-09-01",
           "2006-12-31"
          ],
          [
           "09161003",
           391,
           "2002-05-16",
           "2025-06-13"
          ],
          [
           "09161001",
           500,
           "1992-01-01",
           "1995-12-31"
          ],
          [
           "09070001",
           536,
           "1880-03-01",
           "1935-12-31"
          ],
          [
           "09250001",
           530,
           "1996-01-01",
           "2020-12-31"
          ],
          [
           "09145001",
           277,
           "1982-01-01",
           "1984-04-30"
          ],
          [
           "09238001",
           300,
           "1958-02-01",
           "1975-06-30"
          ],
          [
           "09173001",
           420,
           "1881-01-01",
           "1890-09-30"
          ],
          [
           "09182001",
           650,
           "1899-07-01",
           "1951-12-31"
          ],
          [
           "09182003",
           636,
           "2006-01-01",
           "2017-12-13"
          ],
          [
           "09185001",
           253,
           "1982-01-01",
           "2007-12-31"
          ],
          [
           "09185002",
           230,
           "1987-08-03",
           "2002-05-31"
          ],
          [
           "09189001",
           1094,
           "1952-03-01",
           "1983-02-28"
          ],
          [
           "09189002",
           1050,
           "1880-03-01",
           "1906-12-31"
          ],
          [
           "09193400",
           1530,
           "1988-12-27",
           "2025-03-06"
          ],
          [
           "09194001",
           310,
           "1877-01-01",
           "2011-12-31"
          ],
          [
           "09194003",
           301,
           "2012-01-01",
           "2020-12-31"
          ],
          [
           "09206400",
           1472,
           "1984-02-01",
           "2025-03-23"
          ],
          [
           "09206002",
           1500,
           "2000-01-01",
           "2014-10-31"
          ],
          [
           "09199002",
           295,
           "2002-05-16",
           "2025-06-13"
          ],
          [
           "09199001",
           257,
           "1878-04-01",
           "1900-12-31"
          ],
          [
           "09200001",
           390,
           "1986-01-01",
           "2020-12-31"
          ],
          [
           "09206001",
           760,
           "1992-12-01",
           "2020-12-31"
          ],
          [
           "09211001",
           900,
           "1964-08-01",
           "1973-01-31"
          ],
          [
           "09214001",
           488,
           "1950-11-01",
           "1952-12-31"
          ],
          [
           "09214002",
           470,
           "1899-07-01",
           "1906-12-31"
          ],
          [
           "09215001",
           630,
           "1988-01-01",
           "2020-12-31"
          ],
          [
           "09219001",
           650,
           "1899-07-01",
           "1989-04-30"
          ],
          [
           "09220001",
           908,
           "1938-08-07",
           "2017-12-31"
          ],
          [
           "09223001",
           495,
           "2014-01-01",
           "2020-10-29"
          ],
          [
           "09225002",
           295,
           "1975-03-01",
           "2005-10-31"
          ],
          [
           "09225001",
           298,
           "1931-05-01",
           "1968-11-30"
          ],
          [
           "09225004",
           294,
           "1985-01-01",
           "2008-12-31"
          ],
          [
           "09225003",
           295,
           "1966-01-01",
           "1973-02-28"
          ],
          [
           "09225005",
           283,
           "2008-12-01",
           "2025-03-05"
          ],
          [
           "09226001",
           530,
           "1941-09-01",
           "1951-12-31"
          ],
          [
           "09285400",
           2140,
           "1995-10-17",
           "2025-06-13"
          ],
          [
           "09232001",
           1240,
           "1902-06-01",
           "1957-12-31"
          ],
          [
           "09239001",
           1200,
           "1959-06-24",
           "1978-02-28"
          ],
          [
           "09239004",
           1220,
           "1992-12-01",
           "1994-04-30"
          ],
          [
           "09239005",
           1430,
           "2008-10-01",
           "2008-11-26"
          ],
          [
           "09239003",
           1230,
           "1928-01-01",
           "1939-08-24"
          ],
          [
           "09239002",
           1300,
           "1952-03-01",
           "1952-12-31"
          ],
          [
           "09241001",
           500,
           "1948-11-01",
           "1954-04-30"
          ],
          [
           "09024003",
           1090,
           "1950-01-01",
           "2017-12-31"
          ],
          [
           "09244001",
           283,
           "1904-04-01",
           "1958-01-31"
          ],
          [
           "09246001",
           565,
           "1899-07-01",
           "1906-12-31"
          ],
          [
           "09247001",
           736,
           "1948-01-01",
           "1974-09-30"
          ],
          [
           "09247003",
           580,
           "1899-07-01",
           "1906-12-31"
          ],
          [
           "09247002",
           750,
           "1928-01-01",
           "1945-03-31"
          ],
          [
           "09252001",
           984,
           "1952-03-01",
           "1974-04-30"
          ],
          [
           "09252003",
           735,
           "2014-12-19",
           "2017-12-31"
          ],
          [
           "09024005",
           2185,
           "2002-07-01",
           "2014-09-30"
          ],
          [
           "09261001",
           391,
           "1877-01-01",
           "1950-01-31"
          ],
          [
           "09267003",
           728,
           "1948-05-01",
           "1954-09-14"
          ],
          [
           "09267004",
           673,
           "1899-07-01",
           "1948-04-30"
          ],
          [
           "09257002",
           245,
           "1880-04-01",
           "1908-12-31"
          ],
          [
           "09280001",
           1030,
           "1952-03-01",
           "1968-12-31"
          ],
          [
           "09280002",
           950,
           "1902-08-01",
           "1906-12-31"
          ],
          [
           "09282001",
           240,
           "1966-05-01",
           "2018-12-31"
          ],
          [
           "09283002",
           680,
           "1988-01-01",
           "2017-12-13"
          ],
          [
           "09283001",
           680,
           "1949-01-01",
           "1949-12-31"
          ],
          [
           "09285002",
           520,
           "1907-01-01",
           "2006-12-31"
          ],
          [
           "09285003",
           503,
           "1959-03-01",
           "1961-06-30"
          ],
          [
           "09290002",
           870,
           "1952-03-01",
           "1975-12-31"
          ],
          [
           "09290001",
           735,
           "1899-07-01",
           "1994-12-31"
          ],
          [
           "09290400",
           1000,
           "2001-08-04",
           "2025-06-14"
          ],
          [
           "09292001",
           750,
           "1928-01-01",
           "1939-07-31"
          ],
          [
           "09295001",
           750,
           "1954-09-22",
           "1961-10-31"
          ],
          [
           "09299003",
           515,
           "2007-01-01",
           "2013-09-30"
          ],
          [
           "09299001",
           512,
           "1881-03-01",
           "1906-12-31"
          ],
          [
           "09301001",
           638,
           "1975-10-01",
           "2025-06-13"
          ],
          [
           "09289001",
           414,
           "1949-01-01",
           "2025-06-13"
          ],
          [
           "09259001",
           395,
           "1984-06-01",
           "1987-10-31"
          ],
          [
           "09267001",
           700,
           "1956-01-01",
           "1970-11-30"
          ],
          [
           "09277001",
           330,
           "1981-11-01",
           "2020-12-31"
          ],
          [
           "09257001",
           330,
           "1964-09-01",
           "1978-12-31"
          ],
          [
           "09303001",
           560,
           "1949-01-01",
           "1965-11-25"
          ],
          [
           "09306002",
           500,
           "1952-03-01",
           "2004-08-31"
          ],
          [
           "09306001",
           475,
           "1889-01-01",
           "2015-12-31"
          ],
          [
           "09322004",
           610,
           "1899-07-01",
           "1906-12-31"
          ],
          [
           "09322001",
           750,
           "1957-09-08",
           "1974-08-31"
          ],
          [
           "09322002",
           700,
           "1928-01-01",
           "1953-05-31"
          ],
          [
           "09324001",
           338,
           "1981-10-01",
           "1991-12-31"
          ],
          [
           "09328001",
           550,
           "1928-01-01",
           "2025-06-13"
          ],
          [
           "09334004",
           750,
           "1990-09-01",
           "2020-12-31"
          ],
          [
           "09334001",
           720,
           "1879-04-01",
           "1975-11-30"
          ],
          [
           "09334002",
           825,
           "1902-08-01",
           "1913-12-31"
          ],
          [
           "09334003",
           710,
           "1959-01-01",
           "1959-11-30"
          ],
          [
           "09285001",
           512,
           "1899-01-01",
           "1966-12-31"
          ],
          [
           "09335001",
           346,
           "1881-01-01",
           "1900-12-31"
          ],
          [
           "31006001",
           289,
           "1881-02-01",
           "1903-12-31"
          ],
          [
           "31011001",
           405,
           "1968-03-01",
           "2025-06-13"
          ],
          [
           "31024001",
           240,
           "1964-06-02",
           "1988-09-30"
          ],
          [
           "31024002",
           240,
           "1988-10-01",
           "2020-12-31"
          ],
          [
           "31027001",
           250,
           "1904-09-01",
           "1924-03-31"
          ],
          [
           "31028001",
           390,
           "1872-01-01",
           "1993-02-28"
          ],
          [
           "31033001",
           188,
           "1979-01-01",
           "1986-08-31"
          ],
          [
           "31035001",
           150,
           "2002-05-25",
           "2025-06-13"
          ],
          [
           "31037002",
           193,
           "2022-03-11",
           "2025-06-13"
          ],
          [
           "31042004",
           1872,
           "1946-04-01",
           "1963-09-30"
          ],
          [
           "31042001",
           620,
           "1928-01-01",
           "2018-12-31"
          ],
          [
           "31042005",
           635,
           "1946-01-01",
           "1960-12-31"
          ],
          [
           "31042008",
           1000,
           "1902-06-01",
           "1905-07-31"
          ],
          [
           "31042009",
           623,
           "1872-01-01",
           "1900-12-31"
          ],
          [
           "31042002",
           820,
           "1944-11-01",
           "1974-11-30"
          ],
          [
           "31044001",
           140,
           "1993-01-01",
           "2016-12-31"
          ],
          [
           "31050001",
           400,
           "1988-04-04",
           "1994-05-18"
          ],
          [
           "31052001",
           205,
           "1957-04-01",
           "1963-09-30"
          ],
          [
           "31070004",
           325,
           "1999-03-01",
           "2025-06-13"
          ],
          [
           "31070002",
           356,
           "1946-09-01",
           "1950-07-31"
          ],
          [
           "31070001",
           358,
           "1899-03-01",
           "1999-02-28"
          ],
          [
           "31080001",
           320,
           "1881-02-01",
           "1884-02-29"
          ],
          [
           "31083001",
           287,
           "1993-03-01",
           "2018-09-30"
          ],
          [
           "31085400",
           1456,
           "1978-12-17",
           "2025-03-02"
          ],
          [
           "31098001",
           233,
           "1966-01-01",
           "2018-12-31"
          ],
          [
           "31098002",
           250,
           "1881-07-01",
           "1901-03-31"
          ],
          [
           "31107001",
           210,
           "1917-11-01",
           "1920-09-30"
          ],
          [
           "31108001",
           447,
           "1930-07-01",
           "1939-08-31"
          ],
          [
           "31116001",
           131,
           "1984-03-01",
           "2020-12-31"
          ],
          [
           "31123001",
           960,
           "1922-01-01",
           "1938-02-28"
          ],
          [
           "31127001",
           1230,
           "1905-01-01",
           "1933-03-31"
          ],
          [
           "31128001",
           200,
           "1929-07-01",
           "1940-06-30"
          ],
          [
           "31135001",
           240,
           "1899-03-01",
           "1915-12-31"
          ],
          [
           "31141001",
           350,
           "1950-08-01",
           "1966-12-31"
          ],
          [
           "31144001",
           500,
           "1952-03-01",
           "2013-03-31"
          ],
          [
           "31145001",
           196,
           "1966-02-01",
           "1985-10-31"
          ],
          [
           "31147001",
           401,
           "1994-05-18",
           "2025-06-13"
          ],
          [
           "31178001",
           330,
           "2004-03-01",
           "2020-12-31"
          ],
          [
           "31190001",
           550,
           "1966-02-01",
           "2021-12-31"
          ],
          [
           "31190003",
           550,
           "1881-02-01",
           "1911-12-31"
          ],
          [
           "31239001",
           200,
           "1970-05-01",
           "2004-12-31"
          ],
          [
           "31241001",
           300,
           "1883-01-01",
           "1911-03-31"
          ],
          [
           "31242001",
           1290,
           "1899-03-01",
           "1904-07-31"
          ],
          [
           "31245001",
           575,
           "1902-05-01",
           "1999-12-31"
          ],
          [
           "31239003",
           198,
           "1881-02-01",
           "1884-07-31"
          ],
          [
           "31239002",
           195,
           "1964-06-02",
           "1966-11-30"
          ],
          [
           "31247001",
           394,
           "1975-02-01",
           "2020-12-31"
          ],
          [
           "31253001",
           190,
           "1964-06-02",
           "1988-12-31"
          ],
          [
           "31253002",
           186,
           "1989-01-01",
           "2020-12-31"
          ],
          [
           "31258001",
           257,
           "2006-01-01",
           "2020-12-31"
          ],
          [
           "31264001",
           235,
           "2008-09-16",
           "2020-12-31"
          ],
          [
           "31271001",
           212,
           "1971-01-01",
           "2022-12-31"
          ],
          [
           "31272001",
           347,
           "1993-01-01",
           "2013-11-30"
          ],
          [
           "31277001",
           173,
           "1899-03-01",
           "1914-07-31"
          ],
          [
           "31281001",
           178,
           "1963-06-01",
           "2020-12-31"
          ],
          [
           "31179001",
           262,
           "1899-01-01",
           "1911-12-31"
          ],
          [
           "31193001",
           319,
           "1883-05-01",
           "1914-06-30"
          ],
          [
           "31291001",
           195,
           "1881-02-01",
           "1901-06-30"
          ],
          [
           "31221400",
           1569,
           "1988-01-20",
           "2025-03-30"
          ],
          [
           "31305001",
           500,
           "1981-12-01",
           "2020-11-30"
          ],
          [
           "31042012",
           618,
           "1994-07-21",
           "2025-06-13"
          ],
          [
           "31123400",
           2417,
           "2000-09-25",
           "2024-01-07"
          ],
          [
           "31335001",
           1204,
           "1931-06-01",
           "1952-11-30"
          ],
          [
           "31344002",
           354,
           "1929-01-01",
           "1940-04-30"
          ],
          [
           "31344001",
           352,
           "1959-01-01",
           "1965-10-31"
          ],
          [
           "31349001",
           250,
           "1985-05-01",
           "2007-03-31"
          ],
          [
           "31374001",
           190,
           "1997-01-01",
           "2025-06-13"
          ],
          [
           "31375001",
           226,
           "1973-06-01",
           "1985-12-31"
          ],
          [
           "31380001",
           250,
           "1973-06-01",
           "1978-06-30"
          ],
          [
           "31390001",
           462,
           "1872-02-01",
           "1878-01-31"
          ],
          [
           "31299001",
           189,
           "1996-09-17",
           "2025-06-13"
          ],
          [
           "31396001",
           285,
           "1881-02-01",
           "1899-05-31"
          ],
          [
           "31403001",
           108,
           "1931-01-01",
           "1998-01-31"
          ],
          [
           "31403002",
           109,
           "1988-08-01",
           "2025-06-13"
          ],
          [
           "31404001",
           969,
           "1961-09-01",
           "2025-05-31"
          ],
          [
           "31404003",
           1290,
           "1899-03-01",
           "1914-12-31"
          ],
          [
           "31404002",
           1450,
           "1933-12-01",
           "1961-02-28"
          ],
          [
           "31406002",
           243,
           "2002-05-01",
           "2025-06-13"
          ],
          [
           "31406001",
           239,
           "1963-10-01",
           "1975-06-30"
          ],
          [
           "31416001",
           216,
           "1963-06-01",
           "1972-08-31"
          ],
          [
           "31417001",
           190,
           "1899-01-01",
           "1906-12-31"
          ],
          [
           "31426001",
           410,
           "1952-03-01",
           "1975-01-31"
          ],
          [
           "31427001",
           350,
           "1931-06-01",
           "2001-07-31"
          ],
          [
           "31431001",
           800,
           "1955-02-03",
           "1956-12-28"
          ],
          [
           "31435001",
           204,
           "1988-04-04",
           "2002-05-31"
          ],
          [
           "31451001",
           338,
           "1908-01-01",
           "2025-06-13"
          ],
          [
           "31454001",
           261,
           "1966-01-01",
           "2025-06-13"
          ],
          [
           "31454003",
           280,
           "1883-01-01",
           "1901-07-31"
          ],
          [
           "31476001",
           225,
           "1963-06-01",
           "1984-09-30"
          ],
          [
           "31483002",
           406,
           "1880-04-01",
           "1957-12-31"
          ],
          [
           "31483001",
           398,
           "1971-03-01",
           "1977-07-31"
          ],
          [
           "31497001",
           200,
           "1964-02-01",
           "1971-12-31"
          ],
          [
           "31513001",
           360,
           "1899-03-01",
           "1947-09-30"
          ],
          [
           "31521001",
           410,
           "1999-04-01",
           "2008-09-30"
          ],
          [
           "31523001",
           330,
           "1968-03-01",
           "1972-09-30"
          ],
          [
           "31539001",
           360,
           "1947-05-01",
           "1980-09-30"
          ],
          [
           "31540001",
           212,
           "1961-01-01",
           "2025-06-13"
          ],
          [
           "31547001",
           320,
           "1926-03-01",
           "1926-11-30"
          ],
          [
           "31508400",
           1107,
           "1998-12-15",
           "2025-06-14"
          ],
          [
           "31478001",
           330,
           "2006-03-03",
           "2025-06-13"
          ],
          [
           "31502001",
           348,
           "2006-07-01",
           "2018-08-31"
          ],
          [
           "31508001",
           1115,
           "1955-02-01",
           "2020-12-31"
          ],
          [
           "31517001",
           200,
           "1966-02-01",
           "2003-04-30"
          ],
          [
           "31042400",
           1763,
           "1983-12-21",
           "2025-03-20"
          ],
          [
           "31042404",
           1800,
           "1997-11-19",
           "1998-09-20"
          ],
          [
           "31555002",
           140,
           "1959-01-01",
           "1973-12-31"
          ],
          [
           "31555012",
           155,
           "1809-01-01",
           "1899-05-28"
          ],
          [
           "31555003",
           147,
           "1867-01-01",
           "1928-12-31"
          ],
          [
           "31555001",
           144,
           "1952-05-11",
           "1968-09-30"
          ],
          [
           "31555016",
           195,
           "1847-01-01",
           "1984-10-31"
          ],
          [
           "31555009",
           145,
           "1872-01-01",
           "1879-08-31"
          ],
          [
           "31069001",
           151,
           "1947-01-01",
           "2025-06-13"
          ],
          [
           "31157001",
           164,
           "1922-06-19",
           "2025-06-13"
          ],
          [
           "31555013",
           147,
           "1920-10-04",
           "1922-06-13"
          ],
          [
           "31569001",
           436,
           "1964-06-01",
           "1982-10-31"
          ],
          [
           "31573001",
           158,
           "1972-06-01",
           "2022-12-31"
          ],
          [
           "31573002",
           225,
           "1881-02-01",
           "1889-12-31"
          ],
          [
           "31579001",
           135,
           "1973-06-01",
           "2025-06-13"
          ],
          [
           "31582001",
           190,
           "1899-01-01",
           "1996-12-31"
          ],
          [
           "31582003",
           170,
           "1990-06-21",
           "2004-06-30"
          ],
          [
           "31583001",
           115,
           "1994-01-01",
           "2016-04-30"
          ],
          [
           "31584001",
           100,
           "1962-06-01",
           "1993-12-31"
          ],
          [
           "31585001",
           380,
           "1959-03-01",
           "1974-12-31"
          ],
          [
           "31587001",
           132,
           "1883-01-01",
           "1911-07-31"
          ],
          [
           "64005001",
           118,
           "1958-07-15",
           "1971-09-30"
          ],
          [
           "64006001",
           495,
           "1951-01-01",
           "2025-06-13"
          ],
          [
           "64007001",
           294,
           "1987-01-01",
           "1992-09-17"
          ],
          [
           "64010002",
           75,
           "1993-08-01",
           "2025-06-13"
          ],
          [
           "64010001",
           60,
           "1992-01-01",
           "1998-12-31"
          ],
          [
           "64016001",
           530,
           "1955-01-01",
           "1957-08-31"
          ],
          [
           "64021001",
           313,
           "1993-01-01",
           "2020-12-31"
          ],
          [
           "64040001",
           320,
           "1957-01-01",
           "1988-12-31"
          ],
          [
           "64040003",
           430,
           "1989-01-01",
           "2020-12-31"
          ],
          [
           "64040400",
           1650,
           "1971-12-16",
           "2025-03-30"
          ],
          [
           "64040002",
           316,
           "1931-02-01",
           "1939-07-15"
          ],
          [
           "64042001",
           103,
           "1931-11-01",
           "2015-11-30"
          ],
          [
           "64043001",
           220,
           "1960-01-01",
           "2018-05-31"
          ],
          [
           "64058001",
           385,
           "1931-03-01",
           "1940-05-31"
          ],
          [
           "64060001",
           150,
           "1956-01-01",
           "1971-08-31"
          ],
          [
           "64320400",
           1900,
           "1983-12-18",
           "2002-11-24"
          ],
          [
           "64320405",
           1860,
           "2002-12-09",
           "2022-01-26"
          ],
          [
           "64067001",
           213,
           "1956-01-01",
           "1969-12-31"
          ],
          [
           "64068001",
           337,
           "1969-01-01",
           "2025-06-13"
          ],
          [
           "64085001",
           768,
           "1940-01-01",
           "1945-06-30"
          ],
          [
           "64086001",
           120,
           "1933-08-01",
           "1943-06-30"
          ],
          [
           "64087001",
           45,
           "1951-01-01",
           "1992-03-31"
          ],
          [
           "64087002",
           167,
           "1992-12-01",
           "2020-12-31"
          ],
          [
           "64090001",
           130,
           "1970-05-01",
           "1970-08-31"
          ],
          [
           "64092002",
           252,
           "1934-01-01",
           "2025-06-13"
          ],
          [
           "64101001",
           237,
           "1950-10-01",
           "1989-12-31"
          ],
          [
           "64102001",
           35,
           "1881-01-01",
           "1920-12-31"
          ],
          [
           "64104001",
           415,
           "1882-01-01",
           "1945-12-31"
          ],
          [
           "64108001",
           45,
           "1987-02-01",
           "2018-12-31"
          ],
          [
           "64109001",
           255,
           "1955-10-01",
           "2025-06-13"
          ],
          [
           "64110002",
           1600,
           "1973-01-01",
           "1973-07-31"
          ],
          [
           "64115001",
           165,
           "1997-01-01",
           "2005-12-31"
          ],
          [
           "64122002",
           35,
           "1949-01-01",
           "1965-12-31"
          ],
          [
           "64122006",
           34,
           "1991-09-01",
           "2006-11-30"
          ],
          [
           "64024001",
           71,
           "1955-01-01",
           "2025-06-13"
          ],
          [
           "64122001",
           29,
           "1931-10-07",
           "1936-07-31"
          ],
          [
           "64122003",
           29,
           "1954-11-01",
           "1959-06-30"
          ],
          [
           "64123001",
           45,
           "1965-05-01",
           "2025-06-13"
          ],
          [
           "64128001",
           650,
           "1938-03-01",
           "1954-12-31"
          ],
          [
           "64136001",
           1070,
           "1934-01-01",
           "1974-08-31"
          ],
          [
           "64148001",
           355,
           "1964-06-01",
           "1969-03-31"
          ],
          [
           "64148002",
           308,
           "1938-10-01",
           "1940-05-31"
          ],
          [
           "64155001",
           179,
           "2003-12-18",
           "2025-06-13"
          ],
          [
           "64157002",
           376,
           "1940-01-01",
           "1945-01-31"
          ],
          [
           "64157003",
           365,
           "1994-01-01",
           "1999-10-23"
          ],
          [
           "64160001",
           69,
           "1964-01-01",
           "2025-06-13"
          ],
          [
           "64188002",
           175,
           "1989-01-01",
           "1992-12-31"
          ],
          [
           "64188001",
           130,
           "1881-01-01",
           "1965-07-31"
          ],
          [
           "64204001",
           1450,
           "1955-07-01",
           "1963-12-31"
          ],
          [
           "64204003",
           849,
           "1877-01-01",
           "1914-12-31"
          ],
          [
           "64204002",
           730,
           "1940-01-01",
           "1944-11-30"
          ],
          [
           "64213001",
           106,
           "1974-01-01",
           "2020-12-31"
          ],
          [
           "64216001",
           312,
           "1920-01-01",
           "2020-12-31"
          ],
          [
           "64218001",
           230,
           "1964-02-01",
           "1991-12-31"
          ],
          [
           "64224001",
           260,
           "1957-10-01",
           "1961-05-31"
          ],
          [
           "64233001",
           209,
           "1964-06-01",
           "2025-06-13"
          ],
          [
           "64233002",
           134,
           "1928-03-01",
           "1940-07-31"
          ],
          [
           "64238001",
           410,
           "2007-03-01",
           "2025-06-13"
          ],
          [
           "64239001",
           325,
           "1974-05-01",
           "1990-01-31"
          ],
          [
           "64320402",
           1347,
           "1971-12-14",
           "1997-04-20"
          ],
          [
           "64320404",
           1590,
           "1998-01-05",
           "2025-03-30"
          ],
          [
           "64251001",
           60,
           "1986-04-01",
           "1992-08-03"
          ],
          [
           "64256001",
           135,
           "1965-07-01",
           "1966-01-31"
          ],
          [
           "64260001",
           1,
           "1931-05-11",
           "1984-08-31"
          ],
          [
           "64261001",
           300,
           "1992-09-01",
           "2006-11-30"
          ],
          [
           "64265001",
           340,
           "1964-02-01",
           "2016-11-30"
          ],
          [
           "64271001",
           155,
           "1931-03-07",
           "1956-04-30"
          ],
          [
           "64316400",
           1327,
           "1983-12-11",
           "2025-06-10"
          ],
          [
           "64316003",
           1427,
           "2001-08-28",
           "2025-06-13"
          ],
          [
           "64273001",
           201,
           "1971-11-01",
           "2018-12-31"
          ],
          [
           "64274001",
           237,
           "1961-03-01",
           "2017-10-31"
          ],
          [
           "64279001",
           95,
           "1983-04-01",
           "1986-06-30"
          ],
          [
           "64284001",
           310,
           "1951-10-01",
           "1970-12-31"
          ],
          [
           "64284002",
           330,
           "1962-12-01",
           "1963-02-28"
          ],
          [
           "64288001",
           120,
           "1956-01-01",
           "1968-11-30"
          ],
          [
           "64289001",
           25,
           "1974-07-01",
           "2010-03-31"
          ],
          [
           "64291001",
           60,
           "1928-01-01",
           "1964-12-31"
          ],
          [
           "64300001",
           91,
           "1962-01-01",
           "1967-03-31"
          ],
          [
           "64301002",
           125,
           "1956-01-01",
           "2025-06-13"
          ],
          [
           "64304001",
           3,
           "1963-01-01",
           "1973-05-31"
          ],
          [
           "64310001",
           350,
           "2019-01-08",
           "2025-06-13"
          ],
          [
           "64313001",
           150,
           "1954-07-01",
           "1962-01-31"
          ],
          [
           "64316001",
           616,
           "1956-01-01",
           "2025-06-13"
          ],
          [
           "64316002",
           1327,
           "1973-07-01",
           "2018-01-31"
          ],
          [
           "64320004",
           1990,
           "1933-12-01",
           "1965-10-31"
          ],
          [
           "64320005",
           523,
           "1939-07-01",
           "1964-03-31"
          ],
          [
           "64320006",
           520,
           "1882-01-01",
           "1944-07-31"
          ],
          [
           "64320002",
           735,
           "1943-11-01",
           "1970-09-30"
          ],
          [
           "64320001",
           1132,
           "1934-01-01",
           "2016-07-31"
          ],
          [
           "64320010",
           1131,
           "2016-08-01",
           "2023-11-29"
          ],
          [
           "64320003",
           522,
           "1963-08-01",
           "2025-06-13"
          ],
          [
           "64324001",
           217,
           "1934-01-01",
           "2022-12-31"
          ],
          [
           "64324002",
           247,
           "2016-07-09",
           "2025-06-13"
          ],
          [
           "64331002",
           310,
           "1928-01-01",
           "2025-06-13"
          ],
          [
           "64335001",
           160,
           "1865-03-19",
           "1937-12-31"
          ],
          [
           "64336001",
           825,
           "1949-12-01",
           "1990-12-31"
          ],
          [
           "64336004",
           907,
           "1990-05-01",
           "2018-10-31"
          ],
          [
           "64336002",
           907,
           "1940-01-01",
           "1954-08-31"
          ],
          [
           "64336003",
           1500,
           "1973-07-01",
           "1976-02-29"
          ],
          [
           "64339001",
           315,
           "1963-01-01",
           "2020-12-31"
          ],
          [
           "64342001",
           288,
           "1956-01-01",
           "2025-06-13"
          ],
          [
           "64360001",
           320,
           "1931-03-13",
           "1940-02-29"
          ],
          [
           "64368001",
           102,
           "1973-07-01",
           "1995-12-31"
          ],
          [
           "64371001",
           142,
           "1965-12-01",
           "1988-12-31"
          ],
          [
           "64371002",
           214,
           "1874-07-01",
           "1878-11-30"
          ],
          [
           "64373001",
           185,
           "1956-01-01",
           "1961-04-30"
          ],
          [
           "64379001",
           292,
           "2009-03-17",
           "2025-06-13"
          ],
          [
           "64393001",
           241,
           "1964-01-01",
           "2022-12-31"
          ],
          [
           "64401001",
           156,
           "1971-11-01",
           "2020-12-31"
          ],
          [
           "64396002",
           202,
           "1985-05-01",
           "1999-04-30"
          ],
          [
           "64396001",
           88,
           "1985-05-01",
           "1999-12-31"
          ],
          [
           "64398001",
           325,
           "1974-02-01",
           "2020-12-31"
          ],
          [
           "64400001",
           310,
           "1956-01-01",
           "1962-12-31"
          ],
          [
           "64404001",
           250,
           "1956-01-01",
           "1971-09-30"
          ],
          [
           "64404002",
           270,
           "1931-01-01",
           "1940-01-31"
          ],
          [
           "64416001",
           135,
           "1931-03-01",
           "2025-06-13"
          ],
          [
           "64417001",
           264,
           "1889-01-01",
           "1945-12-31"
          ],
          [
           "64422007",
           295,
           "2006-06-25",
           "2025-06-13"
          ],
          [
           "64422002",
           225,
           "1882-01-01",
           "1945-12-31"
          ],
          [
           "64422004",
           235,
           "1964-02-01",
           "2012-10-31"
          ],
          [
           "64430001",
           87,
           "1881-01-01",
           "1945-12-31"
          ],
          [
           "64430003",
           96,
           "1994-10-01",
           "2025-06-13"
          ],
          [
           "64430002",
           62,
           "1934-01-01",
           "1935-07-31"
          ],
          [
           "64430004",
           104,
           "1895-01-01",
           "1904-08-31"
          ],
          [
           "64444001",
           300,
           "1932-01-01",
           "1938-09-30"
          ],
          [
           "64445010",
           201,
           "1872-01-01",
           "1881-12-31"
          ],
          [
           "64445003",
           177,
           "1877-01-01",
           "1922-12-31"
          ],
          [
           "64445008",
           217,
           "1902-01-01",
           "2007-04-30"
          ],
          [
           "64445006",
           194,
           "1923-01-01",
           "1945-12-31"
          ],
          [
           "64445007",
           194,
           "1872-06-01",
           "1879-12-31"
          ],
          [
           "64445011",
           204,
           "1995-05-01",
           "2007-01-07"
          ],
          [
           "64549001",
           183,
           "1921-08-01",
           "2025-06-13"
          ],
          [
           "64450001",
           130,
           "1931-03-05",
           "2025-06-13"
          ],
          [
           "64452001",
           362,
           "1972-01-01",
           "1973-10-31"
          ],
          [
           "64453002",
           343,
           "2018-11-15",
           "2025-06-13"
          ],
          [
           "64461001",
           41,
           "1964-04-01",
           "1988-12-31"
          ],
          [
           "64479001",
           102,
           "1931-03-01",
           "1939-08-31"
          ],
          [
           "64483001",
           5,
           "1972-05-01",
           "1982-12-31"
          ],
          [
           "64485001",
           160,
           "1975-01-01",
           "1976-08-31"
          ],
          [
           "64485002",
           160,
           "1881-01-01",
           "1945-12-31"
          ],
          [
           "64485003",
           178,
           "1960-06-01",
           "1961-02-28"
          ],
          [
           "64488001",
           308,
           "1961-08-01",
           "1966-11-30"
          ],
          [
           "64475003",
           435,
           "1940-01-01",
           "1944-12-31"
          ],
          [
           "64504001",
           180,
           "1954-09-01",
           "1958-12-31"
          ],
          [
           "64504002",
           86,
           "1931-03-01",
           "1944-06-30"
          ],
          [
           "64513001",
           105,
           "1928-01-01",
           "1964-11-30"
          ],
          [
           "64523001",
           251,
           "1986-04-01",
           "1997-04-30"
          ],
          [
           "64189001",
           21,
           "1921-01-01",
           "2025-06-13"
          ],
          [
           "64330400",
           2142,
           "1997-01-28",
           "2025-06-13"
          ],
          [
           "64482001",
           275,
           "1997-01-01",
           "2012-06-30"
          ],
          [
           "64495001",
           25,
           "1963-01-01",
           "1991-12-31"
          ],
          [
           "64480001",
           73,
           "1974-05-01",
           "2025-06-13"
          ],
          [
           "64484001",
           173,
           "1976-09-01",
           "2011-12-31"
          ],
          [
           "64493001",
           55,
           "1928-01-01",
           "1991-12-31"
          ],
          [
           "64475002",
           475,
           "1982-01-01",
           "2009-05-31"
          ],
          [
           "64475001",
           630,
           "1956-01-01",
           "1981-03-31"
          ],
          [
           "64533001",
           278,
           "1993-04-01",
           "1995-10-31"
          ],
          [
           "64535001",
           110,
           "1956-01-01",
           "1958-05-31"
          ],
          [
           "64536001",
           242,
           "1931-04-01",
           "1942-06-30"
          ],
          [
           "64537001",
           216,
           "1952-11-01",
           "2025-06-13"
          ],
          [
           "64542001",
           760,
           "1970-06-01",
           "1978-03-31"
          ],
          [
           "64542004",
           783,
           "1901-01-01",
           "1905-12-31"
          ],
          [
           "64542005",
           1417,
           "1877-01-01",
           "1914-11-29"
          ],
          [
           "64542002",
           1450,
           "1972-05-01",
           "1977-03-31"
          ],
          [
           "64542006",
           1074,
           "2005-02-01",
           "2018-01-01"
          ],
          [
           "64543001",
           410,
           "2007-04-26",
           "2025-06-13"
          ],
          [
           "64547001",
           17,
           "1931-06-01",
           "1940-06-30"
          ],
          [
           "65001001",
           446,
           "2016-11-05",
           "2025-06-13"
          ],
          [
           "65017402",
           1420,
           "1971-12-15",
           "1974-03-31"
          ],
          [
           "65017005",
           1360,
           "1972-01-01",
           "1979-10-31"
          ],
          [
           "65017001",
           1150,
           "1956-04-01",
           "1978-05-31"
          ],
          [
           "65017003",
           1808,
           "1944-01-01",
           "1968-09-30"
          ],
          [
           "65017004",
           1320,
           "1954-09-01",
           "1965-09-30"
          ],
          [
           "65018001",
           1015,
           "2007-12-05",
           "2025-06-13"
          ],
          [
           "65025001",
           420,
           "1944-09-01",
           "1981-12-29"
          ],
          [
           "65025002",
           460,
           "1945-01-01",
           "1963-04-30"
          ],
          [
           "65025003",
           458,
           "1882-08-01",
           "1921-10-31"
          ],
          [
           "65031001",
           720,
           "1943-12-01",
           "2016-07-31"
          ],
          [
           "65031005",
           720,
           "2016-08-01",
           "2025-05-31"
          ],
          [
           "65031002",
           700,
           "1877-01-01",
           "1943-11-30"
          ],
          [
           "65032005",
           907,
           "2016-08-01",
           "2025-05-31"
          ],
          [
           "65032001",
           871,
           "1936-09-01",
           "2016-07-31"
          ],
          [
           "65123001",
           1203,
           "1952-03-01",
           "2016-07-31"
          ],
          [
           "65123007",
           1203,
           "2016-08-01",
           "2025-05-31"
          ],
          [
           "65055001",
           478,
           "1981-08-01",
           "2025-06-13"
          ],
          [
           "65059002",
           535,
           "1957-05-12",
           "1969-06-30"
          ],
          [
           "65059008",
           690,
           "1969-08-01",
           "1970-12-31"
          ],
          [
           "65059003",
           538,
           "1864-01-01",
           "1964-12-31"
          ],
          [
           "65059010",
           547,
           "1888-01-01",
           "1934-11-30"
          ],
          [
           "65059009",
           584,
           "1984-09-01",
           "2002-04-30"
          ],
          [
           "65059012",
           2375,
           "1878-01-01",
           "1881-09-30"
          ],
          [
           "65059018",
           555,
           "2006-01-01",
           "2018-02-28"
          ],
          [
           "65059017",
           620,
           "2002-02-01",
           "2005-12-31"
          ],
          [
           "65059006",
           620,
           "1971-04-01",
           "1983-12-31"
          ],
          [
           "65059005",
           1745,
           "1956-01-01",
           "1966-05-31"
          ],
          [
           "65059004",
           1087,
           "1952-03-01",
           "1962-09-30"
          ],
          [
           "65059007",
           577,
           "1943-03-01",
           "1954-03-31"
          ],
          [
           "65059014",
           538,
           "1939-01-01",
           "1941-12-31"
          ],
          [
           "65481400",
           1740,
           "1971-12-14",
           "2025-04-05"
          ],
          [
           "65481401",
           1960,
           "2005-07-04",
           "2005-07-31"
          ],
          [
           "65481001",
           1215,
           "1944-01-01",
           "2013-06-18"
          ],
          [
           "65075001",
           767,
           "2003-10-10",
           "2023-04-05"
          ],
          [
           "65078001",
           812,
           "1962-11-02",
           "1973-07-31"
          ],
          [
           "65085001",
           320,
           "1957-08-01",
           "1963-12-31"
          ],
          [
           "65092001",
           637,
           "1952-03-01",
           "1982-12-31"
          ],
          [
           "65100001",
           285,
           "2006-01-27",
           "2009-01-31"
          ],
          [
           "65123003",
           1150,
           "1956-01-01",
           "1957-12-31"
          ],
          [
           "65125001",
           593,
           "1989-01-01",
           "2025-06-13"
          ],
          [
           "65129001",
           350,
           "1961-11-01",
           "1987-07-31"
          ],
          [
           "65129003",
           298,
           "1986-10-01",
           "2025-06-13"
          ],
          [
           "65129002",
           269,
           "1882-08-01",
           "1961-09-30"
          ],
          [
           "65131001",
           360,
           "1988-01-01",
           "2020-12-31"
          ],
          [
           "65138001",
           911,
           "1952-03-01",
           "2015-12-31"
          ],
          [
           "65138002",
           1010,
           "1939-03-01",
           "1951-06-30"
          ],
          [
           "65138003",
           922,
           "1909-12-12",
           "1914-06-30"
          ],
          [
           "65138006",
           1057,
           "2010-01-01",
           "2020-12-31"
          ],
          [
           "65138402",
           1920,
           "2011-12-19",
           "2025-04-19"
          ],
          [
           "65138005",
           1535,
           "2009-09-04",
           "2025-06-13"
          ],
          [
           "65017002",
           1012,
           "1944-01-01",
           "2020-12-31"
          ],
          [
           "65169001",
           1105,
           "1952-03-01",
           "1969-12-31"
          ],
          [
           "65176001",
           550,
           "1933-08-01",
           "1941-10-31"
          ],
          [
           "65183001",
           485,
           "1981-04-01",
           "2001-09-30"
          ],
          [
           "65188003",
           1380,
           "1991-01-01",
           "2012-07-10"
          ],
          [
           "65188002",
           1357,
           "1892-09-01",
           "1914-03-30"
          ],
          [
           "65188001",
           1357,
           "1952-03-01",
           "1961-07-27"
          ],
          [
           "65188400",
           1840,
           "1977-12-19",
           "2025-03-16"
          ],
          [
           "65188005",
           1410,
           "2007-12-19",
           "2025-06-13"
          ],
          [
           "65192001",
           1000,
           "1953-03-01",
           "2006-02-28"
          ],
          [
           "65192002",
           1011,
           "1947-01-01",
           "1964-01-31"
          ],
          [
           "65192004",
           1210,
           "2005-11-01",
           "2020-12-31"
          ],
          [
           "65193001",
           570,
           "1944-01-01",
           "1956-12-31"
          ],
          [
           "65195001",
           1250,
           "1961-02-01",
           "2020-12-31"
          ],
          [
           "65198001",
           575,
           "1988-01-01",
           "1999-09-30"
          ],
          [
           "65202001",
           800,
           "2001-09-01",
           "2010-07-31"
          ],
          [
           "65212001",
           805,
           "1952-03-01",
           "2000-12-31"
          ],
          [
           "65230001",
           460,
           "2003-04-01",
           "2015-08-31"
          ],
          [
           "65059400",
           1745,
           "1974-03-10",
           "2017-04-09"
          ],
          [
           "65059019",
           1745,
           "2006-01-21",
           "2016-01-11"
          ],
          [
           "65059022",
           1779,
           "2016-12-13",
           "2025-06-13"
          ],
          [
           "65413400",
           2445,
           "1995-10-18",
           "2025-06-13"
          ],
          [
           "65258002",
           570,
           "1870-01-01",
           "1965-08-31"
          ],
          [
           "65258001",
           638,
           "1970-11-01",
           "2025-06-13"
          ],
          [
           "65258003",
           640,
           "1944-12-01",
           "1970-10-31"
          ],
          [
           "65267001",
           440,
           "1952-03-01",
           "1982-12-31"
          ],
          [
           "65278001",
           447,
           "2007-01-17",
           "2025-06-13"
          ],
          [
           "65282002",
           1700,
           "1943-12-01",
           "1968-06-30"
          ],
          [
           "65282001",
           983,
           "1943-12-01",
           "1984-12-31"
          ],
          [
           "65283001",
           1587,
           "2004-10-12",
           "2025-06-13"
          ],
          [
           "65286003",
           410,
           "1881-10-01",
           "2011-12-31"
          ],
          [
           "65286002",
           415,
           "1928-01-01",
           "1937-04-30"
          ],
          [
           "65286005",
           415,
           "2006-01-01",
           "2020-12-31"
          ],
          [
           "65295400",
           1800,
           "1983-12-18",
           "2025-03-29"
          ],
          [
           "65295003",
           910,
           "2006-01-01",
           "2025-06-13"
          ],
          [
           "65295001",
           674,
           "1863-05-01",
           "1999-05-31"
          ],
          [
           "65304001",
           176,
           "1882-08-01",
           "2025-06-13"
          ],
          [
           "65305001",
           565,
           "1995-05-01",
           "2015-09-30"
          ],
          [
           "65315001",
           465,
           "1948-01-01",
           "1949-12-31"
          ],
          [
           "65319001",
           490,
           "2008-11-13",
           "2014-12-31"
          ],
          [
           "65327001",
           504,
           "1946-09-01",
           "2008-07-31"
          ],
          [
           "65329400",
           1590,
           "1996-03-05",
           "2025-04-07"
          ],
          [
           "65344002",
           360,
           "1957-05-19",
           "1957-12-31"
          ],
          [
           "65006001",
           1093,
           "1976-06-01",
           "2015-09-23"
          ],
          [
           "65099402",
           1680,
           "1986-01-01",
           "2003-04-02"
          ],
          [
           "65199401",
           2198,
           "2015-12-19",
           "2017-03-31"
          ],
          [
           "65360001",
           358,
           "1971-01-01",
           "2011-07-31"
          ],
          [
           "65017400",
           1860,
           "1975-02-04",
           "2025-04-20"
          ],
          [
           "65059403",
           2872,
           "2002-08-03",
           "2014-06-09"
          ],
          [
           "65375001",
           217,
           "1948-10-01",
           "2018-12-31"
          ],
          [
           "65017009",
           2377,
           "2006-06-01",
           "2014-09-30"
          ],
          [
           "65188006",
           2027,
           "2006-06-14",
           "2007-09-12"
          ],
          [
           "65395001",
           444,
           "2006-01-01",
           "2020-12-31"
          ],
          [
           "65432001",
           180,
           "1990-02-01",
           "1990-05-31"
          ],
          [
           "65388400",
           1672,
           "1971-12-15",
           "1999-01-17"
          ],
          [
           "65388406",
           2085,
           "2011-12-22",
           "2025-03-30"
          ],
          [
           "65388001",
           826,
           "1944-01-01",
           "2025-06-13"
          ],
          [
           "65440001",
           315,
           "1863-06-01",
           "1971-12-31"
          ],
          [
           "65440003",
           308,
           "1872-01-01",
           "1891-04-30"
          ],
          [
           "65344001",
           360,
           "1946-01-01",
           "2025-06-13"
          ],
          [
           "65447001",
           263,
           "1963-04-01",
           "2025-06-13"
          ],
          [
           "65450001",
           1020,
           "1952-03-01",
           "1964-06-30"
          ],
          [
           "65452001",
           250,
           "1877-01-01",
           "2018-12-31"
          ],
          [
           "65099400",
           1460,
           "1978-01-15",
           "2025-03-22"
          ],
          [
           "65460002",
           219,
           "1987-08-01",
           "2025-06-13"
          ],
          [
           "65460001",
           217,
           "1972-10-01",
           "1987-06-30"
          ],
          [
           "66003001",
           252,
           "1977-01-01",
           "2021-12-31"
          ],
          [
           "66003002",
           234,
           "1906-01-01",
           "1919-12-31"
          ],
          [
           "66004001",
           2017,
           "1906-01-01",
           "1959-12-31"
          ],
          [
           "66005001",
           1381,
           "1949-09-19",
           "2006-12-31"
          ],
          [
           "66005003",
           1350,
           "1901-01-01",
           "1904-12-31"
          ],
          [
           "66008003",
           28,
           "1985-01-01",
           "2007-12-31"
          ],
          [
           "66008005",
           18,
           "1908-01-01",
           "1908-12-31"
          ],
          [
           "66008001",
           5,
           "1932-08-01",
           "1967-03-31"
          ],
          [
           "66008002",
           3,
           "1934-01-01",
           "1939-12-31"
          ],
          [
           "66009001",
           280,
           "1928-02-01",
           "1973-07-31"
          ],
          [
           "66009002",
           270,
           "1924-01-01",
           "1925-12-31"
          ],
          [
           "66010001",
           1365,
           "1956-07-01",
           "1957-08-31"
          ],
          [
           "66013001",
           585,
           "1972-10-01",
           "2019-06-30"
          ],
          [
           "66016001",
           80,
           "1957-05-01",
           "2014-10-31"
          ],
          [
           "66016002",
           7,
           "1901-01-01",
           "1915-12-31"
          ],
          [
           "66017003",
           3,
           "1989-01-01",
           "1999-09-30"
          ],
          [
           "66018001",
           795,
           "1966-06-01",
           "1994-12-31"
          ],
          [
           "66019001",
           300,
           "1911-01-01",
           "1914-09-30"
          ],
          [
           "66023001",
           181,
           "1901-01-01",
           "1909-12-31"
          ],
          [
           "66025001",
           1130,
           "1928-01-01",
           "1994-05-31"
          ],
          [
           "66025005",
           1144,
           "1872-01-01",
           "1925-12-31"
          ],
          [
           "66026001",
           50,
           "1962-04-01",
           "2020-12-31"
          ],
          [
           "66026002",
           56,
           "1921-01-01",
           "1923-05-31"
          ],
          [
           "66029003",
           347,
           "2010-07-07",
           "2025-06-13"
          ],
          [
           "66029001",
           450,
           "1959-04-01",
           "2017-10-31"
          ],
          [
           "66033001",
           350,
           "1924-01-01",
           "1925-12-31"
          ],
          [
           "66035002",
           656,
           "1910-01-01",
           "1914-05-31"
          ],
          [
           "66035001",
           613,
           "1932-02-01",
           "1932-02-29"
          ],
          [
           "66036001",
           1191,
           "1901-01-01",
           "1915-12-31"
          ],
          [
           "66037001",
           16,
           "1956-11-01",
           "2025-06-13"
          ],
          [
           "66204400",
           2160,
           "1996-07-23",
           "2025-06-13"
          ],
          [
           "66038003",
           73,
           "1954-02-01",
           "2016-06-30"
          ],
          [
           "66148001",
           72,
           "1901-01-01",
           "2025-06-13"
          ],
          [
           "66098400",
           1868,
           "2025-06-05",
           "2025-06-06"
          ],
          [
           "66039001",
           190,
           "1990-11-01",
           "1991-12-31"
          ],
          [
           "66042002",
           281,
           "1901-01-01",
           "1914-02-28"
          ],
          [
           "66042001",
           350,
           "1947-01-01",
           "1949-04-30"
          ],
          [
           "66043002",
           1692,
           "1901-01-01",
           "1914-09-30"
          ],
          [
           "66043001",
           661,
           "1901-01-01",
           "1914-09-30"
          ],
          [
           "66047001",
           332,
           "1901-01-01",
           "1910-12-31"
          ],
          [
           "66047003",
           750,
           "1872-10-01",
           "1873-06-30"
          ],
          [
           "66046001",
           347,
           "1948-06-01",
           "1961-12-31"
          ],
          [
           "66048001",
           26,
           "1947-03-01",
           "2014-10-31"
          ],
          [
           "66049001",
           146,
           "1928-01-01",
           "2025-06-13"
          ],
          [
           "66049005",
           171,
           "1872-02-01",
           "1925-12-31"
          ],
          [
           "66049003",
           600,
           "1901-01-01",
           "1939-08-30"
          ],
          [
           "66052001",
           450,
           "1969-05-01",
           "2011-12-31"
          ],
          [
           "66150012",
           1525,
           "1991-04-03",
           "2005-06-30"
          ],
          [
           "66056001",
           180,
           "1985-01-01",
           "1988-12-31"
          ],
          [
           "66060003",
           1160,
           "1978-04-01",
           "1995-05-31"
          ],
          [
           "66060004",
           975,
           "1995-06-01",
           "2017-01-31"
          ],
          [
           "66060005",
           768,
           "1921-01-01",
           "1922-12-31"
          ],
          [
           "66060002",
           730,
           "1947-07-01",
           "1954-01-31"
          ],
          [
           "66062001",
           1446,
           "1966-01-01",
           "2020-12-31"
          ],
          [
           "66065001",
           4,
           "1877-01-01",
           "1914-09-30"
          ],
          [
           "66069001",
           35,
           "1901-01-01",
           "1907-12-31"
          ],
          [
           "66071003",
           77,
           "1901-01-01",
           "1905-03-31"
          ],
          [
           "66071002",
           182,
           "1956-05-01",
           "1957-12-31"
          ],
          [
           "66071004",
           78,
           "1905-01-01",
           "1919-12-31"
          ],
          [
           "66071001",
           80,
           "1958-04-01",
           "1962-01-31"
          ],
          [
           "66074002",
           321,
           "1994-07-01",
           "2025-06-13"
          ],
          [
           "66074001",
           790,
           "1877-01-01",
           "1878-12-31"
          ],
          [
           "66078001",
           725,
           "1947-01-01",
           "2005-12-31"
          ],
          [
           "66078002",
           780,
           "1945-11-01",
           "1948-12-20"
          ],
          [
           "66124001",
           1754,
           "1946-04-01",
           "1983-09-30"
          ],
          [
           "66124004",
           1964,
           "1983-10-01",
           "2001-12-31"
          ],
          [
           "66124402",
           2144,
           "2003-12-11",
           "2025-03-28"
          ],
          [
           "66080001",
           1330,
           "1952-03-01",
           "1956-11-30"
          ],
          [
           "66082400",
           1753,
           "1990-02-12",
           "2025-03-18"
          ],
          [
           "66082001",
           1530,
           "1983-01-01",
           "2005-07-05"
          ],
          [
           "66082004",
           1495,
           "2005-07-01",
           "2025-06-13"
          ],
          [
           "66082401",
           2180,
           "2007-01-08",
           "2007-01-08"
          ],
          [
           "66082003",
           1480,
           "1908-05-01",
           "1915-12-31"
          ],
          [
           "66085001",
           457,
           "1968-01-01",
           "1972-12-31"
          ],
          [
           "66088003",
           158,
           "2019-11-08",
           "2025-06-13"
          ],
          [
           "66088001",
           141,
           "1901-01-01",
           "1911-08-31"
          ],
          [
           "66027001",
           1627,
           "1934-01-01",
           "1939-06-29"
          ],
          [
           "66192003",
           1151,
           "2009-11-01",
           "2020-12-31"
          ],
          [
           "66098004",
           1573,
           "1901-01-01",
           "1925-12-31"
          ],
          [
           "66098001",
           1710,
           "1949-05-01",
           "1980-09-30"
          ],
          [
           "66098002",
           1620,
           "1946-01-01",
           "1959-05-31"
          ],
          [
           "66098003",
           1573,
           "1924-07-01",
           "1939-06-29"
          ],
          [
           "66091001",
           991,
           "1981-12-01",
           "1983-12-31"
          ],
          [
           "66093001",
           506,
           "1901-01-01",
           "1901-12-31"
          ],
          [
           "66095001",
           1246,
           "1955-01-01",
           "2015-12-31"
          ],
          [
           "66094001",
           4,
           "1960-03-01",
           "1988-12-31"
          ],
          [
           "66096001",
           110,
           "1949-05-01",
           "2016-12-31"
          ],
          [
           "66096002",
           295,
           "1871-12-01",
           "1905-06-30"
          ],
          [
           "66017001",
           2,
           "1965-07-01",
           "1968-12-31"
          ],
          [
           "66017002",
           5,
           "1871-12-01",
           "1905-02-28"
          ],
          [
           "66024001",
           77,
           "1962-04-01",
           "2025-06-13"
          ],
          [
           "66137003",
           295,
           "1989-11-01",
           "2025-06-13"
          ],
          [
           "66137002",
           424,
           "1901-01-01",
           "1909-09-30"
          ],
          [
           "66195002",
           74,
           "1901-01-01",
           "1911-12-31"
          ],
          [
           "66195001",
           73,
           "1962-04-01",
           "1987-12-31"
          ],
          [
           "66206004",
           927,
           "2007-07-03",
           "2025-06-13"
          ],
          [
           "66206001",
           532,
           "1952-03-01",
           "2019-12-31"
          ],
          [
           "66206002",
           900,
           "1953-03-01",
           "2005-12-31"
          ],
          [
           "66004401",
           2108,
           "1983-12-21",
           "2025-03-31"
          ],
          [
           "66206003",
           1160,
           "1987-06-01",
           "1992-05-31"
          ],
          [
           "66105001",
           1520,
           "1945-06-01",
           "1981-01-31"
          ],
          [
           "66106001",
           496,
           "1901-01-01",
           "1925-12-31"
          ],
          [
           "66106002",
           565,
           "1947-07-01",
           "1954-12-31"
          ],
          [
           "66107002",
           168,
           "1906-01-01",
           "1929-07-31"
          ],
          [
           "66107001",
           167,
           "1957-01-01",
           "1982-10-31"
          ],
          [
           "66108001",
           103,
           "1956-01-01",
           "1998-12-31"
          ],
          [
           "66108003",
           103,
           "1901-01-01",
           "1907-12-31"
          ],
          [
           "66108002",
           95,
           "1906-03-01",
           "1914-11-30"
          ],
          [
           "66060001",
           1462,
           "1958-07-01",
           "1978-03-31"
          ],
          [
           "66109001",
           650,
           "1952-03-01",
           "1955-12-31"
          ],
          [
           "66117001",
           1600,
           "1928-01-01",
           "2018-12-31"
          ],
          [
           "66117006",
           1586,
           "1901-01-01",
           "1925-12-31"
          ],
          [
           "66117002",
           1620,
           "1960-01-01",
           "1966-07-31"
          ],
          [
           "66117003",
           1615,
           "1872-02-01",
           "1933-12-31"
          ],
          [
           "66117004",
           1600,
           "1946-04-01",
           "1946-05-31"
          ],
          [
           "66112001",
           200,
           "1988-01-01",
           "1996-04-30"
          ],
          [
           "66113001",
           500,
           "1906-01-01",
           "1914-06-30"
          ],
          [
           "66113002",
           1170,
           "1910-01-01",
           "1912-10-31"
          ],
          [
           "66114001",
           13,
           "1957-10-01",
           "1962-03-31"
          ],
          [
           "66116001",
           371,
           "1953-02-01",
           "1975-12-31"
          ],
          [
           "66119002",
           750,
           "1924-01-01",
           "2025-06-13"
          ],
          [
           "66119003",
           1132,
           "1909-03-01",
           "1914-06-30"
          ],
          [
           "66136003",
           30,
           "1882-01-01",
           "1932-04-30"
          ],
          [
           "66125003",
           615,
           "1978-05-01",
           "2009-08-31"
          ],
          [
           "66125002",
           920,
           "1943-02-01",
           "1944-07-30"
          ],
          [
           "66125001",
           1133,
           "1901-01-01",
           "1939-06-29"
          ],
          [
           "66127001",
           180,
           "1957-02-01",
           "2017-11-30"
          ],
          [
           "66127003",
           352,
           "1911-02-01",
           "1914-06-30"
          ],
          [
           "66130002",
           1240,
           "1976-01-01",
           "1991-06-30"
          ],
          [
           "66133001",
           30,
           "1912-01-01",
           "1914-06-30"
          ],
          [
           "66134001",
           330,
           "1947-04-01",
           "1982-09-30"
          ],
          [
           "66136001",
           42,
           "1924-11-17",
           "2025-06-13"
          ],
          [
           "66136005",
           37,
           "1850-01-01",
           "1876-05-31"
          ],
          [
           "66136002",
           29,
           "1877-01-01",
           "2007-09-30"
          ],
          [
           "66136007",
           36,
           "1872-12-01",
           "1881-12-31"
          ],
          [
           "66137001",
           280,
           "1906-01-01",
           "1994-06-30"
          ],
          [
           "66145001",
           80,
           "1944-05-01",
           "1953-12-31"
          ],
          [
           "66148002",
           5,
           "1902-01-01",
           "1984-02-29"
          ],
          [
           "66148006",
           51,
           "1901-01-01",
           "1925-12-31"
          ],
          [
           "66148004",
           51,
           "1931-01-02",
           "1939-06-29"
          ],
          [
           "66148003",
           14,
           "1872-02-01",
           "1933-12-31"
          ],
          [
           "66146001",
           1975,
           "1877-01-01",
           "1939-06-29"
          ],
          [
           "66147001",
           1620,
           "1964-05-01",
           "2013-08-22"
          ],
          [
           "66147402",
           2087,
           "2010-01-05",
           "2025-03-29"
          ],
          [
           "66147004",
           1915,
           "1958-06-01",
           "1961-12-31"
          ],
          [
           "66147006",
           1610,
           "1902-07-01",
           "1907-06-30"
          ],
          [
           "66147005",
           1975,
           "1955-08-01",
           "1957-09-30"
          ],
          [
           "66149002",
           352,
           "1901-01-01",
           "1925-12-31"
          ],
          [
           "66149001",
           347,
           "1871-12-01",
           "1975-02-28"
          ],
          [
           "66150001",
           750,
           "1871-12-01",
           "1984-08-31"
          ],
          [
           "66150004",
           725,
           "1980-03-01",
           "2001-05-31"
          ],
          [
           "66150009",
           743,
           "1901-01-01",
           "1939-06-30"
          ],
          [
           "66150003",
           850,
           "1945-05-01",
           "1974-05-15"
          ],
          [
           "66150010",
           1151,
           "1908-01-01",
           "1925-12-31"
          ],
          [
           "66150002",
           1100,
           "1946-09-02",
           "1978-11-30"
          ],
          [
           "66067402",
           2471,
           "2009-10-02",
           "2025-06-13"
          ],
          [
           "66154001",
           1422,
           "1952-03-01",
           "1970-12-31"
          ],
          [
           "66154401",
           2131,
           "2004-01-11",
           "2015-02-20"
          ],
          [
           "66155001",
           1040,
           "1957-10-01",
           "2010-11-30"
          ],
          [
           "66156001",
           880,
           "1906-07-01",
           "1914-05-31"
          ],
          [
           "66157001",
           1366,
           "1958-08-01",
           "2025-06-13"
          ],
          [
           "66159001",
           1440,
           "1969-09-01",
           "1989-11-30"
          ],
          [
           "66164001",
           26,
           "1945-01-01",
           "1983-07-31"
          ],
          [
           "66165001",
           205,
           "1952-01-01",
           "1972-12-31"
          ],
          [
           "66167001",
           1305,
           "1956-07-01",
           "1980-11-30"
          ],
          [
           "66179002",
           659,
           "1910-01-01",
           "1921-08-31"
          ],
          [
           "66183002",
           738,
           "1901-01-01",
           "1923-12-31"
          ],
          [
           "66187003",
           267,
           "1901-01-01",
           "1905-10-31"
          ],
          [
           "66190001",
           12,
           "1901-01-01",
           "1919-12-31"
          ],
          [
           "66192001",
           1200,
           "1959-06-24",
           "1978-02-28"
          ],
          [
           "66193002",
           715,
           "1901-01-01",
           "1918-12-31"
          ],
          [
           "66193001",
           1464,
           "1901-01-01",
           "1908-12-31"
          ],
          [
           "66194002",
           700,
           "1985-08-01",
           "2025-06-13"
          ],
          [
           "66198001",
           515,
           "1928-01-01",
           "2010-10-31"
          ],
          [
           "66198003",
           513,
           "1901-01-01",
           "1925-12-31"
          ],
          [
           "66198002",
           881,
           "1901-01-01",
           "1917-05-31"
          ],
          [
           "66179001",
           640,
           "1965-01-01",
           "2000-12-31"
          ],
          [
           "66183001",
           690,
           "1947-04-01",
           "2025-06-13"
          ],
          [
           "66187001",
           262,
           "1965-07-01",
           "2001-12-31"
          ],
          [
           "66187006",
           300,
           "2005-07-01",
           "2025-06-13"
          ],
          [
           "66187004",
           205,
           "1992-05-01",
           "2005-07-12"
          ],
          [
           "66188401",
           2350,
           "2007-12-16",
           "2025-03-23"
          ],
          [
           "66179003",
           725,
           "2001-04-01",
           "2008-12-31"
          ],
          [
           "66180001",
           6,
           "1961-03-01",
           "1981-01-31"
          ],
          [
           "66180002",
           6,
           "1901-01-01",
           "1906-01-31"
          ],
          [
           "66181001",
           1320,
           "1981-06-01",
           "2017-05-31"
          ],
          [
           "66202001",
           1600,
           "2017-04-01",
           "2025-06-13"
          ],
          [
           "66203001",
           570,
           "1966-01-01",
           "1994-12-31"
          ],
          [
           "66204002",
           770,
           "2012-06-21",
           "2025-06-13"
          ],
          [
           "66204001",
           1601,
           "1901-01-01",
           "1917-05-31"
          ],
          [
           "66209001",
           1137,
           "1901-01-01",
           "1914-10-31"
          ],
          [
           "66210003",
           110,
           "1993-10-01",
           "2010-06-07"
          ],
          [
           "66210002",
           97,
           "1901-01-01",
           "1904-08-31"
          ],
          [
           "66210001",
           100,
           "1948-05-01",
           "1948-05-31"
          ],
          [
           "66212001",
           7,
           "1981-01-01",
           "2025-06-13"
          ],
          [
           "66214001",
           148,
           "1983-11-01",
           "2014-06-08"
          ],
          [
           "66219001",
           869,
           "1911-01-01",
           "1923-12-31"
          ],
          [
           "66220002",
           1519,
           "1945-06-15",
           "2008-12-31"
          ],
          [
           "66221001",
           870,
           "1933-08-01",
           "1972-10-31"
          ],
          [
           "66221004",
           1400,
           "1928-01-01",
           "1933-07-31"
          ],
          [
           "66221003",
           1488,
           "1901-01-01",
           "1925-12-31"
          ],
          [
           "66221002",
           1000,
           "1946-01-01",
           "1946-12-31"
          ],
          [
           "66222001",
           640,
           "1967-01-01",
           "1994-06-30"
          ],
          [
           "66222003",
           630,
           "1992-04-01",
           "2012-10-01"
          ],
          [
           "66222002",
           650,
           "1901-01-01",
           "1923-12-31"
          ],
          [
           "66223002",
           895,
           "1901-01-01",
           "1917-12-31"
          ],
          [
           "66223001",
           457,
           "1952-03-01",
           "1967-12-31"
          ],
          [
           "66225001",
           505,
           "1902-01-01",
           "1921-12-31"
          ],
          [
           "66230001",
           251,
           "1973-01-01",
           "2025-06-13"
          ],
          [
           "66230002",
           260,
           "1948-06-01",
           "1951-11-30"
          ],
          [
           "66232001",
           1060,
           "1901-01-01",
           "1908-12-31"
          ],
          [
           "66233001",
           261,
           "1998-01-01",
           "2025-06-13"
          ]
         ],
         "hovertemplate": "<b>%{hovertext}</b><br><br>lat=%{lat}<br>lon=%{lon}<br>poste=%{customdata[0]}<br>alt=%{customdata[1]}<br>début=%{customdata[2]}<br>fin=%{customdata[3]}<extra></extra>",
         "hovertext": [
          "Aigues Vives",
          "Alos Eaux-Et-Forets",
          "Araing",
          "Arrien",
          "Arvigna",
          "Ascou Lavail",
          "Ascou Pailheres",
          "Ascou-Double",
          "Aston",
          "Aston",
          "Audressein",
          "Augirein",
          "Aulus Les Bains",
          "Aulus-Les-Bains",
          "Auzat",
          "Auzat Agglomeration",
          "Auzat Groupe Scolaire",
          "Auzat L'Artigue",
          "Auzat Marc",
          "Auzat Mounicou",
          "Auzat Saleix - Eaux-Et-Forets",
          "Auzat Ville",
          "Auzat-Marc",
          "Ax Bonascre",
          "Ax Les Thermes",
          "Ax Saquet",
          "Ax-Les-Thermes Eaux-Et-Forets",
          "Ax-Les-Thermes Eaux-Et-Forets",
          "Bast-Serou",
          "Beille",
          "Belesta",
          "Belesta Agglomeration",
          "Bethmale",
          "Bethmale Arien",
          "Bonac-Irazein",
          "Bordes",
          "Boussena",
          "Boussenac Agglomeration",
          "Brassac Pessourat",
          "Brie",
          "Cadarcet",
          "Cante",
          "Capoulet-Et-Junac",
          "Carcaniere",
          "Carcanieres",
          "Carla Bayle",
          "Carla Bayle Pat",
          "Castelnau Durba",
          "Castillon-En-Couserans",
          "Castillon-En-Couserans P-C",
          "Cerizols",
          "Cos",
          "Couflens",
          "Couflens Cmd",
          "Couflens Salau",
          "Erce",
          "Esplas-De-Serou Eaux-Et-Forets",
          "Etang De L Hers",
          "Eylie D'En Haut",
          "Ferrieres-Sur-Ariege",
          "Foix Labarre",
          "Foix Les Bruihols",
          "Foix Montgauzy",
          "Foix Usine Electrique",
          "Fougax-Et-Barrineuf",
          "Ganac Le Camill",
          "Gesties Bourg",
          "Goulier",
          "Goulier Eaux-Et-Forets",
          "Guzet",
          "Hospitalet",
          "Hospitalet-Bourg",
          "L Hospitalet",
          "La Bastide De",
          "La Bastide De S",
          "Lacourt",
          "Larcat Agglomeration",
          "Le Bosc",
          "Le Bosc Agglomeration",
          "Le Chioula",
          "Le Fossat",
          "Le Mas D Azil",
          "Le Mas D'Azil",
          "Le Mas-D'Azil Founbarascou",
          "Le Pla",
          "Le Pla",
          "Le Port",
          "Le Saquet",
          "Leran",
          "Leran",
          "Leran",
          "Les Cabannes Eaux-Et-Forets",
          "Les Cascades",
          "Les Issards",
          "Les Pujols",
          "Loubens Agglomeration",
          "Massat Eaux-Et-Forets",
          "Massat Gend",
          "Mazeres",
          "Mazeres Patac",
          "Merens",
          "Merens-Les-Vals Agglomeration",
          "Mijanes",
          "Mirepoix",
          "Mirepoix Senesse",
          "Mont D Olmes",
          "Mont D'Olmes",
          "Montaut",
          "Montaut Royat",
          "Montbel",
          "Montferrier",
          "Montsegur",
          "Moulis",
          "Moulis Agglomeration",
          "Nalzen",
          "Orgibet",
          "Orlu",
          "Oust",
          "Pamiers",
          "Pamiers Chemin De La Liberte",
          "Pamiers Lycagri",
          "Pamiers Rue Utrillo",
          "Pamiers Ville",
          "Pech Eaux-Et-Forets",
          "Port D'Aula-Nivose",
          "Prades Eaux-Et-Forets",
          "Querigut",
          "Querigut",
          "Querigut",
          "Querigut Le Capellier",
          "Querigut-Carcanet",
          "Rabat-Les-Trois-Seigneurs",
          "Riete",
          "Rieucros Ponts-Et-Chaussees",
          "Rimont Agglomeration",
          "Riverenert",
          "Riverenert Agglomeration",
          "Riverenert Ecole",
          "Rouze",
          "Rouze Usson",
          "Rulhe",
          "Saint-Girons",
          "Saint-Lary",
          "Saint-Lary Eaux-Et-Forets",
          "Sainte-Croix-Volvestre",
          "Saurat",
          "Saurat Prat Communal",
          "Saverdun",
          "Savignac",
          "Savignac-Les-Ormeaux Bourg",
          "Seix",
          "Seix Eaux-Et-Forets",
          "Sentein",
          "Sentein",
          "Sentein Eylie Haut",
          "Sentenac-De-Serou",
          "Siguer Lavoir Public",
          "Soueix",
          "Soueix-Rogalle Agglomeration",
          "Soulan",
          "St Girons",
          "St-Fel-Tou",
          "St-Lary",
          "St-Ybars",
          "Ste Croix",
          "Surba Agglomeration",
          "Tarascon Sabart",
          "Tarascon Sur Ar",
          "Ustou Agglomeration",
          "Ustou Bourdats",
          "Ustou Eaux-Et-Forets",
          "Varilhes Laborie",
          "Verdun",
          "Vicdessos",
          "Vicdessos",
          "Vicdessos Bourg",
          "Vicdessos Eaux-Et-Forets",
          "Vieuxseix",
          "Villeneuve Agglomeration",
          "Albiac Agglomeration",
          "Arbas",
          "Auragne",
          "Auragne Ponties",
          "Auribail Agglomeration",
          "Aurignac",
          "Auterive College",
          "Auzeville-Tolosane-Inrae",
          "Avignonet-Lauragais",
          "Bagnere-Ha",
          "Bagneres-De-Luc",
          "Bagneres-De-Luchon",
          "Bagneres-De-Luchon Joueou",
          "Bagneres-De-Luchon-Agg",
          "Bagneres-De-Luchon-Brg Ravi",
          "Balma",
          "Beauchalot /Sa",
          "Beaumont-Sur-Leze Pellepoix",
          "Blajan",
          "Blajan",
          "Blajan",
          "Boulogne-Sur-Gesse",
          "Boussan",
          "Boutx Le Mourtis",
          "Cadours",
          "Cadours Agglomeration",
          "Carbonne Agglomeration",
          "Cardeilhac Bourg",
          "Castelginest",
          "Castillon-De-Larboust-E-F",
          "Caubous Agglomeration",
          "Caujac Bourg",
          "Cazeres Agglomeration",
          "Ciadoux Village",
          "Cierp-Gaud",
          "Cintegabelle Croix De Puel",
          "Clarac",
          "Fabas",
          "Fos",
          "Fos Agglomeration",
          "Isle En Dodon",
          "Izaut-De-L'Hotel Agglomeration",
          "Jurvielle Agglomeration",
          "Juzet-D'Izaut",
          "L'Isle-En-Dodon Agglomeration",
          "L'Isle-En-Dodon Edf - Bourg",
          "Labarthe-Rivier",
          "Labastidette",
          "Labastidette Ga",
          "Lacaugne",
          "Lagrace-Dieu",
          "Lanta",
          "Lapeyrere",
          "Lasserre Agglomeration",
          "Launac",
          "Le Faget Agglomeration",
          "Le Fousseret Agglomeration",
          "Leguevin Agglomeration",
          "Les Agudes",
          "Loudet",
          "Luchon",
          "Maupas-Nivose",
          "Mayregne Bourg",
          "Miramont-De-Comminges",
          "Miramont-De-Comminges Bourg",
          "Mondavezan",
          "Montesquieu-Lauragais",
          "Montesquieu-Volvestre",
          "Montgeard Roquefoulet",
          "Montrejeau Agglomeration",
          "Muret-Lherm",
          "Nailloux Agglomeration",
          "Ondes",
          "Ondes",
          "Oo",
          "Oo Agglomeration",
          "Oo Regulatrice Du Lac D'Oo",
          "Palaminy",
          "Palaminy Usine Electrique",
          "Peyssies Cave Cooperative",
          "Pibrac Agglomeration",
          "Pointis-De-Riviere",
          "Pointis-Inard",
          "Portet-D'Aspet Bourg",
          "Poucharramet/Sa",
          "Revel",
          "Rieumes",
          "Rieumes Agglomeration",
          "Saint-Elix-Le-Chateau",
          "Saint-Gaudens Agglomeration",
          "Saint-Gaudens College Agricole",
          "Saint-Loup-Cammas",
          "Saint-Plancard Agglomeration",
          "Saleich",
          "Salies-Du-Salat",
          "Sedeilhac Route De Loudet",
          "Segreville",
          "Seysses Bourg",
          "St Paul D Oueil",
          "St-Felix-Lauragais",
          "St-Marcet",
          "St-Paul-D'Oueil",
          "St-Sulpice/Leze",
          "Superbagneres",
          "Superbagneres Hotel",
          "Toulouse Boulevard Des Minimes",
          "Toulouse Canal",
          "Toulouse Ecole Normale",
          "Toulouse Jardin Botanique",
          "Toulouse Observatoire Jolimont",
          "Toulouse Ponts-Et-Chaussees",
          "Toulouse-Blagnac",
          "Toulouse-Francazal",
          "Toulouse-Montaudran",
          "Vaudreuille",
          "Verfeil",
          "Verfeil Agglomeration",
          "Villaries",
          "Villefranche-L",
          "Villefranche/Sa",
          "Villematier",
          "Villemur/Tarn",
          "Villeneuve-De-Riviere Junkassa",
          "Villeneuve-Les-Bouloc",
          "Abos Village",
          "Accous",
          "Agnos",
          "Aicirits",
          "Aicirits",
          "Aldudes Hameau D'Esnazu",
          "Andoins",
          "Arette",
          "Arette",
          "Arette La-Pierre-Saint-Martin",
          "Arette-Ec",
          "Argagnon",
          "Argelos",
          "Arthez-D'Asson Ecole",
          "Artiguelouve Ecole",
          "Artouste",
          "Artouste",
          "Assat Quartier De L'Eglise",
          "Asson",
          "Aydius",
          "Ayherre Ecole",
          "Baigts-De-Bearn",
          "Baigts-De-Bearn",
          "Baliracq-Maumusson Bitaillou",
          "Banca",
          "Baudreix",
          "Bayonne",
          "Bedous Bourg",
          "Bellocq-Puyoo",
          "Benejacq",
          "Beost",
          "Berrogain Larun",
          "Biarritz Phare",
          "Biarritz-Musee",
          "Biarritz-Pays-Basque",
          "Biarritz-Semaphore",
          "Biarritz-Ville",
          "Bidache",
          "Bilheres Ecole",
          "Borce",
          "Bruges-Capbis-Mifaget",
          "Bruges-Capbis-Mifaget Bourg",
          "Bustince - St Jean",
          "Buzy Bourg",
          "Buzy-Centre",
          "Cambo-Les-Bains",
          "Cheraute",
          "Cheraute Usine De Barragary",
          "Eaux-Bonne",
          "Eaux-Bonnes Gelan",
          "Eaux-Bonnes-Gabas",
          "Espelette",
          "Espoey",
          "Esterencuby",
          "Eysus Ecole",
          "Garlin",
          "Garlin Bourg",
          "Ger",
          "Gerderest",
          "Gourette",
          "Gourette",
          "Guinarthe",
          "Hasparren College Saint-Joseph",
          "Hendaye Bidassoa",
          "Herrere",
          "Hosta",
          "Iholdy Ecole",
          "Iraty",
          "Iraty Orgambide",
          "Irissarry",
          "Irouleguy",
          "Itxassou Ferme Ameztoya",
          "Jurancon",
          "Jurancon Sanatorium De Bel Air",
          "Labastide-Cezeracq Cure",
          "Labastide-Clair",
          "Labastide-Villefranche",
          "Lacq Snpa",
          "Lagor",
          "Lahonce Ile Vergers",
          "Lanne-En-Baretous_Sapc",
          "Lantabat Ecole",
          "Larrau",
          "Larrau-Iraty",
          "Laruns",
          "Laruns Place Du Blaid",
          "Laruns Ponts-Et-Chaussees",
          "Laruns Usine Sncf De Miegebat",
          "Laruns-Artouste",
          "Laruns-Artouste",
          "Laruns-Hourat",
          "Lasseube",
          "Lasseube_Sapc",
          "Lembeye",
          "Lescar Ecole Normale",
          "Lescun",
          "Lescun",
          "Lescun Centre Village",
          "Lescun L'Aberouat",
          "Lestelle-Beth",
          "Licq-Atherey",
          "Lurbe-Saint-Christau Ecole",
          "Masparraute",
          "Mauleon-Lichar",
          "Mauleon-Licharre-Ecole",
          "Mazeres-Lezons Cure",
          "Mendive_Sapc",
          "Monein",
          "Mont-Disse",
          "Mont-Lagor",
          "Mont-Lendresse",
          "Montaner",
          "Montaut Cure",
          "Montory Centre Du Bourg",
          "Montory Ecole",
          "Navarrenx",
          "Nay Bourg",
          "Oloron",
          "Oloron-Sainte-Marie Bourg",
          "Oloron-Ste-Mari",
          "Orthez",
          "Orthez",
          "Orthez Bourg",
          "Orthez Carlier",
          "Pardies-Pietat Ecole",
          "Pau",
          "Pau Gare",
          "Pau Lilas",
          "Pau Ponts-Et-Chaussees",
          "Pau Tour De La Monnaie",
          "Pau-(Cimetiere)",
          "Pau-Uzein",
          "Pomps",
          "Ponson-Dessus Centre",
          "Pontacq_Sapc",
          "Puyoo-Bellocq",
          "Saint-Girons Bourg",
          "Saint-Jean-De-Luz Centre",
          "Saint-Jean-Pied-De-Port",
          "Saint-Jean-Pied-De-Port Bourg",
          "Saint-Jean-Pied-De-Port Bourg",
          "Saint-Laurent-Bretagne",
          "Sainte-Engrace",
          "Sare Col De Saint-Ignace",
          "Sare Ecole",
          "Sauveterre-De-Bearn",
          "Sevignacq-Theze",
          "Socoa",
          "Soum Couy-Nivose",
          "St Jammes",
          "St Pee/Nivelle",
          "St-Gladie",
          "St-Jean-Le-Vx",
          "St-Palais",
          "Ste-Engrace",
          "Ste-Engrace",
          "Tardets",
          "Tarsacq Edf",
          "Theze Ecole",
          "Trois-Villes",
          "Urdos Centre",
          "Urdos En",
          "Urdos Peyranere",
          "Urdos Peyranere",
          "Urdos Rn134",
          "Urepel_Sapc",
          "Ustaritz Ecole",
          "Adast",
          "Aragnouet",
          "Aragnouet Chaubere",
          "Aragnouet Fabian",
          "Aragnouet L'Oule",
          "Aragnouet Plan",
          "Arbeost_Sapc",
          "Argel",
          "Argeles Tour",
          "Argeles-Gazost - Agglo",
          "Arreau Borderes",
          "Arreau Borderes",
          "Arreau Ponts-Et-Chaussees",
          "Arrens Marsous",
          "Arrens Marsous",
          "Artigues",
          "Artigues",
          "Ayros Arbouix",
          "Bagneres - Monloo",
          "Bagneres - Palombieres",
          "Bagneres - Ponts-Et-Chauss",
          "Bagneres Gambetta",
          "Bagneres Moulette2",
          "Bagneres Sencours",
          "Bagneres Serres",
          "Bagneres V Salut",
          "Bagneres-B-Arbizon",
          "Bagneres-B-Mongie",
          "Bagneres-Chiroulet",
          "Bagneres-De-Bigorre Smma",
          "Bagneres-De-Bigorre-P-C",
          "Bareges",
          "Bareges -S-",
          "Bareges Ville",
          "Bazus-Aure",
          "Beaudean Traouessarou",
          "Bernadets-Debat Ecole",
          "Beyrede-Ju",
          "Borderes",
          "Campan Hameau De Payolle",
          "Campistrous",
          "Casma",
          "Castelnau Magnoac",
          "Castelnau-Magnoac",
          "Castelvieilh",
          "Cauterets - Centre Ville",
          "Cauterets - La Raillere",
          "Cauterets Agglomeration",
          "Cauterets Cattarabes",
          "Cauterets_Lys",
          "Cauterets_Sapc",
          "Eget",
          "Estaing",
          "Ferrieres Bourg",
          "Galan",
          "Gavarnie",
          "Gavarnie Agglomeration",
          "Gavarnie Bourg",
          "Gavarnie_Especieres",
          "Gavarnie_Sapc",
          "Gedre",
          "Gedre Bourg",
          "Gedre Le Saussa",
          "Gembrie",
          "Genos",
          "Gerde",
          "Gez",
          "Guchen",
          "Izaourt",
          "La Mongie",
          "La Mongie Clim",
          "La Mongie_Sapc",
          "Lac D'Ardiden-Nivose",
          "Lann",
          "Lannemezan",
          "Lannemezan_Spa",
          "Lau-Balagnas Usine Edf",
          "Lomne_Sapc",
          "Loudenviel",
          "Loudenvielle",
          "Loudervielle",
          "Lourdes",
          "Lourdes Pic Du Ger",
          "Lourdes-Serres",
          "Luz Ardiden",
          "Luz Saint Sauveur",
          "Luz St Sauve",
          "Maubourguet",
          "Maul",
          "Monleon-Magnoac",
          "Montegut",
          "Nestier",
          "Nistos",
          "Ossun",
          "Payolle",
          "Peyresourde",
          "Peyresourdes",
          "Peyrouse",
          "Piau",
          "Pic Du Midi",
          "Rabastens De B",
          "Ref Barroude",
          "Ref Espuguettes",
          "Saint Pe De Bigorre",
          "Soublecause Domaine D'Hechac",
          "St Lary",
          "St Lary Lita",
          "St Lary Soul",
          "Tarbes",
          "Tarbes Ecole Normale",
          "Tarbes-Lourdes-Pyrenees",
          "Tournay",
          "Tramezaigues",
          "Trie Sur Baise",
          "Val Louron",
          "Vic En Bigorre",
          "Vic-En-Bigorre Gendarmerie",
          "Amelie-Les-Bains",
          "Amelie-Les-Bains-Palalda",
          "Angles_Les",
          "Angoustrine",
          "Angoustrine-Villeneuve-Escalde",
          "Argeles-Sur-Mer",
          "Argeles-Sur-Mer Bourg",
          "Argeles-Sur-Mer Merroute",
          "Argeles-Sur-Mer Mervilla",
          "Arles-Sur-Tech",
          "Arles-Sur-Tech Forets",
          "Ayguatebia-Talau Ecole",
          "Baillestavy",
          "Banyuls-Sur-Mer",
          "Banyuls-Sur-Mer Sanatorium",
          "Barcares(Le)",
          "Bastide(La)",
          "Belesta Chateau De Caladroy",
          "Bouleternere Agglomeration",
          "Bourg-Madame",
          "Bourg-Madame",
          "Brouilla",
          "Brouilla Bourg",
          "Caixas",
          "Caixas Clim",
          "Camelas Bourg",
          "Campoussy Bourg",
          "Campoussy Eaux Et Forets",
          "Canaveilles Agglomeration",
          "Canet-En-Roussillon",
          "Canigou-Nivose",
          "Canohes",
          "Cap Bear",
          "Capcir Nordique",
          "Caramany",
          "Cassagnes Cuchoux",
          "Cassagnes Ecole",
          "Casteil",
          "Casteil Saint-Martin",
          "Caudies-De-Conflent-P-C",
          "Caudies-De-Conflent-St Louis",
          "Caudies-De-Fenouilledes",
          "Cerbere",
          "Ceret",
          "Ceret Agglomeration",
          "Ceret Pepiniere",
          "Codalet",
          "Col D Ares",
          "Corbere-Les-Cabanes",
          "Corsavy",
          "Corsavy",
          "Corsavy Bourg",
          "Corsavy Ecole",
          "Dorres",
          "Elne Agglomeration",
          "Espira-De-L'Agly Agglomeration",
          "Estagel Agglomeration",
          "Estagel Ecole",
          "Estagel Ponts Et Chaussees",
          "Estagel Rue De Belfort",
          "Eus",
          "Eus Comes",
          "Fillols",
          "Fillols-Bg",
          "Font Romeu",
          "Font-Romeu",
          "Font-Romeu-Galinera",
          "Fontpedrouse Prats-Balaguer",
          "Formiguere",
          "Formigueres",
          "Formigueres",
          "Formigueres -S-",
          "Formigueres Agglomeration",
          "Fuilla",
          "Ille-Sur-Tet",
          "Ille-Sur-Tet Agglomeration",
          "La Cabanasse",
          "La Cassagne- S H E M",
          "La Llagonne",
          "La Llagonne Aero",
          "La Llagonne Barrage",
          "La Llagonne Bourg",
          "Lamanere",
          "Laroque-Des-Alberes",
          "Latour De Carol",
          "Latour-Bas-Elne Mas Blanc",
          "Latour-De-France",
          "Latour-De-France Agglomeration",
          "Le Barcares",
          "Le Barcares Agglomeration",
          "Le Boulou",
          "Le Perthus",
          "Le Perthus Fort De Bellegarde",
          "Le Soler Agglomeration",
          "Le Soler Lotissement Mazard",
          "Le Tech La Llau_Sapc",
          "Le Tech-Edf",
          "Le Tech-La Llau",
          "Les Angles",
          "Leventous",
          "Matemale",
          "Maureillas-Las-Illas",
          "Maureillas-Las-Illas-Ecole",
          "Maury Agglomeration",
          "Maury Rue Jean Flamand",
          "Millas",
          "Millas Gare",
          "Millas Mas De La Selve",
          "Minesbat",
          "Molitg-Les-Bains Lou Manat",
          "Mont Louis",
          "Mont-Louis Ecole",
          "Mont-Louis Four Solaire",
          "Mont-Louis Ponts Et Chaussees",
          "Mont-Louis Smma",
          "Montauriol",
          "Montbolo Agglomeration",
          "Montbolo Col De La Redoute",
          "Montescot Ecole",
          "Montferrer",
          "Mosset",
          "Mosset Le Mounesty",
          "Observatoire",
          "Olette",
          "Olette Grassouls",
          "Olette Maison Forestiere",
          "Opoul Perillos",
          "Opoul-Perillos",
          "Osseja",
          "Palau-Del-Vidre Bourg",
          "Passa Llauro",
          "Perpignan",
          "Perpignan-En",
          "Perpignan-Joffre",
          "Perpistdo",
          "Perthus(Le)",
          "Ponteilla",
          "Port-Vendres",
          "Port-Vendres Cap Bear - Phare",
          "Port-Vendres Cap Bear - Phare",
          "Port-Vendres Feu Blanc",
          "Porta",
          "Porte Puymorens",
          "Porte-Puymorens",
          "Porte-Puymorens",
          "Porte-Puymorens Bourg",
          "Porte-Puymorens Col",
          "Prades Ponts Et Chaussees",
          "Prades Rue Des Lauriers",
          "Prats",
          "Prats-De-Mollo",
          "Prats-De-Mollo-La-Preste",
          "Prats-De-Mollo-La-Preste",
          "Prats-De-Mollo-La-Preste-Bois",
          "Prats-Moll",
          "Puigmal-Nivose",
          "Puyvalador",
          "Puyvalador_Rieutord",
          "Py",
          "Rabouillet Foret",
          "Railleu",
          "Real",
          "Rivesaltes Ecole D'Agricole",
          "Rodes Moulin De Rodes",
          "Saillagous",
          "Saint-Laurent-De-Cerdans Foret",
          "Saint-Marsal Eaux Et Forets",
          "Saint-Paul-De-Fenouillet-Agg",
          "Salses-Le-Chateau",
          "Sauto",
          "Serdinya Rive Droite",
          "Serdinya Rive Gauche",
          "Serralongue",
          "Sournia",
          "Sournia Cmd",
          "Sournia Forets",
          "St Laurent Cerd",
          "St Marsal",
          "St P-Fenou-Gen",
          "St Paul De Fenouillet",
          "St Paul Fenouil",
          "St Pierre Dels Forcats",
          "St-Laurent-De-Cerdans",
          "St-Laurent-De-La-Salanque",
          "St-Laurent-De-La-Salanque-Agg",
          "Ste Leocadie",
          "Targasonne",
          "Taulis",
          "Taurinya",
          "Taurinya Agglomeration",
          "Thues-Entre-Valls",
          "Thuir",
          "Thuir Agglomeration",
          "Thuir Ecole",
          "Torreilles",
          "Tresserre",
          "Urbanya Bourg",
          "Valcebollere",
          "Valmanya",
          "Valmanya",
          "Valmanya Agglomeration",
          "Valmanya Los Masos",
          "Vernet Les Bain",
          "Vernet Les Bains",
          "Vernet-Les-Bains",
          "Villefranche-De-Conflent",
          "Villefranche-De-Conflent Edf",
          "Villelongue-Dels-Monts",
          "Vinca",
          "Vinca Distillerie Cooperative",
          "Vira Gastepa",
          "Vives"
         ],
         "lat": [
          42.996667,
          42.908333,
          42.834667,
          42.896667,
          43.057833,
          42.723833,
          42.730333,
          42.721167,
          42.775,
          42.724167,
          42.928333,
          42.930167,
          42.793833,
          42.793833,
          42.713333,
          42.766667,
          42.766667,
          42.710333,
          42.766667,
          42.766667,
          42.766667,
          42.763333,
          42.716667,
          42.692333,
          42.72,
          42.674167,
          42.718333,
          42.718333,
          43.013333,
          42.724,
          42.903833,
          42.903333,
          42.888,
          42.885,
          42.885333,
          42.896667,
          42.908333,
          42.9,
          42.945,
          43.202667,
          43.012667,
          43.26,
          42.793333,
          42.711667,
          42.695333,
          43.143,
          43.143333,
          42.985,
          42.92,
          42.92,
          43.126,
          42.970167,
          42.788333,
          42.788333,
          42.758333,
          42.818333,
          42.975,
          42.807167,
          42.835167,
          42.935,
          42.996,
          42.958333,
          42.96,
          42.958333,
          42.885,
          42.946667,
          42.765,
          42.7395,
          42.755,
          42.778833,
          42.588667,
          42.585,
          42.590167,
          43.013333,
          43.024333,
          42.936667,
          42.778333,
          42.946667,
          42.946667,
          42.755,
          43.171667,
          43.0735,
          43.066667,
          43.078333,
          42.715,
          42.711667,
          42.868333,
          42.7,
          42.986167,
          42.990333,
          42.966667,
          42.783333,
          42.963667,
          43.078333,
          43.066667,
          43.045,
          42.888333,
          42.891,
          43.221333,
          43.226667,
          42.645,
          42.658333,
          42.7265,
          43.085833,
          43.102,
          42.843833,
          42.843667,
          43.192167,
          43.186667,
          42.993833,
          42.891833,
          42.87,
          42.96,
          42.96,
          42.916,
          42.933833,
          42.688833,
          42.877,
          43.1165,
          43.122167,
          43.127,
          43.102667,
          43.118833,
          42.781667,
          42.77,
          42.785,
          42.698333,
          42.696667,
          42.683833,
          42.698333,
          42.698333,
          42.856667,
          42.705,
          43.083333,
          42.995,
          42.966667,
          42.955,
          42.955,
          42.716667,
          42.750333,
          42.638167,
          42.985,
          42.928333,
          42.928333,
          43.125,
          42.876667,
          42.876667,
          43.230333,
          42.7285,
          42.728333,
          42.8655,
          42.865,
          42.848333,
          42.873333,
          42.835333,
          42.971667,
          42.765,
          42.882667,
          42.891667,
          42.914667,
          43.005333,
          43.1225,
          42.933333,
          43.2515,
          43.133333,
          42.855,
          42.837833,
          42.850667,
          42.81,
          42.766667,
          42.81,
          43.055,
          42.791667,
          42.771667,
          42.766667,
          42.77,
          42.77,
          42.865,
          42.936667,
          43.551667,
          42.9965,
          43.383333,
          43.387667,
          43.351667,
          43.216667,
          43.353333,
          43.528833,
          43.343167,
          42.791667,
          42.8005,
          42.791667,
          42.791667,
          42.791667,
          42.791667,
          43.613333,
          43.115,
          43.38,
          43.2565,
          43.26,
          43.261667,
          43.29,
          43.243833,
          42.911833,
          43.728333,
          43.73,
          43.293333,
          43.198333,
          43.686667,
          42.805,
          42.851667,
          43.298333,
          43.206667,
          43.26,
          42.911667,
          43.311667,
          43.106,
          43.3145,
          42.871167,
          42.873333,
          43.375,
          43.016667,
          42.818333,
          42.966667,
          43.381667,
          43.381667,
          43.096,
          43.45,
          43.461167,
          43.292333,
          43.344667,
          43.572167,
          43.206833,
          43.64,
          43.742,
          43.566667,
          43.28,
          43.6,
          42.786833,
          43.147833,
          42.8015,
          42.7145,
          42.845,
          43.095,
          43.095,
          43.223333,
          43.417333,
          43.208333,
          43.336667,
          43.086667,
          43.4515,
          43.356667,
          43.783333,
          43.778333,
          42.794167,
          42.798333,
          42.798333,
          43.2,
          43.203333,
          43.321667,
          43.618333,
          43.086667,
          43.1,
          42.94,
          43.416667,
          43.4375,
          43.415167,
          43.411667,
          43.278333,
          43.108333,
          43.108333,
          43.696667,
          43.171667,
          43.027167,
          43.105,
          43.151667,
          43.491833,
          43.498333,
          42.828333,
          43.441667,
          43.207,
          42.828333,
          43.316667,
          42.7705,
          42.77,
          43.61,
          43.5985,
          43.576667,
          43.588333,
          43.611667,
          43.6,
          43.621,
          43.540333,
          43.566667,
          43.425,
          43.645167,
          43.656667,
          43.743667,
          43.383333,
          43.406667,
          43.8275,
          43.853333,
          43.121667,
          43.77,
          43.358333,
          42.945167,
          43.156667,
          43.335,
          43.335,
          43.098333,
          43.313333,
          43.095,
          43.096667,
          42.9785,
          43.095,
          43.457833,
          43.445,
          43.09,
          43.318333,
          42.87,
          42.9015,
          43.25,
          43.127167,
          43.001667,
          43.393333,
          43.511667,
          43.536667,
          43.545,
          43.128667,
          43.206667,
          43.49,
          42.996667,
          43.517667,
          43.193167,
          42.991667,
          43.246667,
          43.478333,
          43.485,
          43.469333,
          43.483333,
          43.478333,
          43.481167,
          43.06,
          42.908333,
          43.126667,
          43.126667,
          43.167333,
          43.133333,
          43.133333,
          43.362,
          43.23,
          43.231667,
          42.97,
          42.97,
          42.97,
          43.345,
          43.248333,
          43.1,
          43.14,
          43.551167,
          43.56,
          43.238333,
          43.411667,
          42.957333,
          42.950333,
          43.386667,
          43.386667,
          43.37,
          43.166667,
          43.16,
          43.283333,
          43.038167,
          43.0335,
          43.259,
          43.181667,
          43.328333,
          43.286667,
          43.286667,
          43.378333,
          43.433333,
          43.453333,
          43.416667,
          43.3905,
          43.483333,
          43.114667,
          43.25,
          43.02,
          43.038333,
          42.858333,
          42.986667,
          42.986667,
          42.933333,
          42.886333,
          42.8865,
          42.983667,
          43.208333,
          43.2045,
          43.4515,
          43.333333,
          42.93,
          42.935,
          42.935,
          42.935,
          43.125,
          43.047833,
          43.111667,
          43.39,
          43.223333,
          43.221667,
          43.276667,
          43.126,
          43.298333,
          43.548333,
          43.411667,
          43.418333,
          43.348333,
          43.13,
          43.096667,
          43.096667,
          43.324333,
          43.178333,
          43.1595,
          43.191667,
          43.17,
          43.49,
          43.501333,
          43.49,
          43.491667,
          43.215,
          43.301667,
          43.301667,
          43.308333,
          43.301667,
          43.301667,
          43.301667,
          43.385,
          43.490833,
          43.315,
          43.203333,
          43.525,
          43.555,
          43.391667,
          43.163333,
          43.163333,
          43.163333,
          43.383333,
          42.996667,
          43.313333,
          43.313333,
          43.4,
          43.445,
          43.3945,
          42.961667,
          43.356667,
          43.356667,
          43.380167,
          43.168333,
          43.323333,
          43,
          42.996667,
          43.118333,
          43.358333,
          43.476667,
          43.133833,
          42.871667,
          42.871667,
          42.871667,
          42.871667,
          42.823833,
          43.068667,
          43.396667,
          42.972833,
          42.77,
          42.780833,
          42.791,
          42.8525,
          42.781333,
          42.9885,
          43.005,
          43.004667,
          43.005,
          42.8995,
          42.8995,
          42.901667,
          42.946833,
          42.958167,
          42.928,
          42.928167,
          42.998333,
          43.0885,
          43.083333,
          43.083333,
          43.066,
          43.058167,
          42.930667,
          43.071,
          43.0525,
          43.0615,
          42.908833,
          42.960833,
          43.065,
          43.065,
          42.9055,
          42.9,
          42.896833,
          42.857833,
          43.026667,
          43.353333,
          42.956667,
          43.266,
          43.016667,
          43.127167,
          43.283333,
          43.277833,
          43.293333,
          43.29,
          42.892,
          42.886667,
          42.886667,
          42.905833,
          42.879667,
          42.8525,
          42.791667,
          42.945,
          43.01,
          43.226667,
          42.728667,
          42.731667,
          42.73,
          42.729167,
          42.733833,
          42.79,
          42.785,
          42.7815,
          42.988333,
          42.743833,
          43.05,
          43.0165,
          42.866667,
          43.018,
          42.909167,
          42.909,
          42.908667,
          42.848167,
          43.123333,
          43.113833,
          43.1,
          42.995,
          43.042833,
          42.720333,
          42.796667,
          42.7965,
          43.105667,
          43.095,
          43.102833,
          42.881,
          42.858333,
          42.871667,
          43.470833,
          42.9655,
          43.25,
          43.062833,
          43.063333,
          42.9435,
          43.185,
          42.943833,
          42.787833,
          42.770833,
          43.1,
          42.782167,
          42.936667,
          43.3865,
          42.734333,
          42.719833,
          43.1155,
          43.523333,
          42.812667,
          42.8165,
          42.813833,
          43.233333,
          43.233333,
          43.188,
          43.179,
          42.796667,
          43.316167,
          42.791167,
          43.3755,
          43.385,
          42.4775,
          42.475,
          42.56,
          42.486667,
          42.481667,
          42.54,
          42.546667,
          42.546667,
          42.546667,
          42.456667,
          42.456667,
          42.573333,
          42.563333,
          42.473333,
          42.483333,
          42.798333,
          42.546667,
          42.718333,
          42.65,
          42.436667,
          42.431667,
          42.566667,
          42.568333,
          42.587333,
          42.596667,
          42.631667,
          42.71,
          42.71,
          42.536667,
          42.686833,
          42.536667,
          42.653333,
          42.516167,
          42.534667,
          42.738333,
          42.74,
          42.74,
          42.531667,
          42.531667,
          42.566667,
          42.566667,
          42.811667,
          42.441667,
          42.496333,
          42.488333,
          42.488333,
          42.596667,
          42.368333,
          42.658333,
          42.496667,
          42.486667,
          42.466667,
          42.466667,
          42.4845,
          42.598333,
          42.778333,
          42.771667,
          42.771667,
          42.771667,
          42.771667,
          42.630167,
          42.645,
          42.561667,
          42.561667,
          42.503333,
          42.521667,
          42.535167,
          42.511667,
          42.623667,
          42.613333,
          42.616,
          42.629167,
          42.615,
          42.561667,
          42.659833,
          42.67,
          42.5,
          42.509167,
          42.526667,
          42.526667,
          42.526667,
          42.526667,
          42.361667,
          42.521667,
          42.462333,
          42.606667,
          42.765,
          42.768333,
          42.786667,
          42.786667,
          42.5285,
          42.473333,
          42.465,
          42.681667,
          42.681667,
          42.439833,
          42.408667,
          42.44,
          42.571667,
          42.441667,
          42.588333,
          42.49,
          42.425,
          42.811667,
          42.811667,
          42.69,
          42.691667,
          42.691667,
          42.501667,
          42.651667,
          42.51,
          42.508333,
          42.508333,
          42.508333,
          42.508333,
          42.576667,
          42.485,
          42.486667,
          42.608333,
          42.438333,
          42.675667,
          42.668333,
          42.701667,
          42.553333,
          42.556667,
          42.556667,
          42.866667,
          42.87,
          42.413333,
          42.571667,
          42.578333,
          42.737167,
          42.696667,
          42.708333,
          42.701667,
          42.466667,
          42.626667,
          42.52,
          42.52,
          42.52,
          42.52,
          42.525,
          42.546667,
          42.551667,
          42.546667,
          42.546667,
          42.546667,
          42.618333,
          42.616667,
          42.405,
          42.405,
          42.403333,
          42.403333,
          42.403333,
          42.403333,
          42.384667,
          42.646667,
          42.655167,
          42.496667,
          42.731667,
          42.586667,
          42.631667,
          42.77,
          42.658333,
          42.458333,
          42.385,
          42.538333,
          42.81,
          42.833333,
          42.511667,
          42.568333,
          42.568333,
          42.399833,
          42.726667,
          42.726667,
          42.726667,
          42.386667,
          42.539167,
          42.81,
          42.8205,
          42.808333,
          42.4625,
          42.388333,
          42.773333,
          42.773333,
          42.445,
          42.504,
          42.523333,
          42.580333,
          42.58,
          42.525,
          42.648333,
          42.635,
          42.635,
          42.755,
          42.545,
          42.638333,
          42.388167,
          42.538333,
          42.538333,
          42.538333,
          42.538333,
          42.551667,
          42.548333,
          42.546667,
          42.602333,
          42.585,
          42.526667,
          42.6555,
          42.645,
          42.771667,
          42.5365
         ],
         "legendgroup": "",
         "lon": [
          1.875,
          1.145,
          0.873667,
          1.041667,
          1.729167,
          1.895167,
          1.954,
          1.862,
          1.678333,
          1.691,
          1.026667,
          0.92,
          1.333833,
          1.333833,
          1.491667,
          1.48,
          1.48,
          1.4265,
          1.48,
          1.48,
          1.48,
          1.481667,
          1.448333,
          1.7965,
          1.838333,
          1.791333,
          1.84,
          1.84,
          1.426667,
          1.690667,
          1.936667,
          1.933333,
          1.058167,
          1.06,
          0.964833,
          1.03,
          1.368333,
          1.34,
          1.538333,
          1.524333,
          1.501333,
          1.541667,
          1.585,
          2.106667,
          2.122167,
          1.3745,
          1.375,
          1.351667,
          1.033333,
          1.033333,
          1.063,
          1.5645,
          1.188333,
          1.188333,
          1.189333,
          1.306667,
          1.375,
          1.381167,
          0.9345,
          1.62,
          1.614667,
          1.608333,
          1.606667,
          1.608333,
          1.9,
          1.563333,
          1.571667,
          1.513333,
          1.503333,
          1.300833,
          1.796333,
          1.8,
          1.800333,
          1.426667,
          1.3885,
          1.176667,
          1.66,
          1.461667,
          1.46,
          1.863333,
          1.41,
          1.357667,
          1.35,
          1.361667,
          2.083667,
          2.076667,
          1.373333,
          1.82,
          1.9155,
          1.919167,
          1.91,
          1.686667,
          1.748,
          1.736667,
          1.748333,
          1.545,
          1.346667,
          1.347833,
          1.673667,
          1.663333,
          1.831667,
          1.841667,
          2.017,
          1.87,
          1.8605,
          1.744167,
          1.744333,
          1.6435,
          1.643333,
          1.96,
          1.781167,
          1.835,
          1.09,
          1.09,
          1.758667,
          0.935167,
          1.9125,
          1.213333,
          1.618167,
          1.601667,
          1.6455,
          1.624333,
          1.607,
          1.686667,
          1.114333,
          1.876667,
          2.096667,
          2.098333,
          2.115167,
          2.096667,
          2.096667,
          1.553333,
          1.665333,
          1.765,
          1.278333,
          1.266667,
          1.23,
          1.23,
          2.066667,
          2.085167,
          1.725833,
          1.141667,
          0.895,
          0.895,
          1.176667,
          1.536667,
          1.536667,
          1.594833,
          1.818833,
          1.818333,
          1.197333,
          1.2,
          0.938333,
          0.953333,
          0.934667,
          1.388333,
          1.565,
          1.207167,
          1.21,
          1.234333,
          1.106833,
          1.707167,
          0.883333,
          1.4215,
          1.166667,
          1.585,
          1.602333,
          1.598333,
          1.256667,
          1.266667,
          1.256667,
          1.648333,
          1.69,
          1.488167,
          1.5,
          1.498333,
          1.498333,
          1.2,
          0.981667,
          1.78,
          0.908833,
          1.5,
          1.522667,
          1.381667,
          0.866667,
          1.48,
          1.503667,
          1.805667,
          0.593333,
          0.597833,
          0.593333,
          0.593333,
          0.593333,
          0.593333,
          1.4905,
          0.866667,
          1.356667,
          0.643833,
          0.643333,
          0.645,
          0.646667,
          0.888167,
          0.768167,
          1.053,
          1.05,
          1.225,
          0.683333,
          1.438333,
          0.533333,
          0.523333,
          1.47,
          1.085,
          0.736667,
          0.6375,
          1.531667,
          0.617333,
          0.9335,
          0.739333,
          0.735,
          0.835,
          0.755,
          0.486667,
          0.75,
          0.836667,
          0.836667,
          0.669,
          1.233333,
          1.2465,
          1.284167,
          1.423,
          1.646333,
          1.296833,
          1.168333,
          1.182833,
          1.825,
          1.065,
          1.233333,
          0.477667,
          0.573333,
          0.600167,
          0.5495,
          0.54,
          0.745,
          0.745,
          1.07,
          1.6365,
          1.23,
          1.633333,
          0.57,
          1.262,
          1.623333,
          1.333333,
          1.321333,
          0.504667,
          0.506667,
          0.506667,
          1.05,
          1.07,
          1.178333,
          1.285,
          0.618333,
          0.8,
          0.866667,
          1.183333,
          2.018667,
          1.113,
          1.12,
          1.14,
          0.723333,
          0.723333,
          1.48,
          0.575,
          0.966,
          0.96,
          0.555,
          1.7425,
          1.313333,
          0.55,
          1.881167,
          0.748667,
          0.55,
          1.3,
          0.576333,
          0.58,
          1.448333,
          1.456667,
          1.456667,
          1.453333,
          1.463333,
          1.45,
          1.378833,
          1.372667,
          1.483333,
          1.983333,
          1.661167,
          1.661667,
          1.481667,
          1.733333,
          1.703333,
          1.475833,
          1.483333,
          0.666667,
          1.423333,
          -0.561667,
          -0.6105,
          -0.613333,
          -1.0205,
          -1.01,
          -1.425,
          -0.24,
          -0.716667,
          -0.69,
          -0.748167,
          -0.716667,
          -0.6835,
          -0.345,
          -0.253333,
          -0.473333,
          -0.38,
          -0.388167,
          -0.298333,
          -0.2725,
          -0.541667,
          -1.253333,
          -0.841667,
          -0.836667,
          -0.253333,
          -1.372833,
          -0.256667,
          -1.476667,
          -0.596667,
          -0.9195,
          -0.220333,
          -0.41,
          -0.866667,
          -1.555,
          -1.566667,
          -1.534333,
          -1.5675,
          -1.555,
          -1.142167,
          -0.448333,
          -0.571667,
          -0.303333,
          -0.303333,
          -1.2145,
          -0.458333,
          -0.456667,
          -1.3825,
          -0.865,
          -0.866667,
          -0.39,
          -0.39,
          -0.39,
          -1.433333,
          -0.155,
          -1.196667,
          -0.588333,
          -0.272167,
          -0.271667,
          -0.083833,
          -0.175,
          -0.333167,
          -0.331667,
          -0.945,
          -1.305,
          -1.768333,
          -0.558333,
          -1.086667,
          -1.18,
          -1.026667,
          -1.033833,
          -1.227167,
          -1.295,
          -1.403333,
          -0.386667,
          -0.386667,
          -0.536667,
          -1.251667,
          -1.02,
          -0.62,
          -0.643,
          -1.39,
          -0.752667,
          -1.123333,
          -0.96,
          -1.026667,
          -0.326667,
          -0.425,
          -0.425,
          -0.453333,
          -0.410667,
          -0.412,
          -0.428667,
          -0.46,
          -0.4855,
          -0.109167,
          -0.435,
          -0.643333,
          -0.633333,
          -0.633333,
          -0.633333,
          -0.206667,
          -0.885667,
          -0.608333,
          -1.091667,
          -0.881667,
          -0.885,
          -0.35,
          -1.135167,
          -0.526667,
          -0.136667,
          -0.67,
          -0.66,
          0.001667,
          -0.201667,
          -0.816667,
          -0.816667,
          -0.7535,
          -0.261667,
          -0.5795,
          -0.608333,
          -0.59,
          -0.771667,
          -0.755,
          -0.771667,
          -0.77,
          -0.298333,
          -0.366667,
          -0.366667,
          -0.348333,
          -0.366667,
          -0.366667,
          -0.383333,
          -0.416333,
          -0.5435,
          -0.055,
          -0.113833,
          -0.908333,
          -0.831667,
          -1.655,
          -1.235,
          -1.235,
          -1.235,
          -0.198333,
          -0.818333,
          -1.58,
          -1.58,
          -0.941667,
          -0.258333,
          -1.6865,
          -0.721333,
          -0.251667,
          -1.565,
          -0.933667,
          -1.221667,
          -1.016667,
          -0.84,
          -0.808333,
          -0.858333,
          -0.538333,
          -0.346667,
          -0.876167,
          -0.55,
          -0.55,
          -0.55,
          -0.55,
          -0.559167,
          -1.4155,
          -1.455,
          -0.072167,
          0.17,
          0.198333,
          0.2275,
          0.207167,
          0.191667,
          -0.2785,
          -0.098333,
          -0.100167,
          -0.098333,
          0.365,
          0.365,
          0.36,
          -0.2185,
          -0.207667,
          0.202,
          0.203167,
          -0.0685,
          0.1415,
          0.166667,
          0.15,
          0.146333,
          0.149333,
          0.138833,
          0.158167,
          0.145667,
          0.142667,
          0.179,
          0.090667,
          0.151667,
          0.151667,
          0.130833,
          0.14,
          0.061667,
          0.3485,
          0.168333,
          0.315,
          0.373333,
          0.060333,
          0.178333,
          0.3665,
          0.516667,
          0.5175,
          0.505,
          0.2,
          -0.114667,
          -0.11,
          -0.11,
          -0.115,
          -0.158167,
          -0.147,
          0.262,
          -0.175,
          -0.261667,
          0.43,
          -0.008167,
          -0.008333,
          -0.006667,
          -0.031167,
          -0.010833,
          0.018333,
          0.02,
          0.013,
          0.575,
          0.41,
          0.165,
          -0.133167,
          0.338333,
          0.5995,
          0.179,
          0.179,
          0.170333,
          -0.066,
          0.383333,
          0.413167,
          0.383333,
          -0.088333,
          0.298167,
          0.419,
          0.41,
          0.439667,
          -0.061833,
          -0.045,
          -0.0265,
          -0.063833,
          -0.001833,
          -0.011667,
          0.043167,
          0.570333,
          0.518333,
          0.4965,
          0.479333,
          0.456167,
          -0.026667,
          0.276667,
          0.446667,
          0.455667,
          -0.127167,
          0.16,
          0.142167,
          0.1495,
          0.144333,
          0.012167,
          -0.138333,
          -0.023333,
          0.295,
          0.254667,
          0.317667,
          0.07,
          0.07,
          0,
          0.243667,
          0.29,
          0.369167,
          0.388,
          0.045833,
          0.055,
          2.665167,
          2.67,
          2.005,
          1.953333,
          1.96,
          3.006667,
          3.021667,
          3.021667,
          3.021667,
          2.633333,
          2.633333,
          2.183333,
          2.528333,
          3.116667,
          3.128333,
          3.036667,
          2.588333,
          2.605,
          2.585,
          1.945,
          1.943333,
          2.906667,
          2.903333,
          2.679833,
          2.66,
          2.683333,
          2.458333,
          2.456667,
          2.246667,
          2.983667,
          2.465,
          2.831667,
          3.133667,
          2.143,
          2.57,
          2.611667,
          2.611667,
          2.391667,
          2.391667,
          2.161667,
          2.161667,
          2.373333,
          3.165,
          2.7475,
          2.748333,
          2.748333,
          2.418333,
          2.458333,
          2.675,
          2.553333,
          2.556667,
          2.58,
          2.58,
          1.939333,
          2.971667,
          2.835,
          2.698333,
          2.698333,
          2.698333,
          2.698333,
          2.446333,
          2.455,
          2.41,
          2.408333,
          2.04,
          2.036667,
          2.021,
          2.18,
          2.068333,
          2.105,
          2.111333,
          2.039667,
          2.1,
          2.36,
          2.614167,
          2.621667,
          2.111667,
          2.148667,
          2.12,
          2.12,
          2.12,
          2.12,
          2.52,
          2.933333,
          1.888167,
          3.001667,
          2.651667,
          2.653333,
          3.035,
          3.035,
          2.8435,
          2.8595,
          2.863333,
          2.793333,
          2.793333,
          2.5125,
          2.541,
          2.515,
          2.051667,
          2.521667,
          2.118333,
          2.806667,
          2.785,
          2.593333,
          2.593333,
          2.693333,
          2.695,
          2.695,
          2.545,
          2.386667,
          2.121667,
          2.12,
          2.12,
          2.12,
          2.12,
          2.725,
          2.653333,
          2.653333,
          2.933333,
          2.566667,
          2.320333,
          2.348333,
          2.885,
          2.266667,
          2.266667,
          2.266667,
          2.876667,
          2.871667,
          1.981667,
          2.96,
          2.81,
          2.872833,
          2.9,
          2.893333,
          2.898333,
          2.865,
          2.813333,
          3.105,
          3.105,
          3.105,
          3.105,
          1.828333,
          1.826667,
          1.789,
          1.831667,
          1.833333,
          1.831667,
          2.421667,
          2.421667,
          2.486667,
          2.485,
          2.48,
          2.48,
          2.48,
          2.48,
          2.095333,
          2.12,
          2.058333,
          2.351667,
          2.39,
          2.181,
          2.133333,
          2.871667,
          2.561667,
          2.038333,
          2.611667,
          2.62,
          2.503333,
          2.92,
          2.151667,
          2.32,
          2.32,
          2.557833,
          2.446667,
          2.44,
          2.44,
          2.611667,
          2.622,
          2.506667,
          2.485333,
          2.558333,
          2.117,
          2.618333,
          2.988333,
          2.988333,
          2.013333,
          1.973333,
          2.633333,
          2.4105,
          2.425,
          2.223333,
          2.731667,
          2.753333,
          2.753333,
          2.978333,
          2.826667,
          2.303333,
          2.035333,
          2.533333,
          2.533333,
          2.533333,
          2.533333,
          2.386667,
          2.386667,
          2.386667,
          2.362,
          2.365,
          2.903333,
          2.547833,
          2.526667,
          2.413333,
          2.760833
         ],
         "marker": {
          "color": "red"
         },
         "mode": "markers",
         "name": "",
         "showlegend": false,
         "subplot": "mapbox",
         "type": "scattermapbox"
        }
       ],
       "layout": {
        "height": 800,
        "hoverlabel": {
         "bgcolor": "rgb(255,255,255)"
        },
        "legend": {
         "tracegroupgap": 0
        },
        "mapbox": {
         "center": {
          "lat": 42.94932146057572,
          "lon": 1.0420218886107635
         },
         "domain": {
          "x": [
           0,
           1
          ],
          "y": [
           0,
           1
          ]
         },
         "layers": [
          {
           "color": "rgba(0, 0, 0, 0.9)",
           "line": {
            "width": 1
           },
           "source": "https://www.data.gouv.fr/fr/datasets/r/90b9341a-e1f7-4d75-a73c-bbc010c7feeb",
           "sourcetype": "geojson",
           "type": "line"
          }
         ],
         "style": "open-street-map",
         "zoom": 8
        },
        "margin": {
         "t": 60
        },
        "template": {
         "data": {
          "bar": [
           {
            "error_x": {
             "color": "#2a3f5f"
            },
            "error_y": {
             "color": "#2a3f5f"
            },
            "marker": {
             "line": {
              "color": "#E5ECF6",
              "width": 0.5
             },
             "pattern": {
              "fillmode": "overlay",
              "size": 10,
              "solidity": 0.2
             }
            },
            "type": "bar"
           }
          ],
          "barpolar": [
           {
            "marker": {
             "line": {
              "color": "#E5ECF6",
              "width": 0.5
             },
             "pattern": {
              "fillmode": "overlay",
              "size": 10,
              "solidity": 0.2
             }
            },
            "type": "barpolar"
           }
          ],
          "carpet": [
           {
            "aaxis": {
             "endlinecolor": "#2a3f5f",
             "gridcolor": "white",
             "linecolor": "white",
             "minorgridcolor": "white",
             "startlinecolor": "#2a3f5f"
            },
            "baxis": {
             "endlinecolor": "#2a3f5f",
             "gridcolor": "white",
             "linecolor": "white",
             "minorgridcolor": "white",
             "startlinecolor": "#2a3f5f"
            },
            "type": "carpet"
           }
          ],
          "choropleth": [
           {
            "colorbar": {
             "outlinewidth": 0,
             "ticks": ""
            },
            "type": "choropleth"
           }
          ],
          "contour": [
           {
            "colorbar": {
             "outlinewidth": 0,
             "ticks": ""
            },
            "colorscale": [
             [
              0,
              "#0d0887"
             ],
             [
              0.1111111111111111,
              "#46039f"
             ],
             [
              0.2222222222222222,
              "#7201a8"
             ],
             [
              0.3333333333333333,
              "#9c179e"
             ],
             [
              0.4444444444444444,
              "#bd3786"
             ],
             [
              0.5555555555555556,
              "#d8576b"
             ],
             [
              0.6666666666666666,
              "#ed7953"
             ],
             [
              0.7777777777777778,
              "#fb9f3a"
             ],
             [
              0.8888888888888888,
              "#fdca26"
             ],
             [
              1,
              "#f0f921"
             ]
            ],
            "type": "contour"
           }
          ],
          "contourcarpet": [
           {
            "colorbar": {
             "outlinewidth": 0,
             "ticks": ""
            },
            "type": "contourcarpet"
           }
          ],
          "heatmap": [
           {
            "colorbar": {
             "outlinewidth": 0,
             "ticks": ""
            },
            "colorscale": [
             [
              0,
              "#0d0887"
             ],
             [
              0.1111111111111111,
              "#46039f"
             ],
             [
              0.2222222222222222,
              "#7201a8"
             ],
             [
              0.3333333333333333,
              "#9c179e"
             ],
             [
              0.4444444444444444,
              "#bd3786"
             ],
             [
              0.5555555555555556,
              "#d8576b"
             ],
             [
              0.6666666666666666,
              "#ed7953"
             ],
             [
              0.7777777777777778,
              "#fb9f3a"
             ],
             [
              0.8888888888888888,
              "#fdca26"
             ],
             [
              1,
              "#f0f921"
             ]
            ],
            "type": "heatmap"
           }
          ],
          "heatmapgl": [
           {
            "colorbar": {
             "outlinewidth": 0,
             "ticks": ""
            },
            "colorscale": [
             [
              0,
              "#0d0887"
             ],
             [
              0.1111111111111111,
              "#46039f"
             ],
             [
              0.2222222222222222,
              "#7201a8"
             ],
             [
              0.3333333333333333,
              "#9c179e"
             ],
             [
              0.4444444444444444,
              "#bd3786"
             ],
             [
              0.5555555555555556,
              "#d8576b"
             ],
             [
              0.6666666666666666,
              "#ed7953"
             ],
             [
              0.7777777777777778,
              "#fb9f3a"
             ],
             [
              0.8888888888888888,
              "#fdca26"
             ],
             [
              1,
              "#f0f921"
             ]
            ],
            "type": "heatmapgl"
           }
          ],
          "histogram": [
           {
            "marker": {
             "pattern": {
              "fillmode": "overlay",
              "size": 10,
              "solidity": 0.2
             }
            },
            "type": "histogram"
           }
          ],
          "histogram2d": [
           {
            "colorbar": {
             "outlinewidth": 0,
             "ticks": ""
            },
            "colorscale": [
             [
              0,
              "#0d0887"
             ],
             [
              0.1111111111111111,
              "#46039f"
             ],
             [
              0.2222222222222222,
              "#7201a8"
             ],
             [
              0.3333333333333333,
              "#9c179e"
             ],
             [
              0.4444444444444444,
              "#bd3786"
             ],
             [
              0.5555555555555556,
              "#d8576b"
             ],
             [
              0.6666666666666666,
              "#ed7953"
             ],
             [
              0.7777777777777778,
              "#fb9f3a"
             ],
             [
              0.8888888888888888,
              "#fdca26"
             ],
             [
              1,
              "#f0f921"
             ]
            ],
            "type": "histogram2d"
           }
          ],
          "histogram2dcontour": [
           {
            "colorbar": {
             "outlinewidth": 0,
             "ticks": ""
            },
            "colorscale": [
             [
              0,
              "#0d0887"
             ],
             [
              0.1111111111111111,
              "#46039f"
             ],
             [
              0.2222222222222222,
              "#7201a8"
             ],
             [
              0.3333333333333333,
              "#9c179e"
             ],
             [
              0.4444444444444444,
              "#bd3786"
             ],
             [
              0.5555555555555556,
              "#d8576b"
             ],
             [
              0.6666666666666666,
              "#ed7953"
             ],
             [
              0.7777777777777778,
              "#fb9f3a"
             ],
             [
              0.8888888888888888,
              "#fdca26"
             ],
             [
              1,
              "#f0f921"
             ]
            ],
            "type": "histogram2dcontour"
           }
          ],
          "mesh3d": [
           {
            "colorbar": {
             "outlinewidth": 0,
             "ticks": ""
            },
            "type": "mesh3d"
           }
          ],
          "parcoords": [
           {
            "line": {
             "colorbar": {
              "outlinewidth": 0,
              "ticks": ""
             }
            },
            "type": "parcoords"
           }
          ],
          "pie": [
           {
            "automargin": true,
            "type": "pie"
           }
          ],
          "scatter": [
           {
            "fillpattern": {
             "fillmode": "overlay",
             "size": 10,
             "solidity": 0.2
            },
            "type": "scatter"
           }
          ],
          "scatter3d": [
           {
            "line": {
             "colorbar": {
              "outlinewidth": 0,
              "ticks": ""
             }
            },
            "marker": {
             "colorbar": {
              "outlinewidth": 0,
              "ticks": ""
             }
            },
            "type": "scatter3d"
           }
          ],
          "scattercarpet": [
           {
            "marker": {
             "colorbar": {
              "outlinewidth": 0,
              "ticks": ""
             }
            },
            "type": "scattercarpet"
           }
          ],
          "scattergeo": [
           {
            "marker": {
             "colorbar": {
              "outlinewidth": 0,
              "ticks": ""
             }
            },
            "type": "scattergeo"
           }
          ],
          "scattergl": [
           {
            "marker": {
             "colorbar": {
              "outlinewidth": 0,
              "ticks": ""
             }
            },
            "type": "scattergl"
           }
          ],
          "scattermapbox": [
           {
            "marker": {
             "colorbar": {
              "outlinewidth": 0,
              "ticks": ""
             }
            },
            "type": "scattermapbox"
           }
          ],
          "scatterpolar": [
           {
            "marker": {
             "colorbar": {
              "outlinewidth": 0,
              "ticks": ""
             }
            },
            "type": "scatterpolar"
           }
          ],
          "scatterpolargl": [
           {
            "marker": {
             "colorbar": {
              "outlinewidth": 0,
              "ticks": ""
             }
            },
            "type": "scatterpolargl"
           }
          ],
          "scatterternary": [
           {
            "marker": {
             "colorbar": {
              "outlinewidth": 0,
              "ticks": ""
             }
            },
            "type": "scatterternary"
           }
          ],
          "surface": [
           {
            "colorbar": {
             "outlinewidth": 0,
             "ticks": ""
            },
            "colorscale": [
             [
              0,
              "#0d0887"
             ],
             [
              0.1111111111111111,
              "#46039f"
             ],
             [
              0.2222222222222222,
              "#7201a8"
             ],
             [
              0.3333333333333333,
              "#9c179e"
             ],
             [
              0.4444444444444444,
              "#bd3786"
             ],
             [
              0.5555555555555556,
              "#d8576b"
             ],
             [
              0.6666666666666666,
              "#ed7953"
             ],
             [
              0.7777777777777778,
              "#fb9f3a"
             ],
             [
              0.8888888888888888,
              "#fdca26"
             ],
             [
              1,
              "#f0f921"
             ]
            ],
            "type": "surface"
           }
          ],
          "table": [
           {
            "cells": {
             "fill": {
              "color": "#EBF0F8"
             },
             "line": {
              "color": "white"
             }
            },
            "header": {
             "fill": {
              "color": "#C8D4E3"
             },
             "line": {
              "color": "white"
             }
            },
            "type": "table"
           }
          ]
         },
         "layout": {
          "annotationdefaults": {
           "arrowcolor": "#2a3f5f",
           "arrowhead": 0,
           "arrowwidth": 1
          },
          "autotypenumbers": "strict",
          "coloraxis": {
           "colorbar": {
            "outlinewidth": 0,
            "ticks": ""
           }
          },
          "colorscale": {
           "diverging": [
            [
             0,
             "#8e0152"
            ],
            [
             0.1,
             "#c51b7d"
            ],
            [
             0.2,
             "#de77ae"
            ],
            [
             0.3,
             "#f1b6da"
            ],
            [
             0.4,
             "#fde0ef"
            ],
            [
             0.5,
             "#f7f7f7"
            ],
            [
             0.6,
             "#e6f5d0"
            ],
            [
             0.7,
             "#b8e186"
            ],
            [
             0.8,
             "#7fbc41"
            ],
            [
             0.9,
             "#4d9221"
            ],
            [
             1,
             "#276419"
            ]
           ],
           "sequential": [
            [
             0,
             "#0d0887"
            ],
            [
             0.1111111111111111,
             "#46039f"
            ],
            [
             0.2222222222222222,
             "#7201a8"
            ],
            [
             0.3333333333333333,
             "#9c179e"
            ],
            [
             0.4444444444444444,
             "#bd3786"
            ],
            [
             0.5555555555555556,
             "#d8576b"
            ],
            [
             0.6666666666666666,
             "#ed7953"
            ],
            [
             0.7777777777777778,
             "#fb9f3a"
            ],
            [
             0.8888888888888888,
             "#fdca26"
            ],
            [
             1,
             "#f0f921"
            ]
           ],
           "sequentialminus": [
            [
             0,
             "#0d0887"
            ],
            [
             0.1111111111111111,
             "#46039f"
            ],
            [
             0.2222222222222222,
             "#7201a8"
            ],
            [
             0.3333333333333333,
             "#9c179e"
            ],
            [
             0.4444444444444444,
             "#bd3786"
            ],
            [
             0.5555555555555556,
             "#d8576b"
            ],
            [
             0.6666666666666666,
             "#ed7953"
            ],
            [
             0.7777777777777778,
             "#fb9f3a"
            ],
            [
             0.8888888888888888,
             "#fdca26"
            ],
            [
             1,
             "#f0f921"
            ]
           ]
          },
          "colorway": [
           "#636efa",
           "#EF553B",
           "#00cc96",
           "#ab63fa",
           "#FFA15A",
           "#19d3f3",
           "#FF6692",
           "#B6E880",
           "#FF97FF",
           "#FECB52"
          ],
          "font": {
           "color": "#2a3f5f"
          },
          "geo": {
           "bgcolor": "white",
           "lakecolor": "white",
           "landcolor": "#E5ECF6",
           "showlakes": true,
           "showland": true,
           "subunitcolor": "white"
          },
          "hoverlabel": {
           "align": "left"
          },
          "hovermode": "closest",
          "mapbox": {
           "style": "light"
          },
          "paper_bgcolor": "white",
          "plot_bgcolor": "#E5ECF6",
          "polar": {
           "angularaxis": {
            "gridcolor": "white",
            "linecolor": "white",
            "ticks": ""
           },
           "bgcolor": "#E5ECF6",
           "radialaxis": {
            "gridcolor": "white",
            "linecolor": "white",
            "ticks": ""
           }
          },
          "scene": {
           "xaxis": {
            "backgroundcolor": "#E5ECF6",
            "gridcolor": "white",
            "gridwidth": 2,
            "linecolor": "white",
            "showbackground": true,
            "ticks": "",
            "zerolinecolor": "white"
           },
           "yaxis": {
            "backgroundcolor": "#E5ECF6",
            "gridcolor": "white",
            "gridwidth": 2,
            "linecolor": "white",
            "showbackground": true,
            "ticks": "",
            "zerolinecolor": "white"
           },
           "zaxis": {
            "backgroundcolor": "#E5ECF6",
            "gridcolor": "white",
            "gridwidth": 2,
            "linecolor": "white",
            "showbackground": true,
            "ticks": "",
            "zerolinecolor": "white"
           }
          },
          "shapedefaults": {
           "line": {
            "color": "#2a3f5f"
           }
          },
          "ternary": {
           "aaxis": {
            "gridcolor": "white",
            "linecolor": "white",
            "ticks": ""
           },
           "baxis": {
            "gridcolor": "white",
            "linecolor": "white",
            "ticks": ""
           },
           "bgcolor": "#E5ECF6",
           "caxis": {
            "gridcolor": "white",
            "linecolor": "white",
            "ticks": ""
           }
          },
          "title": {
           "x": 0.05
          },
          "xaxis": {
           "automargin": true,
           "gridcolor": "white",
           "linecolor": "white",
           "ticks": "",
           "title": {
            "standoff": 15
           },
           "zerolinecolor": "white",
           "zerolinewidth": 2
          },
          "yaxis": {
           "automargin": true,
           "gridcolor": "white",
           "linecolor": "white",
           "ticks": "",
           "title": {
            "standoff": 15
           },
           "zerolinecolor": "white",
           "zerolinewidth": 2
          }
         }
        },
        "title": {
         "text": "Pyrénées : postes actifs en 2025",
         "x": 0.5
        },
        "width": 900
       }
      }
     },
     "metadata": {},
     "output_type": "display_data"
    }
   ],
   "source": [
    "départements_pyrénées = ['09','31','64','65','66']\n",
    "\n",
    "\n",
    "# initialisation\n",
    "liste_dataframes = []\n",
    "\n",
    "for dept in départements_pyrénées:\n",
    "    liste_départementale = synthétiser_information(dept)\n",
    "    liste_dataframes.append(liste_départementale)   \n",
    "\n",
    "# Concaténation\n",
    "liste_pyrénées = pd.concat(liste_dataframes, ignore_index=True)\n",
    "cartographier_postes(liste_pyrénées, dept = 'pyrénées')\n",
    "      "
   ]
  },
  {
   "cell_type": "code",
   "execution_count": 29,
   "metadata": {},
   "outputs": [],
   "source": [
    "fichier_excel   = os.path.join(répertoire_travail, 'liste_synthétique_Pyrénées.xlsx')\n",
    "onglet_liste = 'liste-stations'\n",
    "liste_pyrénées.to_excel(fichier_excel, index=False, sheet_name= onglet_liste)"
   ]
  },
  {
   "cell_type": "code",
   "execution_count": null,
   "metadata": {},
   "outputs": [],
   "source": []
  }
 ],
 "metadata": {
  "kernelspec": {
   "display_name": "python3.12",
   "language": "python",
   "name": "python3"
  },
  "language_info": {
   "codemirror_mode": {
    "name": "ipython",
    "version": 3
   },
   "file_extension": ".py",
   "mimetype": "text/x-python",
   "name": "python",
   "nbconvert_exporter": "python",
   "pygments_lexer": "ipython3",
   "version": "3.12.3"
  }
 },
 "nbformat": 4,
 "nbformat_minor": 2
}
