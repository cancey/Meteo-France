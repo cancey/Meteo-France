{
 "cells": [
  {
   "cell_type": "markdown",
   "metadata": {},
   "source": [
    "Création de la liste de tous les postes pour les Alpes. Ce cahier fournit les outils pour extraire l'information sur les postes météorologiques et nivologiques\n",
    "de Météo-France.\n",
    "\n",
    "Fonctions :\n",
    "* extraire_information(département) : fournit l'information brute pour un département\n",
    "* synthétiser_information(département) : fournit une liste synthétique (dataframe) des stations, à savoir :\n",
    "\n",
    "  1. le nom, l'altitude, les coordonnées (latitude, longitude)\n",
    "  2. les dates de début et de fin des mesures\n",
    "  3. quel type (booléen) de variables a été mesuré :\n",
    "    - pluie : pluie journalière\n",
    "    - neige : cumul de neige sur 24 h\n",
    "    - HN : épaisseur du manteau neigeux\n",
    "    - TM : température moyenne\n",
    "    - TN : température minimale\n",
    "    - TX : température maximale\n",
    "  \n",
    "    export possible vers un fichier excel\n",
    "* cartographier(liste des stations, département) : montre une carte de localisation des stations  \n",
    "\n",
    "Les fonctions font appel à des variables globales : \n",
    "  * répertoire_travail : adresse du répertoire où les fichiers sont sauvegardés\n",
    "  * export_détail, export_liste, export_carte: booléens d'export des fichiers bruts, de la liste synthétique des stations et de la carte\n",
    "  * verbosity : booléen. Sert à afficher des messages de progression"
   ]
  },
  {
   "cell_type": "markdown",
   "metadata": {},
   "source": [
    "# Fonctions et initialisation"
   ]
  },
  {
   "cell_type": "code",
   "execution_count": 74,
   "metadata": {},
   "outputs": [
    {
     "name": "stdout",
     "output_type": "stream",
     "text": [
      "J'ai trouvé le répertoire :  /home/ancey/Météo-France/postes/\n"
     ]
    }
   ],
   "source": [
    "import pandas as pd\n",
    "import os\n",
    "import datetime\n",
    "import json\n",
    "import requests\n",
    "import sys\n",
    "import openpyxl #export xls\n",
    "import numpy as np\n",
    "import gzip\n",
    "from tqdm import tqdm\n",
    "import plotly.express as px\n",
    "\n",
    "################################\n",
    "## Auteur : Christoophe Ancey ##\n",
    "## Date : Mai 2024            ##\n",
    "################################\n",
    "\n",
    "# Création du répertoire de travail\n",
    "# changer l'adresse si nécessaire\n",
    "répertoire_travail = '/home/ancey/Météo-France/postes/'\n",
    "\n",
    "# exporte le détail de chaque département\n",
    "export_détail = True\n",
    "export_liste  = True\n",
    "export_carte  = True\n",
    "verbosity     = False\n",
    "\n",
    "# adresse url de base\n",
    "base_url = \t\"https://object.files.data.gouv.fr/meteofrance/data/synchro_ftp/BASE/QUOT/Q_\"\n",
    "\n",
    "# valeur à modifier si on veut afficher plus de lignes de dataframe\n",
    "#pd.set_option('display.min_rows', 20)\n",
    "\n",
    "# dictionnaire reliant numéro (ou abréviation) et nom\n",
    "noms_département = dict()\n",
    "noms_département['73'] = \"Savoie\"\n",
    "noms_département['74'] = \"Haute-Savoie\"\n",
    "noms_département['38'] = \"Isère\"\n",
    "noms_département['05'] = \"Hautes-Alpes\"\n",
    "noms_département['04'] = \"Alpes-de-Haute-Provence\"\n",
    "noms_département['06'] = \"Alpes-Maritimes\"\n",
    "noms_département['01'] = \"Ain\"\n",
    "noms_département['25'] = \"Doubs\"\n",
    "noms_département['26'] = \"Drôme\"\n",
    "noms_département['nord'] = \"Alpes du Nord\"\n",
    "noms_département['sud'] = \"Alpes du Sud\"\n",
    "noms_département['alpes'] = \"Alpes\"\n",
    "\n",
    "# début des mesures au niveau départemental\n",
    "an_début = {}\n",
    "an_début['01'] = '1852'\n",
    "an_début['04'] = '1872'\n",
    "an_début['05'] = '1877'\n",
    "an_début['06'] = '1877'\n",
    "an_début['25'] = '1852'\n",
    "an_début['26'] = '1877'\n",
    "an_début['38'] = '1872'\n",
    "an_début['73'] = '1871'\n",
    "an_début['74'] = '1876'\n",
    "liste_départements = {'01','04','05','06','25','26','38','73','74'}\n",
    "url_M1_département = {}\n",
    "url_M2_département = {}\n",
    "url_M3_département = {}\n",
    "url_N1_département = {}\n",
    "url_N2_département = {}\n",
    "url_N3_département = {}\n",
    "for département in liste_départements:\n",
    "      url_N1_département[département] = base_url+département+\"_\"+an_début[département]+'-1949_autres-parametres.csv.gz'\n",
    "      url_N2_département[département] = base_url+département+'_previous-1950-2022_autres-parametres.csv.gz'\n",
    "      url_N3_département[département] = base_url+département+'_latest-2023-2024_autres-parametres.csv.gz'\n",
    "      url_M1_département[département] = base_url+département+\"_\"+an_début[département]+'-1949_RR-T-Vent.csv.gz'\n",
    "      url_M2_département[département] = base_url+département+'_previous-1950-2022_RR-T-Vent.csv.gz'\n",
    "      url_M3_département[département] = base_url+département+'_latest-2023-2024_RR-T-Vent.csv.gz'\n",
    "\n",
    "\n",
    "# teste si le répertoire existe \n",
    "if not os.path.exists(répertoire_travail):\n",
    "    # crée le répertoire\n",
    "    os.makedirs(répertoire_travail)\n",
    "    print(\"J'ai créé le répertoire : \", répertoire_travail)\n",
    "else:\n",
    "    print(\"J'ai trouvé le répertoire : \",répertoire_travail)\n",
    "\n",
    "# fonction pour télécharger les fichiers MF\n",
    "def télécharger_fichier(url, nom_fichier, work_verbosity = True):\n",
    "    fichier = os.path.join(répertoire_travail, nom_fichier) + '.gz'\n",
    "    if os.path.isfile(fichier):\n",
    "        if work_verbosity: print(\"Rien à faire. Le fichier est déjà présent.\")\n",
    "    else:\n",
    "        requête_données = requests.get(url)\n",
    "        if requête_données.status_code == 200:\n",
    "            with open(fichier,mode='wb') as file:\n",
    "             file.write(requête_données.content)\n",
    "            if work_verbosity: print('Téléchargement : ', fichier)    \n",
    "        else:\n",
    "            print(\"Le lien \", url, \"ne marche pas !\")\n",
    "            sys.exit()\n",
    "\n",
    "# fonction pour décompresser les fichiers MF\n",
    "def décompresser_archive(archive, work_verbosity = True):\n",
    "    fichier             = os.path.join(répertoire_travail, archive) + '.gz'\n",
    "    fichier_décompressé = os.path.join(répertoire_travail, archive) + '.csv'\n",
    "    if os.path.isfile(fichier_décompressé):\n",
    "        if work_verbosity: print(\"Rien à faire. Le fichier est déjà présent.\")\n",
    "    else:\n",
    "        if os.path.exists(fichier):\n",
    "            with gzip.open(fichier, mode='rb') as f_in:\n",
    "                with open(fichier_décompressé, mode='wb') as f_out:\n",
    "                    f_out.write(f_in.read())\n",
    "            if work_verbosity: print('Archive décompressée : ', fichier)\n",
    "        else:\n",
    "            print(\"L'archive \", fichier, \" n'est pas présente !\")\n",
    "            print(\"Téléchargez tout d'abord l'archive...\")\n",
    "\n",
    "######################################\n",
    "# Extraction des informations brutes #\n",
    "######################################\n",
    "def extraction_information(dept : str):\n",
    "      \"\"\" \n",
    "      pour chaque département, télécharge les fichiers de Météo France. On recherche :\n",
    "            * les caractéristiques du poste, à savoir :\n",
    "                  le nom, l'altitude, les coordonnées (latitude, longitude)\n",
    "            * les dates de début et de fin des mesures\n",
    "            * quel type de variables a été mesuré :\n",
    "                  - pluie : pluie journalière\n",
    "                  - neige : cumul de neige sur 24 h\n",
    "                  - HN : épaisseur du manteau neigeux\n",
    "                  - TM : température moyenne\n",
    "                  - TN : température minimale\n",
    "                  - TX : température maximale\n",
    "            * le fichier d'origine de Météo-France (séquence) :\n",
    "                  - 0 : météo (pluie, TM, TN, TX) avant 1950\n",
    "                  - 1 : météo (pluie, TM, TN, TX) de 1950 à 2022\n",
    "                  - 2 : météo (pluie, TM, TN, TX) après 2022\n",
    "                  - 3 : nivo (neige, HN) avant 1950\n",
    "                  - 4 : nivo (neige, HN) de 1950 à 2022\n",
    "                  - 5 : nivo (neige, HN) après 2022\n",
    "      La fonction fournit un fichier \"fichier_postes\"  (dataframe).\n",
    "      Les données sont exportées si la variable globale export_détail = True.\n",
    "      \"\"\"\n",
    "      # fichier_postes : liste des postes avec leur caractéristiques\n",
    "      fichier_postes = list()\n",
    "      # indice fichier : valeur de 0 à 5 avec 0 pour M1, 1 pour M2, 2 pour M3\n",
    "      #                                       3 pour N1, 4 pour N2, 5 pour N3\n",
    "      liste_url = [ url_M1_département[dept], url_M2_département[dept], url_M3_département[dept],\n",
    "              url_N1_département[dept], url_N2_département[dept], url_N3_département[dept] ]\n",
    "      # boucle pour chaque fichier M1-M3 puis N1-N3\n",
    "      for indice_fichier in tqdm(range(6)):\n",
    "            archive = 'test_'+str(indice_fichier)+'_'+dept\n",
    "            télécharger_fichier( liste_url[indice_fichier], archive, work_verbosity = verbosity) \n",
    "            décompresser_archive(archive, work_verbosity = verbosity)\n",
    "            fichier = os.path.join(répertoire_travail, archive) + '.csv'\n",
    "            données_totales = pd.read_csv(fichier, sep=\";\", encoding= 'utf-8',parse_dates=[\"AAAAMMJJ\"],dtype={\"NUM_POSTE\":str, 'AAAAMMJJ':str})\n",
    "            # recense tous les postes et calcule le nombre d'enregistrements\n",
    "            liste_poste = np.array( données_totales['NUM_POSTE'].value_counts().reset_index().rename(columns={\"index\": \"poste\", 0: \"nb valeurs\"}) )\n",
    "            # ajoute le DataFrame à fichier postes\n",
    "            fichier_postes.append(pd.DataFrame(columns=['poste', 'nom', 'valeurs', 'alt', 'lat', 'lon', \n",
    "                                                  'début','fin', 'pluie', 'TM', 'TN', 'TX', 'HN', 'neige', 'séquence'] ))\n",
    "            # indice pour le poste\n",
    "            for indice_poste in range(len(liste_poste)):\n",
    "                  nombre_valeurs = liste_poste[indice_poste,1]\n",
    "                  numéro_poste   = liste_poste[indice_poste,0]\n",
    "                  première_ligne = données_totales[données_totales['NUM_POSTE'] == numéro_poste ].iloc[0]\n",
    "                  nom_poste = première_ligne['NOM_USUEL'].title()\n",
    "                  latitude  = première_ligne['LAT']\n",
    "                  longitude = première_ligne['LON']\n",
    "                  altitude  = première_ligne['ALTI']\n",
    "                  date_début= première_ligne['AAAAMMJJ'].strftime(\"%Y-%m-%d\")\n",
    "                  dernière_ligne = données_totales[données_totales['NUM_POSTE'] == liste_poste[0,0] ].iloc[-1]\n",
    "                  date_fin = dernière_ligne['AAAAMMJJ'].strftime(\"%Y-%m-%d\")\n",
    "                  # teste si toutes les données sont NaN ou non\n",
    "                  if indice_fichier < 3:\n",
    "                        existe_RR = not np.isnan(np.array(données_totales[données_totales['NUM_POSTE'] == liste_poste[indice_poste,0] ]['RR'])).all()\n",
    "                        existe_TX = not np.isnan(np.array(données_totales[données_totales['NUM_POSTE'] == liste_poste[indice_poste,0] ]['TX'])).all()\n",
    "                        existe_TM = not np.isnan(np.array(données_totales[données_totales['NUM_POSTE'] == liste_poste[indice_poste,0] ]['TM'])).all()\n",
    "                        existe_TN = not np.isnan(np.array(données_totales[données_totales['NUM_POSTE'] == liste_poste[indice_poste,0] ]['TN'])).all()\n",
    "                        existe_HN = False\n",
    "                        existe_C1 = False\n",
    "                  else:\n",
    "                        existe_RR = False\n",
    "                        existe_TX = False\n",
    "                        existe_TM = False\n",
    "                        existe_TN = False\n",
    "                        existe_HN = not np.isnan(np.array(données_totales[données_totales['NUM_POSTE'] == liste_poste[indice_poste,0] ]['NEIGETOTX'])).all()\n",
    "                        existe_C1 = not np.isnan(np.array(données_totales[données_totales['NUM_POSTE'] == liste_poste[indice_poste,0] ]['HNEIGEF'])).all()                  \n",
    "                  dict1 = {'poste':[numéro_poste], 'nom':[nom_poste], 'valeurs':[nombre_valeurs], \n",
    "                          'alt':[altitude], 'lat':[latitude],'lon':[longitude],\n",
    "                          'début':[date_début], 'fin':[date_fin], 'pluie':[existe_RR],\n",
    "                          'TM':[existe_TM],'TN':[existe_TN],'TX':[existe_TX],\n",
    "                          'HN':[existe_HN],'neige':[existe_C1],'séquence': [indice_fichier]} \n",
    "                  ajout     = pd.DataFrame(dict1)\n",
    "                  fichier_postes[indice_fichier] = pd.concat([fichier_postes[indice_fichier],ajout])\n",
    "            \n",
    "      # assemblage\n",
    "      fichier_postes=pd.concat(fichier_postes).sort_values('poste')\n",
    "      # export du détail du département\n",
    "      if export_détail:\n",
    "            fichier_excel   = os.path.join(répertoire_travail, 'liste_détaillée_'+dept+'.xlsx')\n",
    "            onglet_liste = 'liste'\n",
    "            fichier_postes.to_excel(fichier_excel, index=False, sheet_name= onglet_liste)\n",
    "      return fichier_postes\n",
    "\n",
    "######################################\n",
    "# Synthèse des informations brutes   #\n",
    "######################################\n",
    "def synthétiser_information(dept : str):\n",
    "      \"\"\" \n",
    "      fournit une synthèse de l'information pour le département, à savoir :\n",
    "            * le nom, l'altitude, les coordonnées (latitude, longitude)\n",
    "            * les dates de début et de fin des mesures\n",
    "            * quel type de variables a été mesuré :\n",
    "                  - pluie : pluie journalière\n",
    "                  - neige : cumul de neige sur 24 h\n",
    "                  - HN : épaisseur du manteau neigeux\n",
    "                  - TM : température moyenne\n",
    "                  - TN : température minimale\n",
    "                  - TX : température maximale\n",
    "      La fonction fait appel à la fonction extraction_information\n",
    "      La fonction fournit un fichier \"liste_finale\" (dataframe).\n",
    "      Les données sont exportées si la variable globale export_liste = True.\n",
    "      \"\"\"\n",
    "      fichier_postes = extraction_information(dept)\n",
    "      liste_poste = np.array( fichier_postes['poste'].value_counts().reset_index())[:,0]\n",
    "      liste_finale = pd.DataFrame(columns=['poste', 'nom', 'valeurs', 'alt', 'lat', 'lon', \n",
    "                                                  'début','fin', 'pluie', 'neige','HN','TM', 'TN', 'TX' ] )\n",
    "      for poste in liste_poste:\n",
    "            sélection_valeurs = fichier_postes[fichier_postes['poste']==poste]\n",
    "            nombre_valeurs = sélection_valeurs['valeurs'].sum()\n",
    "            numéro_poste   = poste\n",
    "            première_ligne = sélection_valeurs.iloc[0]\n",
    "            nom_poste = première_ligne['nom']\n",
    "            latitude  = première_ligne['lat']\n",
    "            longitude = première_ligne['lon']\n",
    "            altitude  = première_ligne['alt']\n",
    "            date_début= sélection_valeurs['début'].min()\n",
    "            date_fin  = sélection_valeurs['fin'].max()\n",
    "            existe_pluie = sélection_valeurs['pluie'].any()\n",
    "            existe_neige = sélection_valeurs['neige'].any()\n",
    "            existe_HN = sélection_valeurs['HN'].any()\n",
    "            existe_TN = sélection_valeurs['TN'].any()\n",
    "            existe_TM = sélection_valeurs['TM'].any()\n",
    "            existe_TX = sélection_valeurs['TX'].any()\n",
    "            dict1 = {'poste':[numéro_poste], 'nom':[nom_poste], 'valeurs':[nombre_valeurs], \n",
    "                          'alt':[altitude], 'lat':[latitude],'lon':[longitude],\n",
    "                          'début':[date_début], 'fin':[date_fin], 'pluie':[existe_pluie],\n",
    "                          'TM':[existe_TM],'TN':[existe_TN],'TX':[existe_TX],\n",
    "                          'HN':[existe_HN],'neige':[existe_neige]} \n",
    "            ajout     = pd.DataFrame(dict1)\n",
    "            liste_finale = pd.concat([liste_finale, ajout])\n",
    "      liste_finale = liste_finale.sort_values(by=['nom'])\n",
    "      # export de la synthèse du département\n",
    "      if export_liste:\n",
    "            fichier_excel   = os.path.join(répertoire_travail, 'liste_synthétique_'+dept+'.xlsx')\n",
    "            onglet_liste = 'liste-stations'\n",
    "            liste_finale.to_excel(fichier_excel, index=False, sheet_name= onglet_liste)\n",
    "      return liste_finale\n",
    "\n",
    "######################################\n",
    "# Carte des stations                 #\n",
    "######################################\n",
    "def cartographier_postes(liste_p, dept: str):\n",
    "      \"\"\" \n",
    "      Cartographie les postes.\n",
    "      La carte est exportée si la variable globale export_carte = True.\n",
    "      \"\"\"\n",
    "      m_lat=np.mean(np.array(liste_p.lat))\n",
    "      m_lon=np.mean(np.array(liste_p.lon))\n",
    "      aujourdhui = datetime.datetime.now()\n",
    "      title = noms_département[dept]+\" : postes actifs en \" + aujourdhui.strftime(\"%Y\")\n",
    "      fig = px.scatter_mapbox(liste_p, 'lat', lon= 'lon', \n",
    "                        hover_name= \"nom\", hover_data= ['poste','alt', 'début', 'fin'], \n",
    "                        zoom=5, height= 800, width= 900, \n",
    "                        )\n",
    "      fig.update_layout(title_text= title, title_x=0.5  , hoverlabel= dict(bgcolor= 'rgb(255,255,255)'))\n",
    "      fig.update_traces(marker=dict(color='red'))\n",
    "      #===================== Ajoute une couche des départements français à partir d'un fichier GeoJSON\n",
    "      fig.update_layout(mapbox_layers=[\n",
    "            {\n",
    "            \"sourcetype\": \"geojson\",\n",
    "            # \"source\": \"https://france-geojson.gregoiredavid.fr/repo/departements.geojson\",\n",
    "            \"source\": \"https://www.data.gouv.fr/fr/datasets/r/90b9341a-e1f7-4d75-a73c-bbc010c7feeb\", \n",
    "            \"type\": \"line\",\n",
    "            \"color\": \"rgba(0, 0, 0, 0.9)\",\n",
    "            \"line\": {\"width\": 1}\n",
    "            }\n",
    "            ])\n",
    "      fig.update_layout(mapbox_style= \"open-street-map\", mapbox_zoom=8, mapbox_center = {\"lat\": m_lat, \"lon\": m_lon})\n",
    "      fig.show()\n",
    "      if export_carte:\n",
    "            # Export PNG\n",
    "            file_png= os.path.join(répertoire_travail, 'carte_postes_'+dept + '.png')\n",
    "            fig.write_image(file_png, height= 800, width= 900,   scale = 3)\n"
   ]
  },
  {
   "cell_type": "markdown",
   "metadata": {},
   "source": [
    "# Extraction pour la Savoie"
   ]
  },
  {
   "cell_type": "code",
   "execution_count": 65,
   "metadata": {},
   "outputs": [
    {
     "name": "stderr",
     "output_type": "stream",
     "text": [
      "100%|██████████| 6/6 [00:15<00:00,  2.58s/it]\n"
     ]
    },
    {
     "data": {
      "application/vnd.plotly.v1+json": {
       "config": {
        "plotlyServerURL": "https://plot.ly"
       },
       "data": [
        {
         "customdata": [
          [
           73001001,
           400,
           "1941-10-01",
           "2022-12-31"
          ],
          [
           73004001,
           900,
           "1934-06-01",
           "2022-12-31"
          ],
          [
           73008003,
           234,
           "2003-01-01",
           "2022-12-31"
          ],
          [
           73008001,
           365,
           "1947-01-01",
           "2022-12-31"
          ],
          [
           73011002,
           331,
           "1948-01-01",
           "2022-12-31"
          ],
          [
           73297003,
           314,
           "2020-10-30",
           "2024-05-30"
          ],
          [
           73011001,
           348,
           "1948-01-01",
           "2022-12-31"
          ],
          [
           73011004,
           332,
           "1989-08-01",
           "2022-12-31"
          ],
          [
           73013001,
           1540,
           "1992-06-01",
           "2024-05-30"
          ],
          [
           73013002,
           1633,
           "2023-06-01",
           "2024-05-30"
          ],
          [
           73139401,
           1684,
           "2008-10-07",
           "2024-05-30"
          ],
          [
           73017001,
           370,
           "1986-08-01",
           "2022-12-31"
          ],
          [
           73034400,
           1209,
           "1982-12-20",
           "2024-05-30"
          ],
          [
           73034401,
           2000,
           "2024-04-01",
           "2024-05-29"
          ],
          [
           73019001,
           419,
           "1948-01-01",
           "2022-12-31"
          ],
          [
           73021001,
           500,
           "2014-04-01",
           "2022-12-31"
          ],
          [
           73023002,
           2020,
           "1953-01-01",
           "2022-12-31"
          ],
          [
           73023401,
           2166,
           "1996-12-19",
           "2022-12-31"
          ],
          [
           73023001,
           1467,
           "1934-07-01",
           "2024-05-30"
          ],
          [
           73026001,
           1104,
           "1948-10-01",
           "2024-05-30"
          ],
          [
           73026002,
           1100,
           "1969-12-01",
           "2022-12-31"
          ],
          [
           73034001,
           760,
           "1950-01-01",
           "2022-12-31"
          ],
          [
           73034003,
           1580,
           "1963-08-01",
           "2022-12-31"
          ],
          [
           73034004,
           1030,
           "1947-01-11",
           "2022-12-31"
          ],
          [
           73034002,
           1036,
           "1950-05-01",
           "2024-05-30"
          ],
          [
           73071403,
           2992,
           "1982-01-26",
           "2024-05-30"
          ],
          [
           73040400,
           1713,
           "1980-12-15",
           "2024-05-30"
          ],
          [
           73040002,
           2025,
           "1955-08-01",
           "2022-12-31"
          ],
          [
           73040005,
           1731,
           "1951-01-01",
           "2024-05-30"
          ],
          [
           73047401,
           1830,
           "1994-12-26",
           "2024-05-30"
          ],
          [
           73040402,
           2741,
           "1996-01-08",
           "2024-05-30"
          ],
          [
           73047001,
           1830,
           "1948-01-01",
           "2022-12-31"
          ],
          [
           73054003,
           840,
           "1932-03-01",
           "1949-12-31"
          ],
          [
           73054001,
           865,
           "1945-04-01",
           "2024-05-30"
          ],
          [
           73054004,
           1555,
           "1946-01-01",
           "2022-12-31"
          ],
          [
           73052002,
           820,
           "2015-11-16",
           "2024-05-30"
          ],
          [
           73052001,
           890,
           "1934-06-01",
           "2022-12-31"
          ],
          [
           73053001,
           300,
           "1987-02-01",
           "2022-12-31"
          ],
          [
           73055001,
           865,
           "1934-07-01",
           "2024-05-30"
          ],
          [
           73055002,
           860,
           "1934-06-19",
           "2022-12-31"
          ],
          [
           73057001,
           600,
           "1950-06-01",
           "2022-12-31"
          ],
          [
           73057002,
           715,
           "1947-01-01",
           "2022-12-31"
          ],
          [
           73064001,
           298,
           "1946-01-01",
           "2024-05-30"
          ],
          [
           73064002,
           307,
           "1987-01-01",
           "2022-12-31"
          ],
          [
           73065005,
           256,
           "1978-05-01",
           "2022-12-31"
          ],
          [
           73065004,
           300,
           "1948-01-01",
           "2022-12-31"
          ],
          [
           73065003,
           286,
           "1871-12-01",
           "1949-12-31"
          ],
          [
           73065001,
           272,
           "1959-01-01",
           "2022-12-31"
          ],
          [
           73329001,
           235,
           "1973-07-01",
           "2024-05-30"
          ],
          [
           73071001,
           1460,
           "1950-04-01",
           "2022-12-31"
          ],
          [
           73079001,
           320,
           "1959-01-01",
           "2022-12-31"
          ],
          [
           73085001,
           340,
           "1982-01-01",
           "2022-12-31"
          ],
          [
           73132403,
           1633,
           "1998-12-17",
           "2022-12-31"
          ],
          [
           73132003,
           1614,
           "1988-01-20",
           "2024-05-30"
          ],
          [
           73227400,
           1780,
           "1970-12-17",
           "2024-05-30"
          ],
          [
           73106001,
           732,
           "1934-06-01",
           "2022-12-31"
          ],
          [
           73106002,
           830,
           "1948-01-01",
           "2022-12-31"
          ],
          [
           73107001,
           1059,
           "2023-04-18",
           "2024-05-30"
          ],
          [
           73098003,
           1328,
           "1993-01-01",
           "2024-05-30"
          ],
          [
           73117002,
           2060,
           "1950-04-01",
           "2022-12-31"
          ],
          [
           73117001,
           1910,
           "1959-09-01",
           "2022-12-31"
          ],
          [
           73157004,
           1228,
           "1994-11-01",
           "2022-12-31"
          ],
          [
           73124001,
           330,
           "1982-01-01",
           "2022-12-31"
          ],
          [
           73093001,
           2260,
           "2011-10-10",
           "2024-05-30"
          ],
          [
           73129001,
           354,
           "1950-01-01",
           "2022-12-31"
          ],
          [
           73132001,
           1215,
           "1947-01-01",
           "2024-05-30"
          ],
          [
           73132002,
           1750,
           "1952-03-01",
           "2022-12-31"
          ],
          [
           73138002,
           1200,
           "2009-08-01",
           "2022-12-31"
          ],
          [
           73138001,
           1080,
           "1934-06-01",
           "2022-12-31"
          ],
          [
           73139001,
           832,
           "2016-12-21",
           "2024-05-30"
          ],
          [
           73082001,
           318,
           "1959-01-01",
           "2022-12-31"
          ],
          [
           73098002,
           1350,
           "1991-12-01",
           "2022-12-31"
          ],
          [
           73123402,
           1217,
           "2009-12-20",
           "2024-05-30"
          ],
          [
           73187002,
           1340,
           "1958-08-01",
           "2022-12-31"
          ],
          [
           73187001,
           650,
           "1950-07-01",
           "2022-12-31"
          ],
          [
           73187004,
           1280,
           "1969-08-01",
           "2022-12-31"
          ],
          [
           73187006,
           1195,
           "2007-05-01",
           "2024-05-30"
          ],
          [
           73257003,
           2800,
           "1992-01-01",
           "2024-05-30"
          ],
          [
           73179001,
           310,
           "1959-03-01",
           "2022-12-31"
          ],
          [
           73179002,
           350,
           "1982-01-01",
           "2022-12-31"
          ],
          [
           73322401,
           1958,
           "1998-12-29",
           "2024-05-30"
          ],
          [
           73322001,
           1985,
           "2017-10-18",
           "2024-05-30"
          ],
          [
           73150400,
           1980,
           "1970-12-17",
           "2024-05-30"
          ],
          [
           73071402,
           3000,
           "1987-12-21",
           "2022-12-31"
          ],
          [
           73150004,
           2120,
           "2017-08-16",
           "2024-05-30"
          ],
          [
           73215001,
           350,
           "1934-06-01",
           "2022-12-31"
          ],
          [
           73176400,
           1867,
           "1983-12-18",
           "2024-05-30"
          ],
          [
           73294001,
           1930,
           "1960-01-02",
           "2022-12-31"
          ],
          [
           73116001,
           1766,
           "2014-01-01",
           "2022-12-31"
          ],
          [
           73191005,
           375,
           "2004-03-01",
           "2022-12-31"
          ],
          [
           73143010,
           1925,
           "1957-06-01",
           "2022-12-31"
          ],
          [
           73143004,
           1400,
           "1950-07-01",
           "2022-12-31"
          ],
          [
           73143003,
           2000,
           "1970-10-01",
           "2022-12-31"
          ],
          [
           73143001,
           2100,
           "1967-11-01",
           "2022-12-31"
          ],
          [
           73143002,
           1720,
           "1952-03-01",
           "2022-12-31"
          ],
          [
           73143011,
           1200,
           "1952-03-01",
           "2022-12-31"
          ],
          [
           73143006,
           1400,
           "1932-03-01",
           "1949-12-31"
          ],
          [
           73296406,
           2559,
           "1996-11-07",
           "2024-05-30"
          ],
          [
           73318400,
           1585,
           "1987-02-23",
           "2024-05-30"
          ],
          [
           73318401,
           2198,
           "2005-04-19",
           "2022-12-31"
          ],
          [
           73304402,
           2310,
           "1988-01-13",
           "2022-12-31"
          ],
          [
           73004400,
           1400,
           "1984-01-05",
           "2024-05-30"
          ],
          [
           73054401,
           2040,
           "1981-12-19",
           "2024-05-30"
          ],
          [
           73024001,
           1100,
           "1967-12-01",
           "2022-12-31"
          ],
          [
           73098001,
           1030,
           "1947-01-01",
           "2022-12-31"
          ],
          [
           73173400,
           1603,
           "1975-12-26",
           "2024-05-30"
          ],
          [
           73257400,
           1800,
           "1971-12-06",
           "2024-05-30"
          ],
          [
           73306401,
           2444,
           "1982-02-02",
           "2024-05-30"
          ],
          [
           73132400,
           1636,
           "1993-01-01",
           "2024-05-30"
          ],
          [
           73146001,
           591,
           "1940-09-01",
           "2024-05-30"
          ],
          [
           73015001,
           2040,
           "1992-01-19",
           "2022-12-31"
          ],
          [
           73015400,
           1700,
           "1983-12-26",
           "2024-05-30"
          ],
          [
           73157002,
           1228,
           "1985-09-01",
           "2022-12-31"
          ],
          [
           73158001,
           340,
           "1984-07-01",
           "2022-12-31"
          ],
          [
           73144001,
           2032,
           "1992-01-09",
           "2024-05-30"
          ],
          [
           73051001,
           1496,
           "2005-08-03",
           "2024-05-30"
          ],
          [
           73164001,
           770,
           "1988-01-01",
           "2022-12-31"
          ],
          [
           73167001,
           1057,
           "1934-05-19",
           "2024-05-30"
          ],
          [
           73171002,
           264,
           "2003-12-24",
           "2024-05-30"
          ],
          [
           73173001,
           620,
           "1959-01-01",
           "2022-12-31"
          ],
          [
           73175001,
           960,
           "1934-07-01",
           "2022-12-31"
          ],
          [
           73181001,
           480,
           "1934-06-01",
           "2024-05-30"
          ],
          [
           73191001,
           460,
           "1956-07-01",
           "2024-05-30"
          ],
          [
           73191002,
           530,
           "1950-07-01",
           "2022-12-31"
          ],
          [
           73191800,
           435,
           "2018-10-11",
           "2022-12-31"
          ],
          [
           73194401,
           2356,
           "1998-12-05",
           "2024-05-30"
          ],
          [
           73194002,
           2120,
           "1950-05-01",
           "2022-12-31"
          ],
          [
           73194001,
           830,
           "1953-01-01",
           "2022-12-31"
          ],
          [
           73197001,
           1350,
           "1950-06-01",
           "2024-05-30"
          ],
          [
           73203001,
           1420,
           "1950-01-01",
           "2022-12-31"
          ],
          [
           73206400,
           1416,
           "1970-12-17",
           "2024-05-30"
          ],
          [
           73206001,
           1420,
           "1934-06-01",
           "2024-05-30"
          ],
          [
           73219001,
           375,
           "1950-08-01",
           "2022-12-31"
          ],
          [
           73221002,
           853,
           "1945-01-01",
           "2022-12-31"
          ],
          [
           73227001,
           1550,
           "1951-03-01",
           "2022-12-31"
          ],
          [
           73227002,
           1600,
           "1956-07-27",
           "2022-12-31"
          ],
          [
           73244002,
           930,
           "1955-01-01",
           "2022-12-31"
          ],
          [
           73245001,
           332,
           "1952-10-01",
           "2022-12-31"
          ],
          [
           73248001,
           570,
           "1949-01-01",
           "2022-12-31"
          ],
          [
           73253001,
           510,
           "1952-01-01",
           "2022-12-31"
          ],
          [
           73263001,
           600,
           "1934-05-12",
           "2022-12-31"
          ],
          [
           73268001,
           400,
           "1952-02-01",
           "2022-12-31"
          ],
          [
           73270001,
           410,
           "1935-01-01",
           "2022-12-31"
          ],
          [
           73282001,
           525,
           "1948-01-01",
           "2022-12-31"
          ],
          [
           73221001,
           1100,
           "1948-01-01",
           "2022-12-31"
          ],
          [
           73230002,
           1085,
           "1984-11-01",
           "2022-12-31"
          ],
          [
           73235400,
           1595,
           "1988-01-12",
           "2024-05-30"
          ],
          [
           73242001,
           1285,
           "1949-01-01",
           "2022-12-31"
          ],
          [
           73242003,
           1573,
           "2016-12-09",
           "2024-05-30"
          ],
          [
           73248003,
           610,
           "1990-03-04",
           "2022-12-31"
          ],
          [
           73261003,
           698,
           "1997-04-01",
           "2024-05-30"
          ],
          [
           73280402,
           2090,
           "2017-01-11",
           "2024-05-30"
          ],
          [
           73220001,
           610,
           "1934-09-01",
           "2024-05-30"
          ],
          [
           73228002,
           550,
           "1998-06-01",
           "2022-12-31"
          ],
          [
           73228001,
           700,
           "1986-08-01",
           "2022-12-31"
          ],
          [
           73229001,
           420,
           "1984-11-01",
           "2024-05-30"
          ],
          [
           73244001,
           1150,
           "1934-07-01",
           "2024-05-30"
          ],
          [
           73248002,
           550,
           "1983-11-01",
           "2022-12-31"
          ],
          [
           73257004,
           1560,
           "2014-09-01",
           "2022-12-31"
          ],
          [
           73257001,
           1443,
           "1952-09-01",
           "2024-05-30"
          ],
          [
           73258001,
           763,
           "1934-06-01",
           "2024-05-30"
          ],
          [
           73261001,
           1345,
           "1934-06-01",
           "2024-05-30"
          ],
          [
           73276001,
           351,
           "1982-01-01",
           "2022-12-31"
          ],
          [
           73280001,
           1694,
           "1953-01-01",
           "2024-05-30"
          ],
          [
           73232400,
           1524,
           "2004-12-19",
           "2024-05-30"
          ],
          [
           73255003,
           460,
           "1997-07-17",
           "2024-05-30"
          ],
          [
           73232001,
           1230,
           "1934-08-01",
           "2024-05-30"
          ],
          [
           73290002,
           1280,
           "1934-06-01",
           "2024-05-30"
          ],
          [
           73296400,
           2080,
           "1970-12-17",
           "2024-05-30"
          ],
          [
           73296004,
           1830,
           "1955-01-01",
           "2022-12-31"
          ],
          [
           73296003,
           2090,
           "1958-01-01",
           "2022-12-31"
          ],
          [
           73296001,
           1730,
           "1952-01-01",
           "2022-12-31"
          ],
          [
           73296002,
           1570,
           "1951-01-01",
           "2022-12-31"
          ],
          [
           73296005,
           2084,
           "1990-01-01",
           "2024-05-30"
          ],
          [
           73301001,
           730,
           "1989-04-01",
           "2022-12-31"
          ],
          [
           73303005,
           539,
           "1997-01-01",
           "2024-05-30"
          ],
          [
           73303001,
           425,
           "1953-01-01",
           "2022-12-31"
          ],
          [
           73303003,
           460,
           "1934-06-01",
           "1949-12-31"
          ],
          [
           73303002,
           500,
           "1944-11-01",
           "2022-12-31"
          ],
          [
           73303004,
           425,
           "1988-01-01",
           "2022-12-31"
          ],
          [
           73144404,
           2101,
           "1994-12-23",
           "2024-05-30"
          ],
          [
           73304004,
           1850,
           "1984-08-01",
           "2022-12-31"
          ],
          [
           73304404,
           1854,
           "1971-12-01",
           "2024-05-30"
          ],
          [
           73304005,
           1850,
           "1991-06-05",
           "2024-05-30"
          ],
          [
           73157400,
           2208,
           "1983-12-14",
           "2024-05-30"
          ],
          [
           73257405,
           2283,
           "2003-11-24",
           "2024-05-30"
          ],
          [
           73257005,
           2277,
           "2017-10-05",
           "2024-05-30"
          ],
          [
           73304003,
           1840,
           "1956-01-01",
           "2022-12-31"
          ],
          [
           73304002,
           1945,
           "1952-01-01",
           "2022-12-31"
          ],
          [
           73304001,
           1850,
           "1952-01-01",
           "2022-12-31"
          ],
          [
           73306403,
           2295,
           "2003-01-10",
           "2024-05-30"
          ],
          [
           73306002,
           1296,
           "1949-01-01",
           "2022-12-31"
          ],
          [
           73306005,
           1460,
           "1991-07-01",
           "2024-05-30"
          ],
          [
           73306001,
           1500,
           "1967-12-01",
           "2022-12-31"
          ],
          [
           73306003,
           1430,
           "1973-12-01",
           "2022-12-31"
          ],
          [
           73307400,
           1788,
           "1983-12-13",
           "2024-05-30"
          ],
          [
           73307001,
           1470,
           "1934-05-26",
           "2022-12-31"
          ],
          [
           73024400,
           1333,
           "1985-12-24",
           "2024-05-30"
          ],
          [
           73312001,
           530,
           "1959-02-01",
           "2022-12-31"
          ],
          [
           73326001,
           515,
           "1986-08-01",
           "2022-12-31"
          ],
          [
           73330001,
           230,
           "1935-01-01",
           "2022-12-31"
          ]
         ],
         "hovertemplate": "<b>%{hovertext}</b><br><br>lat=%{lat}<br>lon=%{lon}<br>poste=%{customdata[0]}<br>alt=%{customdata[1]}<br>début=%{customdata[2]}<br>fin=%{customdata[3]}<extra></extra>",
         "hovertext": [
          "Aiguebelette",
          "Aillon Le Jeune",
          "Aix Les Bains",
          "Aix-Les-Bains",
          "Albertville",
          "Albertville",
          "Albertville",
          "Albertville Jo",
          "Albiez",
          "Albiez-Montrond",
          "Allant-Nivose",
          "Apremont",
          "Areches",
          "Areches -S-",
          "Argentine Presbytere",
          "Arvillard",
          "Aussois",
          "Aussois",
          "Aussois-Clim",
          "Avrieux",
          "Avrieux Enregistreur Edf",
          "Beaufort",
          "Beaufort Roslan",
          "Beaufort-Fontan",
          "Beaufort-Sur-Doron",
          "Bellecote-Nivose",
          "Bessans",
          "Bessans Averole",
          "Bessans-Clim",
          "Bonneval Sur Arc",
          "Bonneval-Nivose",
          "Bonneval-Sur-Arc Tralenta",
          "Bourg St Mauric",
          "Bourg St Maurice",
          "Bourg-Saint-Maurice-Chalpieux",
          "Bourget En Huile_Sapc",
          "Bourget-En-Huile",
          "Bourgneuf",
          "Bozel",
          "Bozel Pierre Becqua",
          "Brides Les Bain",
          "Brides-Les-Bains Prise D'Eau",
          "Challes Les Eaux",
          "Challes Teppes",
          "Chambery",
          "Chambery Chateau De Biollay",
          "Chambery Hopital Militaire",
          "Chambery Joppet",
          "Chambery-Aix",
          "Champagny-En-Vanoise",
          "Chateauneuf L'Eglise",
          "Chindrieux",
          "Col Des Saisies",
          "Col-Des-Saisies",
          "Courchevel",
          "Ecole",
          "Ecole Bellevaux",
          "Entremont Le Vieux_Sapc",
          "Feclaz_Sapc",
          "Fourneaux Fontaine Froide",
          "Fourneaux Le Lavoir",
          "Frejus",
          "Gilly Sur Isere",
          "Grande Parei Nivose",
          "Gresy-Sur-Isere",
          "Hauteluce",
          "Hauteluce La Girotte",
          "Jarrier",
          "Jarrier Presbytere",
          "Jarsy_Sapc",
          "La Chavanne",
          "La Feclaz",
          "La Giettaz",
          "La Lechere",
          "La Lechere - Nd De Briancon",
          "La Lechere Celliers - Bourg",
          "La Lechere_Sapc",
          "La Masse",
          "La Motte Servol",
          "La Motte Servolex Noiray",
          "La Norma",
          "La Norma_Sapc",
          "La Plagne",
          "La Plagne Glacier -S-",
          "La Plagne_Sapc",
          "La Rochette",
          "La Rosiere",
          "La Thuile Saint-Bernard",
          "La Toussuire",
          "Lac Aiguebelette",
          "Lanslebourg Anc",
          "Lanslebourg Bou",
          "Lanslebourg Mt",
          "Lanslebourg Nv",
          "Lanslebourg-Mont-Cenis",
          "Lanslebourg-Mont-Cenis-Barrage",
          "Lanslebourg-Mont-Cenis-Fort",
          "Le Chevril-Nivose",
          "Le Corbier",
          "Le Corbier -S-",
          "Le Molard",
          "Les Aillons (Margeriaz)",
          "Les Arcs",
          "Les Avanchers-Valmorel",
          "Les Deserts",
          "Les Karellis",
          "Les Menuires",
          "Les Rochilles-Nivose",
          "Les Saisies",
          "Lescheraines",
          "Meribel Burgin",
          "Meribel Mottaret",
          "Modane",
          "Mognard",
          "Mont Cenis",
          "Mont Du Chat",
          "Montcel Faubour",
          "Montgellafrey",
          "Montmelian",
          "Montricher-Albanne",
          "Montsapey",
          "Moutiers",
          "Novalaise",
          "Novalaise Aux Champs",
          "Novalaise_Double",
          "Orelle",
          "Orelle Bissorte",
          "Orelle Premont",
          "Peisey Nancroix",
          "Pontamafrey",
          "Pralognan",
          "Pralognan La Vanoise",
          "Saint-Alban-De-Montbel",
          "Saint-Alban-Des-Villards",
          "Saint-Bon-Tarentaise",
          "Saint-Bon-Tarentaise Moriond",
          "Saint-Jean-De-Belleville",
          "Saint-Jean-De-Chevelu Chevelu",
          "Saint-Jean-De-Maurienne",
          "Saint-Marcel Pomblieres",
          "Saint-Offenge-Dessous",
          "Saint-Paul-Sur-Isere",
          "Saint-Pierre-D'Albigny",
          "Saint-Thibaud-De-Couz",
          "St Alban Des Vi",
          "St Colomban Des Villards",
          "St Francois Long",
          "St Jean D Arves",
          "St Jean D'Arves_Sapc",
          "St Jean De Maur",
          "St Michel Maur_Sapc",
          "St Sorlin D'Arves",
          "St-Alban Des Hurtieres",
          "St-Cassin",
          "St-Cassin-Chantres",
          "St-Christophe La-Grotte",
          "St-Jean De Belleville",
          "St-Jean De Maurienne",
          "St-Martin Belleville",
          "St-Martin De Belleville",
          "St-Martin De La Porte",
          "St-Michel De Maurienne Le Thyl",
          "St-Pierre De Soucy",
          "St-Sorlin D'Arves",
          "Ste Foy Station",
          "Ste Marie Cuines",
          "Ste-Foy-Tarentaise",
          "Termignon-Clim",
          "Tignes",
          "Tignes Le Chevril",
          "Tignes Le Lac",
          "Tignes Le Villaret",
          "Tignes-Brevieres",
          "Tignes_Sapc",
          "Trevignin",
          "Ugine",
          "Ugine",
          "Ugine Eaux-Et-Forets",
          "Ugine La Montagnette",
          "Ugine-Maison-Forestiere",
          "Val Cenis (La Berche)",
          "Val D Isere",
          "Val D Isere Joseray",
          "Val D'Isere Jos",
          "Val Frejus",
          "Val Thorens",
          "Val Thorens_Sapc",
          "Val-D'Isere Garage",
          "Val-D'Isere Le Fornet",
          "Val-D'Isere Presbytere",
          "Valloire",
          "Valloire Barrage Du Ley",
          "Valloire Forest",
          "Valloire Les Granges",
          "Valloire-Chef-Lieu",
          "Valmeinier",
          "Valmeinier Le Meleze",
          "Valmorel",
          "Verrens Arvey",
          "Vimines",
          "Yenne"
         ],
         "lat": [
          45.551667,
          45.617833,
          45.700333,
          45.693333,
          45.662167,
          45.627833,
          45.673333,
          45.662333,
          45.2155,
          45.210667,
          45.663833,
          45.515667,
          45.671333,
          45.651333,
          45.493333,
          45.44,
          45.24,
          45.247667,
          45.229833,
          45.214,
          45.215,
          45.716667,
          45.683333,
          45.703333,
          45.691,
          45.489,
          45.320667,
          45.32,
          45.322833,
          45.373667,
          45.351667,
          45.37,
          45.618333,
          45.612667,
          45.613333,
          45.486667,
          45.489667,
          45.5545,
          45.44,
          45.443333,
          45.453667,
          45.451667,
          45.565167,
          45.548167,
          45.5805,
          45.57,
          45.57,
          45.57,
          45.641333,
          45.453333,
          45.548333,
          45.832167,
          45.76,
          45.755,
          45.413333,
          45.650333,
          45.65,
          45.444167,
          45.647167,
          45.186667,
          45.186667,
          45.193667,
          45.653167,
          45.614667,
          45.6,
          45.772333,
          45.75,
          45.279333,
          45.278333,
          45.658833,
          45.494667,
          45.643,
          45.878333,
          45.556667,
          45.53,
          45.471667,
          45.549167,
          45.297333,
          45.595,
          45.609333,
          45.1885,
          45.190667,
          45.506833,
          45.488667,
          45.500333,
          45.452167,
          45.629833,
          45.531667,
          45.255667,
          45.564833,
          45.286667,
          45.286667,
          45.2235,
          45.286667,
          45.286667,
          45.286667,
          45.286667,
          45.499667,
          45.243333,
          45.237,
          45.441833,
          45.642167,
          45.573333,
          45.478333,
          45.625,
          45.227667,
          45.323333,
          45.085,
          45.758333,
          45.715167,
          45.3875,
          45.371667,
          45.193667,
          45.762,
          45.269333,
          45.6605,
          45.711667,
          45.393,
          45.493833,
          45.246667,
          45.5225,
          45.484667,
          45.597333,
          45.595,
          45.595667,
          45.247833,
          45.21,
          45.21,
          45.544,
          45.335,
          45.381667,
          45.386,
          45.551667,
          45.308333,
          45.435,
          45.435,
          45.426667,
          45.7,
          45.275,
          45.511667,
          45.735,
          45.596667,
          45.568333,
          45.501667,
          45.305,
          45.293,
          45.417833,
          45.190167,
          45.206833,
          45.266667,
          45.218167,
          45.217167,
          45.477167,
          45.532667,
          45.516667,
          45.452833,
          45.427667,
          45.282167,
          45.361667,
          45.368167,
          45.238833,
          45.223667,
          45.482333,
          45.224,
          45.577833,
          45.3435,
          45.601833,
          45.274833,
          45.468333,
          45.468333,
          45.468333,
          45.468333,
          45.507833,
          45.467,
          45.706833,
          45.759167,
          45.75,
          45.751667,
          45.751667,
          45.753333,
          45.274167,
          45.444833,
          45.445,
          45.444833,
          45.155833,
          45.2945,
          45.294,
          45.446667,
          45.446667,
          45.446667,
          45.160833,
          45.165,
          45.173,
          45.165,
          45.166667,
          45.176,
          45.185,
          45.461833,
          45.658667,
          45.5455,
          45.701
         ],
         "legendgroup": "",
         "lon": [
          5.813333,
          6.080167,
          5.889667,
          5.908333,
          6.371833,
          6.327667,
          6.385,
          6.371833,
          6.341,
          6.336333,
          6.211833,
          5.951833,
          6.5405,
          6.5265,
          6.313333,
          6.117333,
          6.738333,
          6.732667,
          6.744333,
          6.716833,
          6.721667,
          6.541667,
          6.616667,
          6.621667,
          6.568667,
          6.771167,
          6.995333,
          6.991667,
          7.002333,
          7.057167,
          7.051167,
          7.043333,
          6.768333,
          6.763333,
          6.765,
          6.207667,
          6.205667,
          6.2335,
          6.6495,
          6.648333,
          6.571667,
          6.563333,
          5.970333,
          5.973333,
          5.902833,
          5.918333,
          5.918333,
          5.918333,
          5.878,
          6.691667,
          6.171667,
          5.847333,
          6.53,
          6.535333,
          6.632167,
          6.17,
          6.166667,
          5.9005,
          5.983667,
          6.65,
          6.65,
          6.674167,
          6.3435,
          6.6475,
          6.253333,
          6.638833,
          6.585,
          6.3085,
          6.313333,
          6.176833,
          6.074667,
          5.985667,
          6.525833,
          6.511667,
          6.471667,
          6.413333,
          6.501,
          6.508333,
          5.860333,
          5.853667,
          6.698833,
          6.7035,
          6.678667,
          6.771833,
          6.675167,
          6.112333,
          6.848333,
          6.055,
          6.252,
          5.795833,
          6.875,
          6.875,
          6.944667,
          6.875,
          6.875,
          6.875,
          6.875,
          6.955333,
          6.266667,
          6.242833,
          7.016167,
          6.061167,
          6.826667,
          6.455,
          6.005,
          6.404,
          6.541667,
          6.469,
          6.528833,
          6.108333,
          6.5895,
          6.583333,
          6.674167,
          5.957167,
          6.899167,
          5.8215,
          5.986667,
          6.321,
          6.049167,
          6.401667,
          6.336833,
          6.534167,
          5.776833,
          5.771667,
          5.773,
          6.571,
          6.533333,
          6.533333,
          6.7565,
          6.348333,
          6.72,
          6.716667,
          5.783333,
          6.246667,
          6.636667,
          6.636667,
          6.483333,
          5.828333,
          6.346667,
          6.566667,
          6.001667,
          6.436667,
          6.151667,
          5.845,
          6.245,
          6.231167,
          6.3635,
          6.284333,
          6.278833,
          6.333333,
          6.4645,
          6.2025,
          6.271333,
          5.8865,
          5.883333,
          5.777333,
          6.482833,
          6.354333,
          6.521667,
          6.5105,
          6.446167,
          6.490833,
          6.0935,
          6.216333,
          6.895167,
          6.307167,
          6.886833,
          6.8145,
          6.908333,
          6.908333,
          6.908333,
          6.908333,
          6.920667,
          6.907167,
          5.977333,
          6.421,
          6.418333,
          6.416667,
          6.416667,
          6.403333,
          6.922333,
          6.978167,
          6.978167,
          6.978167,
          6.664833,
          6.5825,
          6.581,
          6.978333,
          6.978333,
          6.978333,
          6.4635,
          6.425,
          6.433167,
          6.425,
          6.426667,
          6.493833,
          6.481667,
          6.445167,
          6.3165,
          5.851667,
          5.755
         ],
         "marker": {
          "color": "red"
         },
         "mode": "markers",
         "name": "",
         "showlegend": false,
         "subplot": "mapbox",
         "type": "scattermapbox"
        }
       ],
       "layout": {
        "height": 800,
        "hoverlabel": {
         "bgcolor": "rgb(255,255,255)"
        },
        "legend": {
         "tracegroupgap": 0
        },
        "mapbox": {
         "center": {
          "lat": 45.46030515920397,
          "lon": 6.432893850746269
         },
         "domain": {
          "x": [
           0,
           1
          ],
          "y": [
           0,
           1
          ]
         },
         "layers": [
          {
           "color": "rgba(0, 0, 0, 0.9)",
           "line": {
            "width": 1
           },
           "source": "https://www.data.gouv.fr/fr/datasets/r/90b9341a-e1f7-4d75-a73c-bbc010c7feeb",
           "sourcetype": "geojson",
           "type": "line"
          }
         ],
         "style": "open-street-map",
         "zoom": 8
        },
        "margin": {
         "t": 60
        },
        "template": {
         "data": {
          "bar": [
           {
            "error_x": {
             "color": "#2a3f5f"
            },
            "error_y": {
             "color": "#2a3f5f"
            },
            "marker": {
             "line": {
              "color": "#E5ECF6",
              "width": 0.5
             },
             "pattern": {
              "fillmode": "overlay",
              "size": 10,
              "solidity": 0.2
             }
            },
            "type": "bar"
           }
          ],
          "barpolar": [
           {
            "marker": {
             "line": {
              "color": "#E5ECF6",
              "width": 0.5
             },
             "pattern": {
              "fillmode": "overlay",
              "size": 10,
              "solidity": 0.2
             }
            },
            "type": "barpolar"
           }
          ],
          "carpet": [
           {
            "aaxis": {
             "endlinecolor": "#2a3f5f",
             "gridcolor": "white",
             "linecolor": "white",
             "minorgridcolor": "white",
             "startlinecolor": "#2a3f5f"
            },
            "baxis": {
             "endlinecolor": "#2a3f5f",
             "gridcolor": "white",
             "linecolor": "white",
             "minorgridcolor": "white",
             "startlinecolor": "#2a3f5f"
            },
            "type": "carpet"
           }
          ],
          "choropleth": [
           {
            "colorbar": {
             "outlinewidth": 0,
             "ticks": ""
            },
            "type": "choropleth"
           }
          ],
          "contour": [
           {
            "colorbar": {
             "outlinewidth": 0,
             "ticks": ""
            },
            "colorscale": [
             [
              0,
              "#0d0887"
             ],
             [
              0.1111111111111111,
              "#46039f"
             ],
             [
              0.2222222222222222,
              "#7201a8"
             ],
             [
              0.3333333333333333,
              "#9c179e"
             ],
             [
              0.4444444444444444,
              "#bd3786"
             ],
             [
              0.5555555555555556,
              "#d8576b"
             ],
             [
              0.6666666666666666,
              "#ed7953"
             ],
             [
              0.7777777777777778,
              "#fb9f3a"
             ],
             [
              0.8888888888888888,
              "#fdca26"
             ],
             [
              1,
              "#f0f921"
             ]
            ],
            "type": "contour"
           }
          ],
          "contourcarpet": [
           {
            "colorbar": {
             "outlinewidth": 0,
             "ticks": ""
            },
            "type": "contourcarpet"
           }
          ],
          "heatmap": [
           {
            "colorbar": {
             "outlinewidth": 0,
             "ticks": ""
            },
            "colorscale": [
             [
              0,
              "#0d0887"
             ],
             [
              0.1111111111111111,
              "#46039f"
             ],
             [
              0.2222222222222222,
              "#7201a8"
             ],
             [
              0.3333333333333333,
              "#9c179e"
             ],
             [
              0.4444444444444444,
              "#bd3786"
             ],
             [
              0.5555555555555556,
              "#d8576b"
             ],
             [
              0.6666666666666666,
              "#ed7953"
             ],
             [
              0.7777777777777778,
              "#fb9f3a"
             ],
             [
              0.8888888888888888,
              "#fdca26"
             ],
             [
              1,
              "#f0f921"
             ]
            ],
            "type": "heatmap"
           }
          ],
          "heatmapgl": [
           {
            "colorbar": {
             "outlinewidth": 0,
             "ticks": ""
            },
            "colorscale": [
             [
              0,
              "#0d0887"
             ],
             [
              0.1111111111111111,
              "#46039f"
             ],
             [
              0.2222222222222222,
              "#7201a8"
             ],
             [
              0.3333333333333333,
              "#9c179e"
             ],
             [
              0.4444444444444444,
              "#bd3786"
             ],
             [
              0.5555555555555556,
              "#d8576b"
             ],
             [
              0.6666666666666666,
              "#ed7953"
             ],
             [
              0.7777777777777778,
              "#fb9f3a"
             ],
             [
              0.8888888888888888,
              "#fdca26"
             ],
             [
              1,
              "#f0f921"
             ]
            ],
            "type": "heatmapgl"
           }
          ],
          "histogram": [
           {
            "marker": {
             "pattern": {
              "fillmode": "overlay",
              "size": 10,
              "solidity": 0.2
             }
            },
            "type": "histogram"
           }
          ],
          "histogram2d": [
           {
            "colorbar": {
             "outlinewidth": 0,
             "ticks": ""
            },
            "colorscale": [
             [
              0,
              "#0d0887"
             ],
             [
              0.1111111111111111,
              "#46039f"
             ],
             [
              0.2222222222222222,
              "#7201a8"
             ],
             [
              0.3333333333333333,
              "#9c179e"
             ],
             [
              0.4444444444444444,
              "#bd3786"
             ],
             [
              0.5555555555555556,
              "#d8576b"
             ],
             [
              0.6666666666666666,
              "#ed7953"
             ],
             [
              0.7777777777777778,
              "#fb9f3a"
             ],
             [
              0.8888888888888888,
              "#fdca26"
             ],
             [
              1,
              "#f0f921"
             ]
            ],
            "type": "histogram2d"
           }
          ],
          "histogram2dcontour": [
           {
            "colorbar": {
             "outlinewidth": 0,
             "ticks": ""
            },
            "colorscale": [
             [
              0,
              "#0d0887"
             ],
             [
              0.1111111111111111,
              "#46039f"
             ],
             [
              0.2222222222222222,
              "#7201a8"
             ],
             [
              0.3333333333333333,
              "#9c179e"
             ],
             [
              0.4444444444444444,
              "#bd3786"
             ],
             [
              0.5555555555555556,
              "#d8576b"
             ],
             [
              0.6666666666666666,
              "#ed7953"
             ],
             [
              0.7777777777777778,
              "#fb9f3a"
             ],
             [
              0.8888888888888888,
              "#fdca26"
             ],
             [
              1,
              "#f0f921"
             ]
            ],
            "type": "histogram2dcontour"
           }
          ],
          "mesh3d": [
           {
            "colorbar": {
             "outlinewidth": 0,
             "ticks": ""
            },
            "type": "mesh3d"
           }
          ],
          "parcoords": [
           {
            "line": {
             "colorbar": {
              "outlinewidth": 0,
              "ticks": ""
             }
            },
            "type": "parcoords"
           }
          ],
          "pie": [
           {
            "automargin": true,
            "type": "pie"
           }
          ],
          "scatter": [
           {
            "fillpattern": {
             "fillmode": "overlay",
             "size": 10,
             "solidity": 0.2
            },
            "type": "scatter"
           }
          ],
          "scatter3d": [
           {
            "line": {
             "colorbar": {
              "outlinewidth": 0,
              "ticks": ""
             }
            },
            "marker": {
             "colorbar": {
              "outlinewidth": 0,
              "ticks": ""
             }
            },
            "type": "scatter3d"
           }
          ],
          "scattercarpet": [
           {
            "marker": {
             "colorbar": {
              "outlinewidth": 0,
              "ticks": ""
             }
            },
            "type": "scattercarpet"
           }
          ],
          "scattergeo": [
           {
            "marker": {
             "colorbar": {
              "outlinewidth": 0,
              "ticks": ""
             }
            },
            "type": "scattergeo"
           }
          ],
          "scattergl": [
           {
            "marker": {
             "colorbar": {
              "outlinewidth": 0,
              "ticks": ""
             }
            },
            "type": "scattergl"
           }
          ],
          "scattermapbox": [
           {
            "marker": {
             "colorbar": {
              "outlinewidth": 0,
              "ticks": ""
             }
            },
            "type": "scattermapbox"
           }
          ],
          "scatterpolar": [
           {
            "marker": {
             "colorbar": {
              "outlinewidth": 0,
              "ticks": ""
             }
            },
            "type": "scatterpolar"
           }
          ],
          "scatterpolargl": [
           {
            "marker": {
             "colorbar": {
              "outlinewidth": 0,
              "ticks": ""
             }
            },
            "type": "scatterpolargl"
           }
          ],
          "scatterternary": [
           {
            "marker": {
             "colorbar": {
              "outlinewidth": 0,
              "ticks": ""
             }
            },
            "type": "scatterternary"
           }
          ],
          "surface": [
           {
            "colorbar": {
             "outlinewidth": 0,
             "ticks": ""
            },
            "colorscale": [
             [
              0,
              "#0d0887"
             ],
             [
              0.1111111111111111,
              "#46039f"
             ],
             [
              0.2222222222222222,
              "#7201a8"
             ],
             [
              0.3333333333333333,
              "#9c179e"
             ],
             [
              0.4444444444444444,
              "#bd3786"
             ],
             [
              0.5555555555555556,
              "#d8576b"
             ],
             [
              0.6666666666666666,
              "#ed7953"
             ],
             [
              0.7777777777777778,
              "#fb9f3a"
             ],
             [
              0.8888888888888888,
              "#fdca26"
             ],
             [
              1,
              "#f0f921"
             ]
            ],
            "type": "surface"
           }
          ],
          "table": [
           {
            "cells": {
             "fill": {
              "color": "#EBF0F8"
             },
             "line": {
              "color": "white"
             }
            },
            "header": {
             "fill": {
              "color": "#C8D4E3"
             },
             "line": {
              "color": "white"
             }
            },
            "type": "table"
           }
          ]
         },
         "layout": {
          "annotationdefaults": {
           "arrowcolor": "#2a3f5f",
           "arrowhead": 0,
           "arrowwidth": 1
          },
          "autotypenumbers": "strict",
          "coloraxis": {
           "colorbar": {
            "outlinewidth": 0,
            "ticks": ""
           }
          },
          "colorscale": {
           "diverging": [
            [
             0,
             "#8e0152"
            ],
            [
             0.1,
             "#c51b7d"
            ],
            [
             0.2,
             "#de77ae"
            ],
            [
             0.3,
             "#f1b6da"
            ],
            [
             0.4,
             "#fde0ef"
            ],
            [
             0.5,
             "#f7f7f7"
            ],
            [
             0.6,
             "#e6f5d0"
            ],
            [
             0.7,
             "#b8e186"
            ],
            [
             0.8,
             "#7fbc41"
            ],
            [
             0.9,
             "#4d9221"
            ],
            [
             1,
             "#276419"
            ]
           ],
           "sequential": [
            [
             0,
             "#0d0887"
            ],
            [
             0.1111111111111111,
             "#46039f"
            ],
            [
             0.2222222222222222,
             "#7201a8"
            ],
            [
             0.3333333333333333,
             "#9c179e"
            ],
            [
             0.4444444444444444,
             "#bd3786"
            ],
            [
             0.5555555555555556,
             "#d8576b"
            ],
            [
             0.6666666666666666,
             "#ed7953"
            ],
            [
             0.7777777777777778,
             "#fb9f3a"
            ],
            [
             0.8888888888888888,
             "#fdca26"
            ],
            [
             1,
             "#f0f921"
            ]
           ],
           "sequentialminus": [
            [
             0,
             "#0d0887"
            ],
            [
             0.1111111111111111,
             "#46039f"
            ],
            [
             0.2222222222222222,
             "#7201a8"
            ],
            [
             0.3333333333333333,
             "#9c179e"
            ],
            [
             0.4444444444444444,
             "#bd3786"
            ],
            [
             0.5555555555555556,
             "#d8576b"
            ],
            [
             0.6666666666666666,
             "#ed7953"
            ],
            [
             0.7777777777777778,
             "#fb9f3a"
            ],
            [
             0.8888888888888888,
             "#fdca26"
            ],
            [
             1,
             "#f0f921"
            ]
           ]
          },
          "colorway": [
           "#636efa",
           "#EF553B",
           "#00cc96",
           "#ab63fa",
           "#FFA15A",
           "#19d3f3",
           "#FF6692",
           "#B6E880",
           "#FF97FF",
           "#FECB52"
          ],
          "font": {
           "color": "#2a3f5f"
          },
          "geo": {
           "bgcolor": "white",
           "lakecolor": "white",
           "landcolor": "#E5ECF6",
           "showlakes": true,
           "showland": true,
           "subunitcolor": "white"
          },
          "hoverlabel": {
           "align": "left"
          },
          "hovermode": "closest",
          "mapbox": {
           "style": "light"
          },
          "paper_bgcolor": "white",
          "plot_bgcolor": "#E5ECF6",
          "polar": {
           "angularaxis": {
            "gridcolor": "white",
            "linecolor": "white",
            "ticks": ""
           },
           "bgcolor": "#E5ECF6",
           "radialaxis": {
            "gridcolor": "white",
            "linecolor": "white",
            "ticks": ""
           }
          },
          "scene": {
           "xaxis": {
            "backgroundcolor": "#E5ECF6",
            "gridcolor": "white",
            "gridwidth": 2,
            "linecolor": "white",
            "showbackground": true,
            "ticks": "",
            "zerolinecolor": "white"
           },
           "yaxis": {
            "backgroundcolor": "#E5ECF6",
            "gridcolor": "white",
            "gridwidth": 2,
            "linecolor": "white",
            "showbackground": true,
            "ticks": "",
            "zerolinecolor": "white"
           },
           "zaxis": {
            "backgroundcolor": "#E5ECF6",
            "gridcolor": "white",
            "gridwidth": 2,
            "linecolor": "white",
            "showbackground": true,
            "ticks": "",
            "zerolinecolor": "white"
           }
          },
          "shapedefaults": {
           "line": {
            "color": "#2a3f5f"
           }
          },
          "ternary": {
           "aaxis": {
            "gridcolor": "white",
            "linecolor": "white",
            "ticks": ""
           },
           "baxis": {
            "gridcolor": "white",
            "linecolor": "white",
            "ticks": ""
           },
           "bgcolor": "#E5ECF6",
           "caxis": {
            "gridcolor": "white",
            "linecolor": "white",
            "ticks": ""
           }
          },
          "title": {
           "x": 0.05
          },
          "xaxis": {
           "automargin": true,
           "gridcolor": "white",
           "linecolor": "white",
           "ticks": "",
           "title": {
            "standoff": 15
           },
           "zerolinecolor": "white",
           "zerolinewidth": 2
          },
          "yaxis": {
           "automargin": true,
           "gridcolor": "white",
           "linecolor": "white",
           "ticks": "",
           "title": {
            "standoff": 15
           },
           "zerolinecolor": "white",
           "zerolinewidth": 2
          }
         }
        },
        "title": {
         "text": "Savoie : postes actifs en 2024",
         "x": 0.5
        },
        "width": 900
       }
      }
     },
     "metadata": {},
     "output_type": "display_data"
    }
   ],
   "source": [
    "liste_73 = synthétiser_information('73')\n",
    "cartographier_postes(liste_73, dept = '73')"
   ]
  },
  {
   "cell_type": "markdown",
   "metadata": {},
   "source": [
    "# Extraction Alpes du Nord"
   ]
  },
  {
   "cell_type": "code",
   "execution_count": 71,
   "metadata": {},
   "outputs": [
    {
     "name": "stderr",
     "output_type": "stream",
     "text": [
      "100%|██████████| 6/6 [00:24<00:00,  4.09s/it]\n",
      "100%|██████████| 6/6 [00:19<00:00,  3.23s/it]\n",
      "100%|██████████| 6/6 [00:49<00:00,  8.17s/it]\n"
     ]
    },
    {
     "data": {
      "application/vnd.plotly.v1+json": {
       "config": {
        "plotlyServerURL": "https://plot.ly"
       },
       "data": [
        {
         "customdata": [
          [
           73001001,
           400,
           "1941-10-01",
           "2022-12-31"
          ],
          [
           73004001,
           900,
           "1934-06-01",
           "2022-12-31"
          ],
          [
           73008003,
           234,
           "2003-01-01",
           "2022-12-31"
          ],
          [
           73008001,
           365,
           "1947-01-01",
           "2022-12-31"
          ],
          [
           73011002,
           331,
           "1948-01-01",
           "2022-12-31"
          ],
          [
           73297003,
           314,
           "2020-10-30",
           "2024-05-30"
          ],
          [
           73011001,
           348,
           "1948-01-01",
           "2022-12-31"
          ],
          [
           73011004,
           332,
           "1989-08-01",
           "2022-12-31"
          ],
          [
           73013001,
           1540,
           "1992-06-01",
           "2024-05-30"
          ],
          [
           73013002,
           1633,
           "2023-06-01",
           "2024-05-30"
          ],
          [
           73139401,
           1684,
           "2008-10-07",
           "2024-05-30"
          ],
          [
           73017001,
           370,
           "1986-08-01",
           "2022-12-31"
          ],
          [
           73034400,
           1209,
           "1982-12-20",
           "2024-05-30"
          ],
          [
           73034401,
           2000,
           "2024-04-01",
           "2024-05-29"
          ],
          [
           73019001,
           419,
           "1948-01-01",
           "2022-12-31"
          ],
          [
           73021001,
           500,
           "2014-04-01",
           "2022-12-31"
          ],
          [
           73023002,
           2020,
           "1953-01-01",
           "2022-12-31"
          ],
          [
           73023401,
           2166,
           "1996-12-19",
           "2022-12-31"
          ],
          [
           73023001,
           1467,
           "1934-07-01",
           "2024-05-30"
          ],
          [
           73026001,
           1104,
           "1948-10-01",
           "2024-05-30"
          ],
          [
           73026002,
           1100,
           "1969-12-01",
           "2022-12-31"
          ],
          [
           73034001,
           760,
           "1950-01-01",
           "2022-12-31"
          ],
          [
           73034003,
           1580,
           "1963-08-01",
           "2022-12-31"
          ],
          [
           73034004,
           1030,
           "1947-01-11",
           "2022-12-31"
          ],
          [
           73034002,
           1036,
           "1950-05-01",
           "2024-05-30"
          ],
          [
           73071403,
           2992,
           "1982-01-26",
           "2024-05-30"
          ],
          [
           73040400,
           1713,
           "1980-12-15",
           "2024-05-30"
          ],
          [
           73040002,
           2025,
           "1955-08-01",
           "2022-12-31"
          ],
          [
           73040005,
           1731,
           "1951-01-01",
           "2024-05-30"
          ],
          [
           73047401,
           1830,
           "1994-12-26",
           "2024-05-30"
          ],
          [
           73040402,
           2741,
           "1996-01-08",
           "2024-05-30"
          ],
          [
           73047001,
           1830,
           "1948-01-01",
           "2022-12-31"
          ],
          [
           73054003,
           840,
           "1932-03-01",
           "1949-12-31"
          ],
          [
           73054001,
           865,
           "1945-04-01",
           "2024-05-30"
          ],
          [
           73054004,
           1555,
           "1946-01-01",
           "2022-12-31"
          ],
          [
           73052002,
           820,
           "2015-11-16",
           "2024-05-30"
          ],
          [
           73052001,
           890,
           "1934-06-01",
           "2022-12-31"
          ],
          [
           73053001,
           300,
           "1987-02-01",
           "2022-12-31"
          ],
          [
           73055001,
           865,
           "1934-07-01",
           "2024-05-30"
          ],
          [
           73055002,
           860,
           "1934-06-19",
           "2022-12-31"
          ],
          [
           73057001,
           600,
           "1950-06-01",
           "2022-12-31"
          ],
          [
           73057002,
           715,
           "1947-01-01",
           "2022-12-31"
          ],
          [
           73064001,
           298,
           "1946-01-01",
           "2024-05-30"
          ],
          [
           73064002,
           307,
           "1987-01-01",
           "2022-12-31"
          ],
          [
           73065005,
           256,
           "1978-05-01",
           "2022-12-31"
          ],
          [
           73065004,
           300,
           "1948-01-01",
           "2022-12-31"
          ],
          [
           73065003,
           286,
           "1871-12-01",
           "1949-12-31"
          ],
          [
           73065001,
           272,
           "1959-01-01",
           "2022-12-31"
          ],
          [
           73329001,
           235,
           "1973-07-01",
           "2024-05-30"
          ],
          [
           73071001,
           1460,
           "1950-04-01",
           "2022-12-31"
          ],
          [
           73079001,
           320,
           "1959-01-01",
           "2022-12-31"
          ],
          [
           73085001,
           340,
           "1982-01-01",
           "2022-12-31"
          ],
          [
           73132403,
           1633,
           "1998-12-17",
           "2022-12-31"
          ],
          [
           73132003,
           1614,
           "1988-01-20",
           "2024-05-30"
          ],
          [
           73227400,
           1780,
           "1970-12-17",
           "2024-05-30"
          ],
          [
           73106001,
           732,
           "1934-06-01",
           "2022-12-31"
          ],
          [
           73106002,
           830,
           "1948-01-01",
           "2022-12-31"
          ],
          [
           73107001,
           1059,
           "2023-04-18",
           "2024-05-30"
          ],
          [
           73098003,
           1328,
           "1993-01-01",
           "2024-05-30"
          ],
          [
           73117002,
           2060,
           "1950-04-01",
           "2022-12-31"
          ],
          [
           73117001,
           1910,
           "1959-09-01",
           "2022-12-31"
          ],
          [
           73157004,
           1228,
           "1994-11-01",
           "2022-12-31"
          ],
          [
           73124001,
           330,
           "1982-01-01",
           "2022-12-31"
          ],
          [
           73093001,
           2260,
           "2011-10-10",
           "2024-05-30"
          ],
          [
           73129001,
           354,
           "1950-01-01",
           "2022-12-31"
          ],
          [
           73132001,
           1215,
           "1947-01-01",
           "2024-05-30"
          ],
          [
           73132002,
           1750,
           "1952-03-01",
           "2022-12-31"
          ],
          [
           73138002,
           1200,
           "2009-08-01",
           "2022-12-31"
          ],
          [
           73138001,
           1080,
           "1934-06-01",
           "2022-12-31"
          ],
          [
           73139001,
           832,
           "2016-12-21",
           "2024-05-30"
          ],
          [
           73082001,
           318,
           "1959-01-01",
           "2022-12-31"
          ],
          [
           73098002,
           1350,
           "1991-12-01",
           "2022-12-31"
          ],
          [
           73123402,
           1217,
           "2009-12-20",
           "2024-05-30"
          ],
          [
           73187002,
           1340,
           "1958-08-01",
           "2022-12-31"
          ],
          [
           73187001,
           650,
           "1950-07-01",
           "2022-12-31"
          ],
          [
           73187004,
           1280,
           "1969-08-01",
           "2022-12-31"
          ],
          [
           73187006,
           1195,
           "2007-05-01",
           "2024-05-30"
          ],
          [
           73257003,
           2800,
           "1992-01-01",
           "2024-05-30"
          ],
          [
           73179001,
           310,
           "1959-03-01",
           "2022-12-31"
          ],
          [
           73179002,
           350,
           "1982-01-01",
           "2022-12-31"
          ],
          [
           73322401,
           1958,
           "1998-12-29",
           "2024-05-30"
          ],
          [
           73322001,
           1985,
           "2017-10-18",
           "2024-05-30"
          ],
          [
           73150400,
           1980,
           "1970-12-17",
           "2024-05-30"
          ],
          [
           73071402,
           3000,
           "1987-12-21",
           "2022-12-31"
          ],
          [
           73150004,
           2120,
           "2017-08-16",
           "2024-05-30"
          ],
          [
           73215001,
           350,
           "1934-06-01",
           "2022-12-31"
          ],
          [
           73176400,
           1867,
           "1983-12-18",
           "2024-05-30"
          ],
          [
           73294001,
           1930,
           "1960-01-02",
           "2022-12-31"
          ],
          [
           73116001,
           1766,
           "2014-01-01",
           "2022-12-31"
          ],
          [
           73191005,
           375,
           "2004-03-01",
           "2022-12-31"
          ],
          [
           73143010,
           1925,
           "1957-06-01",
           "2022-12-31"
          ],
          [
           73143004,
           1400,
           "1950-07-01",
           "2022-12-31"
          ],
          [
           73143003,
           2000,
           "1970-10-01",
           "2022-12-31"
          ],
          [
           73143001,
           2100,
           "1967-11-01",
           "2022-12-31"
          ],
          [
           73143002,
           1720,
           "1952-03-01",
           "2022-12-31"
          ],
          [
           73143011,
           1200,
           "1952-03-01",
           "2022-12-31"
          ],
          [
           73143006,
           1400,
           "1932-03-01",
           "1949-12-31"
          ],
          [
           73296406,
           2559,
           "1996-11-07",
           "2024-05-30"
          ],
          [
           73318400,
           1585,
           "1987-02-23",
           "2024-05-30"
          ],
          [
           73318401,
           2198,
           "2005-04-19",
           "2022-12-31"
          ],
          [
           73304402,
           2310,
           "1988-01-13",
           "2022-12-31"
          ],
          [
           73004400,
           1400,
           "1984-01-05",
           "2024-05-30"
          ],
          [
           73054401,
           2040,
           "1981-12-19",
           "2024-05-30"
          ],
          [
           73024001,
           1100,
           "1967-12-01",
           "2022-12-31"
          ],
          [
           73098001,
           1030,
           "1947-01-01",
           "2022-12-31"
          ],
          [
           73173400,
           1603,
           "1975-12-26",
           "2024-05-30"
          ],
          [
           73257400,
           1800,
           "1971-12-06",
           "2024-05-30"
          ],
          [
           73306401,
           2444,
           "1982-02-02",
           "2024-05-30"
          ],
          [
           73132400,
           1636,
           "1993-01-01",
           "2024-05-30"
          ],
          [
           73146001,
           591,
           "1940-09-01",
           "2024-05-30"
          ],
          [
           73015001,
           2040,
           "1992-01-19",
           "2022-12-31"
          ],
          [
           73015400,
           1700,
           "1983-12-26",
           "2024-05-30"
          ],
          [
           73157002,
           1228,
           "1985-09-01",
           "2022-12-31"
          ],
          [
           73158001,
           340,
           "1984-07-01",
           "2022-12-31"
          ],
          [
           73144001,
           2032,
           "1992-01-09",
           "2024-05-30"
          ],
          [
           73051001,
           1496,
           "2005-08-03",
           "2024-05-30"
          ],
          [
           73164001,
           770,
           "1988-01-01",
           "2022-12-31"
          ],
          [
           73167001,
           1057,
           "1934-05-19",
           "2024-05-30"
          ],
          [
           73171002,
           264,
           "2003-12-24",
           "2024-05-30"
          ],
          [
           73173001,
           620,
           "1959-01-01",
           "2022-12-31"
          ],
          [
           73175001,
           960,
           "1934-07-01",
           "2022-12-31"
          ],
          [
           73181001,
           480,
           "1934-06-01",
           "2024-05-30"
          ],
          [
           73191001,
           460,
           "1956-07-01",
           "2024-05-30"
          ],
          [
           73191002,
           530,
           "1950-07-01",
           "2022-12-31"
          ],
          [
           73191800,
           435,
           "2018-10-11",
           "2022-12-31"
          ],
          [
           73194401,
           2356,
           "1998-12-05",
           "2024-05-30"
          ],
          [
           73194002,
           2120,
           "1950-05-01",
           "2022-12-31"
          ],
          [
           73194001,
           830,
           "1953-01-01",
           "2022-12-31"
          ],
          [
           73197001,
           1350,
           "1950-06-01",
           "2024-05-30"
          ],
          [
           73203001,
           1420,
           "1950-01-01",
           "2022-12-31"
          ],
          [
           73206400,
           1416,
           "1970-12-17",
           "2024-05-30"
          ],
          [
           73206001,
           1420,
           "1934-06-01",
           "2024-05-30"
          ],
          [
           73219001,
           375,
           "1950-08-01",
           "2022-12-31"
          ],
          [
           73221002,
           853,
           "1945-01-01",
           "2022-12-31"
          ],
          [
           73227001,
           1550,
           "1951-03-01",
           "2022-12-31"
          ],
          [
           73227002,
           1600,
           "1956-07-27",
           "2022-12-31"
          ],
          [
           73244002,
           930,
           "1955-01-01",
           "2022-12-31"
          ],
          [
           73245001,
           332,
           "1952-10-01",
           "2022-12-31"
          ],
          [
           73248001,
           570,
           "1949-01-01",
           "2022-12-31"
          ],
          [
           73253001,
           510,
           "1952-01-01",
           "2022-12-31"
          ],
          [
           73263001,
           600,
           "1934-05-12",
           "2022-12-31"
          ],
          [
           73268001,
           400,
           "1952-02-01",
           "2022-12-31"
          ],
          [
           73270001,
           410,
           "1935-01-01",
           "2022-12-31"
          ],
          [
           73282001,
           525,
           "1948-01-01",
           "2022-12-31"
          ],
          [
           73221001,
           1100,
           "1948-01-01",
           "2022-12-31"
          ],
          [
           73230002,
           1085,
           "1984-11-01",
           "2022-12-31"
          ],
          [
           73235400,
           1595,
           "1988-01-12",
           "2024-05-30"
          ],
          [
           73242001,
           1285,
           "1949-01-01",
           "2022-12-31"
          ],
          [
           73242003,
           1573,
           "2016-12-09",
           "2024-05-30"
          ],
          [
           73248003,
           610,
           "1990-03-04",
           "2022-12-31"
          ],
          [
           73261003,
           698,
           "1997-04-01",
           "2024-05-30"
          ],
          [
           73280402,
           2090,
           "2017-01-11",
           "2024-05-30"
          ],
          [
           73220001,
           610,
           "1934-09-01",
           "2024-05-30"
          ],
          [
           73228002,
           550,
           "1998-06-01",
           "2022-12-31"
          ],
          [
           73228001,
           700,
           "1986-08-01",
           "2022-12-31"
          ],
          [
           73229001,
           420,
           "1984-11-01",
           "2024-05-30"
          ],
          [
           73244001,
           1150,
           "1934-07-01",
           "2024-05-30"
          ],
          [
           73248002,
           550,
           "1983-11-01",
           "2022-12-31"
          ],
          [
           73257004,
           1560,
           "2014-09-01",
           "2022-12-31"
          ],
          [
           73257001,
           1443,
           "1952-09-01",
           "2024-05-30"
          ],
          [
           73258001,
           763,
           "1934-06-01",
           "2024-05-30"
          ],
          [
           73261001,
           1345,
           "1934-06-01",
           "2024-05-30"
          ],
          [
           73276001,
           351,
           "1982-01-01",
           "2022-12-31"
          ],
          [
           73280001,
           1694,
           "1953-01-01",
           "2024-05-30"
          ],
          [
           73232400,
           1524,
           "2004-12-19",
           "2024-05-30"
          ],
          [
           73255003,
           460,
           "1997-07-17",
           "2024-05-30"
          ],
          [
           73232001,
           1230,
           "1934-08-01",
           "2024-05-30"
          ],
          [
           73290002,
           1280,
           "1934-06-01",
           "2024-05-30"
          ],
          [
           73296400,
           2080,
           "1970-12-17",
           "2024-05-30"
          ],
          [
           73296004,
           1830,
           "1955-01-01",
           "2022-12-31"
          ],
          [
           73296003,
           2090,
           "1958-01-01",
           "2022-12-31"
          ],
          [
           73296001,
           1730,
           "1952-01-01",
           "2022-12-31"
          ],
          [
           73296002,
           1570,
           "1951-01-01",
           "2022-12-31"
          ],
          [
           73296005,
           2084,
           "1990-01-01",
           "2024-05-30"
          ],
          [
           73301001,
           730,
           "1989-04-01",
           "2022-12-31"
          ],
          [
           73303005,
           539,
           "1997-01-01",
           "2024-05-30"
          ],
          [
           73303001,
           425,
           "1953-01-01",
           "2022-12-31"
          ],
          [
           73303003,
           460,
           "1934-06-01",
           "1949-12-31"
          ],
          [
           73303002,
           500,
           "1944-11-01",
           "2022-12-31"
          ],
          [
           73303004,
           425,
           "1988-01-01",
           "2022-12-31"
          ],
          [
           73144404,
           2101,
           "1994-12-23",
           "2024-05-30"
          ],
          [
           73304004,
           1850,
           "1984-08-01",
           "2022-12-31"
          ],
          [
           73304404,
           1854,
           "1971-12-01",
           "2024-05-30"
          ],
          [
           73304005,
           1850,
           "1991-06-05",
           "2024-05-30"
          ],
          [
           73157400,
           2208,
           "1983-12-14",
           "2024-05-30"
          ],
          [
           73257405,
           2283,
           "2003-11-24",
           "2024-05-30"
          ],
          [
           73257005,
           2277,
           "2017-10-05",
           "2024-05-30"
          ],
          [
           73304003,
           1840,
           "1956-01-01",
           "2022-12-31"
          ],
          [
           73304002,
           1945,
           "1952-01-01",
           "2022-12-31"
          ],
          [
           73304001,
           1850,
           "1952-01-01",
           "2022-12-31"
          ],
          [
           73306403,
           2295,
           "2003-01-10",
           "2024-05-30"
          ],
          [
           73306002,
           1296,
           "1949-01-01",
           "2022-12-31"
          ],
          [
           73306005,
           1460,
           "1991-07-01",
           "2024-05-30"
          ],
          [
           73306001,
           1500,
           "1967-12-01",
           "2022-12-31"
          ],
          [
           73306003,
           1430,
           "1973-12-01",
           "2022-12-31"
          ],
          [
           73307400,
           1788,
           "1983-12-13",
           "2024-05-30"
          ],
          [
           73307001,
           1470,
           "1934-05-26",
           "2022-12-31"
          ],
          [
           73024400,
           1333,
           "1985-12-24",
           "2024-05-30"
          ],
          [
           73312001,
           530,
           "1959-02-01",
           "2022-12-31"
          ],
          [
           73326001,
           515,
           "1986-08-01",
           "2022-12-31"
          ],
          [
           73330001,
           230,
           "1935-01-01",
           "2022-12-31"
          ],
          [
           74001001,
           947,
           "1944-05-01",
           "2024-05-29"
          ],
          [
           74056006,
           3845,
           "1993-02-13",
           "2024-05-29"
          ],
          [
           74056405,
           2365,
           "1983-01-26",
           "2024-05-29"
          ],
          [
           74002001,
           422,
           "1928-01-01",
           "2022-12-31"
          ],
          [
           74003001,
           680,
           "1996-01-01",
           "2022-12-31"
          ],
          [
           74010001,
           448,
           "1876-01-01",
           "2022-12-31"
          ],
          [
           74012001,
           445,
           "1877-01-01",
           "2022-12-31"
          ],
          [
           74012002,
           420,
           "1984-05-01",
           "2022-12-31"
          ],
          [
           74014003,
           1120,
           "1992-11-01",
           "2022-12-31"
          ],
          [
           74014001,
           1120,
           "1992-11-01",
           "2022-12-31"
          ],
          [
           74016001,
           560,
           "1993-07-01",
           "2022-12-31"
          ],
          [
           74056004,
           1275,
           "1986-07-01",
           "2022-12-31"
          ],
          [
           74191406,
           1768,
           "2000-12-01",
           "2024-05-29"
          ],
          [
           74024001,
           449,
           "1944-05-01",
           "2024-05-29"
          ],
          [
           74031001,
           690,
           "1997-07-01",
           "2022-12-31"
          ],
          [
           74032001,
           912,
           "1928-01-01",
           "1949-12-31"
          ],
          [
           74033400,
           1535,
           "2002-01-06",
           "2024-05-29"
          ],
          [
           74035001,
           375,
           "1995-08-01",
           "2024-05-29"
          ],
          [
           74037002,
           750,
           "1973-09-01",
           "2024-05-29"
          ],
          [
           74037001,
           1400,
           "1958-02-01",
           "2022-12-31"
          ],
          [
           74038001,
           1250,
           "1995-08-01",
           "2022-12-31"
          ],
          [
           74041001,
           800,
           "1947-01-01",
           "2022-12-31"
          ],
          [
           74042001,
           447,
           "1930-10-01",
           "2022-12-31"
          ],
          [
           74042003,
           453,
           "2003-06-01",
           "2024-05-29"
          ],
          [
           74043001,
           575,
           "2000-04-01",
           "2022-12-31"
          ],
          [
           74050001,
           850,
           "1952-10-13",
           "2022-12-31"
          ],
          [
           74051001,
           580,
           "1933-07-12",
           "2022-12-31"
          ],
          [
           74051002,
           492,
           "1993-02-01",
           "2024-05-29"
          ],
          [
           74056001,
           1042,
           "1876-01-01",
           "2024-05-29"
          ],
          [
           74056002,
           2060,
           "1971-01-01",
           "2022-12-31"
          ],
          [
           74056400,
           1043,
           "1983-12-12",
           "2024-05-29"
          ],
          [
           74060001,
           970,
           "2008-06-19",
           "2024-05-29"
          ],
          [
           74062001,
           520,
           "1993-10-01",
           "2022-12-31"
          ],
          [
           74063002,
           1155,
           "1958-07-01",
           "2024-05-29"
          ],
          [
           74063405,
           1700,
           "2014-12-19",
           "2024-05-29"
          ],
          [
           74063404,
           1635,
           "2003-12-30",
           "2022-12-31"
          ],
          [
           74064001,
           635,
           "1966-01-01",
           "2022-12-31"
          ],
          [
           74208005,
           610,
           "1992-01-01",
           "2022-12-31"
          ],
          [
           74080001,
           1150,
           "1945-01-01",
           "2022-12-31"
          ],
          [
           74080002,
           1180,
           "1988-07-01",
           "2024-05-29"
          ],
          [
           74081003,
           485,
           "1995-03-01",
           "2022-12-31"
          ],
          [
           74081001,
           477,
           "1956-01-01",
           "2022-12-31"
          ],
          [
           74081002,
           475,
           "1976-01-01",
           "2024-05-29"
          ],
          [
           74081004,
           500,
           "1946-06-01",
           "2022-12-31"
          ],
          [
           74116004,
           789,
           "2021-12-03",
           "2024-05-29"
          ],
          [
           74083001,
           940,
           "1948-02-01",
           "2022-12-31"
          ],
          [
           74083002,
           1183,
           "1982-10-16",
           "2024-05-29"
          ],
          [
           74087001,
           452,
           "1944-07-01",
           "2024-05-29"
          ],
          [
           74085001,
           1180,
           "1944-02-01",
           "2024-05-29"
          ],
          [
           74056421,
           2758,
           "2023-09-04",
           "2024-05-29"
          ],
          [
           74093001,
           426,
           "1976-02-01",
           "2024-05-29"
          ],
          [
           74096001,
           783,
           "1877-01-01",
           "1949-12-31"
          ],
          [
           74097001,
           575,
           "1959-04-01",
           "2022-12-31"
          ],
          [
           74104001,
           465,
           "1991-03-01",
           "2022-12-31"
          ],
          [
           74105001,
           428,
           "1877-01-01",
           "2022-12-31"
          ],
          [
           74105002,
           470,
           "2009-04-01",
           "2024-05-29"
          ],
          [
           74110001,
           830,
           "1998-03-01",
           "2022-12-31"
          ],
          [
           74116002,
           805,
           "1992-10-01",
           "2022-12-31"
          ],
          [
           74117001,
           512,
           "1986-01-01",
           "2022-12-31"
          ],
          [
           74119002,
           395,
           "1990-01-01",
           "2024-05-29"
          ],
          [
           74119001,
           380,
           "1877-01-01",
           "1949-12-31"
          ],
          [
           74119003,
           725,
           "2002-05-01",
           "2024-05-29"
          ],
          [
           74123001,
           516,
           "1928-08-01",
           "2022-12-31"
          ],
          [
           74123002,
           507,
           "1994-07-01",
           "2022-12-31"
          ],
          [
           74014400,
           1620,
           "1973-12-16",
           "2024-05-29"
          ],
          [
           74014004,
           1611,
           "2016-04-21",
           "2024-05-29"
          ],
          [
           74133001,
           399,
           "1987-08-01",
           "2024-05-29"
          ],
          [
           74500001,
           411,
           "1951-01-01",
           "2024-05-29"
          ],
          [
           74134002,
           1172,
           "1877-01-01",
           "2024-05-29"
          ],
          [
           74135001,
           478,
           "2008-06-19",
           "2024-05-29"
          ],
          [
           74136003,
           1300,
           "1968-05-01",
           "2024-05-29"
          ],
          [
           74136403,
           1447,
           "2022-12-31",
           "2024-05-29"
          ],
          [
           74136002,
           1200,
           "1966-01-01",
           "2022-12-31"
          ],
          [
           74137002,
           750,
           "1947-11-09",
           "2022-12-31"
          ],
          [
           74137001,
           670,
           "1963-07-01",
           "2024-05-29"
          ],
          [
           74140001,
           1093,
           "1950-01-01",
           "2022-12-31"
          ],
          [
           74140002,
           960,
           "1993-11-23",
           "2022-12-31"
          ],
          [
           74143003,
           1004,
           "1940-07-01",
           "2024-05-29"
          ],
          [
           74080404,
           1965,
           "2024-02-16",
           "2024-05-29"
          ],
          [
           74080403,
           1597,
           "2016-01-01",
           "2024-05-29"
          ],
          [
           74193001,
           1175,
           "1994-07-01",
           "2022-12-31"
          ],
          [
           74056417,
           1850,
           "2004-01-08",
           "2024-05-29"
          ],
          [
           74034002,
           780,
           "1928-01-01",
           "2022-12-31"
          ],
          [
           74034001,
           690,
           "1964-03-01",
           "2022-12-31"
          ],
          [
           74045001,
           925,
           "2015-09-23",
           "2024-05-29"
          ],
          [
           74136400,
           1270,
           "1985-12-16",
           "2022-12-31"
          ],
          [
           74136005,
           1430,
           "2005-08-11",
           "2024-05-29"
          ],
          [
           74191003,
           1515,
           "1995-10-20",
           "2024-05-29"
          ],
          [
           74056003,
           1460,
           "1944-01-03",
           "2022-12-31"
          ],
          [
           74056005,
           1500,
           "1987-01-01",
           "2024-05-29"
          ],
          [
           74056418,
           2196,
           "2005-12-21",
           "2024-05-29"
          ],
          [
           74056402,
           1478,
           "1985-12-17",
           "2024-05-29"
          ],
          [
           74014002,
           1160,
           "1996-05-01",
           "2024-05-29"
          ],
          [
           74014402,
           1760,
           "1992-01-16",
           "2024-05-29"
          ],
          [
           74014404,
           1152,
           "2001-08-02",
           "2022-12-31"
          ],
          [
           74085406,
           1780,
           "2013-12-26",
           "2024-05-29"
          ],
          [
           74134400,
           1530,
           "1988-01-18",
           "2024-05-29"
          ],
          [
           74056416,
           1970,
           "1995-01-31",
           "2024-05-29"
          ],
          [
           74150001,
           340,
           "1944-05-01",
           "1949-12-31"
          ],
          [
           74173001,
           1080,
           "1877-01-01",
           "2024-05-29"
          ],
          [
           74173400,
           1080,
           "1984-01-30",
           "2022-12-31"
          ],
          [
           74176001,
           480,
           "1950-06-01",
           "2022-12-31"
          ],
          [
           74182001,
           455,
           "1970-08-01",
           "2024-05-29"
          ],
          [
           74185002,
           700,
           "1953-06-01",
           "2022-12-31"
          ],
          [
           74185001,
           1146,
           "1951-01-01",
           "2022-12-31"
          ],
          [
           74236002,
           1833,
           "1992-06-27",
           "2024-05-29"
          ],
          [
           74228001,
           785,
           "1991-03-01",
           "2022-12-31"
          ],
          [
           74189001,
           990,
           "1992-10-01",
           "2022-12-31"
          ],
          [
           74187001,
           1050,
           "1944-02-01",
           "2022-12-31"
          ],
          [
           74191001,
           960,
           "1955-01-01",
           "2022-12-31"
          ],
          [
           74191400,
           960,
           "1983-12-12",
           "2022-12-31"
          ],
          [
           74191002,
           1000,
           "1944-06-01",
           "2022-12-31"
          ],
          [
           74143002,
           2075,
           "1943-02-01",
           "2022-12-31"
          ],
          [
           74203001,
           949,
           "1944-03-01",
           "2024-05-29"
          ],
          [
           74208004,
           1300,
           "1986-08-01",
           "2022-12-31"
          ],
          [
           74208002,
           1160,
           "1929-01-01",
           "1949-12-31"
          ],
          [
           74210001,
           630,
           "1991-03-01",
           "2022-12-31"
          ],
          [
           74211002,
           747,
           "1998-04-01",
           "2024-05-29"
          ],
          [
           74211001,
           580,
           "1939-01-01",
           "2022-12-31"
          ],
          [
           74056419,
           2310,
           "2015-12-28",
           "2022-12-31"
          ],
          [
           74056411,
           2403,
           "1984-03-09",
           "2022-12-31"
          ],
          [
           74213001,
           500,
           "1981-01-01",
           "2022-12-31"
          ],
          [
           74220001,
           465,
           "1928-08-01",
           "1949-12-31"
          ],
          [
           74221001,
           975,
           "1952-12-01",
           "2024-05-29"
          ],
          [
           74225001,
           345,
           "1877-01-01",
           "2022-12-31"
          ],
          [
           74229001,
           615,
           "1980-01-01",
           "2022-12-31"
          ],
          [
           74236001,
           810,
           "1950-07-01",
           "2022-12-31"
          ],
          [
           74238001,
           805,
           "1948-11-30",
           "2022-12-31"
          ],
          [
           74256001,
           541,
           "1877-01-01",
           "2024-05-29"
          ],
          [
           74256002,
           540,
           "1928-01-01",
           "1949-12-31"
          ],
          [
           74258002,
           785,
           "1928-01-02",
           "2024-05-29"
          ],
          [
           74263001,
           413,
           "1991-06-01",
           "2022-12-31"
          ],
          [
           74310001,
           1666,
           "1995-02-01",
           "2022-12-31"
          ],
          [
           74266001,
           815,
           "1992-06-01",
           "2024-05-29"
          ],
          [
           74269001,
           360,
           "1928-01-01",
           "2022-12-31"
          ],
          [
           74270400,
           1159,
           "2002-12-09",
           "2024-05-29"
          ],
          [
           74270001,
           732,
           "1949-11-01",
           "2022-12-31"
          ],
          [
           74239001,
           963,
           "1947-02-01",
           "2022-12-31"
          ],
          [
           74241001,
           535,
           "1991-03-01",
           "2022-12-31"
          ],
          [
           74242001,
           460,
           "1950-01-01",
           "2022-12-31"
          ],
          [
           74243001,
           462,
           "1931-01-01",
           "2022-12-31"
          ],
          [
           74252001,
           1020,
           "1993-10-01",
           "2024-05-29"
          ],
          [
           74276002,
           630,
           "1928-01-01",
           "2022-12-31"
          ],
          [
           74276001,
           630,
           "1962-08-01",
           "2022-12-31"
          ],
          [
           74280001,
           630,
           "1877-01-01",
           "2024-05-29"
          ],
          [
           74281002,
           410,
           "1973-01-01",
           "2022-12-31"
          ],
          [
           74281001,
           376,
           "1944-05-01",
           "2024-05-29"
          ],
          [
           74282001,
           663,
           "1928-01-01",
           "1949-12-31"
          ],
          [
           74285001,
           417,
           "1948-04-13",
           "2022-12-31"
          ],
          [
           74285002,
           452,
           "2004-09-01",
           "2024-05-29"
          ],
          [
           74286001,
           790,
           "1983-01-01",
           "2024-05-29"
          ],
          [
           74286400,
           790,
           "2001-08-02",
           "2024-05-29"
          ],
          [
           74289001,
           309,
           "1948-12-01",
           "2024-05-29"
          ],
          [
           74290003,
           1326,
           "2022-10-07",
           "2024-05-29"
          ],
          [
           74290002,
           1326,
           "1950-01-01",
           "2022-12-31"
          ],
          [
           74292001,
           520,
           "2004-06-01",
           "2022-12-31"
          ],
          [
           38005402,
           2240,
           "2005-02-10",
           "2024-05-29"
          ],
          [
           38005001,
           1270,
           "1959-01-01",
           "2024-05-29"
          ],
          [
           38005002,
           722,
           "1947-01-01",
           "1949-12-31"
          ],
          [
           38006001,
           495,
           "1949-01-01",
           "2024-05-29"
          ],
          [
           38191002,
           1860,
           "1988-11-01",
           "2024-05-29"
          ],
          [
           38020001,
           730,
           "1976-01-01",
           "2022-12-31"
          ],
          [
           38020400,
           1600,
           "1986-02-10",
           "2024-05-29"
          ],
          [
           38021001,
           1069,
           "1905-01-05",
           "2024-05-29"
          ],
          [
           38021400,
           1260,
           "2004-12-19",
           "2022-12-31"
          ],
          [
           38034001,
           288,
           "1892-08-01",
           "2024-05-29"
          ],
          [
           38040001,
           1520,
           "1922-11-01",
           "2024-05-29"
          ],
          [
           38052400,
           720,
           "1986-12-16",
           "2022-12-31"
          ],
          [
           38053001,
           254,
           "1909-01-01",
           "2022-12-31"
          ],
          [
           38053003,
           358,
           "2003-08-01",
           "2024-05-29"
          ],
          [
           38064001,
           304,
           "1996-06-01",
           "2022-12-31"
          ],
          [
           38567002,
           1730,
           "2002-09-11",
           "2024-05-29"
          ],
          [
           38567401,
           2250,
           "1986-02-25",
           "2022-12-31"
          ],
          [
           38567001,
           1650,
           "1988-11-01",
           "2022-12-31"
          ],
          [
           38567400,
           1650,
           "1971-01-10",
           "2022-12-31"
          ],
          [
           38567407,
           2022,
           "2000-12-22",
           "2024-05-29"
          ],
          [
           38073001,
           1000,
           "1947-01-01",
           "2022-12-31"
          ],
          [
           38075001,
           270,
           "1949-01-01",
           "2022-12-31"
          ],
          [
           38082001,
           510,
           "1893-04-01",
           "2024-05-29"
          ],
          [
           38087001,
           222,
           "1975-01-01",
           "2022-12-31"
          ],
          [
           38090001,
           800,
           "1948-01-01",
           "2022-12-31"
          ],
          [
           38092001,
           309,
           "1952-01-01",
           "2022-12-31"
          ],
          [
           38095001,
           272,
           "1987-05-01",
           "2024-05-29"
          ],
          [
           38103001,
           1010,
           "1962-04-07",
           "2022-12-31"
          ],
          [
           38103002,
           984,
           "2019-04-30",
           "2024-05-29"
          ],
          [
           38105001,
           463,
           "1949-01-01",
           "2022-12-31"
          ],
          [
           38113001,
           815,
           "1962-09-01",
           "2022-12-31"
          ],
          [
           38113005,
           740,
           "1947-01-01",
           "2022-12-31"
          ],
          [
           38113004,
           820,
           "1955-01-01",
           "2022-12-31"
          ],
          [
           38113003,
           800,
           "1960-09-01",
           "2022-12-31"
          ],
          [
           38090400,
           1156,
           "1989-01-09",
           "2022-12-31"
          ],
          [
           38472400,
           1325,
           "1983-12-14",
           "2022-12-31"
          ],
          [
           38472403,
           1325,
           "1991-01-24",
           "2024-05-29"
          ],
          [
           38046002,
           568,
           "2019-09-30",
           "2024-05-29"
          ],
          [
           38439400,
           1424,
           "2013-12-10",
           "2022-12-31"
          ],
          [
           38126001,
           227,
           "1962-10-01",
           "2022-12-31"
          ],
          [
           38128001,
           935,
           "1947-01-01",
           "2022-12-31"
          ],
          [
           38133001,
           300,
           "2004-09-17",
           "2024-05-29"
          ],
          [
           38135002,
           315,
           "1988-02-01",
           "2022-12-31"
          ],
          [
           38135001,
           280,
           "1970-10-01",
           "2022-12-31"
          ],
          [
           38289400,
           1920,
           "1985-01-25",
           "2022-12-31"
          ],
          [
           38153001,
           877,
           "1905-07-01",
           "2024-05-29"
          ],
          [
           38154001,
           809,
           "1948-01-01",
           "2022-12-31"
          ],
          [
           38157001,
           225,
           "1975-01-01",
           "2022-12-31"
          ],
          [
           38160001,
           310,
           "1959-01-01",
           "2022-12-31"
          ],
          [
           38162001,
           367,
           "1948-01-01",
           "2024-05-29"
          ],
          [
           38163001,
           1081,
           "1948-01-01",
           "2024-05-29"
          ],
          [
           38170001,
           200,
           "1953-03-01",
           "2022-12-31"
          ],
          [
           38442001,
           945,
           "1947-01-01",
           "2024-05-29"
          ],
          [
           38538002,
           220,
           "1999-06-01",
           "2024-05-29"
          ],
          [
           38185001,
           217,
           "1872-05-01",
           "1949-12-31"
          ],
          [
           38185002,
           220,
           "1948-01-01",
           "1949-12-31"
          ],
          [
           38185012,
           213,
           "2019-09-19",
           "2024-05-29"
          ],
          [
           38158001,
           223,
           "1946-05-01",
           "2022-12-31"
          ],
          [
           38384001,
           384,
           "1941-08-01",
           "2024-05-29"
          ],
          [
           38186001,
           1220,
           "1950-05-01",
           "2024-05-29"
          ],
          [
           38186400,
           1254,
           "1989-01-09",
           "2024-05-29"
          ],
          [
           38191001,
           1750,
           "1969-01-01",
           "2022-12-31"
          ],
          [
           38191400,
           1860,
           "1978-02-12",
           "2024-05-29"
          ],
          [
           38191408,
           2340,
           "1990-12-21",
           "2024-05-29"
          ],
          [
           38191402,
           2700,
           "1989-12-11",
           "2022-12-31"
          ],
          [
           38191407,
           1850,
           "1970-12-21",
           "2022-12-31"
          ],
          [
           38264400,
           1382,
           "1986-12-17",
           "2024-05-29"
          ],
          [
           38375403,
           1738,
           "2001-08-02",
           "2024-05-29"
          ],
          [
           38130001,
           346,
           "1878-05-01",
           "2022-12-31"
          ],
          [
           38163004,
           2141,
           "1951-06-01",
           "2022-12-31"
          ],
          [
           38163003,
           815,
           "1950-01-01",
           "2022-12-31"
          ],
          [
           38177001,
           1080,
           "1948-01-01",
           "2022-12-31"
          ],
          [
           38002403,
           2000,
           "1987-02-13",
           "2022-12-31"
          ],
          [
           38265001,
           937,
           "1949-01-01",
           "2022-12-31"
          ],
          [
           38269001,
           881,
           "1879-07-01",
           "2022-12-31"
          ],
          [
           38269004,
           885,
           "2003-11-01",
           "2024-05-29"
          ],
          [
           38469001,
           1770,
           "1969-11-22",
           "2022-12-31"
          ],
          [
           38469400,
           1770,
           "1983-12-12",
           "2022-12-31"
          ],
          [
           38442004,
           1700,
           "1993-01-02",
           "2022-12-31"
          ],
          [
           38503001,
           234,
           "1949-01-01",
           "2022-12-31"
          ],
          [
           38509001,
           339,
           "1949-01-01",
           "2022-12-31"
          ],
          [
           38516002,
           215,
           "1949-01-01",
           "2022-12-31"
          ],
          [
           38516001,
           225,
           "1950-01-01",
           "2022-12-31"
          ],
          [
           38163002,
           930,
           "1955-10-01",
           "2022-12-31"
          ],
          [
           38204001,
           850,
           "1969-01-01",
           "2022-12-31"
          ],
          [
           38205400,
           1400,
           "1986-01-06",
           "2024-05-29"
          ],
          [
           38207001,
           1070,
           "1950-01-01",
           "2024-05-29"
          ],
          [
           38052002,
           768,
           "1952-03-01",
           "2022-12-31"
          ],
          [
           38100001,
           244,
           "1975-01-01",
           "2022-12-31"
          ],
          [
           38006400,
           1642,
           "1985-12-16",
           "2024-05-29"
          ],
          [
           38006402,
           1650,
           "1971-01-08",
           "2022-12-31"
          ],
          [
           38187400,
           1646,
           "1992-08-14",
           "2024-05-29"
          ],
          [
           38305001,
           530,
           "1950-01-01",
           "2022-12-31"
          ],
          [
           38005400,
           1280,
           "1991-12-04",
           "2022-12-31"
          ],
          [
           38538001,
           220,
           "1973-01-01",
           "2022-12-31"
          ],
          [
           38253404,
           1630,
           "1974-12-22",
           "2022-12-31"
          ],
          [
           38253403,
           2084,
           "1984-03-12",
           "2022-12-31"
          ],
          [
           38253400,
           2550,
           "1971-02-05",
           "2024-05-29"
          ],
          [
           38253407,
           3200,
           "2002-06-23",
           "2024-05-29"
          ],
          [
           38253002,
           1670,
           "1991-12-01",
           "2022-12-31"
          ],
          [
           38375402,
           2970,
           "1983-02-22",
           "2024-05-29"
          ],
          [
           38340001,
           350,
           "1950-01-01",
           "2022-12-31"
          ],
          [
           38210001,
           210,
           "1956-07-12",
           "2022-12-31"
          ],
          [
           38215002,
           310,
           "1986-01-01",
           "2022-12-31"
          ],
          [
           38215001,
           185,
           "1982-08-01",
           "2022-12-31"
          ],
          [
           38226002,
           780,
           "1950-01-01",
           "2022-12-31"
          ],
          [
           38229001,
           469,
           "2011-06-28",
           "2022-12-31"
          ],
          [
           38238001,
           262,
           "1982-06-01",
           "2022-12-31"
          ],
          [
           38242001,
           806,
           "1905-01-01",
           "2024-05-29"
          ],
          [
           38253001,
           1050,
           "1950-04-01",
           "2022-12-31"
          ],
          [
           38247001,
           222,
           "1950-05-01",
           "2022-12-31"
          ],
          [
           38248002,
           740,
           "1995-02-01",
           "2022-12-31"
          ],
          [
           38289401,
           1350,
           "2003-12-25",
           "2024-05-29"
          ],
          [
           38285001,
           950,
           "1905-01-01",
           "2024-05-29"
          ],
          [
           38294001,
           250,
           "2013-08-14",
           "2022-12-31"
          ],
          [
           38299001,
           947,
           "1949-01-01",
           "2024-05-29"
          ],
          [
           38299002,
           800,
           "1949-01-01",
           "2024-05-29"
          ],
          [
           38301001,
           846,
           "1952-01-01",
           "2022-12-31"
          ],
          [
           38504002,
           1578,
           "2009-08-01",
           "2024-05-29"
          ],
          [
           38311001,
           480,
           "1970-10-01",
           "2022-12-31"
          ],
          [
           38315002,
           284,
           "1985-08-01",
           "2024-05-29"
          ],
          [
           38315001,
           239,
           "1948-01-01",
           "2022-12-31"
          ],
          [
           38316001,
           202,
           "1988-01-01",
           "2022-12-31"
          ],
          [
           38319002,
           200,
           "1955-01-01",
           "2022-12-31"
          ],
          [
           38319001,
           200,
           "1949-01-01",
           "2022-12-31"
          ],
          [
           38002405,
           1570,
           "1996-11-30",
           "2022-12-31"
          ],
          [
           38002406,
           1355,
           "2004-12-19",
           "2024-05-29"
          ],
          [
           38002404,
           1870,
           "1995-01-03",
           "2022-12-31"
          ],
          [
           38002400,
           1345,
           "1972-01-13",
           "2022-12-31"
          ],
          [
           38325001,
           600,
           "1961-07-04",
           "2022-12-31"
          ],
          [
           38333002,
           800,
           "1991-08-01",
           "2022-12-31"
          ],
          [
           38333003,
           885,
           "2006-04-01",
           "2024-05-29"
          ],
          [
           38333001,
           670,
           "1978-05-01",
           "2022-12-31"
          ],
          [
           38334001,
           645,
           "1948-01-01",
           "2024-05-29"
          ],
          [
           38336001,
           295,
           "2004-02-01",
           "2024-05-29"
          ],
          [
           38342001,
           746,
           "1949-01-01",
           "2024-05-29"
          ],
          [
           38347001,
           640,
           "1956-07-21",
           "2022-12-31"
          ],
          [
           38349001,
           136,
           "1959-01-01",
           "2024-05-29"
          ],
          [
           38412002,
           380,
           "2012-01-11",
           "2022-12-31"
          ],
          [
           38378001,
           162,
           "1956-03-01",
           "2022-12-31"
          ],
          [
           38390001,
           249,
           "1950-01-01",
           "2022-12-31"
          ],
          [
           38395002,
           1150,
           "1948-01-01",
           "2022-12-31"
          ],
          [
           38395004,
           990,
           "2017-11-17",
           "2024-05-29"
          ],
          [
           38465001,
           242,
           "1951-01-01",
           "2022-12-31"
          ],
          [
           38478001,
           370,
           "1948-01-01",
           "2022-12-31"
          ],
          [
           38275001,
           630,
           "1996-01-01",
           "2022-12-31"
          ],
          [
           38275002,
           632,
           "2017-12-27",
           "2024-05-29"
          ],
          [
           38362001,
           450,
           "2007-05-16",
           "2024-05-29"
          ],
          [
           38375400,
           1570,
           "1983-12-12",
           "2024-05-29"
          ],
          [
           38375009,
           1564,
           "2016-11-08",
           "2024-05-29"
          ],
          [
           38395400,
           970,
           "1983-12-12",
           "2022-12-31"
          ],
          [
           38395403,
           1756,
           "1982-01-26",
           "2024-05-29"
          ],
          [
           38442400,
           1700,
           "1986-12-23",
           "2024-05-29"
          ],
          [
           38366001,
           1040,
           "1959-01-01",
           "2024-05-29"
          ],
          [
           38367001,
           910,
           "1987-12-13",
           "2022-12-31"
          ],
          [
           38367002,
           910,
           "1876-01-01",
           "1949-12-31"
          ],
          [
           38375001,
           1570,
           "1963-12-01",
           "2022-12-31"
          ],
          [
           38375004,
           1738,
           "1953-05-01",
           "2022-12-31"
          ],
          [
           38375002,
           1400,
           "1952-04-01",
           "2022-12-31"
          ],
          [
           38375003,
           1600,
           "1954-09-01",
           "2022-12-31"
          ],
          [
           38386001,
           380,
           "2000-07-01",
           "2022-12-31"
          ],
          [
           38390002,
           1020,
           "1989-12-01",
           "2022-12-31"
          ],
          [
           38395001,
           970,
           "1964-11-01",
           "2022-12-31"
          ],
          [
           38399001,
           369,
           "1956-08-01",
           "2022-12-31"
          ],
          [
           38401001,
           307,
           "1991-08-01",
           "2022-12-31"
          ],
          [
           38412001,
           389,
           "1949-01-01",
           "2022-12-31"
          ],
          [
           38421002,
           220,
           "2004-01-01",
           "2022-12-31"
          ],
          [
           38416001,
           281,
           "1948-01-01",
           "2022-12-31"
          ],
          [
           38424001,
           1050,
           "1997-01-01",
           "2022-12-31"
          ],
          [
           38442002,
           1080,
           "1948-01-01",
           "2022-12-31"
          ],
          [
           38446001,
           644,
           "1948-01-01",
           "2022-12-31"
          ],
          [
           38446003,
           870,
           "2002-03-01",
           "2024-05-29"
          ],
          [
           38442005,
           895,
           "1996-09-01",
           "2022-12-31"
          ],
          [
           38442008,
           950,
           "2005-07-28",
           "2024-05-29"
          ],
          [
           38453001,
           410,
           "1994-05-01",
           "2022-12-31"
          ],
          [
           38499001,
           885,
           "1955-07-01",
           "2022-12-31"
          ],
          [
           38501001,
           233,
           "1950-03-01",
           "2024-05-29"
          ],
          [
           38504001,
           615,
           "1949-01-01",
           "2024-05-29"
          ],
          [
           38514005,
           850,
           "1998-01-01",
           "2022-12-31"
          ],
          [
           38514001,
           900,
           "1948-01-01",
           "2022-12-31"
          ],
          [
           38517001,
           190,
           "1950-03-01",
           "2022-12-31"
          ],
          [
           38518001,
           785,
           "1963-05-01",
           "2024-05-29"
          ],
          [
           38522001,
           980,
           "1950-01-01",
           "2022-12-31"
          ],
          [
           38522002,
           1270,
           "1958-07-01",
           "2022-12-31"
          ],
          [
           38522004,
           1285,
           "2022-10-20",
           "2024-05-29"
          ],
          [
           38524001,
           250,
           "1958-01-01",
           "2024-05-29"
          ],
          [
           38527001,
           772,
           "1937-01-01",
           "2024-05-29"
          ],
          [
           38527002,
           1520,
           "1950-01-01",
           "2022-12-31"
          ],
          [
           38527400,
           1720,
           "1990-12-22",
           "2024-05-29"
          ],
          [
           38527800,
           772,
           "2022-09-01",
           "2024-05-29"
          ],
          [
           38529001,
           355,
           "1968-09-01",
           "2022-12-31"
          ],
          [
           38529002,
           1095,
           "1955-01-01",
           "2022-12-31"
          ],
          [
           38529003,
           414,
           "1949-01-01",
           "2022-12-31"
          ],
          [
           38534002,
           1650,
           "1952-04-01",
           "2022-12-31"
          ],
          [
           38534001,
           1180,
           "1950-01-01",
           "2022-12-31"
          ],
          [
           38544001,
           274,
           "1947-01-01",
           "2022-12-31"
          ],
          [
           38545001,
           285,
           "1958-01-01",
           "2022-12-31"
          ],
          [
           38548400,
           1710,
           "1985-01-09",
           "2024-05-29"
          ],
          [
           38548402,
           1020,
           "1986-01-01",
           "2022-12-31"
          ],
          [
           38548003,
           1018,
           "2006-07-01",
           "2022-12-31"
          ],
          [
           38548403,
           1018,
           "2006-07-01",
           "2022-12-31"
          ],
          [
           38548001,
           1027,
           "1959-01-01",
           "2024-05-29"
          ],
          [
           38548002,
           1031,
           "1916-01-01",
           "2022-12-31"
          ],
          [
           38549001,
           1550,
           "1950-04-18",
           "2022-12-31"
          ],
          [
           38559004,
           400,
           "2015-03-01",
           "2022-12-31"
          ],
          [
           38559001,
           260,
           "1949-01-01",
           "2022-12-31"
          ],
          [
           38563001,
           292,
           "1960-02-09",
           "2022-12-31"
          ]
         ],
         "hovertemplate": "<b>%{hovertext}</b><br><br>lat=%{lat}<br>lon=%{lon}<br>poste=%{customdata[0]}<br>alt=%{customdata[1]}<br>début=%{customdata[2]}<br>fin=%{customdata[3]}<extra></extra>",
         "hovertext": [
          "Aiguebelette",
          "Aillon Le Jeune",
          "Aix Les Bains",
          "Aix-Les-Bains",
          "Albertville",
          "Albertville",
          "Albertville",
          "Albertville Jo",
          "Albiez",
          "Albiez-Montrond",
          "Allant-Nivose",
          "Apremont",
          "Areches",
          "Areches -S-",
          "Argentine Presbytere",
          "Arvillard",
          "Aussois",
          "Aussois",
          "Aussois-Clim",
          "Avrieux",
          "Avrieux Enregistreur Edf",
          "Beaufort",
          "Beaufort Roslan",
          "Beaufort-Fontan",
          "Beaufort-Sur-Doron",
          "Bellecote-Nivose",
          "Bessans",
          "Bessans Averole",
          "Bessans-Clim",
          "Bonneval Sur Arc",
          "Bonneval-Nivose",
          "Bonneval-Sur-Arc Tralenta",
          "Bourg St Mauric",
          "Bourg St Maurice",
          "Bourg-Saint-Maurice-Chalpieux",
          "Bourget En Huile_Sapc",
          "Bourget-En-Huile",
          "Bourgneuf",
          "Bozel",
          "Bozel Pierre Becqua",
          "Brides Les Bain",
          "Brides-Les-Bains Prise D'Eau",
          "Challes Les Eaux",
          "Challes Teppes",
          "Chambery",
          "Chambery Chateau De Biollay",
          "Chambery Hopital Militaire",
          "Chambery Joppet",
          "Chambery-Aix",
          "Champagny-En-Vanoise",
          "Chateauneuf L'Eglise",
          "Chindrieux",
          "Col Des Saisies",
          "Col-Des-Saisies",
          "Courchevel",
          "Ecole",
          "Ecole Bellevaux",
          "Entremont Le Vieux_Sapc",
          "Feclaz_Sapc",
          "Fourneaux Fontaine Froide",
          "Fourneaux Le Lavoir",
          "Frejus",
          "Gilly Sur Isere",
          "Grande Parei Nivose",
          "Gresy-Sur-Isere",
          "Hauteluce",
          "Hauteluce La Girotte",
          "Jarrier",
          "Jarrier Presbytere",
          "Jarsy_Sapc",
          "La Chavanne",
          "La Feclaz",
          "La Giettaz",
          "La Lechere",
          "La Lechere - Nd De Briancon",
          "La Lechere Celliers - Bourg",
          "La Lechere_Sapc",
          "La Masse",
          "La Motte Servol",
          "La Motte Servolex Noiray",
          "La Norma",
          "La Norma_Sapc",
          "La Plagne",
          "La Plagne Glacier -S-",
          "La Plagne_Sapc",
          "La Rochette",
          "La Rosiere",
          "La Thuile Saint-Bernard",
          "La Toussuire",
          "Lac Aiguebelette",
          "Lanslebourg Anc",
          "Lanslebourg Bou",
          "Lanslebourg Mt",
          "Lanslebourg Nv",
          "Lanslebourg-Mont-Cenis",
          "Lanslebourg-Mont-Cenis-Barrage",
          "Lanslebourg-Mont-Cenis-Fort",
          "Le Chevril-Nivose",
          "Le Corbier",
          "Le Corbier -S-",
          "Le Molard",
          "Les Aillons (Margeriaz)",
          "Les Arcs",
          "Les Avanchers-Valmorel",
          "Les Deserts",
          "Les Karellis",
          "Les Menuires",
          "Les Rochilles-Nivose",
          "Les Saisies",
          "Lescheraines",
          "Meribel Burgin",
          "Meribel Mottaret",
          "Modane",
          "Mognard",
          "Mont Cenis",
          "Mont Du Chat",
          "Montcel Faubour",
          "Montgellafrey",
          "Montmelian",
          "Montricher-Albanne",
          "Montsapey",
          "Moutiers",
          "Novalaise",
          "Novalaise Aux Champs",
          "Novalaise_Double",
          "Orelle",
          "Orelle Bissorte",
          "Orelle Premont",
          "Peisey Nancroix",
          "Pontamafrey",
          "Pralognan",
          "Pralognan La Vanoise",
          "Saint-Alban-De-Montbel",
          "Saint-Alban-Des-Villards",
          "Saint-Bon-Tarentaise",
          "Saint-Bon-Tarentaise Moriond",
          "Saint-Jean-De-Belleville",
          "Saint-Jean-De-Chevelu Chevelu",
          "Saint-Jean-De-Maurienne",
          "Saint-Marcel Pomblieres",
          "Saint-Offenge-Dessous",
          "Saint-Paul-Sur-Isere",
          "Saint-Pierre-D'Albigny",
          "Saint-Thibaud-De-Couz",
          "St Alban Des Vi",
          "St Colomban Des Villards",
          "St Francois Long",
          "St Jean D Arves",
          "St Jean D'Arves_Sapc",
          "St Jean De Maur",
          "St Michel Maur_Sapc",
          "St Sorlin D'Arves",
          "St-Alban Des Hurtieres",
          "St-Cassin",
          "St-Cassin-Chantres",
          "St-Christophe La-Grotte",
          "St-Jean De Belleville",
          "St-Jean De Maurienne",
          "St-Martin Belleville",
          "St-Martin De Belleville",
          "St-Martin De La Porte",
          "St-Michel De Maurienne Le Thyl",
          "St-Pierre De Soucy",
          "St-Sorlin D'Arves",
          "Ste Foy Station",
          "Ste Marie Cuines",
          "Ste-Foy-Tarentaise",
          "Termignon-Clim",
          "Tignes",
          "Tignes Le Chevril",
          "Tignes Le Lac",
          "Tignes Le Villaret",
          "Tignes-Brevieres",
          "Tignes_Sapc",
          "Trevignin",
          "Ugine",
          "Ugine",
          "Ugine Eaux-Et-Forets",
          "Ugine La Montagnette",
          "Ugine-Maison-Forestiere",
          "Val Cenis (La Berche)",
          "Val D Isere",
          "Val D Isere Joseray",
          "Val D'Isere Jos",
          "Val Frejus",
          "Val Thorens",
          "Val Thorens_Sapc",
          "Val-D'Isere Garage",
          "Val-D'Isere Le Fornet",
          "Val-D'Isere Presbytere",
          "Valloire",
          "Valloire Barrage Du Ley",
          "Valloire Forest",
          "Valloire Les Granges",
          "Valloire-Chef-Lieu",
          "Valmeinier",
          "Valmeinier Le Meleze",
          "Valmorel",
          "Verrens Arvey",
          "Vimines",
          "Yenne",
          "Abondance",
          "Aiguille Du Midi",
          "Aiguilles Rouges-Nivose",
          "Alby Sur Cheran",
          "Alex",
          "Annecy",
          "Annemasse",
          "Annemasse Equipement",
          "Arache",
          "Araches La Combe",
          "Archamps",
          "Argentiere",
          "Avoriaz",
          "Ayze",
          "Beaumont",
          "Bellevaux Le Champ Du Noyer",
          "Bernex",
          "Bloye",
          "Boege",
          "Boege Voirons",
          "Bogeve",
          "Bonnevaux",
          "Bonneville",
          "Bonneville",
          "Bons Chablais",
          "Burdignin Ecole",
          "Cercier",
          "Cercier",
          "Chamonix",
          "Chamonix-Mont-Blanc Glacier",
          "Chamonix-Obs",
          "Chapelle Saint-Maurice_Sapc",
          "Charvonnex",
          "Chatel",
          "Chatel Nivo",
          "Chatel Nivo",
          "Chatillon-Sur-Cluses Bourg",
          "Chedde",
          "Clusaz (La)",
          "Clusaz (La)",
          "Cluses",
          "Cluses",
          "Cluses",
          "Cluses Ponthion",
          "Col D'Evires",
          "Combloux",
          "Combloux",
          "Contamine-Sur- Arve",
          "Contamines Mj",
          "Couvercle-Nivose",
          "Cran-Gevrier",
          "Cruseilles",
          "Cusy Chef Lieu",
          "Doussard",
          "Douvaine Bourg",
          "Douvaine Sa",
          "Entremont",
          "Eteaux",
          "Etercy",
          "Evian",
          "Evian",
          "Evian Sa",
          "Faverges",
          "Faverges",
          "Flaine",
          "Flaine_Sapc",
          "Gaillard",
          "Geneve",
          "Gets (Les)",
          "Giez",
          "Grand Bornand",
          "Grand-Bornand",
          "Grand-Bornand",
          "Groisy",
          "Groisy_Sapc",
          "Habere-Poche",
          "Habere-Poche",
          "Houches (Les)",
          "La Clusaz",
          "La Clusaz",
          "La Croisette",
          "La Flegere",
          "Le Biot",
          "Le Biot",
          "Le Bouchet_Sapc",
          "Le Grand Bornand",
          "Le Grand-Bornand",
          "Le Pleney",
          "Le Tour",
          "Le Tour",
          "Le Tour Balme",
          "Le Tour Nivo",
          "Les Carroz",
          "Les Carroz Kedeusaz",
          "Les Carroz Village",
          "Les Contamines Montjoie",
          "Les Gets",
          "Lognan",
          "Loisin Grand-Cave",
          "Megeve",
          "Megeve Auxi",
          "Menthon-Saint-Bernard Ecole",
          "Meythet",
          "Monnetier-Mornex Eglise",
          "Monnetier-Mornex Treize Arbres",
          "Mont Arbois",
          "Mont Sion",
          "Mont-Saxonnex",
          "Montmin",
          "Morzine",
          "Morzine",
          "Morzine La Beziere",
          "Mt Lachat",
          "Novel",
          "Passy",
          "Passy Praz Coutant",
          "Perrignier",
          "Pers Jussy",
          "Pers-Jussy",
          "Plan Aiguille Tmb",
          "Plan De L Aiguille",
          "Poisy",
          "Reignier",
          "Reposoir (Le)",
          "Rumilly",
          "Saint-Cergues Le Bourgeau",
          "Saint-Gervais-Les-Bains",
          "Saint-Jean-D'Aulps Ecole",
          "Sallanches",
          "Sallanches Ecole",
          "Samoens",
          "Sciez",
          "Semnoz",
          "Servoz",
          "Seyssel",
          "Seythenex",
          "Seythenex Seycheux",
          "St Jean De Sixt",
          "St Jeoire",
          "St Jorioz",
          "St Julien",
          "St Sigismond",
          "Taninges",
          "Taninges",
          "Thones",
          "Thonon",
          "Thonon-Inra",
          "Thorens-Glieres Pc",
          "Usinens",
          "Usinens Sa",
          "Vacheresse",
          "Vacheresse Auxi",
          "Vallieres",
          "Vallorcine",
          "Vallorcine_Plan-Droit",
          "Vaulx",
          "Aigleton-Nivose",
          "Allemond",
          "Allemond Bourg",
          "Allevard",
          "Alpe-D'Huez",
          "Auris",
          "Auris-En-Oisans",
          "Autrans",
          "Autrans-Nivo",
          "Beaurepaire",
          "Besse",
          "Bourg D Oisans",
          "Bourgoin",
          "Bourgoin",
          "Cessieu",
          "Chamrousse",
          "Chamrousse",
          "Chamrousse",
          "Chamrousse Arselle",
          "Chamrousse Niverolles",
          "Chantelouve",
          "Chapareillan",
          "Charavines",
          "Chasse",
          "Chateau-Bernard",
          "Chatelus Bournillon",
          "Chatte_Sapc",
          "Chichilianne",
          "Chichilianne_Sapc",
          "Chirens",
          "Clelles",
          "Clelles Bourg",
          "Clelles Le Chaffaud",
          "Clelles Le Percy",
          "Col De L Arzelier",
          "Col De Porte",
          "Col De Porte-Nivose",
          "Col De Rossatiere",
          "Col Du Barioz",
          "Corenc La Reviree",
          "Corps",
          "Coublevie",
          "Courtenay",
          "Courtenay",
          "Eau D Olle",
          "Engins",
          "Entraigues",
          "Estrablin Bourg",
          "Eyzin-Pinet",
          "Faverges",
          "Fond-De-France",
          "Fontanil",
          "Grande-Chartreuse",
          "Grenoble - Lvd",
          "Grenoble Ecole Normale",
          "Grenoble Jardin Des Plantes",
          "Grenoble-Cea-Radome",
          "Grenoble-Eybens",
          "Grenoble-St Geoirs",
          "Gresse",
          "Gresse En Vercors",
          "Huez",
          "L Alpe D Huez (Sata)",
          "L Alpe D Huez 2350",
          "L Alpe D Huez 2700",
          "L Alpe D Huez Sata 1860",
          "L Alpe Du Grand Serre",
          "La Berarde",
          "La Cote St Andre",
          "La Ferriere",
          "La Ferriere Usine Riondet",
          "La Garde L'Armentier Le Bas",
          "La Jasse Prapoutel",
          "La Motte",
          "La Mure",
          "La Mure- Radome",
          "La Salette",
          "La Salette",
          "La Scia",
          "La Terrasse Ecole",
          "La Tour-Du-Pin",
          "La Tronche Asile De Vieillards",
          "La Tronche Villa Belledonne",
          "La-Ferriere",
          "Lalley",
          "Lans En Vercors",
          "Lavaldens",
          "Le Bourg-D'Oisans",
          "Le Cheylas Bourg",
          "Le Collet D Allevard",
          "Le Collet D Allevard",
          "Le Gua-Nivose",
          "Le Pin Ecole",
          "Le Rivier D Allemond",
          "Le Versoud",
          "Les 2 Alpes (Gn)",
          "Les 2 Alpes (Pied Mouttet)",
          "Les 2 Alpes (Toura Ne)",
          "Les 2 Alpes Jandri",
          "Les Deux-Alpes",
          "Les Ecrins-Nivose",
          "Les Roches-De-Condrieu Seav",
          "Leyrieu Bourg",
          "Luzinay",
          "Luzinay Bourg",
          "Mens",
          "Meylan",
          "Moidieu-Detourbe",
          "Monestier",
          "Mont-De-Lans",
          "Montalieu-Vercieu Le Marais",
          "Montaud",
          "Olmet",
          "Ornon",
          "Panossas",
          "Pellafol-Chaneaux",
          "Pellafol-Sautet",
          "Percy Bourg",
          "Pipay_Sapc",
          "Pommier-De-Beaurepaire",
          "Pont-De-Beauvoisin",
          "Pont-De-Beauvoisin-Tabacs",
          "Pont-De-Cheruy",
          "Pont-En-Royans",
          "Pont-En-Royans Bourg",
          "Prapoutel",
          "Prapoutel",
          "Prapoutel",
          "Prapoutel Pipay",
          "Proveysieux",
          "Rencurel",
          "Rencurel",
          "Rencurel-Balme",
          "Revel",
          "Reventin",
          "Roissard",
          "Roybon",
          "Sablons",
          "Saint Laurent Du Pont Auto",
          "Saint-Clair-Du-Rhone",
          "Saint-Gervais Pierre Mouton",
          "Saint-Hilaire",
          "Saint-Hilaire_Sapc",
          "Saint-Victor-De-Morestel",
          "Sechilienne Bourg",
          "Serre-Nerpol",
          "Serre-Nerpol_Sapc",
          "St Aupre_Sapc",
          "St Christophe",
          "St Christophe En Oisans_Sapc",
          "St Hilaire",
          "St Hilaire-Nivose",
          "St Pierre De Chartreuse",
          "St-Baudille",
          "St-Bernard",
          "St-Bernard_Bg",
          "St-Christophe",
          "St-Christophe-Oisans-Berarde",
          "St-Christophe-Oisans-Ecrins",
          "St-Christophe-Oisans-Etages",
          "St-Geoire-En-Valdaine",
          "St-Gervais",
          "St-Hilaire",
          "St-Jean-De-Bournay",
          "St-Jean-De-Soudain",
          "St-Laurent-Du-Pont",
          "St-M-D'Heres-Galochere",
          "St-Marcellin",
          "St-Maurice-En-Trieves",
          "St-Pierre-Chartreuse-Cottaves",
          "St-Pierre-D'Entremont",
          "St-Pierre-D'Entremont",
          "St-Pierre-De-Ch",
          "St-Pierre-Les Egaux",
          "St-Romans",
          "Susville Cite Pre-Luzat",
          "Tencin",
          "Theys",
          "Treminis",
          "Treminis Bourg",
          "Tullins",
          "Valbonnais",
          "Valjouffrey",
          "Valjouffrey Le Desert",
          "Valjouffrey_Sapc",
          "Varces",
          "Vaujany",
          "Vaujany",
          "Vaujany-Nivo",
          "Vaujany_Double",
          "Vaulnaveys-Le-Haut La Gorge",
          "Vaulnaveys-Le-Haut Premol",
          "Vaulnaveys-Le-Haut Uriage",
          "Venosc Les Deux-Alpes",
          "Venosc Plan Du Lac",
          "Vienne",
          "Vif Reynure",
          "Villard Cote 2000",
          "Villard De Lans",
          "Villard-Bois Barbu",
          "Villard-Bois-Barbu",
          "Villard-De-Lans",
          "Villard-De-Lans-Gend",
          "Villard-Notre-Dame Village",
          "Vinay",
          "Vinay Bourg",
          "Voiron Pensionnat Saint-Joseph"
         ],
         "lat": [
          45.551667,
          45.617833,
          45.700333,
          45.693333,
          45.662167,
          45.627833,
          45.673333,
          45.662333,
          45.2155,
          45.210667,
          45.663833,
          45.515667,
          45.671333,
          45.651333,
          45.493333,
          45.44,
          45.24,
          45.247667,
          45.229833,
          45.214,
          45.215,
          45.716667,
          45.683333,
          45.703333,
          45.691,
          45.489,
          45.320667,
          45.32,
          45.322833,
          45.373667,
          45.351667,
          45.37,
          45.618333,
          45.612667,
          45.613333,
          45.486667,
          45.489667,
          45.5545,
          45.44,
          45.443333,
          45.453667,
          45.451667,
          45.565167,
          45.548167,
          45.5805,
          45.57,
          45.57,
          45.57,
          45.641333,
          45.453333,
          45.548333,
          45.832167,
          45.76,
          45.755,
          45.413333,
          45.650333,
          45.65,
          45.444167,
          45.647167,
          45.186667,
          45.186667,
          45.193667,
          45.653167,
          45.614667,
          45.6,
          45.772333,
          45.75,
          45.279333,
          45.278333,
          45.658833,
          45.494667,
          45.643,
          45.878333,
          45.556667,
          45.53,
          45.471667,
          45.549167,
          45.297333,
          45.595,
          45.609333,
          45.1885,
          45.190667,
          45.506833,
          45.488667,
          45.500333,
          45.452167,
          45.629833,
          45.531667,
          45.255667,
          45.564833,
          45.286667,
          45.286667,
          45.2235,
          45.286667,
          45.286667,
          45.286667,
          45.286667,
          45.499667,
          45.243333,
          45.237,
          45.441833,
          45.642167,
          45.573333,
          45.478333,
          45.625,
          45.227667,
          45.323333,
          45.085,
          45.758333,
          45.715167,
          45.3875,
          45.371667,
          45.193667,
          45.762,
          45.269333,
          45.6605,
          45.711667,
          45.393,
          45.493833,
          45.246667,
          45.5225,
          45.484667,
          45.597333,
          45.595,
          45.595667,
          45.247833,
          45.21,
          45.21,
          45.544,
          45.335,
          45.381667,
          45.386,
          45.551667,
          45.308333,
          45.435,
          45.435,
          45.426667,
          45.7,
          45.275,
          45.511667,
          45.735,
          45.596667,
          45.568333,
          45.501667,
          45.305,
          45.293,
          45.417833,
          45.190167,
          45.206833,
          45.266667,
          45.218167,
          45.217167,
          45.477167,
          45.532667,
          45.516667,
          45.452833,
          45.427667,
          45.282167,
          45.361667,
          45.368167,
          45.238833,
          45.223667,
          45.482333,
          45.224,
          45.577833,
          45.3435,
          45.601833,
          45.274833,
          45.468333,
          45.468333,
          45.468333,
          45.468333,
          45.507833,
          45.467,
          45.706833,
          45.759167,
          45.75,
          45.751667,
          45.751667,
          45.753333,
          45.274167,
          45.444833,
          45.445,
          45.444833,
          45.155833,
          45.2945,
          45.294,
          45.446667,
          45.446667,
          45.446667,
          45.160833,
          45.165,
          45.173,
          45.165,
          45.166667,
          45.176,
          45.185,
          45.461833,
          45.658667,
          45.5455,
          45.701,
          46.2845,
          45.8785,
          45.986333,
          45.816667,
          45.885,
          45.901667,
          46.196667,
          46.193333,
          46.046667,
          46.046667,
          46.131833,
          45.983333,
          46.186167,
          46.0795,
          46.093,
          46.255,
          46.341167,
          45.821667,
          46.213333,
          46.211667,
          46.198333,
          46.311667,
          46.078333,
          46.0685,
          46.263333,
          46.22,
          46.026667,
          46.031833,
          45.9295,
          45.92,
          45.923333,
          45.782333,
          45.985,
          46.255833,
          46.225167,
          46.218333,
          46.086667,
          45.923333,
          45.898333,
          45.887167,
          46.048333,
          46.08,
          46.080667,
          46.058333,
          46.047167,
          45.898333,
          45.892833,
          46.128667,
          45.822333,
          45.909667,
          45.910833,
          46.033333,
          45.766667,
          45.783333,
          46.305,
          46.302333,
          45.953333,
          46.063,
          45.89,
          46.3965,
          46.401667,
          46.382333,
          45.746667,
          45.753333,
          46.0035,
          46.002833,
          46.176,
          46.247333,
          46.158667,
          45.762667,
          45.970333,
          45.958167,
          45.941667,
          46.013333,
          46.012667,
          46.246667,
          46.251667,
          45.8925,
          45.900833,
          45.8935,
          46.119167,
          45.9625,
          46.261667,
          46.278167,
          45.7995,
          45.972,
          45.973333,
          46.168333,
          46.003333,
          46.003833,
          46.020833,
          46.002333,
          46.024667,
          46.027667,
          46.024667,
          45.791833,
          46.165833,
          45.968333,
          46.29,
          45.855333,
          45.855667,
          45.86,
          45.928167,
          46.16,
          46.16,
          45.855333,
          46.075,
          46.048167,
          45.803833,
          46.178333,
          46.18,
          46.178333,
          45.888333,
          46.368833,
          45.951667,
          45.921667,
          46.311667,
          46.098,
          46.106667,
          45.901167,
          45.9,
          45.915,
          46.135,
          46.011333,
          45.848333,
          46.235,
          45.886667,
          46.233333,
          45.932,
          45.933333,
          46.086667,
          46.331667,
          45.801667,
          45.931167,
          45.963333,
          45.713,
          45.726667,
          45.921667,
          46.136667,
          45.826667,
          46.145,
          46.076333,
          46.1,
          46.108333,
          45.877833,
          46.366667,
          46.366667,
          45.995,
          46.008333,
          46.013,
          46.316333,
          46.315333,
          45.901667,
          46.0205,
          46.0205,
          45.918,
          45.231,
          45.203333,
          45.13,
          45.395,
          45.087833,
          45.031667,
          45.057167,
          45.182,
          45.227167,
          45.350333,
          45.071167,
          45.056667,
          45.605,
          45.608,
          45.5635,
          45.128,
          45.13,
          45.101667,
          45.098667,
          45.120667,
          44.97,
          45.463333,
          45.432833,
          45.581667,
          44.975,
          45.056667,
          45.140167,
          44.812,
          44.810333,
          45.433333,
          44.825333,
          44.826667,
          44.826667,
          44.826667,
          44.989833,
          45.3,
          45.295,
          45.4555,
          45.324667,
          45.22,
          44.819833,
          45.355333,
          45.738333,
          45.778333,
          45.12,
          45.176167,
          44.903333,
          45.516667,
          45.473333,
          45.594667,
          45.28,
          45.255667,
          45.363333,
          45.217167,
          45.185,
          45.185,
          45.2115,
          45.166667,
          45.364,
          44.899833,
          44.893167,
          45.08,
          45.097667,
          45.105,
          45.1,
          45.08,
          45.020833,
          44.932667,
          45.3545,
          45.318333,
          45.318333,
          45.066667,
          45.3,
          44.963333,
          44.905667,
          44.935,
          44.86,
          44.85,
          45.333333,
          45.326667,
          45.56,
          45.205,
          45.205,
          45.319333,
          44.756667,
          45.1115,
          44.990667,
          45.053333,
          45.371667,
          45.3895,
          45.38,
          45.015,
          45.456667,
          45.205833,
          45.211667,
          45.007333,
          45.009167,
          44.996667,
          44.997,
          45.018333,
          44.936833,
          45.453333,
          45.756667,
          45.590667,
          45.59,
          44.815833,
          45.228833,
          45.495,
          44.921667,
          45.036667,
          45.815,
          45.263333,
          45.128167,
          45.051667,
          45.668667,
          44.784167,
          44.816333,
          44.8,
          45.265333,
          45.408333,
          45.528333,
          45.533333,
          45.7495,
          45.061667,
          45.061667,
          45.245833,
          45.256167,
          45.243333,
          45.25,
          45.275,
          45.103333,
          45.113333,
          45.086667,
          45.185,
          45.478667,
          44.882167,
          45.218333,
          45.329667,
          45.3875,
          45.44,
          45.201667,
          45.31,
          45.315,
          45.693333,
          45.053333,
          45.284167,
          45.2845,
          45.392667,
          44.946667,
          44.945833,
          45.308333,
          45.313833,
          45.345,
          44.796,
          45.325,
          45.33,
          44.9455,
          44.956667,
          44.956667,
          44.956667,
          45.463333,
          45.205,
          45.307833,
          45.5,
          45.565,
          45.4145,
          45.169167,
          45.148333,
          44.755,
          45.341667,
          45.413333,
          45.411,
          45.343333,
          45.317333,
          45.103167,
          44.926667,
          45.300167,
          45.302333,
          44.746667,
          44.746667,
          45.303,
          44.9005,
          44.88,
          44.869167,
          44.869833,
          45.1005,
          45.149167,
          45.156667,
          45.158833,
          45.149167,
          45.12,
          45.12,
          45.12,
          44.99,
          44.99,
          45.533333,
          45.053333,
          45.024333,
          45.074833,
          45.0715,
          45.0715,
          45.0785,
          45.070333,
          45.018333,
          45.212,
          45.21,
          45.366667
         ],
         "legendgroup": "",
         "lon": [
          5.813333,
          6.080167,
          5.889667,
          5.908333,
          6.371833,
          6.327667,
          6.385,
          6.371833,
          6.341,
          6.336333,
          6.211833,
          5.951833,
          6.5405,
          6.5265,
          6.313333,
          6.117333,
          6.738333,
          6.732667,
          6.744333,
          6.716833,
          6.721667,
          6.541667,
          6.616667,
          6.621667,
          6.568667,
          6.771167,
          6.995333,
          6.991667,
          7.002333,
          7.057167,
          7.051167,
          7.043333,
          6.768333,
          6.763333,
          6.765,
          6.207667,
          6.205667,
          6.2335,
          6.6495,
          6.648333,
          6.571667,
          6.563333,
          5.970333,
          5.973333,
          5.902833,
          5.918333,
          5.918333,
          5.918333,
          5.878,
          6.691667,
          6.171667,
          5.847333,
          6.53,
          6.535333,
          6.632167,
          6.17,
          6.166667,
          5.9005,
          5.983667,
          6.65,
          6.65,
          6.674167,
          6.3435,
          6.6475,
          6.253333,
          6.638833,
          6.585,
          6.3085,
          6.313333,
          6.176833,
          6.074667,
          5.985667,
          6.525833,
          6.511667,
          6.471667,
          6.413333,
          6.501,
          6.508333,
          5.860333,
          5.853667,
          6.698833,
          6.7035,
          6.678667,
          6.771833,
          6.675167,
          6.112333,
          6.848333,
          6.055,
          6.252,
          5.795833,
          6.875,
          6.875,
          6.944667,
          6.875,
          6.875,
          6.875,
          6.875,
          6.955333,
          6.266667,
          6.242833,
          7.016167,
          6.061167,
          6.826667,
          6.455,
          6.005,
          6.404,
          6.541667,
          6.469,
          6.528833,
          6.108333,
          6.5895,
          6.583333,
          6.674167,
          5.957167,
          6.899167,
          5.8215,
          5.986667,
          6.321,
          6.049167,
          6.401667,
          6.336833,
          6.534167,
          5.776833,
          5.771667,
          5.773,
          6.571,
          6.533333,
          6.533333,
          6.7565,
          6.348333,
          6.72,
          6.716667,
          5.783333,
          6.246667,
          6.636667,
          6.636667,
          6.483333,
          5.828333,
          6.346667,
          6.566667,
          6.001667,
          6.436667,
          6.151667,
          5.845,
          6.245,
          6.231167,
          6.3635,
          6.284333,
          6.278833,
          6.333333,
          6.4645,
          6.2025,
          6.271333,
          5.8865,
          5.883333,
          5.777333,
          6.482833,
          6.354333,
          6.521667,
          6.5105,
          6.446167,
          6.490833,
          6.0935,
          6.216333,
          6.895167,
          6.307167,
          6.886833,
          6.8145,
          6.908333,
          6.908333,
          6.908333,
          6.908333,
          6.920667,
          6.907167,
          5.977333,
          6.421,
          6.418333,
          6.416667,
          6.416667,
          6.403333,
          6.922333,
          6.978167,
          6.978167,
          6.978167,
          6.664833,
          6.5825,
          6.581,
          6.978333,
          6.978333,
          6.978333,
          6.4635,
          6.425,
          6.433167,
          6.425,
          6.426667,
          6.493833,
          6.481667,
          6.445167,
          6.3165,
          5.851667,
          5.755,
          6.734167,
          6.8875,
          6.896833,
          6.021667,
          6.233833,
          6.115,
          6.248333,
          6.231667,
          6.646667,
          6.646667,
          6.140167,
          6.928333,
          6.779833,
          6.431333,
          6.105667,
          6.53,
          6.708167,
          5.944667,
          6.395,
          6.416667,
          6.466667,
          6.678333,
          6.408333,
          6.399833,
          6.338333,
          6.423333,
          6.048333,
          6.0435,
          6.8775,
          6.863333,
          6.867333,
          6.152167,
          6.166667,
          6.818833,
          6.797167,
          6.792333,
          6.583333,
          6.73,
          6.428333,
          6.427167,
          6.588333,
          6.563333,
          6.559833,
          6.578333,
          6.264,
          6.643333,
          6.626667,
          6.34,
          6.728833,
          6.958833,
          6.107833,
          6.106667,
          6.028333,
          6.225,
          6.301667,
          6.318333,
          6.393,
          6.275667,
          6.01,
          6.5665,
          6.598333,
          6.5825,
          6.293333,
          6.281833,
          6.697333,
          6.697167,
          6.210333,
          6.127667,
          6.670333,
          6.255333,
          6.444667,
          6.456167,
          6.426667,
          6.176667,
          6.1745,
          6.491667,
          6.473333,
          6.800667,
          6.4855,
          6.445667,
          6.171167,
          6.889167,
          6.633333,
          6.621,
          6.367667,
          6.454167,
          6.471833,
          6.692833,
          6.946667,
          6.9485,
          6.970833,
          6.947333,
          6.644,
          6.665667,
          6.643833,
          6.699833,
          6.659167,
          6.942833,
          6.31,
          6.608167,
          6.608,
          6.195,
          6.094,
          6.206667,
          6.206667,
          6.669,
          6.086667,
          6.483333,
          6.265,
          6.708333,
          6.71,
          6.708333,
          6.796667,
          6.79,
          6.731667,
          6.691667,
          6.455,
          6.2605,
          6.266667,
          6.885833,
          6.89,
          6.07,
          6.268333,
          6.5355,
          5.953333,
          6.321667,
          6.713333,
          6.656667,
          6.651,
          6.631667,
          6.726667,
          6.378333,
          6.11,
          6.767333,
          5.85,
          6.276333,
          6.296667,
          6.41,
          6.477,
          6.153333,
          6.078333,
          6.612167,
          6.576667,
          6.578333,
          6.323,
          6.483333,
          6.455,
          6.246667,
          5.841667,
          5.8445,
          6.669833,
          6.673333,
          5.921667,
          6.919167,
          6.919167,
          5.994667,
          6.038167,
          6.040333,
          6.036667,
          6.072,
          6.085667,
          6.066667,
          6.076333,
          5.552167,
          5.581167,
          5.0365,
          6.168,
          6.040833,
          5.265,
          5.309333,
          5.404167,
          5.878333,
          5.9,
          5.88,
          5.876,
          5.895667,
          5.956667,
          5.985,
          5.517333,
          4.798333,
          5.571667,
          5.373333,
          5.306,
          5.571,
          5.580333,
          5.57,
          5.616833,
          5.621667,
          5.621667,
          5.621667,
          5.594167,
          5.77,
          5.765333,
          5.401,
          6.047333,
          5.765,
          5.946,
          5.596333,
          5.388333,
          5.376667,
          6.07,
          5.617167,
          5.946667,
          4.965,
          5,
          5.528833,
          6.075,
          5.661833,
          5.791833,
          5.8485,
          5.721667,
          5.721667,
          5.682833,
          5.733333,
          5.313333,
          5.565667,
          5.547167,
          6.051667,
          6.072833,
          6.0975,
          6.1,
          6.05,
          5.8625,
          6.292,
          5.262667,
          6.086667,
          6.086667,
          6.045,
          5.97,
          5.746667,
          5.783667,
          5.786167,
          5.978333,
          5.98,
          5.833333,
          5.931667,
          5.455,
          5.743333,
          5.743333,
          6.087667,
          5.675,
          5.609167,
          5.883333,
          6.028333,
          5.993333,
          6.123833,
          6.1,
          5.588667,
          5.505,
          6.0425,
          5.856667,
          6.122833,
          6.106667,
          6.171833,
          6.204667,
          6.126667,
          6.346167,
          4.766667,
          5.255,
          4.972167,
          4.955,
          5.754667,
          5.778333,
          5.04,
          5.6375,
          6.13,
          5.403333,
          5.56,
          6.071667,
          5.987333,
          5.203667,
          5.906167,
          5.908833,
          5.648333,
          6.016,
          5.126667,
          5.671333,
          5.67,
          5.1725,
          5.341667,
          5.341667,
          6.016667,
          5.995667,
          6.017167,
          5.98,
          5.706667,
          5.475,
          5.474333,
          5.466667,
          5.869167,
          4.810667,
          5.6395,
          5.251667,
          4.768667,
          5.718,
          4.775,
          5.481667,
          5.886667,
          5.884833,
          5.501667,
          5.835,
          5.352833,
          5.353,
          5.657333,
          6.188333,
          6.188333,
          5.883333,
          5.8635,
          5.8465,
          5.796167,
          5.9,
          5.903333,
          6.188167,
          6.176667,
          6.176667,
          6.176667,
          5.653333,
          5.52,
          5.884,
          5.14,
          5.433333,
          5.739833,
          5.768833,
          5.323333,
          5.656667,
          5.815,
          5.85,
          5.843333,
          5.816667,
          5.803833,
          5.351833,
          5.773333,
          5.951333,
          5.995667,
          5.75,
          5.766667,
          5.489167,
          5.906167,
          6.018333,
          6.090333,
          6.090167,
          5.698,
          6.047167,
          6.076667,
          6.097667,
          6.047,
          5.811667,
          5.811667,
          5.811667,
          6.116667,
          6.116667,
          4.881667,
          5.668333,
          5.567667,
          5.555333,
          5.542,
          5.542,
          5.561,
          5.552333,
          6.041667,
          5.376833,
          5.401667,
          5.588333
         ],
         "marker": {
          "color": "red"
         },
         "mode": "markers",
         "name": "",
         "showlegend": false,
         "subplot": "mapbox",
         "type": "scattermapbox"
        }
       ],
       "layout": {
        "height": 800,
        "hoverlabel": {
         "bgcolor": "rgb(255,255,255)"
        },
        "legend": {
         "tracegroupgap": 0
        },
        "mapbox": {
         "center": {
          "lat": 45.52068529078014,
          "lon": 6.185240843971631
         },
         "domain": {
          "x": [
           0,
           1
          ],
          "y": [
           0,
           1
          ]
         },
         "layers": [
          {
           "color": "rgba(0, 0, 0, 0.9)",
           "line": {
            "width": 1
           },
           "source": "https://www.data.gouv.fr/fr/datasets/r/90b9341a-e1f7-4d75-a73c-bbc010c7feeb",
           "sourcetype": "geojson",
           "type": "line"
          }
         ],
         "style": "open-street-map",
         "zoom": 8
        },
        "margin": {
         "t": 60
        },
        "template": {
         "data": {
          "bar": [
           {
            "error_x": {
             "color": "#2a3f5f"
            },
            "error_y": {
             "color": "#2a3f5f"
            },
            "marker": {
             "line": {
              "color": "#E5ECF6",
              "width": 0.5
             },
             "pattern": {
              "fillmode": "overlay",
              "size": 10,
              "solidity": 0.2
             }
            },
            "type": "bar"
           }
          ],
          "barpolar": [
           {
            "marker": {
             "line": {
              "color": "#E5ECF6",
              "width": 0.5
             },
             "pattern": {
              "fillmode": "overlay",
              "size": 10,
              "solidity": 0.2
             }
            },
            "type": "barpolar"
           }
          ],
          "carpet": [
           {
            "aaxis": {
             "endlinecolor": "#2a3f5f",
             "gridcolor": "white",
             "linecolor": "white",
             "minorgridcolor": "white",
             "startlinecolor": "#2a3f5f"
            },
            "baxis": {
             "endlinecolor": "#2a3f5f",
             "gridcolor": "white",
             "linecolor": "white",
             "minorgridcolor": "white",
             "startlinecolor": "#2a3f5f"
            },
            "type": "carpet"
           }
          ],
          "choropleth": [
           {
            "colorbar": {
             "outlinewidth": 0,
             "ticks": ""
            },
            "type": "choropleth"
           }
          ],
          "contour": [
           {
            "colorbar": {
             "outlinewidth": 0,
             "ticks": ""
            },
            "colorscale": [
             [
              0,
              "#0d0887"
             ],
             [
              0.1111111111111111,
              "#46039f"
             ],
             [
              0.2222222222222222,
              "#7201a8"
             ],
             [
              0.3333333333333333,
              "#9c179e"
             ],
             [
              0.4444444444444444,
              "#bd3786"
             ],
             [
              0.5555555555555556,
              "#d8576b"
             ],
             [
              0.6666666666666666,
              "#ed7953"
             ],
             [
              0.7777777777777778,
              "#fb9f3a"
             ],
             [
              0.8888888888888888,
              "#fdca26"
             ],
             [
              1,
              "#f0f921"
             ]
            ],
            "type": "contour"
           }
          ],
          "contourcarpet": [
           {
            "colorbar": {
             "outlinewidth": 0,
             "ticks": ""
            },
            "type": "contourcarpet"
           }
          ],
          "heatmap": [
           {
            "colorbar": {
             "outlinewidth": 0,
             "ticks": ""
            },
            "colorscale": [
             [
              0,
              "#0d0887"
             ],
             [
              0.1111111111111111,
              "#46039f"
             ],
             [
              0.2222222222222222,
              "#7201a8"
             ],
             [
              0.3333333333333333,
              "#9c179e"
             ],
             [
              0.4444444444444444,
              "#bd3786"
             ],
             [
              0.5555555555555556,
              "#d8576b"
             ],
             [
              0.6666666666666666,
              "#ed7953"
             ],
             [
              0.7777777777777778,
              "#fb9f3a"
             ],
             [
              0.8888888888888888,
              "#fdca26"
             ],
             [
              1,
              "#f0f921"
             ]
            ],
            "type": "heatmap"
           }
          ],
          "heatmapgl": [
           {
            "colorbar": {
             "outlinewidth": 0,
             "ticks": ""
            },
            "colorscale": [
             [
              0,
              "#0d0887"
             ],
             [
              0.1111111111111111,
              "#46039f"
             ],
             [
              0.2222222222222222,
              "#7201a8"
             ],
             [
              0.3333333333333333,
              "#9c179e"
             ],
             [
              0.4444444444444444,
              "#bd3786"
             ],
             [
              0.5555555555555556,
              "#d8576b"
             ],
             [
              0.6666666666666666,
              "#ed7953"
             ],
             [
              0.7777777777777778,
              "#fb9f3a"
             ],
             [
              0.8888888888888888,
              "#fdca26"
             ],
             [
              1,
              "#f0f921"
             ]
            ],
            "type": "heatmapgl"
           }
          ],
          "histogram": [
           {
            "marker": {
             "pattern": {
              "fillmode": "overlay",
              "size": 10,
              "solidity": 0.2
             }
            },
            "type": "histogram"
           }
          ],
          "histogram2d": [
           {
            "colorbar": {
             "outlinewidth": 0,
             "ticks": ""
            },
            "colorscale": [
             [
              0,
              "#0d0887"
             ],
             [
              0.1111111111111111,
              "#46039f"
             ],
             [
              0.2222222222222222,
              "#7201a8"
             ],
             [
              0.3333333333333333,
              "#9c179e"
             ],
             [
              0.4444444444444444,
              "#bd3786"
             ],
             [
              0.5555555555555556,
              "#d8576b"
             ],
             [
              0.6666666666666666,
              "#ed7953"
             ],
             [
              0.7777777777777778,
              "#fb9f3a"
             ],
             [
              0.8888888888888888,
              "#fdca26"
             ],
             [
              1,
              "#f0f921"
             ]
            ],
            "type": "histogram2d"
           }
          ],
          "histogram2dcontour": [
           {
            "colorbar": {
             "outlinewidth": 0,
             "ticks": ""
            },
            "colorscale": [
             [
              0,
              "#0d0887"
             ],
             [
              0.1111111111111111,
              "#46039f"
             ],
             [
              0.2222222222222222,
              "#7201a8"
             ],
             [
              0.3333333333333333,
              "#9c179e"
             ],
             [
              0.4444444444444444,
              "#bd3786"
             ],
             [
              0.5555555555555556,
              "#d8576b"
             ],
             [
              0.6666666666666666,
              "#ed7953"
             ],
             [
              0.7777777777777778,
              "#fb9f3a"
             ],
             [
              0.8888888888888888,
              "#fdca26"
             ],
             [
              1,
              "#f0f921"
             ]
            ],
            "type": "histogram2dcontour"
           }
          ],
          "mesh3d": [
           {
            "colorbar": {
             "outlinewidth": 0,
             "ticks": ""
            },
            "type": "mesh3d"
           }
          ],
          "parcoords": [
           {
            "line": {
             "colorbar": {
              "outlinewidth": 0,
              "ticks": ""
             }
            },
            "type": "parcoords"
           }
          ],
          "pie": [
           {
            "automargin": true,
            "type": "pie"
           }
          ],
          "scatter": [
           {
            "fillpattern": {
             "fillmode": "overlay",
             "size": 10,
             "solidity": 0.2
            },
            "type": "scatter"
           }
          ],
          "scatter3d": [
           {
            "line": {
             "colorbar": {
              "outlinewidth": 0,
              "ticks": ""
             }
            },
            "marker": {
             "colorbar": {
              "outlinewidth": 0,
              "ticks": ""
             }
            },
            "type": "scatter3d"
           }
          ],
          "scattercarpet": [
           {
            "marker": {
             "colorbar": {
              "outlinewidth": 0,
              "ticks": ""
             }
            },
            "type": "scattercarpet"
           }
          ],
          "scattergeo": [
           {
            "marker": {
             "colorbar": {
              "outlinewidth": 0,
              "ticks": ""
             }
            },
            "type": "scattergeo"
           }
          ],
          "scattergl": [
           {
            "marker": {
             "colorbar": {
              "outlinewidth": 0,
              "ticks": ""
             }
            },
            "type": "scattergl"
           }
          ],
          "scattermapbox": [
           {
            "marker": {
             "colorbar": {
              "outlinewidth": 0,
              "ticks": ""
             }
            },
            "type": "scattermapbox"
           }
          ],
          "scatterpolar": [
           {
            "marker": {
             "colorbar": {
              "outlinewidth": 0,
              "ticks": ""
             }
            },
            "type": "scatterpolar"
           }
          ],
          "scatterpolargl": [
           {
            "marker": {
             "colorbar": {
              "outlinewidth": 0,
              "ticks": ""
             }
            },
            "type": "scatterpolargl"
           }
          ],
          "scatterternary": [
           {
            "marker": {
             "colorbar": {
              "outlinewidth": 0,
              "ticks": ""
             }
            },
            "type": "scatterternary"
           }
          ],
          "surface": [
           {
            "colorbar": {
             "outlinewidth": 0,
             "ticks": ""
            },
            "colorscale": [
             [
              0,
              "#0d0887"
             ],
             [
              0.1111111111111111,
              "#46039f"
             ],
             [
              0.2222222222222222,
              "#7201a8"
             ],
             [
              0.3333333333333333,
              "#9c179e"
             ],
             [
              0.4444444444444444,
              "#bd3786"
             ],
             [
              0.5555555555555556,
              "#d8576b"
             ],
             [
              0.6666666666666666,
              "#ed7953"
             ],
             [
              0.7777777777777778,
              "#fb9f3a"
             ],
             [
              0.8888888888888888,
              "#fdca26"
             ],
             [
              1,
              "#f0f921"
             ]
            ],
            "type": "surface"
           }
          ],
          "table": [
           {
            "cells": {
             "fill": {
              "color": "#EBF0F8"
             },
             "line": {
              "color": "white"
             }
            },
            "header": {
             "fill": {
              "color": "#C8D4E3"
             },
             "line": {
              "color": "white"
             }
            },
            "type": "table"
           }
          ]
         },
         "layout": {
          "annotationdefaults": {
           "arrowcolor": "#2a3f5f",
           "arrowhead": 0,
           "arrowwidth": 1
          },
          "autotypenumbers": "strict",
          "coloraxis": {
           "colorbar": {
            "outlinewidth": 0,
            "ticks": ""
           }
          },
          "colorscale": {
           "diverging": [
            [
             0,
             "#8e0152"
            ],
            [
             0.1,
             "#c51b7d"
            ],
            [
             0.2,
             "#de77ae"
            ],
            [
             0.3,
             "#f1b6da"
            ],
            [
             0.4,
             "#fde0ef"
            ],
            [
             0.5,
             "#f7f7f7"
            ],
            [
             0.6,
             "#e6f5d0"
            ],
            [
             0.7,
             "#b8e186"
            ],
            [
             0.8,
             "#7fbc41"
            ],
            [
             0.9,
             "#4d9221"
            ],
            [
             1,
             "#276419"
            ]
           ],
           "sequential": [
            [
             0,
             "#0d0887"
            ],
            [
             0.1111111111111111,
             "#46039f"
            ],
            [
             0.2222222222222222,
             "#7201a8"
            ],
            [
             0.3333333333333333,
             "#9c179e"
            ],
            [
             0.4444444444444444,
             "#bd3786"
            ],
            [
             0.5555555555555556,
             "#d8576b"
            ],
            [
             0.6666666666666666,
             "#ed7953"
            ],
            [
             0.7777777777777778,
             "#fb9f3a"
            ],
            [
             0.8888888888888888,
             "#fdca26"
            ],
            [
             1,
             "#f0f921"
            ]
           ],
           "sequentialminus": [
            [
             0,
             "#0d0887"
            ],
            [
             0.1111111111111111,
             "#46039f"
            ],
            [
             0.2222222222222222,
             "#7201a8"
            ],
            [
             0.3333333333333333,
             "#9c179e"
            ],
            [
             0.4444444444444444,
             "#bd3786"
            ],
            [
             0.5555555555555556,
             "#d8576b"
            ],
            [
             0.6666666666666666,
             "#ed7953"
            ],
            [
             0.7777777777777778,
             "#fb9f3a"
            ],
            [
             0.8888888888888888,
             "#fdca26"
            ],
            [
             1,
             "#f0f921"
            ]
           ]
          },
          "colorway": [
           "#636efa",
           "#EF553B",
           "#00cc96",
           "#ab63fa",
           "#FFA15A",
           "#19d3f3",
           "#FF6692",
           "#B6E880",
           "#FF97FF",
           "#FECB52"
          ],
          "font": {
           "color": "#2a3f5f"
          },
          "geo": {
           "bgcolor": "white",
           "lakecolor": "white",
           "landcolor": "#E5ECF6",
           "showlakes": true,
           "showland": true,
           "subunitcolor": "white"
          },
          "hoverlabel": {
           "align": "left"
          },
          "hovermode": "closest",
          "mapbox": {
           "style": "light"
          },
          "paper_bgcolor": "white",
          "plot_bgcolor": "#E5ECF6",
          "polar": {
           "angularaxis": {
            "gridcolor": "white",
            "linecolor": "white",
            "ticks": ""
           },
           "bgcolor": "#E5ECF6",
           "radialaxis": {
            "gridcolor": "white",
            "linecolor": "white",
            "ticks": ""
           }
          },
          "scene": {
           "xaxis": {
            "backgroundcolor": "#E5ECF6",
            "gridcolor": "white",
            "gridwidth": 2,
            "linecolor": "white",
            "showbackground": true,
            "ticks": "",
            "zerolinecolor": "white"
           },
           "yaxis": {
            "backgroundcolor": "#E5ECF6",
            "gridcolor": "white",
            "gridwidth": 2,
            "linecolor": "white",
            "showbackground": true,
            "ticks": "",
            "zerolinecolor": "white"
           },
           "zaxis": {
            "backgroundcolor": "#E5ECF6",
            "gridcolor": "white",
            "gridwidth": 2,
            "linecolor": "white",
            "showbackground": true,
            "ticks": "",
            "zerolinecolor": "white"
           }
          },
          "shapedefaults": {
           "line": {
            "color": "#2a3f5f"
           }
          },
          "ternary": {
           "aaxis": {
            "gridcolor": "white",
            "linecolor": "white",
            "ticks": ""
           },
           "baxis": {
            "gridcolor": "white",
            "linecolor": "white",
            "ticks": ""
           },
           "bgcolor": "#E5ECF6",
           "caxis": {
            "gridcolor": "white",
            "linecolor": "white",
            "ticks": ""
           }
          },
          "title": {
           "x": 0.05
          },
          "xaxis": {
           "automargin": true,
           "gridcolor": "white",
           "linecolor": "white",
           "ticks": "",
           "title": {
            "standoff": 15
           },
           "zerolinecolor": "white",
           "zerolinewidth": 2
          },
          "yaxis": {
           "automargin": true,
           "gridcolor": "white",
           "linecolor": "white",
           "ticks": "",
           "title": {
            "standoff": 15
           },
           "zerolinecolor": "white",
           "zerolinewidth": 2
          }
         }
        },
        "title": {
         "text": "Alpes du Nord : postes actifs en 2024",
         "x": 0.5
        },
        "width": 900
       }
      }
     },
     "metadata": {},
     "output_type": "display_data"
    }
   ],
   "source": [
    "départements_alpes_nord = ['73','74','38']\n",
    "\n",
    "liste_alpes_nord = pd.DataFrame(columns=['poste', 'nom', 'valeurs', 'alt', 'lat', 'lon', \n",
    "                                                  'début','fin', 'pluie', 'neige','HN','TM', 'TN', 'TX' ] )\n",
    "for dept in départements_alpes_nord:\n",
    "      liste_départementale = synthétiser_information(dept)\n",
    "      liste_alpes_nord = pd.concat([liste_alpes_nord, liste_départementale])\n",
    "      \n",
    "\n",
    "cartographier_postes(liste_alpes_nord, dept = 'nord')\n",
    "      "
   ]
  },
  {
   "cell_type": "code",
   "execution_count": 72,
   "metadata": {},
   "outputs": [
    {
     "data": {
      "text/html": [
       "<div>\n",
       "<style scoped>\n",
       "    .dataframe tbody tr th:only-of-type {\n",
       "        vertical-align: middle;\n",
       "    }\n",
       "\n",
       "    .dataframe tbody tr th {\n",
       "        vertical-align: top;\n",
       "    }\n",
       "\n",
       "    .dataframe thead th {\n",
       "        text-align: right;\n",
       "    }\n",
       "</style>\n",
       "<table border=\"1\" class=\"dataframe\">\n",
       "  <thead>\n",
       "    <tr style=\"text-align: right;\">\n",
       "      <th></th>\n",
       "      <th>poste</th>\n",
       "      <th>nom</th>\n",
       "      <th>valeurs</th>\n",
       "      <th>alt</th>\n",
       "      <th>lat</th>\n",
       "      <th>lon</th>\n",
       "      <th>début</th>\n",
       "      <th>fin</th>\n",
       "      <th>pluie</th>\n",
       "      <th>neige</th>\n",
       "      <th>HN</th>\n",
       "      <th>TM</th>\n",
       "      <th>TN</th>\n",
       "      <th>TX</th>\n",
       "    </tr>\n",
       "  </thead>\n",
       "  <tbody>\n",
       "    <tr>\n",
       "      <th>0</th>\n",
       "      <td>73001001</td>\n",
       "      <td>Aiguebelette</td>\n",
       "      <td>5539</td>\n",
       "      <td>400</td>\n",
       "      <td>45.551667</td>\n",
       "      <td>5.813333</td>\n",
       "      <td>1941-10-01</td>\n",
       "      <td>2022-12-31</td>\n",
       "      <td>True</td>\n",
       "      <td>False</td>\n",
       "      <td>False</td>\n",
       "      <td>False</td>\n",
       "      <td>False</td>\n",
       "      <td>False</td>\n",
       "    </tr>\n",
       "    <tr>\n",
       "      <th>0</th>\n",
       "      <td>73004001</td>\n",
       "      <td>Aillon Le Jeune</td>\n",
       "      <td>46217</td>\n",
       "      <td>900</td>\n",
       "      <td>45.617833</td>\n",
       "      <td>6.080167</td>\n",
       "      <td>1934-06-01</td>\n",
       "      <td>2022-12-31</td>\n",
       "      <td>True</td>\n",
       "      <td>True</td>\n",
       "      <td>True</td>\n",
       "      <td>False</td>\n",
       "      <td>False</td>\n",
       "      <td>False</td>\n",
       "    </tr>\n",
       "    <tr>\n",
       "      <th>0</th>\n",
       "      <td>73008003</td>\n",
       "      <td>Aix Les Bains</td>\n",
       "      <td>5296</td>\n",
       "      <td>234</td>\n",
       "      <td>45.700333</td>\n",
       "      <td>5.889667</td>\n",
       "      <td>2003-01-01</td>\n",
       "      <td>2022-12-31</td>\n",
       "      <td>True</td>\n",
       "      <td>False</td>\n",
       "      <td>False</td>\n",
       "      <td>False</td>\n",
       "      <td>False</td>\n",
       "      <td>False</td>\n",
       "    </tr>\n",
       "    <tr>\n",
       "      <th>0</th>\n",
       "      <td>73008001</td>\n",
       "      <td>Aix-Les-Bains</td>\n",
       "      <td>9048</td>\n",
       "      <td>365</td>\n",
       "      <td>45.693333</td>\n",
       "      <td>5.908333</td>\n",
       "      <td>1947-01-01</td>\n",
       "      <td>2022-12-31</td>\n",
       "      <td>True</td>\n",
       "      <td>False</td>\n",
       "      <td>False</td>\n",
       "      <td>False</td>\n",
       "      <td>True</td>\n",
       "      <td>True</td>\n",
       "    </tr>\n",
       "    <tr>\n",
       "      <th>0</th>\n",
       "      <td>73011002</td>\n",
       "      <td>Albertville</td>\n",
       "      <td>43171</td>\n",
       "      <td>331</td>\n",
       "      <td>45.662167</td>\n",
       "      <td>6.371833</td>\n",
       "      <td>1948-01-01</td>\n",
       "      <td>2022-12-31</td>\n",
       "      <td>True</td>\n",
       "      <td>True</td>\n",
       "      <td>True</td>\n",
       "      <td>False</td>\n",
       "      <td>False</td>\n",
       "      <td>False</td>\n",
       "    </tr>\n",
       "    <tr>\n",
       "      <th>...</th>\n",
       "      <td>...</td>\n",
       "      <td>...</td>\n",
       "      <td>...</td>\n",
       "      <td>...</td>\n",
       "      <td>...</td>\n",
       "      <td>...</td>\n",
       "      <td>...</td>\n",
       "      <td>...</td>\n",
       "      <td>...</td>\n",
       "      <td>...</td>\n",
       "      <td>...</td>\n",
       "      <td>...</td>\n",
       "      <td>...</td>\n",
       "      <td>...</td>\n",
       "    </tr>\n",
       "    <tr>\n",
       "      <th>0</th>\n",
       "      <td>38548002</td>\n",
       "      <td>Villard-De-Lans-Gend</td>\n",
       "      <td>19607</td>\n",
       "      <td>1031</td>\n",
       "      <td>45.070333</td>\n",
       "      <td>5.552333</td>\n",
       "      <td>1916-01-01</td>\n",
       "      <td>2022-12-31</td>\n",
       "      <td>True</td>\n",
       "      <td>False</td>\n",
       "      <td>False</td>\n",
       "      <td>False</td>\n",
       "      <td>True</td>\n",
       "      <td>True</td>\n",
       "    </tr>\n",
       "    <tr>\n",
       "      <th>0</th>\n",
       "      <td>38549001</td>\n",
       "      <td>Villard-Notre-Dame Village</td>\n",
       "      <td>5313</td>\n",
       "      <td>1550</td>\n",
       "      <td>45.018333</td>\n",
       "      <td>6.041667</td>\n",
       "      <td>1950-04-18</td>\n",
       "      <td>2022-12-31</td>\n",
       "      <td>True</td>\n",
       "      <td>False</td>\n",
       "      <td>False</td>\n",
       "      <td>False</td>\n",
       "      <td>False</td>\n",
       "      <td>False</td>\n",
       "    </tr>\n",
       "    <tr>\n",
       "      <th>0</th>\n",
       "      <td>38559004</td>\n",
       "      <td>Vinay</td>\n",
       "      <td>656</td>\n",
       "      <td>400</td>\n",
       "      <td>45.212000</td>\n",
       "      <td>5.376833</td>\n",
       "      <td>2015-03-01</td>\n",
       "      <td>2022-12-31</td>\n",
       "      <td>True</td>\n",
       "      <td>True</td>\n",
       "      <td>True</td>\n",
       "      <td>False</td>\n",
       "      <td>False</td>\n",
       "      <td>False</td>\n",
       "    </tr>\n",
       "    <tr>\n",
       "      <th>0</th>\n",
       "      <td>38559001</td>\n",
       "      <td>Vinay Bourg</td>\n",
       "      <td>1952</td>\n",
       "      <td>260</td>\n",
       "      <td>45.210000</td>\n",
       "      <td>5.401667</td>\n",
       "      <td>1949-01-01</td>\n",
       "      <td>2022-12-31</td>\n",
       "      <td>True</td>\n",
       "      <td>False</td>\n",
       "      <td>False</td>\n",
       "      <td>False</td>\n",
       "      <td>False</td>\n",
       "      <td>False</td>\n",
       "    </tr>\n",
       "    <tr>\n",
       "      <th>0</th>\n",
       "      <td>38563001</td>\n",
       "      <td>Voiron Pensionnat Saint-Joseph</td>\n",
       "      <td>461</td>\n",
       "      <td>292</td>\n",
       "      <td>45.366667</td>\n",
       "      <td>5.588333</td>\n",
       "      <td>1960-02-09</td>\n",
       "      <td>2022-12-31</td>\n",
       "      <td>True</td>\n",
       "      <td>False</td>\n",
       "      <td>False</td>\n",
       "      <td>False</td>\n",
       "      <td>False</td>\n",
       "      <td>False</td>\n",
       "    </tr>\n",
       "  </tbody>\n",
       "</table>\n",
       "<p>564 rows × 14 columns</p>\n",
       "</div>"
      ],
      "text/plain": [
       "       poste                             nom valeurs   alt        lat  \\\n",
       "0   73001001                    Aiguebelette    5539   400  45.551667   \n",
       "0   73004001                 Aillon Le Jeune   46217   900  45.617833   \n",
       "0   73008003                   Aix Les Bains    5296   234  45.700333   \n",
       "0   73008001                   Aix-Les-Bains    9048   365  45.693333   \n",
       "0   73011002                     Albertville   43171   331  45.662167   \n",
       "..       ...                             ...     ...   ...        ...   \n",
       "0   38548002            Villard-De-Lans-Gend   19607  1031  45.070333   \n",
       "0   38549001      Villard-Notre-Dame Village    5313  1550  45.018333   \n",
       "0   38559004                           Vinay     656   400  45.212000   \n",
       "0   38559001                     Vinay Bourg    1952   260  45.210000   \n",
       "0   38563001  Voiron Pensionnat Saint-Joseph     461   292  45.366667   \n",
       "\n",
       "         lon       début         fin pluie  neige     HN     TM     TN     TX  \n",
       "0   5.813333  1941-10-01  2022-12-31  True  False  False  False  False  False  \n",
       "0   6.080167  1934-06-01  2022-12-31  True   True   True  False  False  False  \n",
       "0   5.889667  2003-01-01  2022-12-31  True  False  False  False  False  False  \n",
       "0   5.908333  1947-01-01  2022-12-31  True  False  False  False   True   True  \n",
       "0   6.371833  1948-01-01  2022-12-31  True   True   True  False  False  False  \n",
       "..       ...         ...         ...   ...    ...    ...    ...    ...    ...  \n",
       "0   5.552333  1916-01-01  2022-12-31  True  False  False  False   True   True  \n",
       "0   6.041667  1950-04-18  2022-12-31  True  False  False  False  False  False  \n",
       "0   5.376833  2015-03-01  2022-12-31  True   True   True  False  False  False  \n",
       "0   5.401667  1949-01-01  2022-12-31  True  False  False  False  False  False  \n",
       "0   5.588333  1960-02-09  2022-12-31  True  False  False  False  False  False  \n",
       "\n",
       "[564 rows x 14 columns]"
      ]
     },
     "execution_count": 72,
     "metadata": {},
     "output_type": "execute_result"
    }
   ],
   "source": [
    "liste_alpes_nord"
   ]
  },
  {
   "cell_type": "code",
   "execution_count": 73,
   "metadata": {},
   "outputs": [],
   "source": [
    "fichier_excel   = os.path.join(répertoire_travail, 'liste_synthétique_Alpes_Nord.xlsx')\n",
    "onglet_liste = 'liste-stations'\n",
    "liste_alpes_nord.to_excel(fichier_excel, index=False, sheet_name= onglet_liste)"
   ]
  },
  {
   "cell_type": "markdown",
   "metadata": {},
   "source": [
    "# Extraction pour les Hautes Alpes"
   ]
  },
  {
   "cell_type": "code",
   "execution_count": 75,
   "metadata": {},
   "outputs": [
    {
     "name": "stderr",
     "output_type": "stream",
     "text": [
      "100%|██████████| 6/6 [00:56<00:00,  9.38s/it]\n"
     ]
    },
    {
     "data": {
      "application/vnd.plotly.v1+json": {
       "config": {
        "plotlyServerURL": "https://plot.ly"
       },
       "data": [
        {
         "customdata": [
          [
           " 05001001",
           1560,
           "1932-01-01",
           "2024-05-30"
          ],
          [
           "05001001",
           1560,
           "1948-12-15",
           "1949-12-31"
          ],
          [
           " 05001401",
           2070,
           "2007-01-01",
           "2022-12-31"
          ],
          [
           " 05001400",
           2018,
           "1985-12-23",
           "2024-05-30"
          ],
          [
           " 05139006",
           1244,
           "1928-11-01",
           "2024-05-30"
          ],
          [
           " 05004001",
           1345,
           "1928-03-01",
           "2024-05-30"
          ],
          [
           " 05007003",
           1825,
           "2007-07-05",
           "2024-05-30"
          ],
          [
           " 05007002",
           1763,
           "1936-04-01",
           "1949-12-31"
          ],
          [
           " 05007001",
           1690,
           "1947-01-01",
           "2024-05-30"
          ],
          [
           "05013001",
           845,
           "1964-09-01",
           "2022-12-31"
          ],
          [
           " 05013001",
           845,
           "1958-10-01",
           "2022-12-31"
          ],
          [
           " 05013003",
           866,
           "2000-01-01",
           "2024-05-30"
          ],
          [
           " 05023008",
           1352,
           "1933-10-01",
           "1949-12-31"
          ],
          [
           " 05023001",
           1324,
           "1933-01-01",
           "2022-12-31"
          ],
          [
           " 05023002",
           1406,
           "1946-08-01",
           "2022-12-31"
          ],
          [
           " 05023003",
           1320,
           "1928-01-16",
           "1949-12-31"
          ],
          [
           "05026001",
           1665,
           "1947-08-28",
           "1949-12-31"
          ],
          [
           " 05026001",
           1665,
           "1931-01-01",
           "2024-05-30"
          ],
          [
           " 05026400",
           1665,
           "1979-12-10",
           "2024-05-30"
          ],
          [
           " 05027001",
           1637,
           "1933-01-01",
           "2024-05-30"
          ],
          [
           " 05028001",
           755,
           "1989-01-01",
           "2022-12-31"
          ],
          [
           " 05031001",
           1100,
           "1928-01-01",
           "2022-12-31"
          ],
          [
           " 05031002",
           930,
           "1960-07-01",
           "2022-12-31"
          ],
          [
           " 05032002",
           1275,
           "1928-01-01",
           "2024-05-30"
          ],
          [
           " 05064001",
           1270,
           "1928-01-01",
           "2024-05-30"
          ],
          [
           " 05038001",
           1355,
           "1928-01-15",
           "2024-05-30"
          ],
          [
           " 05077402",
           2630,
           "1994-08-31",
           "2024-05-30"
          ],
          [
           " 05044001",
           1580,
           "1958-01-01",
           "2022-12-31"
          ],
          [
           " 05139001",
           1350,
           "1958-01-01",
           "2022-12-31"
          ],
          [
           " 05046001",
           873,
           "1877-01-01",
           "2024-05-30"
          ],
          [
           " 05049001",
           1150,
           "1939-01-01",
           "2022-12-31"
          ],
          [
           " 05052002",
           1050,
           "1937-07-01",
           "1949-12-31"
          ],
          [
           " 05052001",
           880,
           "1955-10-19",
           "2022-12-31"
          ],
          [
           " 05053001",
           603,
           "1928-01-01",
           "1949-12-31"
          ],
          [
           " 05058002",
           1130,
           "1933-01-01",
           "2022-12-31"
          ],
          [
           " 05058001",
           1320,
           "1958-08-01",
           "2022-12-31"
          ],
          [
           " 05079402",
           2559,
           "2015-10-07",
           "2024-05-30"
          ],
          [
           " 05061009",
           885,
           "2003-12-01",
           "2024-05-30"
          ],
          [
           " 05061008",
           750,
           "1877-01-01",
           "2022-12-31"
          ],
          [
           " 05061002",
           1249,
           "1935-01-01",
           "2022-12-31"
          ],
          [
           " 05061003",
           735,
           "1943-12-01",
           "1949-12-31"
          ],
          [
           " 05061400",
           1240,
           "2009-12-12",
           "2024-05-30"
          ],
          [
           " 05065001",
           980,
           "1928-01-01",
           "2022-12-31"
          ],
          [
           " 05055001",
           825,
           "1997-06-01",
           "2024-05-30"
          ],
          [
           " 05063001",
           1790,
           "1921-01-01",
           "2024-05-30"
          ],
          [
           " 05063410",
           3196,
           "2020-10-13",
           "2024-05-30"
          ],
          [
           " 05063402",
           3093,
           "1990-03-22",
           "2024-05-30"
          ],
          [
           " 05124001",
           815,
           "1954-01-01",
           "2022-12-31"
          ],
          [
           " 05162001",
           580,
           "1950-01-01",
           "2022-12-31"
          ],
          [
           " 05070003",
           565,
           "1992-12-01",
           "2024-05-30"
          ],
          [
           " 05070001",
           575,
           "1940-01-01",
           "2024-05-30"
          ],
          [
           " 05079400",
           2185,
           "1983-12-12",
           "2024-05-30"
          ],
          [
           " 05079002",
           1947,
           "1950-04-01",
           "2022-12-31"
          ],
          [
           " 05079001",
           1459,
           "1924-01-01",
           "2024-05-30"
          ],
          [
           " 05158001",
           801,
           "2003-05-01",
           "2024-05-30"
          ],
          [
           " 05098001",
           1446,
           "1931-03-01",
           "2024-05-30"
          ],
          [
           " 05098402",
           1895,
           "2002-12-20",
           "2024-05-30"
          ],
          [
           " 05064403",
           1270,
           "2000-08-01",
           "2024-05-30"
          ],
          [
           " 05180001",
           1120,
           "1936-01-01",
           "1949-12-31"
          ],
          [
           " 05077404",
           2068,
           "2024-03-07",
           "2024-05-30"
          ],
          [
           " 05085001",
           1848,
           "1939-01-02",
           "2022-12-31"
          ],
          [
           "05085001",
           1848,
           "1962-02-27",
           "2022-12-31"
          ],
          [
           " 05085403",
           2134,
           "2004-12-28",
           "2024-05-30"
          ],
          [
           " 05086001",
           815,
           "1938-11-01",
           "2022-12-31"
          ],
          [
           " 05088001",
           760,
           "1928-01-01",
           "1949-12-31"
          ],
          [
           " 05090001",
           1100,
           "1928-01-01",
           "2022-12-31"
          ],
          [
           " 05090002",
           1250,
           "1955-10-01",
           "2024-05-30"
          ],
          [
           " 05093001",
           1603,
           "1928-04-01",
           "2024-05-30"
          ],
          [
           " 05096002",
           1555,
           "1958-01-01",
           "2022-12-31"
          ],
          [
           " 05096404",
           2280,
           "2006-12-21",
           "2024-05-30"
          ],
          [
           "05044400",
           2545,
           "2022-11-12",
           "2022-12-31"
          ],
          [
           " 05044400",
           2545,
           "2010-08-17",
           "2024-05-30"
          ],
          [
           " 05101001",
           1270,
           "1936-06-01",
           "2024-05-30"
          ],
          [
           " 05101400",
           1270,
           "1994-12-27",
           "2024-05-30"
          ],
          [
           " 05110400",
           1680,
           "1979-12-17",
           "2024-05-30"
          ],
          [
           " 05110001",
           1380,
           "1955-10-19",
           "2024-05-30"
          ],
          [
           "05110001",
           1380,
           "2021-02-27",
           "2022-12-31"
          ],
          [
           " 05114002",
           1429,
           "1938-05-01",
           "2022-12-31"
          ],
          [
           " 05114402",
           1717,
           "2007-03-30",
           "2024-05-30"
          ],
          [
           " 05115001",
           670,
           "1928-01-01",
           "2022-12-31"
          ],
          [
           " 05118003",
           520,
           "2002-04-01",
           "2022-12-31"
          ],
          [
           " 05118002",
           530,
           "1985-03-01",
           "2022-12-31"
          ],
          [
           " 05119402",
           2050,
           "2012-12-24",
           "2024-05-30"
          ],
          [
           " 05120002",
           1670,
           "2004-10-01",
           "2024-05-30"
          ],
          [
           "05126001",
           625,
           "1994-05-01",
           "2022-12-31"
          ],
          [
           " 05126001",
           625,
           "1971-12-01",
           "2024-05-30"
          ],
          [
           " 05127001",
           675,
           "1958-01-01",
           "2024-05-30"
          ],
          [
           " 05133003",
           1350,
           "1928-01-01",
           "1949-12-31"
          ],
          [
           " 05136001",
           904,
           "1976-09-01",
           "2022-12-31"
          ],
          [
           " 05142002",
           775,
           "1935-02-01",
           "2022-12-31"
          ],
          [
           " 05145001",
           1120,
           "1935-02-01",
           "2022-12-31"
          ],
          [
           "05146003",
           1050,
           "1928-01-11",
           "1949-12-31"
          ],
          [
           " 05146003",
           1050,
           "1928-01-01",
           "2022-12-31"
          ],
          [
           " 05154001",
           780,
           "1938-08-02",
           "2022-12-31"
          ],
          [
           " 05133400",
           1905,
           "1976-01-18",
           "2024-05-30"
          ],
          [
           " 05166001",
           652,
           "1877-01-01",
           "2024-05-30"
          ],
          [
           " 05132002",
           1015,
           "1991-01-01",
           "2022-12-31"
          ],
          [
           " 05136002",
           906,
           "2006-09-01",
           "2024-05-30"
          ],
          [
           " 05139400",
           1281,
           "1973-12-16",
           "2022-12-31"
          ],
          [
           " 05139002",
           1300,
           "1928-01-01",
           "2024-05-30"
          ],
          [
           "05139002",
           1300,
           "1987-08-18",
           "2022-12-31"
          ],
          [
           " 05142001",
           935,
           "1928-01-01",
           "2024-05-30"
          ],
          [
           "05145002",
           1210,
           "2015-10-06",
           "2022-12-31"
          ],
          [
           " 05145002",
           1210,
           "2003-08-01",
           "2024-05-30"
          ],
          [
           " 05157001",
           2000,
           "1929-05-01",
           "2024-05-30"
          ],
          [
           " 05157400",
           2140,
           "1979-12-16",
           "2024-05-30"
          ],
          [
           " 05132001",
           1005,
           "1928-01-01",
           "2024-05-30"
          ],
          [
           " 05146001",
           925,
           "1961-06-01",
           "2022-12-31"
          ],
          [
           " 05139405",
           1915,
           "2001-12-26",
           "2024-05-30"
          ],
          [
           " 05170001",
           593,
           "1964-05-28",
           "2024-05-30"
          ],
          [
           " 05173001",
           574,
           "1935-04-01",
           "1949-12-31"
          ],
          [
           " 05173002",
           590,
           "1985-03-01",
           "2022-12-31"
          ],
          [
           " 05174001",
           1355,
           "1936-06-01",
           "2022-12-31"
          ],
          [
           " 05064400",
           2560,
           "1983-01-13",
           "2022-12-31"
          ],
          [
           " 05175001",
           1150,
           "1931-01-01",
           "1949-12-31"
          ],
          [
           " 05177001",
           1850,
           "1935-11-02",
           "2022-12-31"
          ],
          [
           " 05177003",
           1673,
           "1931-04-01",
           "1949-12-31"
          ],
          [
           " 05179001",
           823,
           "1964-05-01",
           "2024-05-30"
          ],
          [
           " 05181002",
           1665,
           "2004-07-31",
           "2024-05-30"
          ],
          [
           " 05182001",
           1072,
           "1928-01-01",
           "2024-05-30"
          ],
          [
           " 05183001",
           1310,
           "2003-08-01",
           "2024-05-30"
          ],
          [
           " 05181001",
           1650,
           "1944-06-01",
           "2022-12-31"
          ],
          [
           " 05184002",
           595,
           "1997-02-01",
           "2022-12-31"
          ]
         ],
         "hovertemplate": "<b>%{hovertext}</b><br><br>lat=%{lat}<br>lon=%{lon}<br>poste=%{customdata[0]}<br>alt=%{customdata[1]}<br>début=%{customdata[2]}<br>fin=%{customdata[3]}<extra></extra>",
         "hovertext": [
          "Abries",
          "Abries",
          "Abries -S-",
          "Abries Rm",
          "Agnieres-En-Devoluy",
          "Ancelle",
          "Arvieux",
          "Arvieux Brunissard",
          "Arvieux La Chalp",
          "Barcillonnette",
          "Barcillonnette",
          "Barcillonnette",
          "Briancon",
          "Briancon",
          "Briancon",
          "Briancon Station Militaire",
          "Ceillac",
          "Ceillac",
          "Ceillac_Nivo",
          "Cervieres",
          "Chabestan",
          "Champcella",
          "Champcella Usine Edf",
          "Champoleon",
          "Chapelle-En-Valgaudemar",
          "Chateau-Ville-Vieille",
          "Col Agnel-Nivose",
          "Crevoux Chef-Lieu",
          "Cypieres",
          "Embrun",
          "Esparron",
          "Eygliers",
          "Eygliers Lac Du Mont Dauphin",
          "Eyguians Agglomeration",
          "Freissinieres",
          "Freissinieres",
          "Galibier-Nivose",
          "Gap",
          "Gap",
          "Gap Col Bayard",
          "Gap Eaux Et Forets",
          "Gap-Bayard",
          "Guillestre Quartier Prepareing",
          "La Faurie",
          "La Grave",
          "La Grave 3200 M",
          "La Meije-Nivose",
          "La Rochette",
          "La Saulce Barrage Edf",
          "Laragne Monteglin",
          "Laragne-Monteglin",
          "Le Monetier",
          "Le Monetier",
          "Le Monetier Les Bains",
          "Le Saix",
          "Les Orres",
          "Les Orres Fontaines",
          "Les Portes En Valgaudemar",
          "Les Vigneaux Ecole Batie",
          "Molines-En-Queyras",
          "Montgenevre",
          "Montgenevre",
          "Montgenevre-Le Chalvet",
          "Montjay Bourg",
          "Montmorin Maison Forestiere",
          "Motte-Dalmas",
          "Motte-Molines",
          "Nevache-Edf-03",
          "Orcieres Prapic",
          "Orcieres-Nivose",
          "Parpaillon-Nivose",
          "Parpaillon-Nivose",
          "Pelvoux",
          "Pelvoux St Antoine",
          "Puy St Vincent 1600",
          "Puy-St-Vincent",
          "Puy-St-Vincent",
          "Reallon Iscle",
          "Reallon _Nivo",
          "Remollon",
          "Ribiers",
          "Ribiers-Grange",
          "Risoul",
          "Ristolas",
          "Rosans",
          "Rosans",
          "Rousset",
          "Saint-Chaffrey",
          "Saint-Crepin",
          "Saint-Firmin",
          "Saint-Jean-Saint-Nicolas",
          "Saint-Julien-En-Beauchene",
          "Saint-Julien-En-Beauchene",
          "Saint-Pierre-D'Argencon",
          "Serre Chevalier",
          "Serres",
          "St Bonnet",
          "St Crepin",
          "St Etienne En Devoluy",
          "St Etienne-En-Devoluy",
          "St Etienne-En-Devoluy",
          "St Firmin",
          "St Jean-St-Nicolas",
          "St Jean-St-Nicolas",
          "St Veran",
          "St Veran Rm",
          "St-Bonnet Champsaur",
          "St-Jul-En-Beauc",
          "Super_Devoluy",
          "Tallard",
          "Upaix Agglomeration",
          "Upaix Rourebeau",
          "Val-Des-Pres",
          "Vallompierre",
          "Vallouise Agglomeration",
          "Vars Les Claux",
          "Vars Sainte-Marie",
          "Veynes",
          "Villar D'Arene",
          "Villar Loubiere",
          "Villar St Pancrace",
          "Villar-D'Arene Village",
          "Vitrolles"
         ],
         "lat": [
          44.796667,
          44.796667,
          44.791333,
          44.792833,
          44.696167,
          44.624167,
          44.796,
          44.766667,
          44.781167,
          44.436667,
          44.436667,
          44.441667,
          44.896667,
          44.908333,
          44.896667,
          44.896667,
          44.671167,
          44.671167,
          44.671167,
          44.866167,
          44.471667,
          44.728333,
          44.723333,
          44.720167,
          44.81,
          44.759333,
          44.686,
          44.546667,
          44.683333,
          44.571167,
          44.453333,
          44.676667,
          44.676667,
          44.345,
          44.755,
          44.748333,
          45.056833,
          44.577667,
          44.568333,
          44.558333,
          44.558333,
          44.6215,
          44.66,
          44.566667,
          45.054167,
          45.006,
          45.012333,
          44.593333,
          44.425,
          44.319167,
          44.316667,
          44.949833,
          44.975,
          44.9715,
          44.475833,
          44.501167,
          44.481667,
          44.81,
          44.823333,
          44.709,
          44.9305,
          44.9305,
          44.938167,
          44.36,
          44.45,
          44.730833,
          44.748167,
          45.0185,
          44.683333,
          44.719,
          44.495333,
          44.495333,
          44.870833,
          44.870833,
          44.818,
          44.8285,
          44.8285,
          44.608333,
          44.580667,
          44.466667,
          44.2355,
          44.198167,
          44.616667,
          44.765667,
          44.3875,
          44.3875,
          44.468667,
          44.925,
          44.706667,
          44.781667,
          44.668333,
          44.616667,
          44.616667,
          44.518333,
          44.9245,
          44.421667,
          44.685,
          44.7045,
          44.69,
          44.6945,
          44.6945,
          44.7825,
          44.670833,
          44.670833,
          44.6925,
          44.705167,
          44.684167,
          44.616667,
          44.6655,
          44.452167,
          44.318333,
          44.318333,
          44.948333,
          44.8,
          44.845,
          44.61,
          44.61,
          44.536333,
          45.030833,
          44.826833,
          44.880333,
          45.041667,
          44.408667
         ],
         "legendgroup": "",
         "lon": [
          6.928333,
          6.928333,
          6.949667,
          6.947,
          5.880833,
          6.206167,
          6.728,
          6.738333,
          6.736667,
          5.92,
          5.92,
          5.927,
          6.638333,
          6.635,
          6.638333,
          6.638333,
          6.776167,
          6.776167,
          6.776167,
          6.7225,
          5.781667,
          6.57,
          6.57,
          6.258833,
          6.195333,
          6.809,
          6.972167,
          6.606667,
          5.933333,
          6.508667,
          5.901667,
          6.633333,
          6.633333,
          5.771667,
          6.538333,
          6.503333,
          6.377167,
          6.079833,
          6.091667,
          6.076667,
          6.076667,
          6.084333,
          6.65,
          5.750167,
          6.285833,
          6.253,
          6.265167,
          6.155,
          6.006667,
          5.7945,
          5.827,
          6.501,
          6.508333,
          6.514167,
          5.8155,
          6.552333,
          6.562833,
          6.195333,
          6.541667,
          6.856667,
          6.721333,
          6.721333,
          6.7195,
          5.605,
          5.54,
          6.066167,
          6.122833,
          6.622333,
          6.325,
          6.333667,
          6.636333,
          6.636333,
          6.487167,
          6.487167,
          6.485833,
          6.494333,
          6.494333,
          6.338333,
          6.352833,
          6.166667,
          5.855,
          5.881167,
          6.644167,
          6.9845,
          5.462167,
          5.462167,
          6.2685,
          6.606667,
          6.608333,
          6.026667,
          6.216667,
          5.71,
          5.71,
          5.696667,
          6.571333,
          5.710167,
          6.08,
          6.6,
          5.937667,
          5.9405,
          5.9405,
          6.035,
          6.209833,
          6.209833,
          6.868667,
          6.867833,
          6.072833,
          5.711667,
          5.906667,
          6.033333,
          5.871667,
          5.871667,
          6.676667,
          6.27,
          6.488333,
          6.686667,
          6.686667,
          5.840667,
          6.361667,
          6.146,
          6.640333,
          6.336667,
          5.951667
         ],
         "marker": {
          "color": "red"
         },
         "mode": "markers",
         "name": "",
         "showlegend": false,
         "subplot": "mapbox",
         "type": "scattermapbox"
        }
       ],
       "layout": {
        "height": 800,
        "hoverlabel": {
         "bgcolor": "rgb(255,255,255)"
        },
        "legend": {
         "tracegroupgap": 0
        },
        "mapbox": {
         "center": {
          "lat": 44.68110572357724,
          "lon": 6.312470211382115
         },
         "domain": {
          "x": [
           0,
           1
          ],
          "y": [
           0,
           1
          ]
         },
         "layers": [
          {
           "color": "rgba(0, 0, 0, 0.9)",
           "line": {
            "width": 1
           },
           "source": "https://www.data.gouv.fr/fr/datasets/r/90b9341a-e1f7-4d75-a73c-bbc010c7feeb",
           "sourcetype": "geojson",
           "type": "line"
          }
         ],
         "style": "open-street-map",
         "zoom": 8
        },
        "margin": {
         "t": 60
        },
        "template": {
         "data": {
          "bar": [
           {
            "error_x": {
             "color": "#2a3f5f"
            },
            "error_y": {
             "color": "#2a3f5f"
            },
            "marker": {
             "line": {
              "color": "#E5ECF6",
              "width": 0.5
             },
             "pattern": {
              "fillmode": "overlay",
              "size": 10,
              "solidity": 0.2
             }
            },
            "type": "bar"
           }
          ],
          "barpolar": [
           {
            "marker": {
             "line": {
              "color": "#E5ECF6",
              "width": 0.5
             },
             "pattern": {
              "fillmode": "overlay",
              "size": 10,
              "solidity": 0.2
             }
            },
            "type": "barpolar"
           }
          ],
          "carpet": [
           {
            "aaxis": {
             "endlinecolor": "#2a3f5f",
             "gridcolor": "white",
             "linecolor": "white",
             "minorgridcolor": "white",
             "startlinecolor": "#2a3f5f"
            },
            "baxis": {
             "endlinecolor": "#2a3f5f",
             "gridcolor": "white",
             "linecolor": "white",
             "minorgridcolor": "white",
             "startlinecolor": "#2a3f5f"
            },
            "type": "carpet"
           }
          ],
          "choropleth": [
           {
            "colorbar": {
             "outlinewidth": 0,
             "ticks": ""
            },
            "type": "choropleth"
           }
          ],
          "contour": [
           {
            "colorbar": {
             "outlinewidth": 0,
             "ticks": ""
            },
            "colorscale": [
             [
              0,
              "#0d0887"
             ],
             [
              0.1111111111111111,
              "#46039f"
             ],
             [
              0.2222222222222222,
              "#7201a8"
             ],
             [
              0.3333333333333333,
              "#9c179e"
             ],
             [
              0.4444444444444444,
              "#bd3786"
             ],
             [
              0.5555555555555556,
              "#d8576b"
             ],
             [
              0.6666666666666666,
              "#ed7953"
             ],
             [
              0.7777777777777778,
              "#fb9f3a"
             ],
             [
              0.8888888888888888,
              "#fdca26"
             ],
             [
              1,
              "#f0f921"
             ]
            ],
            "type": "contour"
           }
          ],
          "contourcarpet": [
           {
            "colorbar": {
             "outlinewidth": 0,
             "ticks": ""
            },
            "type": "contourcarpet"
           }
          ],
          "heatmap": [
           {
            "colorbar": {
             "outlinewidth": 0,
             "ticks": ""
            },
            "colorscale": [
             [
              0,
              "#0d0887"
             ],
             [
              0.1111111111111111,
              "#46039f"
             ],
             [
              0.2222222222222222,
              "#7201a8"
             ],
             [
              0.3333333333333333,
              "#9c179e"
             ],
             [
              0.4444444444444444,
              "#bd3786"
             ],
             [
              0.5555555555555556,
              "#d8576b"
             ],
             [
              0.6666666666666666,
              "#ed7953"
             ],
             [
              0.7777777777777778,
              "#fb9f3a"
             ],
             [
              0.8888888888888888,
              "#fdca26"
             ],
             [
              1,
              "#f0f921"
             ]
            ],
            "type": "heatmap"
           }
          ],
          "heatmapgl": [
           {
            "colorbar": {
             "outlinewidth": 0,
             "ticks": ""
            },
            "colorscale": [
             [
              0,
              "#0d0887"
             ],
             [
              0.1111111111111111,
              "#46039f"
             ],
             [
              0.2222222222222222,
              "#7201a8"
             ],
             [
              0.3333333333333333,
              "#9c179e"
             ],
             [
              0.4444444444444444,
              "#bd3786"
             ],
             [
              0.5555555555555556,
              "#d8576b"
             ],
             [
              0.6666666666666666,
              "#ed7953"
             ],
             [
              0.7777777777777778,
              "#fb9f3a"
             ],
             [
              0.8888888888888888,
              "#fdca26"
             ],
             [
              1,
              "#f0f921"
             ]
            ],
            "type": "heatmapgl"
           }
          ],
          "histogram": [
           {
            "marker": {
             "pattern": {
              "fillmode": "overlay",
              "size": 10,
              "solidity": 0.2
             }
            },
            "type": "histogram"
           }
          ],
          "histogram2d": [
           {
            "colorbar": {
             "outlinewidth": 0,
             "ticks": ""
            },
            "colorscale": [
             [
              0,
              "#0d0887"
             ],
             [
              0.1111111111111111,
              "#46039f"
             ],
             [
              0.2222222222222222,
              "#7201a8"
             ],
             [
              0.3333333333333333,
              "#9c179e"
             ],
             [
              0.4444444444444444,
              "#bd3786"
             ],
             [
              0.5555555555555556,
              "#d8576b"
             ],
             [
              0.6666666666666666,
              "#ed7953"
             ],
             [
              0.7777777777777778,
              "#fb9f3a"
             ],
             [
              0.8888888888888888,
              "#fdca26"
             ],
             [
              1,
              "#f0f921"
             ]
            ],
            "type": "histogram2d"
           }
          ],
          "histogram2dcontour": [
           {
            "colorbar": {
             "outlinewidth": 0,
             "ticks": ""
            },
            "colorscale": [
             [
              0,
              "#0d0887"
             ],
             [
              0.1111111111111111,
              "#46039f"
             ],
             [
              0.2222222222222222,
              "#7201a8"
             ],
             [
              0.3333333333333333,
              "#9c179e"
             ],
             [
              0.4444444444444444,
              "#bd3786"
             ],
             [
              0.5555555555555556,
              "#d8576b"
             ],
             [
              0.6666666666666666,
              "#ed7953"
             ],
             [
              0.7777777777777778,
              "#fb9f3a"
             ],
             [
              0.8888888888888888,
              "#fdca26"
             ],
             [
              1,
              "#f0f921"
             ]
            ],
            "type": "histogram2dcontour"
           }
          ],
          "mesh3d": [
           {
            "colorbar": {
             "outlinewidth": 0,
             "ticks": ""
            },
            "type": "mesh3d"
           }
          ],
          "parcoords": [
           {
            "line": {
             "colorbar": {
              "outlinewidth": 0,
              "ticks": ""
             }
            },
            "type": "parcoords"
           }
          ],
          "pie": [
           {
            "automargin": true,
            "type": "pie"
           }
          ],
          "scatter": [
           {
            "fillpattern": {
             "fillmode": "overlay",
             "size": 10,
             "solidity": 0.2
            },
            "type": "scatter"
           }
          ],
          "scatter3d": [
           {
            "line": {
             "colorbar": {
              "outlinewidth": 0,
              "ticks": ""
             }
            },
            "marker": {
             "colorbar": {
              "outlinewidth": 0,
              "ticks": ""
             }
            },
            "type": "scatter3d"
           }
          ],
          "scattercarpet": [
           {
            "marker": {
             "colorbar": {
              "outlinewidth": 0,
              "ticks": ""
             }
            },
            "type": "scattercarpet"
           }
          ],
          "scattergeo": [
           {
            "marker": {
             "colorbar": {
              "outlinewidth": 0,
              "ticks": ""
             }
            },
            "type": "scattergeo"
           }
          ],
          "scattergl": [
           {
            "marker": {
             "colorbar": {
              "outlinewidth": 0,
              "ticks": ""
             }
            },
            "type": "scattergl"
           }
          ],
          "scattermapbox": [
           {
            "marker": {
             "colorbar": {
              "outlinewidth": 0,
              "ticks": ""
             }
            },
            "type": "scattermapbox"
           }
          ],
          "scatterpolar": [
           {
            "marker": {
             "colorbar": {
              "outlinewidth": 0,
              "ticks": ""
             }
            },
            "type": "scatterpolar"
           }
          ],
          "scatterpolargl": [
           {
            "marker": {
             "colorbar": {
              "outlinewidth": 0,
              "ticks": ""
             }
            },
            "type": "scatterpolargl"
           }
          ],
          "scatterternary": [
           {
            "marker": {
             "colorbar": {
              "outlinewidth": 0,
              "ticks": ""
             }
            },
            "type": "scatterternary"
           }
          ],
          "surface": [
           {
            "colorbar": {
             "outlinewidth": 0,
             "ticks": ""
            },
            "colorscale": [
             [
              0,
              "#0d0887"
             ],
             [
              0.1111111111111111,
              "#46039f"
             ],
             [
              0.2222222222222222,
              "#7201a8"
             ],
             [
              0.3333333333333333,
              "#9c179e"
             ],
             [
              0.4444444444444444,
              "#bd3786"
             ],
             [
              0.5555555555555556,
              "#d8576b"
             ],
             [
              0.6666666666666666,
              "#ed7953"
             ],
             [
              0.7777777777777778,
              "#fb9f3a"
             ],
             [
              0.8888888888888888,
              "#fdca26"
             ],
             [
              1,
              "#f0f921"
             ]
            ],
            "type": "surface"
           }
          ],
          "table": [
           {
            "cells": {
             "fill": {
              "color": "#EBF0F8"
             },
             "line": {
              "color": "white"
             }
            },
            "header": {
             "fill": {
              "color": "#C8D4E3"
             },
             "line": {
              "color": "white"
             }
            },
            "type": "table"
           }
          ]
         },
         "layout": {
          "annotationdefaults": {
           "arrowcolor": "#2a3f5f",
           "arrowhead": 0,
           "arrowwidth": 1
          },
          "autotypenumbers": "strict",
          "coloraxis": {
           "colorbar": {
            "outlinewidth": 0,
            "ticks": ""
           }
          },
          "colorscale": {
           "diverging": [
            [
             0,
             "#8e0152"
            ],
            [
             0.1,
             "#c51b7d"
            ],
            [
             0.2,
             "#de77ae"
            ],
            [
             0.3,
             "#f1b6da"
            ],
            [
             0.4,
             "#fde0ef"
            ],
            [
             0.5,
             "#f7f7f7"
            ],
            [
             0.6,
             "#e6f5d0"
            ],
            [
             0.7,
             "#b8e186"
            ],
            [
             0.8,
             "#7fbc41"
            ],
            [
             0.9,
             "#4d9221"
            ],
            [
             1,
             "#276419"
            ]
           ],
           "sequential": [
            [
             0,
             "#0d0887"
            ],
            [
             0.1111111111111111,
             "#46039f"
            ],
            [
             0.2222222222222222,
             "#7201a8"
            ],
            [
             0.3333333333333333,
             "#9c179e"
            ],
            [
             0.4444444444444444,
             "#bd3786"
            ],
            [
             0.5555555555555556,
             "#d8576b"
            ],
            [
             0.6666666666666666,
             "#ed7953"
            ],
            [
             0.7777777777777778,
             "#fb9f3a"
            ],
            [
             0.8888888888888888,
             "#fdca26"
            ],
            [
             1,
             "#f0f921"
            ]
           ],
           "sequentialminus": [
            [
             0,
             "#0d0887"
            ],
            [
             0.1111111111111111,
             "#46039f"
            ],
            [
             0.2222222222222222,
             "#7201a8"
            ],
            [
             0.3333333333333333,
             "#9c179e"
            ],
            [
             0.4444444444444444,
             "#bd3786"
            ],
            [
             0.5555555555555556,
             "#d8576b"
            ],
            [
             0.6666666666666666,
             "#ed7953"
            ],
            [
             0.7777777777777778,
             "#fb9f3a"
            ],
            [
             0.8888888888888888,
             "#fdca26"
            ],
            [
             1,
             "#f0f921"
            ]
           ]
          },
          "colorway": [
           "#636efa",
           "#EF553B",
           "#00cc96",
           "#ab63fa",
           "#FFA15A",
           "#19d3f3",
           "#FF6692",
           "#B6E880",
           "#FF97FF",
           "#FECB52"
          ],
          "font": {
           "color": "#2a3f5f"
          },
          "geo": {
           "bgcolor": "white",
           "lakecolor": "white",
           "landcolor": "#E5ECF6",
           "showlakes": true,
           "showland": true,
           "subunitcolor": "white"
          },
          "hoverlabel": {
           "align": "left"
          },
          "hovermode": "closest",
          "mapbox": {
           "style": "light"
          },
          "paper_bgcolor": "white",
          "plot_bgcolor": "#E5ECF6",
          "polar": {
           "angularaxis": {
            "gridcolor": "white",
            "linecolor": "white",
            "ticks": ""
           },
           "bgcolor": "#E5ECF6",
           "radialaxis": {
            "gridcolor": "white",
            "linecolor": "white",
            "ticks": ""
           }
          },
          "scene": {
           "xaxis": {
            "backgroundcolor": "#E5ECF6",
            "gridcolor": "white",
            "gridwidth": 2,
            "linecolor": "white",
            "showbackground": true,
            "ticks": "",
            "zerolinecolor": "white"
           },
           "yaxis": {
            "backgroundcolor": "#E5ECF6",
            "gridcolor": "white",
            "gridwidth": 2,
            "linecolor": "white",
            "showbackground": true,
            "ticks": "",
            "zerolinecolor": "white"
           },
           "zaxis": {
            "backgroundcolor": "#E5ECF6",
            "gridcolor": "white",
            "gridwidth": 2,
            "linecolor": "white",
            "showbackground": true,
            "ticks": "",
            "zerolinecolor": "white"
           }
          },
          "shapedefaults": {
           "line": {
            "color": "#2a3f5f"
           }
          },
          "ternary": {
           "aaxis": {
            "gridcolor": "white",
            "linecolor": "white",
            "ticks": ""
           },
           "baxis": {
            "gridcolor": "white",
            "linecolor": "white",
            "ticks": ""
           },
           "bgcolor": "#E5ECF6",
           "caxis": {
            "gridcolor": "white",
            "linecolor": "white",
            "ticks": ""
           }
          },
          "title": {
           "x": 0.05
          },
          "xaxis": {
           "automargin": true,
           "gridcolor": "white",
           "linecolor": "white",
           "ticks": "",
           "title": {
            "standoff": 15
           },
           "zerolinecolor": "white",
           "zerolinewidth": 2
          },
          "yaxis": {
           "automargin": true,
           "gridcolor": "white",
           "linecolor": "white",
           "ticks": "",
           "title": {
            "standoff": 15
           },
           "zerolinecolor": "white",
           "zerolinewidth": 2
          }
         }
        },
        "title": {
         "text": "Hautes-Alpes : postes actifs en 2024",
         "x": 0.5
        },
        "width": 900
       }
      }
     },
     "metadata": {},
     "output_type": "display_data"
    }
   ],
   "source": [
    "liste_05 = synthétiser_information('05')\n",
    "cartographier_postes(liste_05, dept = '05')"
   ]
  },
  {
   "cell_type": "code",
   "execution_count": 76,
   "metadata": {},
   "outputs": [
    {
     "data": {
      "text/html": [
       "<div>\n",
       "<style scoped>\n",
       "    .dataframe tbody tr th:only-of-type {\n",
       "        vertical-align: middle;\n",
       "    }\n",
       "\n",
       "    .dataframe tbody tr th {\n",
       "        vertical-align: top;\n",
       "    }\n",
       "\n",
       "    .dataframe thead th {\n",
       "        text-align: right;\n",
       "    }\n",
       "</style>\n",
       "<table border=\"1\" class=\"dataframe\">\n",
       "  <thead>\n",
       "    <tr style=\"text-align: right;\">\n",
       "      <th></th>\n",
       "      <th>poste</th>\n",
       "      <th>nom</th>\n",
       "      <th>valeurs</th>\n",
       "      <th>alt</th>\n",
       "      <th>lat</th>\n",
       "      <th>lon</th>\n",
       "      <th>début</th>\n",
       "      <th>fin</th>\n",
       "      <th>pluie</th>\n",
       "      <th>neige</th>\n",
       "      <th>HN</th>\n",
       "      <th>TM</th>\n",
       "      <th>TN</th>\n",
       "      <th>TX</th>\n",
       "    </tr>\n",
       "  </thead>\n",
       "  <tbody>\n",
       "    <tr>\n",
       "      <th>0</th>\n",
       "      <td>05001001</td>\n",
       "      <td>Abries</td>\n",
       "      <td>35920</td>\n",
       "      <td>1560</td>\n",
       "      <td>44.796667</td>\n",
       "      <td>6.928333</td>\n",
       "      <td>1932-01-01</td>\n",
       "      <td>2024-05-30</td>\n",
       "      <td>True</td>\n",
       "      <td>False</td>\n",
       "      <td>False</td>\n",
       "      <td>False</td>\n",
       "      <td>True</td>\n",
       "      <td>True</td>\n",
       "    </tr>\n",
       "    <tr>\n",
       "      <th>0</th>\n",
       "      <td>05001001</td>\n",
       "      <td>Abries</td>\n",
       "      <td>1</td>\n",
       "      <td>1560</td>\n",
       "      <td>44.796667</td>\n",
       "      <td>6.928333</td>\n",
       "      <td>1948-12-15</td>\n",
       "      <td>1949-12-31</td>\n",
       "      <td>True</td>\n",
       "      <td>False</td>\n",
       "      <td>False</td>\n",
       "      <td>False</td>\n",
       "      <td>False</td>\n",
       "      <td>False</td>\n",
       "    </tr>\n",
       "    <tr>\n",
       "      <th>0</th>\n",
       "      <td>05001401</td>\n",
       "      <td>Abries -S-</td>\n",
       "      <td>1</td>\n",
       "      <td>2070</td>\n",
       "      <td>44.791333</td>\n",
       "      <td>6.949667</td>\n",
       "      <td>2007-01-01</td>\n",
       "      <td>2022-12-31</td>\n",
       "      <td>False</td>\n",
       "      <td>False</td>\n",
       "      <td>False</td>\n",
       "      <td>False</td>\n",
       "      <td>False</td>\n",
       "      <td>False</td>\n",
       "    </tr>\n",
       "    <tr>\n",
       "      <th>0</th>\n",
       "      <td>05001400</td>\n",
       "      <td>Abries Rm</td>\n",
       "      <td>5764</td>\n",
       "      <td>2018</td>\n",
       "      <td>44.792833</td>\n",
       "      <td>6.947000</td>\n",
       "      <td>1985-12-23</td>\n",
       "      <td>2024-05-30</td>\n",
       "      <td>True</td>\n",
       "      <td>True</td>\n",
       "      <td>True</td>\n",
       "      <td>False</td>\n",
       "      <td>True</td>\n",
       "      <td>True</td>\n",
       "    </tr>\n",
       "    <tr>\n",
       "      <th>0</th>\n",
       "      <td>05139006</td>\n",
       "      <td>Agnieres-En-Devoluy</td>\n",
       "      <td>51428</td>\n",
       "      <td>1244</td>\n",
       "      <td>44.696167</td>\n",
       "      <td>5.880833</td>\n",
       "      <td>1928-11-01</td>\n",
       "      <td>2024-05-30</td>\n",
       "      <td>True</td>\n",
       "      <td>True</td>\n",
       "      <td>True</td>\n",
       "      <td>True</td>\n",
       "      <td>True</td>\n",
       "      <td>True</td>\n",
       "    </tr>\n",
       "    <tr>\n",
       "      <th>...</th>\n",
       "      <td>...</td>\n",
       "      <td>...</td>\n",
       "      <td>...</td>\n",
       "      <td>...</td>\n",
       "      <td>...</td>\n",
       "      <td>...</td>\n",
       "      <td>...</td>\n",
       "      <td>...</td>\n",
       "      <td>...</td>\n",
       "      <td>...</td>\n",
       "      <td>...</td>\n",
       "      <td>...</td>\n",
       "      <td>...</td>\n",
       "      <td>...</td>\n",
       "    </tr>\n",
       "    <tr>\n",
       "      <th>0</th>\n",
       "      <td>05181002</td>\n",
       "      <td>Villar D'Arene</td>\n",
       "      <td>14451</td>\n",
       "      <td>1665</td>\n",
       "      <td>45.030833</td>\n",
       "      <td>6.361667</td>\n",
       "      <td>2004-07-31</td>\n",
       "      <td>2024-05-30</td>\n",
       "      <td>True</td>\n",
       "      <td>False</td>\n",
       "      <td>True</td>\n",
       "      <td>True</td>\n",
       "      <td>True</td>\n",
       "      <td>True</td>\n",
       "    </tr>\n",
       "    <tr>\n",
       "      <th>0</th>\n",
       "      <td>05182001</td>\n",
       "      <td>Villar Loubiere</td>\n",
       "      <td>47559</td>\n",
       "      <td>1072</td>\n",
       "      <td>44.826833</td>\n",
       "      <td>6.146000</td>\n",
       "      <td>1928-01-01</td>\n",
       "      <td>2024-05-30</td>\n",
       "      <td>True</td>\n",
       "      <td>True</td>\n",
       "      <td>True</td>\n",
       "      <td>True</td>\n",
       "      <td>True</td>\n",
       "      <td>True</td>\n",
       "    </tr>\n",
       "    <tr>\n",
       "      <th>0</th>\n",
       "      <td>05183001</td>\n",
       "      <td>Villar St Pancrace</td>\n",
       "      <td>15216</td>\n",
       "      <td>1310</td>\n",
       "      <td>44.880333</td>\n",
       "      <td>6.640333</td>\n",
       "      <td>2003-08-01</td>\n",
       "      <td>2024-05-30</td>\n",
       "      <td>True</td>\n",
       "      <td>True</td>\n",
       "      <td>True</td>\n",
       "      <td>True</td>\n",
       "      <td>True</td>\n",
       "      <td>True</td>\n",
       "    </tr>\n",
       "    <tr>\n",
       "      <th>0</th>\n",
       "      <td>05181001</td>\n",
       "      <td>Villar-D'Arene Village</td>\n",
       "      <td>5586</td>\n",
       "      <td>1650</td>\n",
       "      <td>45.041667</td>\n",
       "      <td>6.336667</td>\n",
       "      <td>1944-06-01</td>\n",
       "      <td>2022-12-31</td>\n",
       "      <td>True</td>\n",
       "      <td>False</td>\n",
       "      <td>False</td>\n",
       "      <td>False</td>\n",
       "      <td>False</td>\n",
       "      <td>False</td>\n",
       "    </tr>\n",
       "    <tr>\n",
       "      <th>0</th>\n",
       "      <td>05184002</td>\n",
       "      <td>Vitrolles</td>\n",
       "      <td>11056</td>\n",
       "      <td>595</td>\n",
       "      <td>44.408667</td>\n",
       "      <td>5.951667</td>\n",
       "      <td>1997-02-01</td>\n",
       "      <td>2022-12-31</td>\n",
       "      <td>True</td>\n",
       "      <td>False</td>\n",
       "      <td>False</td>\n",
       "      <td>True</td>\n",
       "      <td>True</td>\n",
       "      <td>True</td>\n",
       "    </tr>\n",
       "  </tbody>\n",
       "</table>\n",
       "<p>123 rows × 14 columns</p>\n",
       "</div>"
      ],
      "text/plain": [
       "        poste                     nom valeurs   alt        lat       lon  \\\n",
       "0    05001001                  Abries   35920  1560  44.796667  6.928333   \n",
       "0    05001001                  Abries       1  1560  44.796667  6.928333   \n",
       "0    05001401              Abries -S-       1  2070  44.791333  6.949667   \n",
       "0    05001400               Abries Rm    5764  2018  44.792833  6.947000   \n",
       "0    05139006     Agnieres-En-Devoluy   51428  1244  44.696167  5.880833   \n",
       "..        ...                     ...     ...   ...        ...       ...   \n",
       "0    05181002          Villar D'Arene   14451  1665  45.030833  6.361667   \n",
       "0    05182001         Villar Loubiere   47559  1072  44.826833  6.146000   \n",
       "0    05183001      Villar St Pancrace   15216  1310  44.880333  6.640333   \n",
       "0    05181001  Villar-D'Arene Village    5586  1650  45.041667  6.336667   \n",
       "0    05184002               Vitrolles   11056   595  44.408667  5.951667   \n",
       "\n",
       "         début         fin  pluie  neige     HN     TM     TN     TX  \n",
       "0   1932-01-01  2024-05-30   True  False  False  False   True   True  \n",
       "0   1948-12-15  1949-12-31   True  False  False  False  False  False  \n",
       "0   2007-01-01  2022-12-31  False  False  False  False  False  False  \n",
       "0   1985-12-23  2024-05-30   True   True   True  False   True   True  \n",
       "0   1928-11-01  2024-05-30   True   True   True   True   True   True  \n",
       "..         ...         ...    ...    ...    ...    ...    ...    ...  \n",
       "0   2004-07-31  2024-05-30   True  False   True   True   True   True  \n",
       "0   1928-01-01  2024-05-30   True   True   True   True   True   True  \n",
       "0   2003-08-01  2024-05-30   True   True   True   True   True   True  \n",
       "0   1944-06-01  2022-12-31   True  False  False  False  False  False  \n",
       "0   1997-02-01  2022-12-31   True  False  False   True   True   True  \n",
       "\n",
       "[123 rows x 14 columns]"
      ]
     },
     "execution_count": 76,
     "metadata": {},
     "output_type": "execute_result"
    }
   ],
   "source": [
    "liste_05"
   ]
  },
  {
   "cell_type": "code",
   "execution_count": null,
   "metadata": {},
   "outputs": [],
   "source": []
  }
 ],
 "metadata": {
  "kernelspec": {
   "display_name": "base",
   "language": "python",
   "name": "python3"
  },
  "language_info": {
   "codemirror_mode": {
    "name": "ipython",
    "version": 3
   },
   "file_extension": ".py",
   "mimetype": "text/x-python",
   "name": "python",
   "nbconvert_exporter": "python",
   "pygments_lexer": "ipython3",
   "version": "3.9.18"
  }
 },
 "nbformat": 4,
 "nbformat_minor": 2
}
